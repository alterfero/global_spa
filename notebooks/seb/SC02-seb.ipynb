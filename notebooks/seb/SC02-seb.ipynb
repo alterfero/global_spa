{
 "metadata": {
  "name": ""
 },
 "nbformat": 3,
 "nbformat_minor": 0,
 "worksheets": [
  {
   "cells": [
    {
     "cell_type": "code",
     "collapsed": false,
     "input": [
      "%load_ext autoreload\n",
      "%autoreload 2"
     ],
     "language": "python",
     "metadata": {},
     "outputs": [],
     "prompt_number": 14
    },
    {
     "cell_type": "code",
     "collapsed": false,
     "input": [
      "import os\n",
      "# import pfile.to\n",
      "# import pstr.to\n",
      "from bs4 import BeautifulSoup\n",
      "import requests\n",
      "# import pstr\n",
      "import re\n",
      "# import pickle\n",
      "# import urllib2\n",
      "# from selenium import webdriver\n",
      "# from selenium.webdriver.common.keys import Keys\n",
      "import urlparse\n",
      "import urllib\n",
      "from datetime import datetime"
     ],
     "language": "python",
     "metadata": {},
     "outputs": [],
     "prompt_number": 15
    },
    {
     "cell_type": "code",
     "collapsed": false,
     "input": [
      "##########\n",
      "# SETTINGS\n",
      "save_folder = os.path.join(os.environ['GD_FOLDER'], 'Shared/ms_otosense')\n",
      "user_agent = 'Mozilla/5.0 (Macintosh; U; Intel Mac OS X 10_5_8; en-US) AppleWebKit/532.2 (KHTML, like Gecko) Chrome/4.0.222.5 Safari/532.2'\n",
      "\n",
      "################################################\n",
      "# UTILS\n",
      "\n",
      "html_re = re.compile('\\.html$')\n",
      "\n",
      "def url_encode(query):\n",
      "    # look at urlparse for cleaner ways to do this\n",
      "    return urllib.urlencode({'':query})[1:]\n",
      "\n",
      "def hms_message(msg=''):\n",
      "    t = datetime.now().time()\n",
      "    return \"%d:%d:%d - %s\" % (t.hour, t.minute, t.second, msg)\n",
      "\n",
      "def save_text_to_file(s, filepath):\n",
      "    text_file = open(filepath, \"w\")\n",
      "    text_file.write(s.encode('utf-8'))\n",
      "    text_file.close()\n",
      "\n",
      "def filename_from_url(url):\n",
      "    return url.replace('/','\u00a7').replace(':','{') + '.html'\n",
      "\n",
      "def url_from_filename(filename):\n",
      "    return html_re.sub('', filename.replace('\u00a7','/').replace('{',':'))\n",
      "\n",
      "\n",
      "# def get_dogpile_html_from_query(query):\n",
      "#     dogpile_url_prefix = 'http://www.dogpile.com/search/web'\n",
      "#     response = requests.get(dogpile_url_prefix, params={'q': query})\n",
      "#     if response:\n",
      "#         return response.text\n",
      "#     else:\n",
      "#         return None\n",
      "\n",
      "# def acquire_query_result_from_dogpile(query, save_folder=os.path.join(os.environ['MS_DATA'], 'misc')):\n",
      "#     html = get_dogpile_html_from_query(query)\n",
      "#     if html:\n",
      "#         file_name = url_encode(query) + '.html'\n",
      "#         file_path = os.path.join(save_folder, file_name)\n",
      "#         save_html(html, file_path)\n",
      "#     else:\n",
      "#         raise ValueError(\"There was a problem in acquiring %s\" % query)\n",
      "        \n",
      "################################################\n",
      "# SPECIFIC METHODS\n",
      "\n",
      "dogpile_base_url = 'http://www.dogpile.com'\n",
      "dogpile_search_url = '/search/web?'\n",
      "google_base_url = 'https://www.google.com/search?'\n",
      "google_search_url = '/search?'\n",
      "gshop_default_params = {\n",
      "                        'tbm':'shop', # the thing that makes it look on google shopping\n",
      "                        'tbs':'p_ord:rv', # type of view - could be vw:g,p_ord%3Arv for gridded view\n",
      "                        'num':'100', # number of results - maximum 100\n",
      "                        'start': '1' # number of results to start with\n",
      "                        }     \n",
      "\n",
      "def qsi_from_result_page_number(page_number):\n",
      "    return page_number*10 + 1\n",
      "\n",
      "def get_dogpile_request_url(query, result_page_number=0):\n",
      "    '''\n",
      "    returns a url\n",
      "    '''\n",
      "    first_item_number = qsi_from_result_page_number(result_page_number)\n",
      "    return urlparse.urljoin(base=dogpile_base_url, \n",
      "                            url=dogpile_search_url \n",
      "                            + urllib.urlencode(query={'q': query, 'qsi': first_item_number}))\n",
      "\n",
      "def get_gshop_request_url(query, result_page_number=0, number_of_results_per_page=100):\n",
      "    '''\n",
      "    returns a url to get a google shopping result page\n",
      "    '''\n",
      "    start_result_number = \"%d\" % (result_page_number*number_of_results_per_page + 1)\n",
      "    get_params = dict(gshop_default_params, \n",
      "                      **{'start':start_result_number, \n",
      "                         'num':number_of_results_per_page,\n",
      "                         'query':query})\n",
      "    return urlparse.urljoin(base=google_base_url, \n",
      "                            url=google_search_url \n",
      "                            + urllib.urlencode(query=get_params))\n",
      "\n",
      "################################################\n",
      "# GENERAL METHODS\n",
      "\n",
      "# def get_url_from_seed(seed):\n",
      "#     return get_dogpile_request_url(seed)\n",
      "\n",
      "# def get_html_from_seed(seed):\n",
      "#     url = get_url_from_seed(seed)\n",
      "#     return get_html_of_url(url)\n",
      "\n",
      "def url_slurper(url):\n",
      "#     headers = {'User-Agent': user_agent}\n",
      "#     response = requests.get(url=url, headers=headers)\n",
      "    response = requests.get(url=url, verify=False)\n",
      "    if response and response.ok:\n",
      "        return response.text\n",
      "    else:\n",
      "        return None\n",
      "\n",
      "def html_is_valid(html):\n",
      "    if html:\n",
      "        return True\n",
      "    else:\n",
      "        return False\n",
      "\n",
      "def log_progress(msg):\n",
      "    print hms_message(msg)\n",
      "    \n",
      "def log_error(msg):\n",
      "    print hms_message('ERROR: ' + msg)\n",
      "\n",
      "def file_path_of_slurp(slurp_spec):\n",
      "    return os.path.join(save_folder, filename_from_url(slurp_spec))\n",
      "\n",
      "def save_html_of_slurp(html, slurp_spec):\n",
      "    save_text_to_file(s=html, filepath=file_path_of_slurp(slurp_spec))"
     ],
     "language": "python",
     "metadata": {},
     "outputs": [],
     "prompt_number": 16
    },
    {
     "cell_type": "code",
     "collapsed": false,
     "input": [
      "# seed specification\n",
      "seed_list = [\n",
      "             '\"smoke alarm\" flash', '\"fire alarm\" flash', 'doorbell flash']\n",
      "n_result_pages = 2\n",
      "\n",
      "get_url = get_gshop_request_url\n",
      "get_html_of_url = url_slurper\n",
      "\n",
      "for i, seed in enumerate(seed_list[:2]):\n",
      "    for j, result_page in enumerate(range(n_result_pages)):\n",
      "        # slurp\n",
      "        url = get_url(seed, result_page)\n",
      "        log_progress('seed %d, %d: %s (slurping %s)' % (i, j, seed, url))\n",
      "        try:\n",
      "            html = get_html_of_url(url)\n",
      "        except BaseException as e:\n",
      "            log_error('seed %d, %d (%s): get_html_of_url(%s)' % (i, j, seed, url))\n",
      "            continue # go to the next seed\n",
      "        # process\n",
      "        if html_is_valid:\n",
      "            save_html_of_slurp(html, url)\n",
      "        else:\n",
      "            log_error('seed %d, %d (%s): html not valid: %s' % (i, j, seed, url))\n",
      "        pause(7)"
     ],
     "language": "python",
     "metadata": {},
     "outputs": [
      {
       "output_type": "stream",
       "stream": "stdout",
       "text": [
        "19:54:46 - seed 0, 0: \"smoke alarm\" flash (slurping https://www.google.com/search?start=1&num=100&tbm=shop&query=%22smoke+alarm%22+flash&tbs=p_ord%3Arv)\n",
        "19:54:54 - seed 0, 1: \"smoke alarm\" flash (slurping https://www.google.com/search?start=101&num=100&tbm=shop&query=%22smoke+alarm%22+flash&tbs=p_ord%3Arv)"
       ]
      },
      {
       "output_type": "stream",
       "stream": "stdout",
       "text": [
        "\n",
        "19:55:1 - seed 1, 0: \"fire alarm\" flash (slurping https://www.google.com/search?start=1&num=100&tbm=shop&query=%22fire+alarm%22+flash&tbs=p_ord%3Arv)"
       ]
      },
      {
       "output_type": "stream",
       "stream": "stdout",
       "text": [
        "\n",
        "19:55:9 - seed 1, 1: \"fire alarm\" flash (slurping https://www.google.com/search?start=101&num=100&tbm=shop&query=%22fire+alarm%22+flash&tbs=p_ord%3Arv)"
       ]
      },
      {
       "output_type": "stream",
       "stream": "stdout",
       "text": [
        "\n"
       ]
      }
     ],
     "prompt_number": 17
    },
    {
     "cell_type": "code",
     "collapsed": false,
     "input": [
      "e"
     ],
     "language": "python",
     "metadata": {},
     "outputs": [
      {
       "metadata": {},
       "output_type": "pyout",
       "prompt_number": 28,
       "text": [
        "requests.exceptions.SSLError(requests.packages.urllib3.exceptions.SSLError(ssl.SSLError(1,\n",
        "                                                                                        '_ssl.c:504: error:14090086:SSL routines:SSL3_GET_SERVER_CERTIFICATE:certificate verify failed')))"
       ]
      }
     ],
     "prompt_number": 28
    },
    {
     "cell_type": "code",
     "collapsed": false,
     "input": [
      "print \"asdf\"\n",
      "pause(5)\n",
      "print 'assss'"
     ],
     "language": "python",
     "metadata": {},
     "outputs": [
      {
       "output_type": "stream",
       "stream": "stdout",
       "text": [
        "asdf\n",
        "assss"
       ]
      },
      {
       "output_type": "stream",
       "stream": "stdout",
       "text": [
        "\n"
       ]
      }
     ],
     "prompt_number": 23
    },
    {
     "cell_type": "code",
     "collapsed": false,
     "input": [],
     "language": "python",
     "metadata": {},
     "outputs": []
    },
    {
     "cell_type": "code",
     "collapsed": false,
     "input": [
      "seed_list = [\n",
      "             '\"smoke alarm\" flash', '\"fire alarm\" flash', 'doorbell flash']"
     ],
     "language": "python",
     "metadata": {},
     "outputs": [],
     "prompt_number": 19
    },
    {
     "cell_type": "code",
     "collapsed": false,
     "input": [
      "url = get_gshop_request_url(seed_list[0])\n",
      "url "
     ],
     "language": "python",
     "metadata": {},
     "outputs": [
      {
       "metadata": {},
       "output_type": "pyout",
       "prompt_number": 38,
       "text": [
        "'https://www.google.com/search?start=1&num=100&tbm=shop&query=%22smoke+alarm%22+flash&tbs=p_ord%3Arv'"
       ]
      }
     ],
     "prompt_number": 38
    },
    {
     "cell_type": "code",
     "collapsed": false,
     "input": [
      "html = url_slurper(url)"
     ],
     "language": "python",
     "metadata": {},
     "outputs": [],
     "prompt_number": 39
    },
    {
     "cell_type": "code",
     "collapsed": false,
     "input": [
      "html = get_html_of_url('http://www.google.com/search?start=1&num=100&tbm=shop&query=%22smoke+alarm%22+flash&tbs=p_ord%3Arv')"
     ],
     "language": "python",
     "metadata": {},
     "outputs": [],
     "prompt_number": 32
    },
    {
     "cell_type": "code",
     "collapsed": false,
     "input": [
      "import pstr.to"
     ],
     "language": "python",
     "metadata": {},
     "outputs": [],
     "prompt_number": 34
    },
    {
     "cell_type": "code",
     "collapsed": false,
     "input": [
      "pstr.to.file(html, 'test.html')"
     ],
     "language": "python",
     "metadata": {},
     "outputs": [],
     "prompt_number": 40
    },
    {
     "cell_type": "code",
     "collapsed": false,
     "input": [
      "verify=False"
     ],
     "language": "python",
     "metadata": {},
     "outputs": []
    },
    {
     "cell_type": "code",
     "collapsed": false,
     "input": [
      "html = get_html_of_url('https://www.google.com/search?start=1&num=100&tbm=shop&query=%22smoke+alarm%22+flash&tbs=p_ord%3Arv')"
     ],
     "language": "python",
     "metadata": {},
     "outputs": []
    },
    {
     "cell_type": "code",
     "collapsed": false,
     "input": [],
     "language": "python",
     "metadata": {},
     "outputs": []
    },
    {
     "cell_type": "code",
     "collapsed": false,
     "input": [],
     "language": "python",
     "metadata": {},
     "outputs": []
    },
    {
     "cell_type": "code",
     "collapsed": false,
     "input": [],
     "language": "python",
     "metadata": {},
     "outputs": []
    },
    {
     "cell_type": "code",
     "collapsed": false,
     "input": [],
     "language": "python",
     "metadata": {},
     "outputs": []
    },
    {
     "cell_type": "code",
     "collapsed": false,
     "input": [],
     "language": "python",
     "metadata": {},
     "outputs": []
    },
    {
     "cell_type": "code",
     "collapsed": false,
     "input": [],
     "language": "python",
     "metadata": {},
     "outputs": []
    },
    {
     "cell_type": "markdown",
     "metadata": {},
     "source": [
      "### Parse dogpile"
     ]
    },
    {
     "cell_type": "code",
     "collapsed": false,
     "input": [
      "def get_link_from_results(results_soup):\n",
      "    urlpane = results_soup.find('div', attrs={'class':'resultDisplayUrlPane'})\n",
      "    return urlparse.parse_qs(urlpane.find('a', attrs='resultDisplayUrl').attrs['href'])['ru'][0]\n",
      "def get_title_text_from_results(results_soup):\n",
      "    return results_soup.find('div', attrs={'class':'resultTitlePane'}).get_text()\n",
      "def get_description_text_from_results(results_soup):\n",
      "    return results_soup.find('div', attrs={'class':'resultDescription'}).get_text()\n",
      "\n",
      "\n",
      "def get_web_results_dict_from_results_soup(results_soup):\n",
      "    return {\n",
      "            'link':get_link_from_results(results_soup), \n",
      "            'title':get_title_text_from_results(results_soup),\n",
      "            'description':get_description_text_from_results(results_soup)\n",
      "            }\n",
      "\n",
      "def parse_dogpile_html(html):\n",
      "    b = BeautifulSoup(html)\n",
      "    \n",
      "    result_tags = ['resultsAdsTop', 'resultsMain', 'resultsAdsBottom']\n",
      "    parse_dict = {k: b.find('div',attrs={'id':k}) for k in result_tags}\n",
      "    \n",
      "    parse_dict['resultsAdsTop'] = parse_dict['resultsAdsTop'].findAll('div',attrs={'class':'searchResult adResult'})\n",
      "    parse_dict['resultsMain'] = parse_dict['resultsMain'].findAll('div',attrs={'class':'searchResult webResult'})\n",
      "    parse_dict['resultsAdsBottom'] = parse_dict['resultsAdsBottom'].findAll('div',attrs={'class':'searchResult adResult'})\n",
      "\n",
      "    parse_dict['resultsMain'] = [get_web_results_dict_from_results_soup(r) for r in parse_dict['resultsMain']]\n",
      "    \n",
      "    return parse_dict\n",
      "\n",
      "\n",
      "def diagnose_parse_dict(parse_dict):\n",
      "    print \"parse_dict_keys: %s\" % d.keys()\n",
      "    print \"number of resultsMain: %d\" % len(d['resultsMain'])\n",
      "    print d['resultsMain'][0]"
     ],
     "language": "python",
     "metadata": {},
     "outputs": [],
     "prompt_number": 191
    },
    {
     "cell_type": "code",
     "collapsed": false,
     "input": [
      "d = parse_dogpile_html(html)\n",
      "diagnose_parse_dict(d)"
     ],
     "language": "python",
     "metadata": {},
     "outputs": [
      {
       "output_type": "stream",
       "stream": "stdout",
       "text": [
        "parse_dict_keys: ['resultsAdsBottom', 'resultsAdsTop', 'resultsMain']\n",
        "number of resultsMain: 10\n",
        "{'link': 'http://www.devices4less.com/Doorbell.html', 'description': u'Offering remote signal recievers, door knock alerts, doorbell signalers, strobe remote recievers, vibes bed vibrators, telephone signalers, loud horn', 'title': u'\\nDoorbell Strobe Lights - Doorbell Signalers - Door Knock Alerting\\n'}\n"
       ]
      }
     ],
     "prompt_number": 192
    },
    {
     "cell_type": "code",
     "collapsed": false,
     "input": [],
     "language": "python",
     "metadata": {},
     "outputs": []
    },
    {
     "cell_type": "code",
     "collapsed": false,
     "input": [],
     "language": "python",
     "metadata": {},
     "outputs": []
    },
    {
     "cell_type": "code",
     "collapsed": false,
     "input": [
      "url = 'https://www.google.com/search?hl=en&tbm=shop&q=deaf+alarm+clock'"
     ],
     "language": "python",
     "metadata": {},
     "outputs": []
    },
    {
     "cell_type": "code",
     "collapsed": false,
     "input": [
      "'https://www.google.com/search?hl=en&tbm=shop&q=deaf+alarm+clock&tbs=vw:g,p_ord:rv'"
     ],
     "language": "python",
     "metadata": {},
     "outputs": [
      {
       "metadata": {},
       "output_type": "pyout",
       "prompt_number": 3,
       "text": [
        "'https://www.google.com/search?hl=en&tbm=shop&q=deaf+alarm+clock&tbs=vw:g,p_ord:rv'"
       ]
      }
     ],
     "prompt_number": 3
    },
    {
     "cell_type": "code",
     "collapsed": false,
     "input": [
      "'num=100'"
     ],
     "language": "python",
     "metadata": {},
     "outputs": []
    },
    {
     "cell_type": "code",
     "collapsed": false,
     "input": [
      "https://www.google.com/search?hl=en&tbm=shop&q=deaf+alarm+clock&tbs=vw:g,p_ord:rv"
     ],
     "language": "python",
     "metadata": {},
     "outputs": []
    },
    {
     "cell_type": "code",
     "collapsed": false,
     "input": [
      "https://www.google.com/search?tbm=shop&q=deaf+alarm+clock&tbs=vw:g,p_ord%3Arv&start=1&num=100"
     ],
     "language": "python",
     "metadata": {},
     "outputs": [
      {
       "ename": "SyntaxError",
       "evalue": "invalid syntax (<ipython-input-4-c2241bbd8786>, line 1)",
       "output_type": "pyerr",
       "traceback": [
        "\u001b[0;36m  File \u001b[0;32m\"<ipython-input-4-c2241bbd8786>\"\u001b[0;36m, line \u001b[0;32m1\u001b[0m\n\u001b[0;31m    https://www.google.com/search?num=100&tbs=p_ord%3Arv&tbm=shop&q=deaf+alarm+clock\u001b[0m\n\u001b[0m         ^\u001b[0m\n\u001b[0;31mSyntaxError\u001b[0m\u001b[0;31m:\u001b[0m invalid syntax\n"
       ]
      }
     ],
     "prompt_number": 4
    },
    {
     "cell_type": "code",
     "collapsed": false,
     "input": [
      "default_gshop_params = {\n",
      "                        'tbm':'shop', # the thing that makes it look on google shopping\n",
      "                        'tbs':'p_ord%3Arv', # type of view - could be vw:g,p_ord%3Arv for gridded view\n",
      "                        'num':'100', # number of results - maximum 100\n",
      "                        'start': '1' # number of results to start with\n",
      "                        }   \n",
      "default_gshop_params"
     ],
     "language": "python",
     "metadata": {},
     "outputs": [
      {
       "metadata": {},
       "output_type": "pyout",
       "prompt_number": 14,
       "text": [
        "{'num': '100', 'start': '1', 'tbm': 'shop', 'tbs': 'p_ord%3Arv'}"
       ]
      }
     ],
     "prompt_number": 14
    },
    {
     "cell_type": "code",
     "collapsed": false,
     "input": [
      "dict(default_gshop_params, **{'start':'77', 'q':'adsf+asdf'})"
     ],
     "language": "python",
     "metadata": {},
     "outputs": [
      {
       "metadata": {},
       "output_type": "pyout",
       "prompt_number": 13,
       "text": [
        "{'num': '100',\n",
        " 'q': 'adsf+asdf',\n",
        " 'start': '77',\n",
        " 'tbm': 'shop',\n",
        " 'tbs': 'p_ord%3Arv'}"
       ]
      }
     ],
     "prompt_number": 13
    },
    {
     "cell_type": "code",
     "collapsed": false,
     "input": [
      "def mk_"
     ],
     "language": "python",
     "metadata": {},
     "outputs": []
    },
    {
     "cell_type": "code",
     "collapsed": false,
     "input": [],
     "language": "python",
     "metadata": {},
     "outputs": [
      {
       "ename": "SyntaxError",
       "evalue": "invalid syntax (<ipython-input-12-d43da87f5329>, line 1)",
       "output_type": "pyerr",
       "traceback": [
        "\u001b[0;36m  File \u001b[0;32m\"<ipython-input-12-d43da87f5329>\"\u001b[0;36m, line \u001b[0;32m1\u001b[0m\n\u001b[0;31m    *{'start':'77'}\u001b[0m\n\u001b[0m    ^\u001b[0m\n\u001b[0;31mSyntaxError\u001b[0m\u001b[0;31m:\u001b[0m invalid syntax\n"
       ]
      }
     ],
     "prompt_number": 12
    },
    {
     "cell_type": "code",
     "collapsed": false,
     "input": [],
     "language": "python",
     "metadata": {},
     "outputs": []
    },
    {
     "cell_type": "markdown",
     "metadata": {},
     "source": [
      "### Comments"
     ]
    },
    {
     "cell_type": "code",
     "collapsed": false,
     "input": [],
     "language": "python",
     "metadata": {},
     "outputs": []
    },
    {
     "cell_type": "code",
     "collapsed": false,
     "input": [],
     "language": "python",
     "metadata": {},
     "outputs": []
    },
    {
     "cell_type": "code",
     "collapsed": false,
     "input": [],
     "language": "python",
     "metadata": {},
     "outputs": []
    },
    {
     "cell_type": "code",
     "collapsed": false,
     "input": [],
     "language": "python",
     "metadata": {},
     "outputs": []
    },
    {
     "cell_type": "code",
     "collapsed": false,
     "input": [],
     "language": "python",
     "metadata": {},
     "outputs": []
    },
    {
     "cell_type": "code",
     "collapsed": false,
     "input": [],
     "language": "python",
     "metadata": {},
     "outputs": []
    },
    {
     "cell_type": "markdown",
     "metadata": {},
     "source": [
      "### Scrap"
     ]
    },
    {
     "cell_type": "code",
     "collapsed": false,
     "input": [
      "http://www.youtube.com/results?search_query=deaf&page=5\n",
      "linkto:http://www.gallaudet.edu/clerc_center/information_and_resources/info_to_go/hearing_and_communication_technology/alerting_devices/\n",
      "        \n"
     ],
     "language": "python",
     "metadata": {},
     "outputs": []
    },
    {
     "cell_type": "markdown",
     "metadata": {},
     "source": [
      "#### temp"
     ]
    },
    {
     "cell_type": "code",
     "collapsed": false,
     "input": [
      "searchterms_dict = dict()\n",
      "searchterms_dict['who'] = ['deaf', '\"hard of hearing\"', '\"hearing impaired\"', \n",
      "          '\"hearing impairment\"', '\"hearing loss\"']\n",
      "searchterms_dict['what'] = ['clock', '\"baby monitor\"', '\"fire alarm\"', '\"smoke alarm\"', 'alarm']\n",
      "searchterms_dict['how'] = ['flash', 'flashing', 'vibrate', 'vibrating']\n",
      "searchterms_dict['where'] = ['', 'site:facebook.com', 'site:youtube.com', 'site:twitter.com']\n",
      "import itertools\n",
      "\n",
      "query_list = [' '.join(x) for x in itertools.product(searchterms_dict['who'],\n",
      "                                             searchterms_dict['what'],searchterms_dict['how'], searchterms_dict['where']  )]\n",
      "\n",
      "print len(query_list)\n",
      "print query_list[:4]"
     ],
     "language": "python",
     "metadata": {},
     "outputs": [
      {
       "output_type": "stream",
       "stream": "stdout",
       "text": [
        "400\n",
        "['deaf clock flash ', 'deaf clock flash site:facebook.com', 'deaf clock flash site:youtube.com', 'deaf clock flash site:twitter.com']\n"
       ]
      }
     ],
     "prompt_number": 3
    },
    {
     "cell_type": "heading",
     "level": 4,
     "metadata": {},
     "source": [
      "Google Shopping"
     ]
    },
    {
     "cell_type": "code",
     "collapsed": false,
     "input": [],
     "language": "python",
     "metadata": {},
     "outputs": [
      {
       "ename": "SyntaxError",
       "evalue": "invalid syntax (<ipython-input-30-d87f5d551a64>, line 1)",
       "output_type": "pyerr",
       "traceback": [
        "\u001b[0;36m  File \u001b[0;32m\"<ipython-input-30-d87f5d551a64>\"\u001b[0;36m, line \u001b[0;32m1\u001b[0m\n\u001b[0;31m    url_list = for query in query_list: url_list[query.index]=get_gshop_request_url(query, result_page_number=0, number_of_results_per_page=100)[query.index] ]\u001b[0m\n\u001b[0m                 ^\u001b[0m\n\u001b[0;31mSyntaxError\u001b[0m\u001b[0;31m:\u001b[0m invalid syntax\n"
       ]
      }
     ],
     "prompt_number": 30
    },
    {
     "cell_type": "code",
     "collapsed": false,
     "input": [
      "for query in query_list: print query"
     ],
     "language": "python",
     "metadata": {},
     "outputs": [
      {
       "output_type": "stream",
       "stream": "stdout",
       "text": [
        "deaf clock flash \n",
        "deaf clock flash site:facebook.com\n",
        "deaf clock flash site:youtube.com\n",
        "deaf clock flash site:twitter.com\n",
        "deaf clock flashing \n",
        "deaf clock flashing site:facebook.com\n",
        "deaf clock flashing site:youtube.com\n",
        "deaf clock flashing site:twitter.com\n",
        "deaf clock vibrate \n",
        "deaf clock vibrate site:facebook.com\n",
        "deaf clock vibrate site:youtube.com\n",
        "deaf clock vibrate site:twitter.com\n",
        "deaf clock vibrating \n",
        "deaf clock vibrating site:facebook.com\n",
        "deaf clock vibrating site:youtube.com\n",
        "deaf clock vibrating site:twitter.com\n",
        "deaf \"baby monitor\" flash \n",
        "deaf \"baby monitor\" flash site:facebook.com\n",
        "deaf \"baby monitor\" flash site:youtube.com\n",
        "deaf \"baby monitor\" flash site:twitter.com\n",
        "deaf \"baby monitor\" flashing \n",
        "deaf \"baby monitor\" flashing site:facebook.com\n",
        "deaf \"baby monitor\" flashing site:youtube.com\n",
        "deaf \"baby monitor\" flashing site:twitter.com\n",
        "deaf \"baby monitor\" vibrate \n",
        "deaf \"baby monitor\" vibrate site:facebook.com\n",
        "deaf \"baby monitor\" vibrate site:youtube.com\n",
        "deaf \"baby monitor\" vibrate site:twitter.com\n",
        "deaf \"baby monitor\" vibrating \n",
        "deaf \"baby monitor\" vibrating site:facebook.com\n",
        "deaf \"baby monitor\" vibrating site:youtube.com\n",
        "deaf \"baby monitor\" vibrating site:twitter.com\n",
        "deaf \"fire alarm\" flash \n",
        "deaf \"fire alarm\" flash site:facebook.com\n",
        "deaf \"fire alarm\" flash site:youtube.com\n",
        "deaf \"fire alarm\" flash site:twitter.com\n",
        "deaf \"fire alarm\" flashing \n",
        "deaf \"fire alarm\" flashing site:facebook.com\n",
        "deaf \"fire alarm\" flashing site:youtube.com\n",
        "deaf \"fire alarm\" flashing site:twitter.com\n",
        "deaf \"fire alarm\" vibrate \n",
        "deaf \"fire alarm\" vibrate site:facebook.com\n",
        "deaf \"fire alarm\" vibrate site:youtube.com\n",
        "deaf \"fire alarm\" vibrate site:twitter.com\n",
        "deaf \"fire alarm\" vibrating \n",
        "deaf \"fire alarm\" vibrating site:facebook.com\n",
        "deaf \"fire alarm\" vibrating site:youtube.com\n",
        "deaf \"fire alarm\" vibrating site:twitter.com\n",
        "deaf \"smoke alarm\" flash \n",
        "deaf \"smoke alarm\" flash site:facebook.com\n",
        "deaf \"smoke alarm\" flash site:youtube.com\n",
        "deaf \"smoke alarm\" flash site:twitter.com\n",
        "deaf \"smoke alarm\" flashing \n",
        "deaf \"smoke alarm\" flashing site:facebook.com\n",
        "deaf \"smoke alarm\" flashing site:youtube.com\n",
        "deaf \"smoke alarm\" flashing site:twitter.com\n",
        "deaf \"smoke alarm\" vibrate \n",
        "deaf \"smoke alarm\" vibrate site:facebook.com\n",
        "deaf \"smoke alarm\" vibrate site:youtube.com\n",
        "deaf \"smoke alarm\" vibrate site:twitter.com\n",
        "deaf \"smoke alarm\" vibrating \n",
        "deaf \"smoke alarm\" vibrating site:facebook.com\n",
        "deaf \"smoke alarm\" vibrating site:youtube.com\n",
        "deaf \"smoke alarm\" vibrating site:twitter.com\n",
        "deaf alarm flash \n",
        "deaf alarm flash site:facebook.com\n",
        "deaf alarm flash site:youtube.com\n",
        "deaf alarm flash site:twitter.com\n",
        "deaf alarm flashing \n",
        "deaf alarm flashing site:facebook.com\n",
        "deaf alarm flashing site:youtube.com\n",
        "deaf alarm flashing site:twitter.com\n",
        "deaf alarm vibrate \n",
        "deaf alarm vibrate site:facebook.com\n",
        "deaf alarm vibrate site:youtube.com\n",
        "deaf alarm vibrate site:twitter.com\n",
        "deaf alarm vibrating \n",
        "deaf alarm vibrating site:facebook.com\n",
        "deaf alarm vibrating site:youtube.com\n",
        "deaf alarm vibrating site:twitter.com\n",
        "\"hard of hearing\" clock flash \n",
        "\"hard of hearing\" clock flash site:facebook.com\n",
        "\"hard of hearing\" clock flash site:youtube.com\n",
        "\"hard of hearing\" clock flash site:twitter.com\n",
        "\"hard of hearing\" clock flashing \n",
        "\"hard of hearing\" clock flashing site:facebook.com\n",
        "\"hard of hearing\" clock flashing site:youtube.com\n",
        "\"hard of hearing\" clock flashing site:twitter.com\n",
        "\"hard of hearing\" clock vibrate \n",
        "\"hard of hearing\" clock vibrate site:facebook.com\n",
        "\"hard of hearing\" clock vibrate site:youtube.com\n",
        "\"hard of hearing\" clock vibrate site:twitter.com\n",
        "\"hard of hearing\" clock vibrating \n",
        "\"hard of hearing\" clock vibrating site:facebook.com\n",
        "\"hard of hearing\" clock vibrating site:youtube.com\n",
        "\"hard of hearing\" clock vibrating site:twitter.com\n",
        "\"hard of hearing\" \"baby monitor\" flash \n",
        "\"hard of hearing\" \"baby monitor\" flash site:facebook.com\n",
        "\"hard of hearing\" \"baby monitor\" flash site:youtube.com\n",
        "\"hard of hearing\" \"baby monitor\" flash site:twitter.com\n",
        "\"hard of hearing\" \"baby monitor\" flashing \n",
        "\"hard of hearing\" \"baby monitor\" flashing site:facebook.com\n",
        "\"hard of hearing\" \"baby monitor\" flashing site:youtube.com\n",
        "\"hard of hearing\" \"baby monitor\" flashing site:twitter.com\n",
        "\"hard of hearing\" \"baby monitor\" vibrate \n",
        "\"hard of hearing\" \"baby monitor\" vibrate site:facebook.com\n",
        "\"hard of hearing\" \"baby monitor\" vibrate site:youtube.com\n",
        "\"hard of hearing\" \"baby monitor\" vibrate site:twitter.com\n",
        "\"hard of hearing\" \"baby monitor\" vibrating \n",
        "\"hard of hearing\" \"baby monitor\" vibrating site:facebook.com\n",
        "\"hard of hearing\" \"baby monitor\" vibrating site:youtube.com\n",
        "\"hard of hearing\" \"baby monitor\" vibrating site:twitter.com\n",
        "\"hard of hearing\" \"fire alarm\" flash \n",
        "\"hard of hearing\" \"fire alarm\" flash site:facebook.com\n",
        "\"hard of hearing\" \"fire alarm\" flash site:youtube.com\n",
        "\"hard of hearing\" \"fire alarm\" flash site:twitter.com\n",
        "\"hard of hearing\" \"fire alarm\" flashing \n",
        "\"hard of hearing\" \"fire alarm\" flashing site:facebook.com\n",
        "\"hard of hearing\" \"fire alarm\" flashing site:youtube.com\n",
        "\"hard of hearing\" \"fire alarm\" flashing site:twitter.com\n",
        "\"hard of hearing\" \"fire alarm\" vibrate \n",
        "\"hard of hearing\" \"fire alarm\" vibrate site:facebook.com\n",
        "\"hard of hearing\" \"fire alarm\" vibrate site:youtube.com\n",
        "\"hard of hearing\" \"fire alarm\" vibrate site:twitter.com\n",
        "\"hard of hearing\" \"fire alarm\" vibrating \n",
        "\"hard of hearing\" \"fire alarm\" vibrating site:facebook.com\n",
        "\"hard of hearing\" \"fire alarm\" vibrating site:youtube.com\n",
        "\"hard of hearing\" \"fire alarm\" vibrating site:twitter.com\n",
        "\"hard of hearing\" \"smoke alarm\" flash \n",
        "\"hard of hearing\" \"smoke alarm\" flash site:facebook.com\n",
        "\"hard of hearing\" \"smoke alarm\" flash site:youtube.com\n",
        "\"hard of hearing\" \"smoke alarm\" flash site:twitter.com\n",
        "\"hard of hearing\" \"smoke alarm\" flashing \n",
        "\"hard of hearing\" \"smoke alarm\" flashing site:facebook.com\n",
        "\"hard of hearing\" \"smoke alarm\" flashing site:youtube.com\n",
        "\"hard of hearing\" \"smoke alarm\" flashing site:twitter.com\n",
        "\"hard of hearing\" \"smoke alarm\" vibrate \n",
        "\"hard of hearing\" \"smoke alarm\" vibrate site:facebook.com\n",
        "\"hard of hearing\" \"smoke alarm\" vibrate site:youtube.com\n",
        "\"hard of hearing\" \"smoke alarm\" vibrate site:twitter.com\n",
        "\"hard of hearing\" \"smoke alarm\" vibrating \n",
        "\"hard of hearing\" \"smoke alarm\" vibrating site:facebook.com\n",
        "\"hard of hearing\" \"smoke alarm\" vibrating site:youtube.com\n",
        "\"hard of hearing\" \"smoke alarm\" vibrating site:twitter.com\n",
        "\"hard of hearing\" alarm flash \n",
        "\"hard of hearing\" alarm flash site:facebook.com\n",
        "\"hard of hearing\" alarm flash site:youtube.com\n",
        "\"hard of hearing\" alarm flash site:twitter.com\n",
        "\"hard of hearing\" alarm flashing \n",
        "\"hard of hearing\" alarm flashing site:facebook.com\n",
        "\"hard of hearing\" alarm flashing site:youtube.com\n",
        "\"hard of hearing\" alarm flashing site:twitter.com\n",
        "\"hard of hearing\" alarm vibrate \n",
        "\"hard of hearing\" alarm vibrate site:facebook.com\n",
        "\"hard of hearing\" alarm vibrate site:youtube.com\n",
        "\"hard of hearing\" alarm vibrate site:twitter.com\n",
        "\"hard of hearing\" alarm vibrating \n",
        "\"hard of hearing\" alarm vibrating site:facebook.com\n",
        "\"hard of hearing\" alarm vibrating site:youtube.com\n",
        "\"hard of hearing\" alarm vibrating site:twitter.com\n",
        "\"hearing impaired\" clock flash \n",
        "\"hearing impaired\" clock flash site:facebook.com\n",
        "\"hearing impaired\" clock flash site:youtube.com\n",
        "\"hearing impaired\" clock flash site:twitter.com\n",
        "\"hearing impaired\" clock flashing \n",
        "\"hearing impaired\" clock flashing site:facebook.com\n",
        "\"hearing impaired\" clock flashing site:youtube.com\n",
        "\"hearing impaired\" clock flashing site:twitter.com\n",
        "\"hearing impaired\" clock vibrate \n",
        "\"hearing impaired\" clock vibrate site:facebook.com\n",
        "\"hearing impaired\" clock vibrate site:youtube.com\n",
        "\"hearing impaired\" clock vibrate site:twitter.com\n",
        "\"hearing impaired\" clock vibrating \n",
        "\"hearing impaired\" clock vibrating site:facebook.com\n",
        "\"hearing impaired\" clock vibrating site:youtube.com\n",
        "\"hearing impaired\" clock vibrating site:twitter.com\n",
        "\"hearing impaired\" \"baby monitor\" flash \n",
        "\"hearing impaired\" \"baby monitor\" flash site:facebook.com\n",
        "\"hearing impaired\" \"baby monitor\" flash site:youtube.com\n",
        "\"hearing impaired\" \"baby monitor\" flash site:twitter.com\n",
        "\"hearing impaired\" \"baby monitor\" flashing \n",
        "\"hearing impaired\" \"baby monitor\" flashing site:facebook.com\n",
        "\"hearing impaired\" \"baby monitor\" flashing site:youtube.com\n",
        "\"hearing impaired\" \"baby monitor\" flashing site:twitter.com\n",
        "\"hearing impaired\" \"baby monitor\" vibrate \n",
        "\"hearing impaired\" \"baby monitor\" vibrate site:facebook.com\n",
        "\"hearing impaired\" \"baby monitor\" vibrate site:youtube.com\n",
        "\"hearing impaired\" \"baby monitor\" vibrate site:twitter.com\n",
        "\"hearing impaired\" \"baby monitor\" vibrating \n",
        "\"hearing impaired\" \"baby monitor\" vibrating site:facebook.com\n",
        "\"hearing impaired\" \"baby monitor\" vibrating site:youtube.com\n",
        "\"hearing impaired\" \"baby monitor\" vibrating site:twitter.com\n",
        "\"hearing impaired\" \"fire alarm\" flash \n",
        "\"hearing impaired\" \"fire alarm\" flash site:facebook.com\n",
        "\"hearing impaired\" \"fire alarm\" flash site:youtube.com\n",
        "\"hearing impaired\" \"fire alarm\" flash site:twitter.com\n",
        "\"hearing impaired\" \"fire alarm\" flashing \n",
        "\"hearing impaired\" \"fire alarm\" flashing site:facebook.com\n",
        "\"hearing impaired\" \"fire alarm\" flashing site:youtube.com\n",
        "\"hearing impaired\" \"fire alarm\" flashing site:twitter.com\n",
        "\"hearing impaired\" \"fire alarm\" vibrate \n",
        "\"hearing impaired\" \"fire alarm\" vibrate site:facebook.com\n",
        "\"hearing impaired\" \"fire alarm\" vibrate site:youtube.com\n",
        "\"hearing impaired\" \"fire alarm\" vibrate site:twitter.com\n",
        "\"hearing impaired\" \"fire alarm\" vibrating \n",
        "\"hearing impaired\" \"fire alarm\" vibrating site:facebook.com\n",
        "\"hearing impaired\" \"fire alarm\" vibrating site:youtube.com\n",
        "\"hearing impaired\" \"fire alarm\" vibrating site:twitter.com\n",
        "\"hearing impaired\" \"smoke alarm\" flash \n",
        "\"hearing impaired\" \"smoke alarm\" flash site:facebook.com\n",
        "\"hearing impaired\" \"smoke alarm\" flash site:youtube.com\n",
        "\"hearing impaired\" \"smoke alarm\" flash site:twitter.com\n",
        "\"hearing impaired\" \"smoke alarm\" flashing \n",
        "\"hearing impaired\" \"smoke alarm\" flashing site:facebook.com\n",
        "\"hearing impaired\" \"smoke alarm\" flashing site:youtube.com\n",
        "\"hearing impaired\" \"smoke alarm\" flashing site:twitter.com\n",
        "\"hearing impaired\" \"smoke alarm\" vibrate \n",
        "\"hearing impaired\" \"smoke alarm\" vibrate site:facebook.com\n",
        "\"hearing impaired\" \"smoke alarm\" vibrate site:youtube.com\n",
        "\"hearing impaired\" \"smoke alarm\" vibrate site:twitter.com\n",
        "\"hearing impaired\" \"smoke alarm\" vibrating \n",
        "\"hearing impaired\" \"smoke alarm\" vibrating site:facebook.com\n",
        "\"hearing impaired\" \"smoke alarm\" vibrating site:youtube.com\n",
        "\"hearing impaired\" \"smoke alarm\" vibrating site:twitter.com\n",
        "\"hearing impaired\" alarm flash \n",
        "\"hearing impaired\" alarm flash site:facebook.com\n",
        "\"hearing impaired\" alarm flash site:youtube.com\n",
        "\"hearing impaired\" alarm flash site:twitter.com\n",
        "\"hearing impaired\" alarm flashing \n",
        "\"hearing impaired\" alarm flashing site:facebook.com\n",
        "\"hearing impaired\" alarm flashing site:youtube.com\n",
        "\"hearing impaired\" alarm flashing site:twitter.com\n",
        "\"hearing impaired\" alarm vibrate \n",
        "\"hearing impaired\" alarm vibrate site:facebook.com\n",
        "\"hearing impaired\" alarm vibrate site:youtube.com\n",
        "\"hearing impaired\" alarm vibrate site:twitter.com\n",
        "\"hearing impaired\" alarm vibrating \n",
        "\"hearing impaired\" alarm vibrating site:facebook.com\n",
        "\"hearing impaired\" alarm vibrating site:youtube.com\n",
        "\"hearing impaired\" alarm vibrating site:twitter.com\n",
        "\"hearing impairment\" clock flash \n",
        "\"hearing impairment\" clock flash site:facebook.com\n",
        "\"hearing impairment\" clock flash site:youtube.com\n",
        "\"hearing impairment\" clock flash site:twitter.com\n",
        "\"hearing impairment\" clock flashing \n",
        "\"hearing impairment\" clock flashing site:facebook.com\n",
        "\"hearing impairment\" clock flashing site:youtube.com\n",
        "\"hearing impairment\" clock flashing site:twitter.com\n",
        "\"hearing impairment\" clock vibrate \n",
        "\"hearing impairment\" clock vibrate site:facebook.com\n",
        "\"hearing impairment\" clock vibrate site:youtube.com\n",
        "\"hearing impairment\" clock vibrate site:twitter.com\n",
        "\"hearing impairment\" clock vibrating \n",
        "\"hearing impairment\" clock vibrating site:facebook.com\n",
        "\"hearing impairment\" clock vibrating site:youtube.com\n",
        "\"hearing impairment\" clock vibrating site:twitter.com\n",
        "\"hearing impairment\" \"baby monitor\" flash \n",
        "\"hearing impairment\" \"baby monitor\" flash site:facebook.com\n",
        "\"hearing impairment\" \"baby monitor\" flash site:youtube.com\n",
        "\"hearing impairment\" \"baby monitor\" flash site:twitter.com\n",
        "\"hearing impairment\" \"baby monitor\" flashing \n",
        "\"hearing impairment\" \"baby monitor\" flashing site:facebook.com\n",
        "\"hearing impairment\" \"baby monitor\" flashing site:youtube.com\n",
        "\"hearing impairment\" \"baby monitor\" flashing site:twitter.com\n",
        "\"hearing impairment\" \"baby monitor\" vibrate \n",
        "\"hearing impairment\" \"baby monitor\" vibrate site:facebook.com\n",
        "\"hearing impairment\" \"baby monitor\" vibrate site:youtube.com\n",
        "\"hearing impairment\" \"baby monitor\" vibrate site:twitter.com\n",
        "\"hearing impairment\" \"baby monitor\" vibrating \n",
        "\"hearing impairment\" \"baby monitor\" vibrating site:facebook.com\n",
        "\"hearing impairment\" \"baby monitor\" vibrating site:youtube.com\n",
        "\"hearing impairment\" \"baby monitor\" vibrating site:twitter.com\n",
        "\"hearing impairment\" \"fire alarm\" flash \n",
        "\"hearing impairment\" \"fire alarm\" flash site:facebook.com\n",
        "\"hearing impairment\" \"fire alarm\" flash site:youtube.com\n",
        "\"hearing impairment\" \"fire alarm\" flash site:twitter.com\n",
        "\"hearing impairment\" \"fire alarm\" flashing \n",
        "\"hearing impairment\" \"fire alarm\" flashing site:facebook.com\n",
        "\"hearing impairment\" \"fire alarm\" flashing site:youtube.com\n",
        "\"hearing impairment\" \"fire alarm\" flashing site:twitter.com\n",
        "\"hearing impairment\" \"fire alarm\" vibrate \n",
        "\"hearing impairment\" \"fire alarm\" vibrate site:facebook.com\n",
        "\"hearing impairment\" \"fire alarm\" vibrate site:youtube.com\n",
        "\"hearing impairment\" \"fire alarm\" vibrate site:twitter.com\n",
        "\"hearing impairment\" \"fire alarm\" vibrating \n",
        "\"hearing impairment\" \"fire alarm\" vibrating site:facebook.com\n",
        "\"hearing impairment\" \"fire alarm\" vibrating site:youtube.com\n",
        "\"hearing impairment\" \"fire alarm\" vibrating site:twitter.com\n",
        "\"hearing impairment\" \"smoke alarm\" flash \n",
        "\"hearing impairment\" \"smoke alarm\" flash site:facebook.com\n",
        "\"hearing impairment\" \"smoke alarm\" flash site:youtube.com\n",
        "\"hearing impairment\" \"smoke alarm\" flash site:twitter.com\n",
        "\"hearing impairment\" \"smoke alarm\" flashing \n",
        "\"hearing impairment\" \"smoke alarm\" flashing site:facebook.com\n",
        "\"hearing impairment\" \"smoke alarm\" flashing site:youtube.com\n",
        "\"hearing impairment\" \"smoke alarm\" flashing site:twitter.com\n",
        "\"hearing impairment\" \"smoke alarm\" vibrate \n",
        "\"hearing impairment\" \"smoke alarm\" vibrate site:facebook.com\n",
        "\"hearing impairment\" \"smoke alarm\" vibrate site:youtube.com\n",
        "\"hearing impairment\" \"smoke alarm\" vibrate site:twitter.com\n",
        "\"hearing impairment\" \"smoke alarm\" vibrating \n",
        "\"hearing impairment\" \"smoke alarm\" vibrating site:facebook.com\n",
        "\"hearing impairment\" \"smoke alarm\" vibrating site:youtube.com\n",
        "\"hearing impairment\" \"smoke alarm\" vibrating site:twitter.com\n",
        "\"hearing impairment\" alarm flash \n",
        "\"hearing impairment\" alarm flash site:facebook.com\n",
        "\"hearing impairment\" alarm flash site:youtube.com\n",
        "\"hearing impairment\" alarm flash site:twitter.com\n",
        "\"hearing impairment\" alarm flashing \n",
        "\"hearing impairment\" alarm flashing site:facebook.com\n",
        "\"hearing impairment\" alarm flashing site:youtube.com\n",
        "\"hearing impairment\" alarm flashing site:twitter.com\n",
        "\"hearing impairment\" alarm vibrate \n",
        "\"hearing impairment\" alarm vibrate site:facebook.com\n",
        "\"hearing impairment\" alarm vibrate site:youtube.com\n",
        "\"hearing impairment\" alarm vibrate site:twitter.com\n",
        "\"hearing impairment\" alarm vibrating \n",
        "\"hearing impairment\" alarm vibrating site:facebook.com\n",
        "\"hearing impairment\" alarm vibrating site:youtube.com\n",
        "\"hearing impairment\" alarm vibrating site:twitter.com\n",
        "\"hearing loss\" clock flash \n",
        "\"hearing loss\" clock flash site:facebook.com\n",
        "\"hearing loss\" clock flash site:youtube.com\n",
        "\"hearing loss\" clock flash site:twitter.com\n",
        "\"hearing loss\" clock flashing \n",
        "\"hearing loss\" clock flashing site:facebook.com\n",
        "\"hearing loss\" clock flashing site:youtube.com\n",
        "\"hearing loss\" clock flashing site:twitter.com\n",
        "\"hearing loss\" clock vibrate \n",
        "\"hearing loss\" clock vibrate site:facebook.com\n",
        "\"hearing loss\" clock vibrate site:youtube.com\n",
        "\"hearing loss\" clock vibrate site:twitter.com\n",
        "\"hearing loss\" clock vibrating \n",
        "\"hearing loss\" clock vibrating site:facebook.com\n",
        "\"hearing loss\" clock vibrating site:youtube.com\n",
        "\"hearing loss\" clock vibrating site:twitter.com\n",
        "\"hearing loss\" \"baby monitor\" flash \n",
        "\"hearing loss\" \"baby monitor\" flash site:facebook.com\n",
        "\"hearing loss\" \"baby monitor\" flash site:youtube.com\n",
        "\"hearing loss\" \"baby monitor\" flash site:twitter.com\n",
        "\"hearing loss\" \"baby monitor\" flashing \n",
        "\"hearing loss\" \"baby monitor\" flashing site:facebook.com\n",
        "\"hearing loss\" \"baby monitor\" flashing site:youtube.com\n",
        "\"hearing loss\" \"baby monitor\" flashing site:twitter.com\n",
        "\"hearing loss\" \"baby monitor\" vibrate \n",
        "\"hearing loss\" \"baby monitor\" vibrate site:facebook.com\n",
        "\"hearing loss\" \"baby monitor\" vibrate site:youtube.com\n",
        "\"hearing loss\" \"baby monitor\" vibrate site:twitter.com\n",
        "\"hearing loss\" \"baby monitor\" vibrating \n",
        "\"hearing loss\" \"baby monitor\" vibrating site:facebook.com\n",
        "\"hearing loss\" \"baby monitor\" vibrating site:youtube.com\n",
        "\"hearing loss\" \"baby monitor\" vibrating site:twitter.com\n",
        "\"hearing loss\" \"fire alarm\" flash \n",
        "\"hearing loss\" \"fire alarm\" flash site:facebook.com\n",
        "\"hearing loss\" \"fire alarm\" flash site:youtube.com\n",
        "\"hearing loss\" \"fire alarm\" flash site:twitter.com\n",
        "\"hearing loss\" \"fire alarm\" flashing \n",
        "\"hearing loss\" \"fire alarm\" flashing site:facebook.com\n",
        "\"hearing loss\" \"fire alarm\" flashing site:youtube.com\n",
        "\"hearing loss\" \"fire alarm\" flashing site:twitter.com\n",
        "\"hearing loss\" \"fire alarm\" vibrate \n",
        "\"hearing loss\" \"fire alarm\" vibrate site:facebook.com\n",
        "\"hearing loss\" \"fire alarm\" vibrate site:youtube.com\n",
        "\"hearing loss\" \"fire alarm\" vibrate site:twitter.com\n",
        "\"hearing loss\" \"fire alarm\" vibrating \n",
        "\"hearing loss\" \"fire alarm\" vibrating site:facebook.com\n",
        "\"hearing loss\" \"fire alarm\" vibrating site:youtube.com\n",
        "\"hearing loss\" \"fire alarm\" vibrating site:twitter.com\n",
        "\"hearing loss\" \"smoke alarm\" flash \n",
        "\"hearing loss\" \"smoke alarm\" flash site:facebook.com\n",
        "\"hearing loss\" \"smoke alarm\" flash site:youtube.com\n",
        "\"hearing loss\" \"smoke alarm\" flash site:twitter.com\n",
        "\"hearing loss\" \"smoke alarm\" flashing \n",
        "\"hearing loss\" \"smoke alarm\" flashing site:facebook.com\n",
        "\"hearing loss\" \"smoke alarm\" flashing site:youtube.com\n",
        "\"hearing loss\" \"smoke alarm\" flashing site:twitter.com\n",
        "\"hearing loss\" \"smoke alarm\" vibrate \n",
        "\"hearing loss\" \"smoke alarm\" vibrate site:facebook.com\n",
        "\"hearing loss\" \"smoke alarm\" vibrate site:youtube.com\n",
        "\"hearing loss\" \"smoke alarm\" vibrate site:twitter.com\n",
        "\"hearing loss\" \"smoke alarm\" vibrating \n",
        "\"hearing loss\" \"smoke alarm\" vibrating site:facebook.com\n",
        "\"hearing loss\" \"smoke alarm\" vibrating site:youtube.com\n",
        "\"hearing loss\" \"smoke alarm\" vibrating site:twitter.com\n",
        "\"hearing loss\" alarm flash \n",
        "\"hearing loss\" alarm flash site:facebook.com\n",
        "\"hearing loss\" alarm flash site:youtube.com\n",
        "\"hearing loss\" alarm flash site:twitter.com\n",
        "\"hearing loss\" alarm flashing \n",
        "\"hearing loss\" alarm flashing site:facebook.com\n",
        "\"hearing loss\" alarm flashing site:youtube.com\n",
        "\"hearing loss\" alarm flashing site:twitter.com\n",
        "\"hearing loss\" alarm vibrate \n",
        "\"hearing loss\" alarm vibrate site:facebook.com\n",
        "\"hearing loss\" alarm vibrate site:youtube.com\n",
        "\"hearing loss\" alarm vibrate site:twitter.com\n",
        "\"hearing loss\" alarm vibrating \n",
        "\"hearing loss\" alarm vibrating site:facebook.com\n",
        "\"hearing loss\" alarm vibrating site:youtube.com\n",
        "\"hearing loss\" alarm vibrating site:twitter.com\n"
       ]
      }
     ],
     "prompt_number": 26
    },
    {
     "cell_type": "code",
     "collapsed": false,
     "input": [],
     "language": "python",
     "metadata": {},
     "outputs": []
    }
   ],
   "metadata": {}
  }
 ]
}