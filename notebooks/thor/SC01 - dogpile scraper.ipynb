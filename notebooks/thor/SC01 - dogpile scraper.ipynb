{
 "metadata": {
  "name": ""
 },
 "nbformat": 3,
 "nbformat_minor": 0,
 "worksheets": [
  {
   "cells": [
    {
     "cell_type": "code",
     "collapsed": false,
     "input": [
      "%load_ext autoreload\n",
      "%autoreload 2"
     ],
     "language": "python",
     "metadata": {},
     "outputs": [],
     "prompt_number": 1
    },
    {
     "cell_type": "code",
     "collapsed": false,
     "input": [
      "import os\n",
      "# import pfile.to\n",
      "# import pstr.to\n",
      "from bs4 import BeautifulSoup\n",
      "import requests\n",
      "# import pstr\n",
      "import re\n",
      "# import pickle\n",
      "# import urllib2\n",
      "# from selenium import webdriver\n",
      "# from selenium.webdriver.common.keys import Keys\n",
      "import urlparse\n",
      "import urllib\n",
      "from datetime import datetime"
     ],
     "language": "python",
     "metadata": {},
     "outputs": [],
     "prompt_number": 2
    },
    {
     "cell_type": "code",
     "collapsed": false,
     "input": [
      "##########\n",
      "# SETTINGS\n",
      "save_folder = os.path.join(os.environ['GD_FOLDER'], 'Shared/ms_otosense')\n",
      "user_agent = 'Mozilla/5.0 (Macintosh; U; Intel Mac OS X 10_5_8; en-US) AppleWebKit/532.2 (KHTML, like Gecko) Chrome/4.0.222.5 Safari/532.2'\n",
      "\n",
      "################################################\n",
      "# UTILS\n",
      "\n",
      "html_re = re.compile('\\.html$')\n",
      "\n",
      "def url_encode(query):\n",
      "    # look at urlparse for cleaner ways to do this\n",
      "    return urllib.urlencode({'':query})[1:]\n",
      "\n",
      "def hms_message(msg=''):\n",
      "    t = datetime.now().time()\n",
      "    return \"%d:%d:%d - %s\" % (t.hour, t.minute, t.second, msg)\n",
      "\n",
      "def save_text_to_file(s, filepath):\n",
      "    text_file = open(filepath, \"w\")\n",
      "    text_file.write(s.encode('utf-8'))\n",
      "    text_file.close()\n",
      "\n",
      "def filename_from_url(url):\n",
      "    return url.replace('/','\u00a7').replace(':','{') + '.html'\n",
      "\n",
      "def url_from_filename(filename):\n",
      "    return html_re.sub('', filename.replace('\u00a7','/').replace('{',':'))\n",
      "\n",
      "\n",
      "# def get_dogpile_html_from_query(query):\n",
      "#     dogpile_url_prefix = 'http://www.dogpile.com/search/web'\n",
      "#     response = requests.get(dogpile_url_prefix, params={'q': query})\n",
      "#     if response:\n",
      "#         return response.text\n",
      "#     else:\n",
      "#         return None\n",
      "\n",
      "# def acquire_query_result_from_dogpile(query, save_folder=os.path.join(os.environ['MS_DATA'], 'misc')):\n",
      "#     html = get_dogpile_html_from_query(query)\n",
      "#     if html:\n",
      "#         file_name = url_encode(query) + '.html'\n",
      "#         file_path = os.path.join(save_folder, file_name)\n",
      "#         save_html(html, file_path)\n",
      "#     else:\n",
      "#         raise ValueError(\"There was a problem in acquiring %s\" % query)\n",
      "        \n",
      "################################################\n",
      "# SPECIFIC METHODS\n",
      "\n",
      "dogpile_base_url = 'http://www.dogpile.com'\n",
      "dogpile_search_url = '/search/web?'\n",
      "\n",
      "def qsi_from_result_page_number(page_number):\n",
      "    return page_number*10 + 1\n",
      "\n",
      "def get_dogpile_request_url(query, result_page_number=0):\n",
      "    '''\n",
      "    returns a url\n",
      "    '''\n",
      "    first_item_number = qsi_from_result_page_number(result_page_number)\n",
      "    return urlparse.urljoin(base=dogpile_base_url, \n",
      "                            url=dogpile_search_url \n",
      "                            + urllib.urlencode(query={'q': query, 'qsi': first_item_number}))\n",
      "\n",
      "\n",
      "################################################\n",
      "# GENERAL METHODS\n",
      "\n",
      "def get_url_from_seed(seed):\n",
      "    return get_dogpile_request_url(seed)\n",
      "\n",
      "def get_html_from_seed(seed):\n",
      "    url = get_url_from_seed(seed)\n",
      "    return get_html_of_url(url)\n",
      "\n",
      "def get_html_of_url(url):\n",
      "#     headers = {'User-Agent': user_agent}\n",
      "#     response = requests.get(url=url, headers=headers)\n",
      "    response = requests.get(url=url)\n",
      "    if response and response.ok:\n",
      "        return response.text\n",
      "    else:\n",
      "        return None\n",
      "\n",
      "def html_is_valid(html):\n",
      "    if html:\n",
      "        return True\n",
      "    else:\n",
      "        return False\n",
      "\n",
      "def log_progress(msg):\n",
      "    print hms_message(msg)\n",
      "    \n",
      "def log_error(msg):\n",
      "    print hms_message('ERROR: ' + msg)\n",
      "\n",
      "def file_path_of_slurp(slurp_spec):\n",
      "    return os.path.join(save_folder, filename_from_url(slurp_spec))\n",
      "\n",
      "def save_html_of_slurp(html, slurp_spec):\n",
      "    save_text_to_file(s=html, filepath=file_path_of_slurp(slurp_spec))"
     ],
     "language": "python",
     "metadata": {},
     "outputs": [],
     "prompt_number": 75
    },
    {
     "cell_type": "code",
     "collapsed": false,
     "input": [
      "# seed specification\n",
      "seed_list = [\n",
      "             '\"smoke alarm\" flash', '\"fire alarm\" flash', 'doorbell flash']\n",
      "n_result_pages = 15\n",
      "\n",
      "for i, seed in enumerate(seed_list[1:3]):\n",
      "    for j, result_page in enumerate(range(n_result_pages)):\n",
      "        # slurp\n",
      "        url = get_dogpile_request_url(seed, result_page)\n",
      "        log_progress('seed %d, %d: %s (slurping %s)' % (i, j, seed, url))\n",
      "        try:\n",
      "            html = get_html_of_url(url)\n",
      "        except:\n",
      "            log_error('seed %d, %d (%s): get_html_of_url(%s)' % (i, j, seed, url))\n",
      "            continue # go to the next seed\n",
      "        # process\n",
      "        if html_is_valid:\n",
      "            save_html_of_slurp(html, url)\n",
      "        else:\n",
      "            log_error('seed %d, %d (%s): html not valid: %s' % (i, j, seed, url))"
     ],
     "language": "python",
     "metadata": {},
     "outputs": [
      {
       "output_type": "stream",
       "stream": "stdout",
       "text": [
        "14:25:33 - seed 0, 0: \"fire alarm\" flash (slurping http://www.dogpile.com/search/web?q=%22fire+alarm%22+flash&qsi=1)\n",
        "14:25:34 - seed 0, 1: \"fire alarm\" flash (slurping http://www.dogpile.com/search/web?q=%22fire+alarm%22+flash&qsi=11)"
       ]
      },
      {
       "output_type": "stream",
       "stream": "stdout",
       "text": [
        "\n",
        "14:25:35 - seed 0, 2: \"fire alarm\" flash (slurping http://www.dogpile.com/search/web?q=%22fire+alarm%22+flash&qsi=21)"
       ]
      },
      {
       "output_type": "stream",
       "stream": "stdout",
       "text": [
        "\n",
        "14:25:37 - seed 1, 0: doorbell flash (slurping http://www.dogpile.com/search/web?q=doorbell+flash&qsi=1)"
       ]
      },
      {
       "output_type": "stream",
       "stream": "stdout",
       "text": [
        "\n",
        "14:25:38 - seed 1, 1: doorbell flash (slurping http://www.dogpile.com/search/web?q=doorbell+flash&qsi=11)"
       ]
      },
      {
       "output_type": "stream",
       "stream": "stdout",
       "text": [
        "\n",
        "14:25:39 - seed 1, 2: doorbell flash (slurping http://www.dogpile.com/search/web?q=doorbell+flash&qsi=21)"
       ]
      },
      {
       "output_type": "stream",
       "stream": "stdout",
       "text": [
        "\n"
       ]
      }
     ],
     "prompt_number": 76
    },
    {
     "cell_type": "markdown",
     "metadata": {},
     "source": [
      "### Parse dogpile"
     ]
    },
    {
     "cell_type": "code",
     "collapsed": false,
     "input": [
      "def get_link_from_results(results_soup):\n",
      "    urlpane = results_soup.find('div', attrs={'class':'resultDisplayUrlPane'})\n",
      "    return urlparse.parse_qs(urlpane.find('a', attrs='resultDisplayUrl').attrs['href'])['ru'][0]\n",
      "def get_title_text_from_results(results_soup):\n",
      "    return results_soup.find('div', attrs={'class':'resultTitlePane'}).get_text()\n",
      "def get_description_text_from_results(results_soup):\n",
      "    return results_soup.find('div', attrs={'class':'resultDescription'}).get_text()\n",
      "\n",
      "\n",
      "def get_web_results_dict_from_results_soup(results_soup):\n",
      "    return {\n",
      "            'link':get_link_from_results(results_soup), \n",
      "            'title':get_title_text_from_results(results_soup),\n",
      "            'description':get_description_text_from_results(results_soup)\n",
      "            }\n",
      "\n",
      "def parse_dogpile_html(html):\n",
      "    b = BeautifulSoup(html)\n",
      "    \n",
      "    result_tags = ['resultsAdsTop', 'resultsMain', 'resultsAdsBottom']\n",
      "    parse_dict = {k: b.find('div',attrs={'id':k}) for k in result_tags}\n",
      "    \n",
      "    parse_dict['resultsAdsTop'] = parse_dict['resultsAdsTop'].findAll('div',attrs={'class':'searchResult adResult'})\n",
      "    parse_dict['resultsMain'] = parse_dict['resultsMain'].findAll('div',attrs={'class':'searchResult webResult'})\n",
      "    parse_dict['resultsAdsBottom'] = parse_dict['resultsAdsBottom'].findAll('div',attrs={'class':'searchResult adResult'})\n",
      "\n",
      "    parse_dict['resultsMain'] = [get_web_results_dict_from_results_soup(r) for r in parse_dict['resultsMain']]\n",
      "    \n",
      "    return parse_dict\n",
      "\n",
      "\n",
      "def diagnose_parse_dict(parse_dict):\n",
      "    print \"parse_dict_keys: %s\" % d.keys()\n",
      "    print \"number of resultsMain: %d\" % len(d['resultsMain'])\n",
      "    print d['resultsMain'][0]"
     ],
     "language": "python",
     "metadata": {},
     "outputs": [],
     "prompt_number": 191
    },
    {
     "cell_type": "code",
     "collapsed": false,
     "input": [
      "d = parse_dogpile_html(html)\n",
      "diagnose_parse_dict(d)"
     ],
     "language": "python",
     "metadata": {},
     "outputs": [
      {
       "output_type": "stream",
       "stream": "stdout",
       "text": [
        "parse_dict_keys: ['resultsAdsBottom', 'resultsAdsTop', 'resultsMain']\n",
        "number of resultsMain: 10\n",
        "{'link': 'http://www.devices4less.com/Doorbell.html', 'description': u'Offering remote signal recievers, door knock alerts, doorbell signalers, strobe remote recievers, vibes bed vibrators, telephone signalers, loud horn', 'title': u'\\nDoorbell Strobe Lights - Doorbell Signalers - Door Knock Alerting\\n'}\n"
       ]
      }
     ],
     "prompt_number": 192
    },
    {
     "cell_type": "code",
     "collapsed": false,
     "input": [],
     "language": "python",
     "metadata": {},
     "outputs": []
    },
    {
     "cell_type": "code",
     "collapsed": false,
     "input": [],
     "language": "python",
     "metadata": {},
     "outputs": []
    },
    {
     "cell_type": "code",
     "collapsed": false,
     "input": [],
     "language": "python",
     "metadata": {},
     "outputs": []
    },
    {
     "cell_type": "code",
     "collapsed": false,
     "input": [],
     "language": "python",
     "metadata": {},
     "outputs": []
    },
    {
     "cell_type": "code",
     "collapsed": false,
     "input": [],
     "language": "python",
     "metadata": {},
     "outputs": []
    },
    {
     "cell_type": "code",
     "collapsed": false,
     "input": [],
     "language": "python",
     "metadata": {},
     "outputs": []
    },
    {
     "cell_type": "code",
     "collapsed": false,
     "input": [],
     "language": "python",
     "metadata": {},
     "outputs": []
    },
    {
     "cell_type": "markdown",
     "metadata": {},
     "source": [
      "### Comments"
     ]
    },
    {
     "cell_type": "markdown",
     "metadata": {},
     "source": [
      "#### Demo of kwargs"
     ]
    },
    {
     "cell_type": "code",
     "collapsed": false,
     "input": [
      "def fun(a, b=10):\n",
      "    return a / float(b)"
     ],
     "language": "python",
     "metadata": {},
     "outputs": [],
     "prompt_number": 52
    },
    {
     "cell_type": "code",
     "collapsed": false,
     "input": [
      "print fun(2,3)\n",
      "print fun(2)\n",
      "print fun(a=2)\n",
      "print fun(b=4, a=2)"
     ],
     "language": "python",
     "metadata": {},
     "outputs": [
      {
       "output_type": "stream",
       "stream": "stdout",
       "text": [
        "0.666666666667\n",
        "0.2\n",
        "0.2\n",
        "0.5\n"
       ]
      }
     ],
     "prompt_number": 55
    },
    {
     "cell_type": "code",
     "collapsed": false,
     "input": [
      "def fun(a, **kwargs):\n",
      "    print a + '---'\n",
      "    for k in kwargs.keys():\n",
      "        print k\n",
      "        print \"--> %s\" % kwargs[k]"
     ],
     "language": "python",
     "metadata": {},
     "outputs": [],
     "prompt_number": 68
    },
    {
     "cell_type": "code",
     "collapsed": false,
     "input": [
      "fun('asdf', autre_var='booboo', and_yet_another='kiuki')"
     ],
     "language": "python",
     "metadata": {},
     "outputs": [
      {
       "output_type": "stream",
       "stream": "stdout",
       "text": [
        "asdf---\n",
        "autre_var\n",
        "--> booboo\n",
        "and_yet_another\n",
        "--> kiuki\n"
       ]
      }
     ],
     "prompt_number": 69
    },
    {
     "cell_type": "markdown",
     "metadata": {},
     "source": [
      "#### Demo of environment variables"
     ]
    },
    {
     "cell_type": "code",
     "collapsed": false,
     "input": [
      "import os"
     ],
     "language": "python",
     "metadata": {},
     "outputs": [],
     "prompt_number": 4
    },
    {
     "cell_type": "code",
     "collapsed": false,
     "input": [
      "type(os.environ)"
     ],
     "language": "python",
     "metadata": {},
     "outputs": [
      {
       "metadata": {},
       "output_type": "pyout",
       "prompt_number": 5,
       "text": [
        "instance"
       ]
      }
     ],
     "prompt_number": 5
    },
    {
     "cell_type": "code",
     "collapsed": false,
     "input": [
      "print os.environ.keys()"
     ],
     "language": "python",
     "metadata": {},
     "outputs": [
      {
       "output_type": "stream",
       "stream": "stdout",
       "text": [
        "['VEN_LANG', 'VEN_PYTHONPATH', 'MON_AWS_ACCESS_KEY_ID', 'MON_AWS_SECRET_ACCESS_KEY', 'SHELL', 'COLORFGBG', 'VEN_PWD', 'VEN_Apple_PubSub_Socket_Render', 'PY_FOLDER', 'MS_DATA', 'DB_FOLDER', 'PYTHONPATH', 'VEN_GIT_PAGER', 'KHAN_SERVER', 'VEN_Apple_Ubiquity_Message', 'KHAN_CODE_FOLDER', 'LOCATION_S3', 'VEN_AWS_SECRET_ACCESS_KEY', 'VEN_PAGER', 'USER', 'PY_PACKAGES_FOLDER', 'SHLVL', 'VEN_SHELL', 'KHAN_PEM_FILE', 'VEN_VIRTUALENVWRAPPER_PROJECT_FILENAME', 'VEN_COMMAND_MODE', 'GD_FOLDER', 'MON_DNS', 'ITERM_PROFILE', 'VEN_COLORFGBG', 'TMPDIR', 'VEN_TERM_PROGRAM', 'KHAN_DATA', 'KHAN_NB_FOLDER', 'PAGER', 'COMMAND_MODE', 'VEN_S3_SECRET', 'VEN_ITERM_SESSION_ID', 'VEN_SSH_AUTH_SOCK', 'MON_PEM_FILE', 'HOME', 'VEN_DISPLAY', 'VEN_LOGNAME', 'TERM_PROGRAM', 'LANG', 'KHAN_LOG_FOLDER', 'Apple_PubSub_Socket_Render', 'VEN_ADWORDS_PASSWORD', '_', 'VEN_USER', 'VEN_PS1', 'VEN_AWS_ACCESS_KEY_ID', 'VEN_PATH', 'VEN_TMPDIR', 'GIT_PAGER', 'KHAN_PRINT_FILE', 'VEN_S3_ACCESS_KEY', 'VEN___CF_USER_TEXT_ENCODING', 'MON_SERVER', 'VEN_ADWORDS_TOKEN', 'VEN_SHLVL', '__CF_USER_TEXT_ENCODING', 'NOTEBOOK_FOLDER', 'OLDPWD', 'VEN_CLICOLOR', 'VEN_TERM', 'PY_PROJ_FOLDER', 'LOCATION_LOCAL', 'LOGNAME', 'DATA_LOG_FOLDER', 'PATH', 'CLICOLOR', 'TERM', 'ITERM_SESSION_ID', 'KHAN_DNS', 'DEV_FOLDER', 'SSH_AUTH_SOCK', 'VEN_OLDPWD', 'VEN_ADWORDS_EMAIL_PASSWORD', 'OMS_DATA', 'DISPLAY', 'VEN_ITERM_PROFILE', 'VEN_HOME', 'Apple_Ubiquity_Message', 'PWD', 'AWS_CREDENTIAL_FILE']\n"
       ]
      }
     ],
     "prompt_number": 6
    },
    {
     "cell_type": "code",
     "collapsed": false,
     "input": [
      "os.environ['GD_FOLDER']"
     ],
     "language": "python",
     "metadata": {},
     "outputs": [
      {
       "metadata": {},
       "output_type": "pyout",
       "prompt_number": 7,
       "text": [
        "'/Users/thor/Google Drive'"
       ]
      }
     ],
     "prompt_number": 7
    },
    {
     "cell_type": "markdown",
     "metadata": {},
     "source": [
      "### Scrap"
     ]
    },
    {
     "cell_type": "code",
     "collapsed": false,
     "input": [],
     "language": "python",
     "metadata": {},
     "outputs": []
    },
    {
     "cell_type": "code",
     "collapsed": false,
     "input": [],
     "language": "python",
     "metadata": {},
     "outputs": []
    }
   ],
   "metadata": {}
  }
 ]
}