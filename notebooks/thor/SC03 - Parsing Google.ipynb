{
 "metadata": {
  "name": ""
 },
 "nbformat": 3,
 "nbformat_minor": 0,
 "worksheets": [
  {
   "cells": [
    {
     "cell_type": "code",
     "collapsed": false,
     "input": [
      "%load_ext autoreload\n",
      "%autoreload 2"
     ],
     "language": "python",
     "metadata": {},
     "outputs": [],
     "prompt_number": 1
    },
    {
     "cell_type": "code",
     "collapsed": false,
     "input": [
      "import os\n",
      "# import pfile.to\n",
      "# import pstr.to\n",
      "from bs4 import BeautifulSoup\n",
      "import requests\n",
      "# import pstr\n",
      "import re\n",
      "# import pickle\n",
      "# import urllib2\n",
      "# from selenium import webdriver\n",
      "# from selenium.webdriver.common.keys import Keys\n",
      "import urlparse\n",
      "import urllib\n",
      "from datetime import datetime\n",
      "import random\n",
      "\n",
      "import pfile.to\n",
      "import pstr.to\n",
      "import parse.util\n",
      "import pstr.trans\n",
      "import pickle\n",
      "\n",
      "import pprint\n",
      "ppr = pprint.PrettyPrinter(indent=4)"
     ],
     "language": "python",
     "metadata": {},
     "outputs": [],
     "prompt_number": 2
    },
    {
     "cell_type": "code",
     "collapsed": false,
     "input": [
      "%pdb"
     ],
     "language": "python",
     "metadata": {},
     "outputs": [
      {
       "output_type": "stream",
       "stream": "stdout",
       "text": [
        "Automatic pdb calling has been turned ON\n"
       ]
      }
     ],
     "prompt_number": 3
    },
    {
     "cell_type": "markdown",
     "metadata": {},
     "source": [
      "### Functions and Methods"
     ]
    },
    {
     "cell_type": "code",
     "collapsed": false,
     "input": [
      "##########\n",
      "# SETTINGS\n",
      "root_folder = os.path.join(os.environ['GD_FOLDER'], 'Shared/ms_otosense')\n",
      "slurps_folder = os.path.join(root_folder, 'slurps')\n",
      "parse_dicts_folder = os.path.join(root_folder, 'parse_dicts')\n",
      "list_of_gshop_text_filename = os.path.join(root_folder, 'list_of_gshop_files.txt')"
     ],
     "language": "python",
     "metadata": {},
     "outputs": [],
     "prompt_number": 4
    },
    {
     "cell_type": "code",
     "collapsed": false,
     "input": [
      "###########\n",
      "# UTILS\n",
      "\n",
      "def peep_in_list(A):\n",
      "    print \"The list has %d elements\" % len(A)\n",
      "    print \"Here are elements of indices 0, 1, -2, and -1:\"\n",
      "    print \"-----------------------------------------------\"\n",
      "    print A[0]\n",
      "    print A[1]\n",
      "    print A[-2]\n",
      "    print A[-1]\n",
      "\n",
      "def log_to_file(filename, msg):\n",
      "    with open(filename, \"a\") as myfile:\n",
      "        myfile.write(hms_message() + msg + \"\\n\")\n",
      "\n",
      "def hms_message(msg=''):\n",
      "    t = datetime.now().time()\n",
      "    return \"%02.0f:%02.0f:%02.0f - %s\" % (t.hour, t.minute, t.second, msg)\n",
      "\n",
      "\n",
      "def peep_in_results(file_info_dict, result_idx=0, item_idx=0):\n",
      "    result = file_info_dict[result_idx]\n",
      "    parsed_result = result['parse_dict']\n",
      "    print result['file']\n",
      "    print '------------------------'\n",
      "    if item_idx < len(parsed_result):\n",
      "        ppr.pprint(parsed_result[item_idx])\n",
      "        return parsed_result[item_idx], parsed_result, result\n",
      "    else:\n",
      "        print \"there's only %d items in that file\" % len(parsed_result)\n",
      "    \n",
      "\n",
      "\n",
      "###########\n",
      "# PARSING UTILS\n",
      "\n",
      "def parse_gshop(soup):\n",
      "    items = soup.findAll('li', attrs={'class':'g'})\n",
      "    if items:\n",
      "        items = [parse_gshop_item(t) for t in items]\n",
      "    return items\n",
      "    \n",
      "def parse_gshop_item(t):\n",
      "    parse_dict = dict()\n",
      "    # psliimg section\n",
      "    tt = t.find('div', attrs={'class':'psliimg'})\n",
      "    if tt:\n",
      "        ttt = tt.find('img')\n",
      "        if ttt:\n",
      "            x = ttt.get('alt')\n",
      "            if x:\n",
      "                parse_dict['img_alt'] = x\n",
      "            x = ttt.get('src')\n",
      "            if x:\n",
      "                parse_dict['img_src'] = x\n",
      "    # psliprice section\n",
      "    tt = t.find('div', attrs={'class':'psliprice'})\n",
      "    if tt:\n",
      "        parse_dict['psliprice_divs_html'] = [x.renderContents() for x in tt.findAll('div')]\n",
      "        parse_dict['psliprice_divs_text'] = [x.get_text() for x in tt.findAll('div')]\n",
      "    # pslimain section\n",
      "    tt = t.find('div', attrs={'class':'pslimain'})\n",
      "    if tt:\n",
      "        # title\n",
      "        ttt = tt.find('h3')\n",
      "        if ttt:\n",
      "            x = ttt.find('a')\n",
      "            parse_dict['href'] = x['href']\n",
      "            parse_dict['href_text'] = x.get_text()\n",
      "        # description\n",
      "        ttt = tt.find('div')\n",
      "        if ttt:\n",
      "            parse_dict['desc'] = ttt.get_text()\n",
      "    return parse_dict"
     ],
     "language": "python",
     "metadata": {},
     "outputs": [],
     "prompt_number": 5
    },
    {
     "cell_type": "code",
     "collapsed": false,
     "input": [],
     "language": "python",
     "metadata": {},
     "outputs": [],
     "prompt_number": 5
    },
    {
     "cell_type": "code",
     "collapsed": false,
     "input": [],
     "language": "python",
     "metadata": {},
     "outputs": [],
     "prompt_number": 5
    },
    {
     "cell_type": "code",
     "collapsed": false,
     "input": [
      "# get the list of google shopping filenames into a file\n",
      "shop_re = 'tbm=shop'\n",
      "t = os.popen('ls \"%s\" | grep  %s > \"%s\"' % (slurps_folder, shop_re, list_of_gshop_text_filename))\n",
      "t"
     ],
     "language": "python",
     "metadata": {},
     "outputs": [
      {
       "metadata": {},
       "output_type": "pyout",
       "prompt_number": 6,
       "text": [
        "<open file 'ls \"/Users/thor/Google Drive/Shared/ms_otosense/slurps\" | grep  tbm=shop > \"/Users/thor/Google Drive/Shared/ms_otosense/list_of_gshop_files.txt\"', mode 'r' at 0x108435a50>"
       ]
      }
     ],
     "prompt_number": 6
    },
    {
     "cell_type": "code",
     "collapsed": false,
     "input": [
      "# creating a list of filenames\n",
      "file_list = pfile.to.str(list_of_gshop_text_filename).split('\\n')[0:-1]\n",
      "peep_in_list(file_list)"
     ],
     "language": "python",
     "metadata": {},
     "outputs": [
      {
       "output_type": "stream",
       "stream": "stdout",
       "text": [
        "The list has 498 elements\n",
        "Here are elements of indices 0, 1, -2, and -1:\n",
        "-----------------------------------------------\n",
        "http{\u00a7\u00a7www.google.com\u00a7search?start=1&num=100&tbm=shop&query=%22hard+of+hearing%22+%22baby+monitor%22+flash&tbs=p_ord%3Arv.html\n",
        "http{\u00a7\u00a7www.google.com\u00a7search?start=1&num=100&tbm=shop&query=%22hard+of+hearing%22+%22baby+monitor%22+flashing&tbs=p_ord%3Arv.html\n",
        "http{\u00a7\u00a7www.google.com\u00a7search?start=401&num=100&tbm=shop&query=deaf+clock+vibrate&tbs=p_ord%3Arv.html\n",
        "http{\u00a7\u00a7www.google.com\u00a7search?start=401&num=100&tbm=shop&query=deaf+clock+vibrating&tbs=p_ord%3Arv.html\n"
       ]
      }
     ],
     "prompt_number": 7
    },
    {
     "cell_type": "code",
     "collapsed": false,
     "input": [
      "file_info_dict = [{'file':f, 'filepath':os.path.join(slurps_folder, f)} for f in file_list]\n",
      "n = len(file_info_dict)\n",
      "n"
     ],
     "language": "python",
     "metadata": {},
     "outputs": [
      {
       "metadata": {},
       "output_type": "pyout",
       "prompt_number": 8,
       "text": [
        "498"
       ]
      }
     ],
     "prompt_number": 8
    },
    {
     "cell_type": "code",
     "collapsed": false,
     "input": [
      "file_info_dict[0]"
     ],
     "language": "python",
     "metadata": {},
     "outputs": [
      {
       "metadata": {},
       "output_type": "pyout",
       "prompt_number": 9,
       "text": [
        "{'file': 'http{\\xc2\\xa7\\xc2\\xa7www.google.com\\xc2\\xa7search?start=1&num=100&tbm=shop&query=%22hard+of+hearing%22+%22baby+monitor%22+flash&tbs=p_ord%3Arv.html',\n",
        " 'filepath': '/Users/thor/Google Drive/Shared/ms_otosense/slurps/http{\\xc2\\xa7\\xc2\\xa7www.google.com\\xc2\\xa7search?start=1&num=100&tbm=shop&query=%22hard+of+hearing%22+%22baby+monitor%22+flash&tbs=p_ord%3Arv.html'}"
       ]
      }
     ],
     "prompt_number": 9
    },
    {
     "cell_type": "markdown",
     "metadata": {},
     "source": [
      "### ----------"
     ]
    },
    {
     "cell_type": "code",
     "collapsed": false,
     "input": [
      "start_at = 448 - 2\n",
      "file_list = file_list[start_at:]\n",
      "n = len(file_list)\n",
      "print n\n",
      "print \"_------------\"\n",
      "for i, fi in enumerate(file_list):\n",
      "    try:\n",
      "        target_file_path = os.path.join(parse_dicts_folder, \n",
      "                                        pfile.name.replace_extension(fi, '.dict_list'))\n",
      "        if not os.path.exists(target_file_path):\n",
      "            log_to_file('log.log', \"%d/%d: %s\" % (i,n,fi))\n",
      "            pause(1.5)\n",
      "            s = pfile.to.str(os.path.join(slurps_folder, fi))\n",
      "            s = pstr.trans.str_to_unicode_or_bust(s)\n",
      "            parse_dict = parse_gshop(BeautifulSoup(s))\n",
      "            pickle.dump(parse_dict, open(target_file_path,'wb'))\n",
      "        else:\n",
      "            continue\n",
      "    except BaseException as e:\n",
      "        log_to_file('log.log', \" - ERROR: %d/%d: %s: %s\" % (i,n,fi,e.message))"
     ],
     "language": "python",
     "metadata": {},
     "outputs": [
      {
       "output_type": "stream",
       "stream": "stdout",
       "text": [
        "52\n",
        "_------------\n"
       ]
      },
      {
       "output_type": "stream",
       "stream": "stderr",
       "text": [
        "/Users/thor/anaconda/lib/python2.7/site-packages/bs4/dammit.py:269: UnicodeWarning: Unicode equal comparison failed to convert both arguments to Unicode - interpreting them as being unequal\n",
        "  if (len(data) >= 4) and (data[:2] == b'\\xfe\\xff') \\\n",
        "/Users/thor/anaconda/lib/python2.7/site-packages/bs4/dammit.py:273: UnicodeWarning: Unicode equal comparison failed to convert both arguments to Unicode - interpreting them as being unequal\n",
        "  elif (len(data) >= 4) and (data[:2] == b'\\xff\\xfe') \\\n",
        "/Users/thor/anaconda/lib/python2.7/site-packages/bs4/dammit.py:277: UnicodeWarning: Unicode equal comparison failed to convert both arguments to Unicode - interpreting them as being unequal\n",
        "  elif data[:3] == b'\\xef\\xbb\\xbf':\n",
        "/Users/thor/anaconda/lib/python2.7/site-packages/bs4/dammit.py:280: UnicodeWarning: Unicode equal comparison failed to convert both arguments to Unicode - interpreting them as being unequal\n",
        "  elif data[:4] == b'\\x00\\x00\\xfe\\xff':\n",
        "/Users/thor/anaconda/lib/python2.7/site-packages/bs4/dammit.py:283: UnicodeWarning: Unicode equal comparison failed to convert both arguments to Unicode - interpreting them as being unequal\n",
        "  elif data[:4] == b'\\xff\\xfe\\x00\\x00':\n"
       ]
      }
     ],
     "prompt_number": 10
    },
    {
     "cell_type": "code",
     "collapsed": false,
     "input": [
      "target_file_path = os.path.join(parse_dicts_folder, \n",
      "                                        pfile.name.replace_extension(file_list[0], '.dict_list'))"
     ],
     "language": "python",
     "metadata": {},
     "outputs": [],
     "prompt_number": 10
    },
    {
     "cell_type": "code",
     "collapsed": false,
     "input": [
      "os.path.exists(target_file_path)"
     ],
     "language": "python",
     "metadata": {},
     "outputs": [
      {
       "metadata": {},
       "output_type": "pyout",
       "prompt_number": 12,
       "text": [
        "True"
       ]
      }
     ],
     "prompt_number": 12
    },
    {
     "cell_type": "code",
     "collapsed": false,
     "input": [],
     "language": "python",
     "metadata": {},
     "outputs": []
    },
    {
     "cell_type": "code",
     "collapsed": false,
     "input": [
      "os.path.join(parse_dicts_folder, pfile.name.replace_extension(fi, '.dict_list'))"
     ],
     "language": "python",
     "metadata": {},
     "outputs": [
      {
       "metadata": {},
       "output_type": "pyout",
       "prompt_number": 23,
       "text": [
        "'/Users/thor/Google Drive/Shared/ms_otosense/parse_dicts/http{\\xc2\\xa7\\xc2\\xa7www.google.com\\xc2\\xa7search?start=1&num=100&tbm=shop&query=%22hard+of+hearing%22+%22baby+monitor%22+flash&tbs=p_ord%3Arv.dict_list'"
       ]
      }
     ],
     "prompt_number": 23
    },
    {
     "cell_type": "code",
     "collapsed": false,
     "input": [
      "target_file_path = os.path.join(parse_dicts_folder, \n",
      "                                        pfile.name.replace_extension(fi, '.dict_list'))\n",
      "pickle.dump(parse_dict, open(target_file_path,'wb'))"
     ],
     "language": "python",
     "metadata": {},
     "outputs": [],
     "prompt_number": 26
    },
    {
     "cell_type": "code",
     "collapsed": false,
     "input": [
      "w = pickle.load(open(target_file_path))\n",
      "w"
     ],
     "language": "python",
     "metadata": {},
     "outputs": [
      {
       "metadata": {},
       "output_type": "pyout",
       "prompt_number": 28,
       "text": [
        "[{'desc': u'Bundle including the CLARITY-52510 AL10 AlertMaster and the CLARITY-52512 AL12 AlertMaster CLARITY-52510:Clarity AlertMaster visual alert system Wirelessly connects to remote ...',\n",
        "  'href': '/aclk?sa=L&ai=CulpR10boUsqCDcnW-QOPxoGwC4HpwdIEuYaZ6oQB0dTVr9kBCAkQASDezc8eKAJQ-tDNwv3_____AWDJ9oKJhKSAEcgBB6oEJk_QT4fiF8XQr27jr6mAlKcqPNfoxUUjMwnIfKSZ937wqAFdYaSiwAUFoAYmgAfbgI4VkAcB4BKA79Py7L7QrbwB&sig=AOD64_39WDFFBhZSokffXFKc_jJ2MVWGeA&ctype=5&ved=0CBUQ-RIwADgB&adurl=http://rover.ebay.com/rover/1/711-117182-37290-0/2%3Fmtid%3D1588%26kwid%3D1%26crlp%3D35694479049_324272%26itemid%3D321244142392%26targetid%3D58350463569%26rpc%3D0.06%26rpc_upld_id%3D24715%26device%3Dc%26mpre%3Dhttp%253A%252F%252Fwww.ebay.com%252Fitm%252Flike%252F321244142392%253Flpid%253D82%26adtype%3Dpla',\n",
        "  'href_text': u'Clarity-52510120 Al10 Alertmaster Alert Master Al12 W/ Remote Hard ...',\n",
        "  'img_alt': 'Clarity-52510120 Al10 Alertmaster Alert Master Al12 W/ Remote <b>Hard</b> ...',\n",
        "  'img_src': 'http://t1.gstatic.com/shopping?q=tbn:ANd9GcQWvScogopDaS-VRp_NpZLe1xFemevuM657iSHjbJZWvjWE_ek4T3IUfdu7LEW3wiLQUWoV7w&usqp=CAE',\n",
        "  'psliprice_divs_html': ['<b>$178.00</b>', '<cite>eBay</cite>'],\n",
        "  'psliprice_divs_text': [u'$178.00', u'eBay']},\n",
        " {'desc': u'MSRP: $179.95 Clarity AlertMaster visual alert system with door knocker Wirelessly connects to remote accessory units (sold seperately)Bright, flashing red alert light Phone ...',\n",
        "  'href': '/aclk?sa=L&ai=CJoE_10boUsqCDcnW-QOPxoGwC4HpwdIEse7OtZMB6ZeW5OMBCAkQAiDezc8eKAJQopLv6vn_____AWDJ9oKJhKSAEcgBB6oEJk_QT4fiF8XQr27jr6mAlKcqPNfoxUUjMwnIfKSZ937wqAFdYaSiwAUFoAYmgAfbgI4VkAcB4BLw_63nxOnK2IEB&sig=AOD64_33vU9RAZghnSoJk_SaVKTSWHUcXg&ctype=5&ved=0CBgQ-RIwATgB&adurl=http://rover.ebay.com/rover/1/711-117182-37290-0/2%3Fmtid%3D1588%26kwid%3D1%26crlp%3D39615971649_324272%26itemid%3D321244138413%26targetid%3D61144927209%26rpc%3D0.06%26rpc_upld_id%3D25106%26device%3Dc%26mpre%3Dhttp%253A%252F%252Fwww.ebay.com%252Fitm%252Flike%252F321244138413%253Flpid%253D82%26adtype%3Dpla',\n",
        "  'href_text': u'Clarity-52510-100 Al10 Alertmaster W/ Door Knocker Alert Master ...',\n",
        "  'img_alt': 'Clarity-52510-100 Al10 Alertmaster W/ Door Knocker Alert Master ...',\n",
        "  'img_src': 'http://t0.gstatic.com/shopping?q=tbn:ANd9GcTIJMWJqy7Ff5ICsP07ZKUMnnaKoSt2JLY3mMsnTGk4pcSFNQW8LndLWGH6Ft-BPHVmmtDsAw&usqp=CAE',\n",
        "  'psliprice_divs_html': ['<b>$165.00</b>', '<cite>eBay</cite>'],\n",
        "  'psliprice_divs_text': [u'$165.00', u'eBay']}]"
       ]
      }
     ],
     "prompt_number": 28
    },
    {
     "cell_type": "code",
     "collapsed": false,
     "input": [],
     "language": "python",
     "metadata": {},
     "outputs": []
    },
    {
     "cell_type": "code",
     "collapsed": false,
     "input": [
      "parse_dict"
     ],
     "language": "python",
     "metadata": {},
     "outputs": [
      {
       "metadata": {},
       "output_type": "pyout",
       "prompt_number": 11,
       "text": [
        "[{'desc': u'Bundle including the CLARITY-52510 AL10 AlertMaster and the CLARITY-52512 AL12 AlertMaster CLARITY-52510:Clarity AlertMaster visual alert system Wirelessly connects to remote ...',\n",
        "  'href': '/aclk?sa=L&ai=CulpR10boUsqCDcnW-QOPxoGwC4HpwdIEuYaZ6oQB0dTVr9kBCAkQASDezc8eKAJQ-tDNwv3_____AWDJ9oKJhKSAEcgBB6oEJk_QT4fiF8XQr27jr6mAlKcqPNfoxUUjMwnIfKSZ937wqAFdYaSiwAUFoAYmgAfbgI4VkAcB4BKA79Py7L7QrbwB&sig=AOD64_39WDFFBhZSokffXFKc_jJ2MVWGeA&ctype=5&ved=0CBUQ-RIwADgB&adurl=http://rover.ebay.com/rover/1/711-117182-37290-0/2%3Fmtid%3D1588%26kwid%3D1%26crlp%3D35694479049_324272%26itemid%3D321244142392%26targetid%3D58350463569%26rpc%3D0.06%26rpc_upld_id%3D24715%26device%3Dc%26mpre%3Dhttp%253A%252F%252Fwww.ebay.com%252Fitm%252Flike%252F321244142392%253Flpid%253D82%26adtype%3Dpla',\n",
        "  'href_text': u'Clarity-52510120 Al10 Alertmaster Alert Master Al12 W/ Remote Hard ...',\n",
        "  'img_alt': 'Clarity-52510120 Al10 Alertmaster Alert Master Al12 W/ Remote <b>Hard</b> ...',\n",
        "  'img_src': 'http://t1.gstatic.com/shopping?q=tbn:ANd9GcQWvScogopDaS-VRp_NpZLe1xFemevuM657iSHjbJZWvjWE_ek4T3IUfdu7LEW3wiLQUWoV7w&usqp=CAE',\n",
        "  'psliprice_divs_html': ['<b>$178.00</b>', '<cite>eBay</cite>'],\n",
        "  'psliprice_divs_text': [u'$178.00', u'eBay']},\n",
        " {'desc': u'MSRP: $179.95 Clarity AlertMaster visual alert system with door knocker Wirelessly connects to remote accessory units (sold seperately)Bright, flashing red alert light Phone ...',\n",
        "  'href': '/aclk?sa=L&ai=CJoE_10boUsqCDcnW-QOPxoGwC4HpwdIEse7OtZMB6ZeW5OMBCAkQAiDezc8eKAJQopLv6vn_____AWDJ9oKJhKSAEcgBB6oEJk_QT4fiF8XQr27jr6mAlKcqPNfoxUUjMwnIfKSZ937wqAFdYaSiwAUFoAYmgAfbgI4VkAcB4BLw_63nxOnK2IEB&sig=AOD64_33vU9RAZghnSoJk_SaVKTSWHUcXg&ctype=5&ved=0CBgQ-RIwATgB&adurl=http://rover.ebay.com/rover/1/711-117182-37290-0/2%3Fmtid%3D1588%26kwid%3D1%26crlp%3D39615971649_324272%26itemid%3D321244138413%26targetid%3D61144927209%26rpc%3D0.06%26rpc_upld_id%3D25106%26device%3Dc%26mpre%3Dhttp%253A%252F%252Fwww.ebay.com%252Fitm%252Flike%252F321244138413%253Flpid%253D82%26adtype%3Dpla',\n",
        "  'href_text': u'Clarity-52510-100 Al10 Alertmaster W/ Door Knocker Alert Master ...',\n",
        "  'img_alt': 'Clarity-52510-100 Al10 Alertmaster W/ Door Knocker Alert Master ...',\n",
        "  'img_src': 'http://t0.gstatic.com/shopping?q=tbn:ANd9GcTIJMWJqy7Ff5ICsP07ZKUMnnaKoSt2JLY3mMsnTGk4pcSFNQW8LndLWGH6Ft-BPHVmmtDsAw&usqp=CAE',\n",
        "  'psliprice_divs_html': ['<b>$165.00</b>', '<cite>eBay</cite>'],\n",
        "  'psliprice_divs_text': [u'$165.00', u'eBay']}]"
       ]
      }
     ],
     "prompt_number": 11
    },
    {
     "cell_type": "code",
     "collapsed": false,
     "input": [],
     "language": "python",
     "metadata": {},
     "outputs": []
    },
    {
     "cell_type": "code",
     "collapsed": false,
     "input": [
      "# max_idx = 44\n",
      "# file_info_dict = [{'file':f, 'filepath':os.path.join(slurps_folder, f)} for f in file_list[:max_idx]]\n",
      "n = len(file_info_dict)\n",
      "print n\n",
      "print \"_------------\"\n",
      "for i in range(len(file_info_dict)):\n",
      "    try:\n",
      "        print \"%d\" % i\n",
      "#         pause(.7)\n",
      "        s = pfile.to.str(file_info_dict[i]['filepath'])\n",
      "        s = pstr.trans.str_to_unicode_or_bust(s)\n",
      "        file_info_dict[i]['nlis'] = len(BeautifulSoup(s).findAll('li'))\n",
      "    except:\n",
      "        pass"
     ],
     "language": "python",
     "metadata": {},
     "outputs": [
      {
       "output_type": "stream",
       "stream": "stdout",
       "text": [
        "498\n",
        "_------------\n",
        "0\n",
        "1"
       ]
      },
      {
       "output_type": "stream",
       "stream": "stdout",
       "text": [
        "\n",
        "2"
       ]
      },
      {
       "output_type": "stream",
       "stream": "stdout",
       "text": [
        "\n",
        "3"
       ]
      },
      {
       "output_type": "stream",
       "stream": "stdout",
       "text": [
        "\n",
        "4"
       ]
      },
      {
       "output_type": "stream",
       "stream": "stdout",
       "text": [
        "\n",
        "5"
       ]
      },
      {
       "output_type": "stream",
       "stream": "stdout",
       "text": [
        "\n",
        "6"
       ]
      },
      {
       "output_type": "stream",
       "stream": "stdout",
       "text": [
        "\n",
        "7"
       ]
      },
      {
       "output_type": "stream",
       "stream": "stdout",
       "text": [
        "\n",
        "8"
       ]
      },
      {
       "output_type": "stream",
       "stream": "stdout",
       "text": [
        "\n",
        "9"
       ]
      },
      {
       "output_type": "stream",
       "stream": "stdout",
       "text": [
        "\n",
        "10"
       ]
      },
      {
       "output_type": "stream",
       "stream": "stdout",
       "text": [
        "\n",
        "11"
       ]
      },
      {
       "output_type": "stream",
       "stream": "stdout",
       "text": [
        "\n",
        "12"
       ]
      },
      {
       "output_type": "stream",
       "stream": "stdout",
       "text": [
        "\n",
        "13"
       ]
      },
      {
       "output_type": "stream",
       "stream": "stdout",
       "text": [
        "\n",
        "14"
       ]
      },
      {
       "output_type": "stream",
       "stream": "stdout",
       "text": [
        "\n",
        "15"
       ]
      },
      {
       "output_type": "stream",
       "stream": "stdout",
       "text": [
        "\n",
        "16"
       ]
      },
      {
       "output_type": "stream",
       "stream": "stdout",
       "text": [
        "\n",
        "17"
       ]
      },
      {
       "output_type": "stream",
       "stream": "stdout",
       "text": [
        "\n",
        "18"
       ]
      },
      {
       "output_type": "stream",
       "stream": "stdout",
       "text": [
        "\n",
        "19"
       ]
      },
      {
       "output_type": "stream",
       "stream": "stdout",
       "text": [
        "\n",
        "20"
       ]
      },
      {
       "output_type": "stream",
       "stream": "stdout",
       "text": [
        "\n",
        "21"
       ]
      },
      {
       "output_type": "stream",
       "stream": "stdout",
       "text": [
        "\n",
        "22"
       ]
      },
      {
       "output_type": "stream",
       "stream": "stdout",
       "text": [
        "\n",
        "23"
       ]
      },
      {
       "output_type": "stream",
       "stream": "stdout",
       "text": [
        "\n",
        "24"
       ]
      },
      {
       "output_type": "stream",
       "stream": "stdout",
       "text": [
        "\n",
        "25"
       ]
      },
      {
       "output_type": "stream",
       "stream": "stdout",
       "text": [
        "\n",
        "26"
       ]
      },
      {
       "output_type": "stream",
       "stream": "stdout",
       "text": [
        "\n",
        "27"
       ]
      },
      {
       "output_type": "stream",
       "stream": "stdout",
       "text": [
        "\n",
        "28"
       ]
      },
      {
       "output_type": "stream",
       "stream": "stdout",
       "text": [
        "\n",
        "29"
       ]
      },
      {
       "output_type": "stream",
       "stream": "stdout",
       "text": [
        "\n",
        "30"
       ]
      },
      {
       "output_type": "stream",
       "stream": "stdout",
       "text": [
        "\n",
        "31"
       ]
      },
      {
       "output_type": "stream",
       "stream": "stdout",
       "text": [
        "\n",
        "32"
       ]
      },
      {
       "output_type": "stream",
       "stream": "stdout",
       "text": [
        "\n",
        "33"
       ]
      },
      {
       "output_type": "stream",
       "stream": "stdout",
       "text": [
        "\n",
        "34"
       ]
      },
      {
       "output_type": "stream",
       "stream": "stdout",
       "text": [
        "\n",
        "35"
       ]
      },
      {
       "output_type": "stream",
       "stream": "stdout",
       "text": [
        "\n",
        "36"
       ]
      },
      {
       "output_type": "stream",
       "stream": "stdout",
       "text": [
        "\n",
        "37"
       ]
      },
      {
       "output_type": "stream",
       "stream": "stdout",
       "text": [
        "\n",
        "38"
       ]
      },
      {
       "output_type": "stream",
       "stream": "stdout",
       "text": [
        "\n",
        "39"
       ]
      },
      {
       "output_type": "stream",
       "stream": "stdout",
       "text": [
        "\n",
        "40"
       ]
      },
      {
       "output_type": "stream",
       "stream": "stdout",
       "text": [
        "\n",
        "41"
       ]
      },
      {
       "output_type": "stream",
       "stream": "stdout",
       "text": [
        "\n",
        "42"
       ]
      },
      {
       "output_type": "stream",
       "stream": "stdout",
       "text": [
        "\n",
        "43"
       ]
      },
      {
       "output_type": "stream",
       "stream": "stdout",
       "text": [
        "\n",
        "44"
       ]
      },
      {
       "output_type": "stream",
       "stream": "stdout",
       "text": [
        "\n",
        "45"
       ]
      },
      {
       "output_type": "stream",
       "stream": "stdout",
       "text": [
        "\n",
        "46"
       ]
      },
      {
       "output_type": "stream",
       "stream": "stdout",
       "text": [
        "\n",
        "47"
       ]
      },
      {
       "output_type": "stream",
       "stream": "stdout",
       "text": [
        "\n",
        "48"
       ]
      },
      {
       "output_type": "stream",
       "stream": "stdout",
       "text": [
        "\n",
        "49"
       ]
      },
      {
       "output_type": "stream",
       "stream": "stdout",
       "text": [
        "\n",
        "50"
       ]
      },
      {
       "output_type": "stream",
       "stream": "stdout",
       "text": [
        "\n",
        "51"
       ]
      },
      {
       "output_type": "stream",
       "stream": "stdout",
       "text": [
        "\n",
        "52"
       ]
      },
      {
       "output_type": "stream",
       "stream": "stdout",
       "text": [
        "\n",
        "53"
       ]
      },
      {
       "output_type": "stream",
       "stream": "stdout",
       "text": [
        "\n",
        "54"
       ]
      },
      {
       "output_type": "stream",
       "stream": "stdout",
       "text": [
        "\n",
        "55"
       ]
      },
      {
       "output_type": "stream",
       "stream": "stdout",
       "text": [
        "\n",
        "56"
       ]
      },
      {
       "output_type": "stream",
       "stream": "stdout",
       "text": [
        "\n",
        "57"
       ]
      },
      {
       "output_type": "stream",
       "stream": "stdout",
       "text": [
        "\n",
        "58"
       ]
      },
      {
       "output_type": "stream",
       "stream": "stdout",
       "text": [
        "\n",
        "59"
       ]
      },
      {
       "output_type": "stream",
       "stream": "stdout",
       "text": [
        "\n",
        "60"
       ]
      },
      {
       "output_type": "stream",
       "stream": "stdout",
       "text": [
        "\n",
        "61"
       ]
      },
      {
       "output_type": "stream",
       "stream": "stdout",
       "text": [
        "\n",
        "62"
       ]
      },
      {
       "output_type": "stream",
       "stream": "stdout",
       "text": [
        "\n",
        "63"
       ]
      },
      {
       "output_type": "stream",
       "stream": "stdout",
       "text": [
        "\n",
        "64"
       ]
      },
      {
       "output_type": "stream",
       "stream": "stdout",
       "text": [
        "\n",
        "65"
       ]
      },
      {
       "output_type": "stream",
       "stream": "stdout",
       "text": [
        "\n",
        "66"
       ]
      },
      {
       "output_type": "stream",
       "stream": "stdout",
       "text": [
        "\n",
        "67"
       ]
      },
      {
       "output_type": "stream",
       "stream": "stdout",
       "text": [
        "\n",
        "68"
       ]
      },
      {
       "output_type": "stream",
       "stream": "stdout",
       "text": [
        "\n",
        "69"
       ]
      },
      {
       "output_type": "stream",
       "stream": "stdout",
       "text": [
        "\n",
        "70"
       ]
      },
      {
       "output_type": "stream",
       "stream": "stdout",
       "text": [
        "\n",
        "71"
       ]
      },
      {
       "output_type": "stream",
       "stream": "stdout",
       "text": [
        "\n",
        "72"
       ]
      },
      {
       "output_type": "stream",
       "stream": "stdout",
       "text": [
        "\n",
        "73"
       ]
      },
      {
       "output_type": "stream",
       "stream": "stdout",
       "text": [
        "\n",
        "74"
       ]
      },
      {
       "output_type": "stream",
       "stream": "stdout",
       "text": [
        "\n",
        "75"
       ]
      },
      {
       "output_type": "stream",
       "stream": "stdout",
       "text": [
        "\n",
        "76"
       ]
      },
      {
       "output_type": "stream",
       "stream": "stdout",
       "text": [
        "\n",
        "77"
       ]
      },
      {
       "output_type": "stream",
       "stream": "stdout",
       "text": [
        "\n",
        "78"
       ]
      },
      {
       "output_type": "stream",
       "stream": "stdout",
       "text": [
        "\n",
        "79"
       ]
      },
      {
       "output_type": "stream",
       "stream": "stdout",
       "text": [
        "\n",
        "80"
       ]
      },
      {
       "output_type": "stream",
       "stream": "stdout",
       "text": [
        "\n",
        "81"
       ]
      },
      {
       "output_type": "stream",
       "stream": "stdout",
       "text": [
        "\n",
        "82"
       ]
      },
      {
       "output_type": "stream",
       "stream": "stdout",
       "text": [
        "\n",
        "83"
       ]
      },
      {
       "output_type": "stream",
       "stream": "stdout",
       "text": [
        "\n",
        "84"
       ]
      },
      {
       "output_type": "stream",
       "stream": "stdout",
       "text": [
        "\n",
        "85"
       ]
      },
      {
       "output_type": "stream",
       "stream": "stdout",
       "text": [
        "\n",
        "86"
       ]
      },
      {
       "output_type": "stream",
       "stream": "stdout",
       "text": [
        "\n",
        "87"
       ]
      },
      {
       "output_type": "stream",
       "stream": "stdout",
       "text": [
        "\n",
        "88"
       ]
      },
      {
       "output_type": "stream",
       "stream": "stdout",
       "text": [
        "\n",
        "89"
       ]
      },
      {
       "output_type": "stream",
       "stream": "stdout",
       "text": [
        "\n",
        "90"
       ]
      },
      {
       "output_type": "stream",
       "stream": "stdout",
       "text": [
        "\n",
        "91"
       ]
      },
      {
       "output_type": "stream",
       "stream": "stdout",
       "text": [
        "\n",
        "92"
       ]
      },
      {
       "output_type": "stream",
       "stream": "stdout",
       "text": [
        "\n",
        "93"
       ]
      },
      {
       "output_type": "stream",
       "stream": "stdout",
       "text": [
        "\n",
        "94"
       ]
      },
      {
       "output_type": "stream",
       "stream": "stdout",
       "text": [
        "\n",
        "95"
       ]
      },
      {
       "output_type": "stream",
       "stream": "stdout",
       "text": [
        "\n",
        "96"
       ]
      },
      {
       "output_type": "stream",
       "stream": "stdout",
       "text": [
        "\n",
        "97"
       ]
      },
      {
       "output_type": "stream",
       "stream": "stdout",
       "text": [
        "\n",
        "98"
       ]
      },
      {
       "output_type": "stream",
       "stream": "stdout",
       "text": [
        "\n",
        "99"
       ]
      },
      {
       "output_type": "stream",
       "stream": "stdout",
       "text": [
        "\n",
        "100"
       ]
      },
      {
       "output_type": "stream",
       "stream": "stdout",
       "text": [
        "\n",
        "101"
       ]
      },
      {
       "output_type": "stream",
       "stream": "stdout",
       "text": [
        "\n",
        "102"
       ]
      },
      {
       "output_type": "stream",
       "stream": "stdout",
       "text": [
        "\n",
        "103"
       ]
      },
      {
       "output_type": "stream",
       "stream": "stdout",
       "text": [
        "\n",
        "104"
       ]
      },
      {
       "output_type": "stream",
       "stream": "stdout",
       "text": [
        "\n",
        "105"
       ]
      },
      {
       "output_type": "stream",
       "stream": "stdout",
       "text": [
        "\n",
        "106"
       ]
      },
      {
       "output_type": "stream",
       "stream": "stdout",
       "text": [
        "\n",
        "107"
       ]
      },
      {
       "output_type": "stream",
       "stream": "stdout",
       "text": [
        "\n",
        "108"
       ]
      },
      {
       "output_type": "stream",
       "stream": "stdout",
       "text": [
        "\n",
        "109"
       ]
      },
      {
       "output_type": "stream",
       "stream": "stdout",
       "text": [
        "\n",
        "110"
       ]
      },
      {
       "output_type": "stream",
       "stream": "stdout",
       "text": [
        "\n",
        "111"
       ]
      },
      {
       "output_type": "stream",
       "stream": "stdout",
       "text": [
        "\n",
        "112"
       ]
      },
      {
       "output_type": "stream",
       "stream": "stdout",
       "text": [
        "\n",
        "113"
       ]
      },
      {
       "output_type": "stream",
       "stream": "stdout",
       "text": [
        "\n",
        "114"
       ]
      },
      {
       "output_type": "stream",
       "stream": "stdout",
       "text": [
        "\n",
        "115"
       ]
      },
      {
       "output_type": "stream",
       "stream": "stdout",
       "text": [
        "\n",
        "116"
       ]
      },
      {
       "output_type": "stream",
       "stream": "stdout",
       "text": [
        "\n",
        "117"
       ]
      },
      {
       "output_type": "stream",
       "stream": "stdout",
       "text": [
        "\n",
        "118"
       ]
      },
      {
       "output_type": "stream",
       "stream": "stdout",
       "text": [
        "\n",
        "119"
       ]
      },
      {
       "output_type": "stream",
       "stream": "stdout",
       "text": [
        "\n",
        "120"
       ]
      },
      {
       "output_type": "stream",
       "stream": "stdout",
       "text": [
        "\n",
        "121"
       ]
      },
      {
       "output_type": "stream",
       "stream": "stdout",
       "text": [
        "\n",
        "122"
       ]
      },
      {
       "output_type": "stream",
       "stream": "stdout",
       "text": [
        "\n",
        "123"
       ]
      },
      {
       "output_type": "stream",
       "stream": "stdout",
       "text": [
        "\n",
        "124"
       ]
      },
      {
       "output_type": "stream",
       "stream": "stdout",
       "text": [
        "\n",
        "125"
       ]
      },
      {
       "output_type": "stream",
       "stream": "stdout",
       "text": [
        "\n",
        "126"
       ]
      },
      {
       "output_type": "stream",
       "stream": "stdout",
       "text": [
        "\n",
        "127"
       ]
      },
      {
       "output_type": "stream",
       "stream": "stdout",
       "text": [
        "\n",
        "128"
       ]
      },
      {
       "output_type": "stream",
       "stream": "stdout",
       "text": [
        "\n",
        "129"
       ]
      },
      {
       "output_type": "stream",
       "stream": "stdout",
       "text": [
        "\n",
        "130"
       ]
      },
      {
       "output_type": "stream",
       "stream": "stdout",
       "text": [
        "\n",
        "131"
       ]
      },
      {
       "output_type": "stream",
       "stream": "stdout",
       "text": [
        "\n",
        "132"
       ]
      },
      {
       "output_type": "stream",
       "stream": "stdout",
       "text": [
        "\n",
        "133"
       ]
      },
      {
       "output_type": "stream",
       "stream": "stdout",
       "text": [
        "\n",
        "134"
       ]
      },
      {
       "output_type": "stream",
       "stream": "stdout",
       "text": [
        "\n",
        "135"
       ]
      },
      {
       "output_type": "stream",
       "stream": "stdout",
       "text": [
        "\n",
        "136"
       ]
      },
      {
       "output_type": "stream",
       "stream": "stdout",
       "text": [
        "\n",
        "137"
       ]
      },
      {
       "output_type": "stream",
       "stream": "stdout",
       "text": [
        "\n",
        "138"
       ]
      },
      {
       "output_type": "stream",
       "stream": "stdout",
       "text": [
        "\n",
        "139"
       ]
      },
      {
       "output_type": "stream",
       "stream": "stdout",
       "text": [
        "\n",
        "140"
       ]
      },
      {
       "output_type": "stream",
       "stream": "stdout",
       "text": [
        "\n",
        "141"
       ]
      },
      {
       "output_type": "stream",
       "stream": "stdout",
       "text": [
        "\n",
        "142"
       ]
      },
      {
       "output_type": "stream",
       "stream": "stdout",
       "text": [
        "\n",
        "143"
       ]
      },
      {
       "output_type": "stream",
       "stream": "stdout",
       "text": [
        "\n",
        "144"
       ]
      },
      {
       "output_type": "stream",
       "stream": "stdout",
       "text": [
        "\n",
        "145"
       ]
      },
      {
       "output_type": "stream",
       "stream": "stdout",
       "text": [
        "\n",
        "146"
       ]
      },
      {
       "output_type": "stream",
       "stream": "stdout",
       "text": [
        "\n",
        "147"
       ]
      },
      {
       "output_type": "stream",
       "stream": "stdout",
       "text": [
        "\n",
        "148"
       ]
      },
      {
       "output_type": "stream",
       "stream": "stdout",
       "text": [
        "\n",
        "149"
       ]
      },
      {
       "output_type": "stream",
       "stream": "stdout",
       "text": [
        "\n",
        "150"
       ]
      },
      {
       "output_type": "stream",
       "stream": "stdout",
       "text": [
        "\n",
        "151"
       ]
      },
      {
       "output_type": "stream",
       "stream": "stdout",
       "text": [
        "\n",
        "152"
       ]
      },
      {
       "output_type": "stream",
       "stream": "stdout",
       "text": [
        "\n",
        "153"
       ]
      },
      {
       "output_type": "stream",
       "stream": "stdout",
       "text": [
        "\n",
        "154"
       ]
      },
      {
       "output_type": "stream",
       "stream": "stdout",
       "text": [
        "\n",
        "155"
       ]
      },
      {
       "output_type": "stream",
       "stream": "stdout",
       "text": [
        "\n",
        "156"
       ]
      },
      {
       "output_type": "stream",
       "stream": "stdout",
       "text": [
        "\n",
        "157"
       ]
      },
      {
       "output_type": "stream",
       "stream": "stdout",
       "text": [
        "\n",
        "158"
       ]
      },
      {
       "output_type": "stream",
       "stream": "stdout",
       "text": [
        "\n",
        "159"
       ]
      },
      {
       "output_type": "stream",
       "stream": "stdout",
       "text": [
        "\n",
        "160"
       ]
      },
      {
       "output_type": "stream",
       "stream": "stdout",
       "text": [
        "\n",
        "161"
       ]
      },
      {
       "output_type": "stream",
       "stream": "stdout",
       "text": [
        "\n",
        "162"
       ]
      },
      {
       "output_type": "stream",
       "stream": "stdout",
       "text": [
        "\n",
        "163"
       ]
      },
      {
       "output_type": "stream",
       "stream": "stdout",
       "text": [
        "\n",
        "164"
       ]
      },
      {
       "output_type": "stream",
       "stream": "stdout",
       "text": [
        "\n",
        "165"
       ]
      },
      {
       "output_type": "stream",
       "stream": "stdout",
       "text": [
        "\n",
        "166"
       ]
      },
      {
       "output_type": "stream",
       "stream": "stdout",
       "text": [
        "\n",
        "167"
       ]
      },
      {
       "output_type": "stream",
       "stream": "stdout",
       "text": [
        "\n",
        "168"
       ]
      },
      {
       "output_type": "stream",
       "stream": "stdout",
       "text": [
        "\n",
        "169"
       ]
      },
      {
       "output_type": "stream",
       "stream": "stdout",
       "text": [
        "\n",
        "170"
       ]
      },
      {
       "output_type": "stream",
       "stream": "stdout",
       "text": [
        "\n",
        "171"
       ]
      },
      {
       "output_type": "stream",
       "stream": "stdout",
       "text": [
        "\n",
        "172"
       ]
      },
      {
       "output_type": "stream",
       "stream": "stdout",
       "text": [
        "\n",
        "173"
       ]
      },
      {
       "output_type": "stream",
       "stream": "stdout",
       "text": [
        "\n",
        "174"
       ]
      },
      {
       "output_type": "stream",
       "stream": "stdout",
       "text": [
        "\n",
        "175"
       ]
      },
      {
       "output_type": "stream",
       "stream": "stdout",
       "text": [
        "\n",
        "176"
       ]
      },
      {
       "output_type": "stream",
       "stream": "stdout",
       "text": [
        "\n",
        "177"
       ]
      },
      {
       "output_type": "stream",
       "stream": "stdout",
       "text": [
        "\n",
        "178"
       ]
      },
      {
       "output_type": "stream",
       "stream": "stdout",
       "text": [
        "\n",
        "179"
       ]
      },
      {
       "output_type": "stream",
       "stream": "stdout",
       "text": [
        "\n",
        "180"
       ]
      },
      {
       "output_type": "stream",
       "stream": "stdout",
       "text": [
        "\n",
        "181"
       ]
      },
      {
       "output_type": "stream",
       "stream": "stdout",
       "text": [
        "\n",
        "182"
       ]
      },
      {
       "output_type": "stream",
       "stream": "stdout",
       "text": [
        "\n",
        "183"
       ]
      },
      {
       "output_type": "stream",
       "stream": "stdout",
       "text": [
        "\n",
        "184"
       ]
      },
      {
       "output_type": "stream",
       "stream": "stdout",
       "text": [
        "\n",
        "185"
       ]
      },
      {
       "output_type": "stream",
       "stream": "stdout",
       "text": [
        "\n",
        "186"
       ]
      },
      {
       "output_type": "stream",
       "stream": "stdout",
       "text": [
        "\n",
        "187"
       ]
      },
      {
       "output_type": "stream",
       "stream": "stdout",
       "text": [
        "\n",
        "188"
       ]
      },
      {
       "output_type": "stream",
       "stream": "stdout",
       "text": [
        "\n",
        "189"
       ]
      },
      {
       "output_type": "stream",
       "stream": "stdout",
       "text": [
        "\n",
        "190"
       ]
      },
      {
       "output_type": "stream",
       "stream": "stdout",
       "text": [
        "\n",
        "191"
       ]
      },
      {
       "output_type": "stream",
       "stream": "stdout",
       "text": [
        "\n",
        "192"
       ]
      },
      {
       "output_type": "stream",
       "stream": "stdout",
       "text": [
        "\n",
        "193"
       ]
      },
      {
       "output_type": "stream",
       "stream": "stdout",
       "text": [
        "\n",
        "194"
       ]
      },
      {
       "output_type": "stream",
       "stream": "stdout",
       "text": [
        "\n",
        "195"
       ]
      },
      {
       "output_type": "stream",
       "stream": "stdout",
       "text": [
        "\n",
        "196"
       ]
      },
      {
       "output_type": "stream",
       "stream": "stdout",
       "text": [
        "\n",
        "197"
       ]
      },
      {
       "output_type": "stream",
       "stream": "stdout",
       "text": [
        "\n",
        "198"
       ]
      },
      {
       "output_type": "stream",
       "stream": "stdout",
       "text": [
        "\n",
        "199"
       ]
      },
      {
       "output_type": "stream",
       "stream": "stdout",
       "text": [
        "\n",
        "200"
       ]
      },
      {
       "output_type": "stream",
       "stream": "stdout",
       "text": [
        "\n",
        "201"
       ]
      },
      {
       "output_type": "stream",
       "stream": "stdout",
       "text": [
        "\n",
        "202"
       ]
      },
      {
       "output_type": "stream",
       "stream": "stdout",
       "text": [
        "\n",
        "203"
       ]
      },
      {
       "output_type": "stream",
       "stream": "stdout",
       "text": [
        "\n",
        "204"
       ]
      },
      {
       "output_type": "stream",
       "stream": "stdout",
       "text": [
        "\n",
        "205"
       ]
      },
      {
       "output_type": "stream",
       "stream": "stdout",
       "text": [
        "\n",
        "206"
       ]
      },
      {
       "output_type": "stream",
       "stream": "stdout",
       "text": [
        "\n",
        "207"
       ]
      },
      {
       "output_type": "stream",
       "stream": "stdout",
       "text": [
        "\n",
        "208"
       ]
      },
      {
       "output_type": "stream",
       "stream": "stdout",
       "text": [
        "\n",
        "209"
       ]
      },
      {
       "output_type": "stream",
       "stream": "stdout",
       "text": [
        "\n",
        "210"
       ]
      },
      {
       "output_type": "stream",
       "stream": "stdout",
       "text": [
        "\n",
        "211"
       ]
      },
      {
       "output_type": "stream",
       "stream": "stdout",
       "text": [
        "\n",
        "212"
       ]
      },
      {
       "output_type": "stream",
       "stream": "stdout",
       "text": [
        "\n",
        "213"
       ]
      },
      {
       "output_type": "stream",
       "stream": "stdout",
       "text": [
        "\n",
        "214"
       ]
      },
      {
       "output_type": "stream",
       "stream": "stdout",
       "text": [
        "\n",
        "215"
       ]
      },
      {
       "output_type": "stream",
       "stream": "stdout",
       "text": [
        "\n",
        "216"
       ]
      },
      {
       "output_type": "stream",
       "stream": "stdout",
       "text": [
        "\n",
        "217"
       ]
      },
      {
       "output_type": "stream",
       "stream": "stdout",
       "text": [
        "\n",
        "218"
       ]
      },
      {
       "output_type": "stream",
       "stream": "stdout",
       "text": [
        "\n",
        "219"
       ]
      },
      {
       "output_type": "stream",
       "stream": "stdout",
       "text": [
        "\n",
        "220"
       ]
      },
      {
       "output_type": "stream",
       "stream": "stdout",
       "text": [
        "\n",
        "221"
       ]
      },
      {
       "output_type": "stream",
       "stream": "stdout",
       "text": [
        "\n",
        "222"
       ]
      },
      {
       "output_type": "stream",
       "stream": "stdout",
       "text": [
        "\n",
        "223"
       ]
      },
      {
       "output_type": "stream",
       "stream": "stdout",
       "text": [
        "\n",
        "224"
       ]
      },
      {
       "output_type": "stream",
       "stream": "stdout",
       "text": [
        "\n",
        "225"
       ]
      },
      {
       "output_type": "stream",
       "stream": "stdout",
       "text": [
        "\n",
        "226"
       ]
      },
      {
       "output_type": "stream",
       "stream": "stdout",
       "text": [
        "\n",
        "227"
       ]
      },
      {
       "output_type": "stream",
       "stream": "stdout",
       "text": [
        "\n",
        "228"
       ]
      },
      {
       "output_type": "stream",
       "stream": "stdout",
       "text": [
        "\n",
        "229"
       ]
      },
      {
       "output_type": "stream",
       "stream": "stdout",
       "text": [
        "\n",
        "230"
       ]
      },
      {
       "output_type": "stream",
       "stream": "stdout",
       "text": [
        "\n",
        "231"
       ]
      },
      {
       "output_type": "stream",
       "stream": "stdout",
       "text": [
        "\n",
        "232"
       ]
      },
      {
       "output_type": "stream",
       "stream": "stdout",
       "text": [
        "\n",
        "233"
       ]
      },
      {
       "output_type": "stream",
       "stream": "stdout",
       "text": [
        "\n",
        "234"
       ]
      },
      {
       "output_type": "stream",
       "stream": "stdout",
       "text": [
        "\n",
        "235"
       ]
      },
      {
       "output_type": "stream",
       "stream": "stdout",
       "text": [
        "\n",
        "236"
       ]
      },
      {
       "output_type": "stream",
       "stream": "stdout",
       "text": [
        "\n",
        "237"
       ]
      },
      {
       "output_type": "stream",
       "stream": "stdout",
       "text": [
        "\n",
        "238"
       ]
      },
      {
       "output_type": "stream",
       "stream": "stdout",
       "text": [
        "\n",
        "239"
       ]
      },
      {
       "output_type": "stream",
       "stream": "stdout",
       "text": [
        "\n",
        "240"
       ]
      },
      {
       "output_type": "stream",
       "stream": "stdout",
       "text": [
        "\n",
        "241"
       ]
      },
      {
       "output_type": "stream",
       "stream": "stdout",
       "text": [
        "\n",
        "242"
       ]
      },
      {
       "output_type": "stream",
       "stream": "stdout",
       "text": [
        "\n",
        "243"
       ]
      },
      {
       "output_type": "stream",
       "stream": "stdout",
       "text": [
        "\n",
        "244"
       ]
      },
      {
       "output_type": "stream",
       "stream": "stdout",
       "text": [
        "\n",
        "245"
       ]
      },
      {
       "output_type": "stream",
       "stream": "stdout",
       "text": [
        "\n",
        "246"
       ]
      },
      {
       "output_type": "stream",
       "stream": "stdout",
       "text": [
        "\n",
        "247"
       ]
      },
      {
       "output_type": "stream",
       "stream": "stdout",
       "text": [
        "\n",
        "248"
       ]
      },
      {
       "output_type": "stream",
       "stream": "stdout",
       "text": [
        "\n",
        "249"
       ]
      },
      {
       "output_type": "stream",
       "stream": "stdout",
       "text": [
        "\n",
        "250"
       ]
      },
      {
       "output_type": "stream",
       "stream": "stdout",
       "text": [
        "\n",
        "251"
       ]
      },
      {
       "output_type": "stream",
       "stream": "stdout",
       "text": [
        "\n",
        "252"
       ]
      },
      {
       "output_type": "stream",
       "stream": "stdout",
       "text": [
        "\n",
        "253"
       ]
      },
      {
       "output_type": "stream",
       "stream": "stdout",
       "text": [
        "\n",
        "254"
       ]
      },
      {
       "output_type": "stream",
       "stream": "stdout",
       "text": [
        "\n",
        "255"
       ]
      },
      {
       "output_type": "stream",
       "stream": "stdout",
       "text": [
        "\n",
        "256"
       ]
      },
      {
       "output_type": "stream",
       "stream": "stdout",
       "text": [
        "\n",
        "257"
       ]
      },
      {
       "output_type": "stream",
       "stream": "stdout",
       "text": [
        "\n",
        "258"
       ]
      },
      {
       "output_type": "stream",
       "stream": "stdout",
       "text": [
        "\n",
        "259"
       ]
      },
      {
       "output_type": "stream",
       "stream": "stdout",
       "text": [
        "\n",
        "260"
       ]
      },
      {
       "output_type": "stream",
       "stream": "stdout",
       "text": [
        "\n",
        "261"
       ]
      },
      {
       "output_type": "stream",
       "stream": "stdout",
       "text": [
        "\n",
        "262"
       ]
      },
      {
       "output_type": "stream",
       "stream": "stdout",
       "text": [
        "\n",
        "263"
       ]
      },
      {
       "output_type": "stream",
       "stream": "stdout",
       "text": [
        "\n",
        "264"
       ]
      },
      {
       "output_type": "stream",
       "stream": "stdout",
       "text": [
        "\n",
        "265"
       ]
      },
      {
       "output_type": "stream",
       "stream": "stdout",
       "text": [
        "\n",
        "266"
       ]
      },
      {
       "output_type": "stream",
       "stream": "stdout",
       "text": [
        "\n",
        "267"
       ]
      },
      {
       "output_type": "stream",
       "stream": "stdout",
       "text": [
        "\n",
        "268"
       ]
      },
      {
       "output_type": "stream",
       "stream": "stdout",
       "text": [
        "\n",
        "269"
       ]
      },
      {
       "output_type": "stream",
       "stream": "stdout",
       "text": [
        "\n",
        "270"
       ]
      },
      {
       "output_type": "stream",
       "stream": "stdout",
       "text": [
        "\n",
        "271"
       ]
      },
      {
       "output_type": "stream",
       "stream": "stdout",
       "text": [
        "\n",
        "272"
       ]
      },
      {
       "output_type": "stream",
       "stream": "stdout",
       "text": [
        "\n",
        "273"
       ]
      },
      {
       "output_type": "stream",
       "stream": "stdout",
       "text": [
        "\n",
        "274"
       ]
      },
      {
       "output_type": "stream",
       "stream": "stdout",
       "text": [
        "\n",
        "275"
       ]
      },
      {
       "output_type": "stream",
       "stream": "stdout",
       "text": [
        "\n",
        "276"
       ]
      },
      {
       "output_type": "stream",
       "stream": "stdout",
       "text": [
        "\n",
        "277"
       ]
      }
     ],
     "prompt_number": "*"
    },
    {
     "cell_type": "code",
     "collapsed": false,
     "input": [
      "file_info_dict = [d for d in file_info_dict if d['nlis']!=0]\n",
      "len(file_info_dict)"
     ],
     "language": "python",
     "metadata": {},
     "outputs": [
      {
       "metadata": {},
       "output_type": "pyout",
       "prompt_number": 14,
       "text": [
        "22"
       ]
      }
     ],
     "prompt_number": 14
    },
    {
     "cell_type": "code",
     "collapsed": false,
     "input": [],
     "language": "python",
     "metadata": {},
     "outputs": []
    },
    {
     "cell_type": "code",
     "collapsed": false,
     "input": [
      "parse.util.open_in_firefox(file_info_dict[i]['filepath'])"
     ],
     "language": "python",
     "metadata": {},
     "outputs": [
      {
       "output_type": "stream",
       "stream": "stdout",
       "text": [
        "opening /Users/thor/Google Drive/Shared/ms_otosense/slurps/http{\u00a7\u00a7www.google.com\u00a7search?start=1&num=100&tbm=shop&query=%22hard+of+hearing%22+%22baby+monitor%22+flash&tbs=p_ord%3Arv.html\n"
       ]
      }
     ],
     "prompt_number": 19
    },
    {
     "cell_type": "code",
     "collapsed": false,
     "input": [
      "n = len(file_info_dict)\n",
      "print \"parsing %d files\" % n\n",
      "for i in range(n):\n",
      "    html = pfile.to.str(file_info_dict[i]['filepath'])\n",
      "    html = pstr.trans.str_to_unicode_or_bust(html)\n",
      "    b = BeautifulSoup(html)\n",
      "    file_info_dict[i]['parse_dict'] = parse_gshop(b)"
     ],
     "language": "python",
     "metadata": {},
     "outputs": [
      {
       "output_type": "stream",
       "stream": "stdout",
       "text": [
        "parsing 22 files\n"
       ]
      }
     ],
     "prompt_number": 135
    },
    {
     "cell_type": "code",
     "collapsed": false,
     "input": [
      "x = [xx['parse_dict'] for xx in file_info_dict]\n",
      "x_num_of_items = [len(xi) for xi in x]\n",
      "print x_num_of_items"
     ],
     "language": "python",
     "metadata": {},
     "outputs": [
      {
       "output_type": "stream",
       "stream": "stdout",
       "text": [
        "[2, 0, 1, 0, 10, 1, 26, 18, 25, 25, 8, 21, 16, 15, 29, 10, 31, 30, 34, 33, 0, 1]\n"
       ]
      }
     ],
     "prompt_number": 136
    },
    {
     "cell_type": "code",
     "collapsed": false,
     "input": [
      "result_idx = 1\n",
      "item_idx = 0\n",
      "result = file_info_dict[result_idx]\n",
      "parsed_result = result['parse_dict']\n",
      "print result['file']\n",
      "print '------------------------'\n",
      "if item_idx < len(parsed_result):\n",
      "    ppr.pprint(parsed_result[item_idx])\n",
      "else:\n",
      "    print \"there's only %d items in that file\" % len(parsed_result)"
     ],
     "language": "python",
     "metadata": {},
     "outputs": [
      {
       "output_type": "stream",
       "stream": "stdout",
       "text": [
        "http{\u00a7\u00a7www.google.com\u00a7search?start=1&num=100&tbm=shop&query=%22hard+of+hearing%22+%22baby+monitor%22+vibrate&tbs=p_ord%3Arv.html\n",
        "------------------------\n",
        "there's only 0 items in that file\n"
       ]
      }
     ],
     "prompt_number": 139
    },
    {
     "cell_type": "code",
     "collapsed": false,
     "input": [
      "parse.util.open_in_firefox(file_info_dict[result_idx]['filepath'])"
     ],
     "language": "python",
     "metadata": {},
     "outputs": [
      {
       "output_type": "stream",
       "stream": "stdout",
       "text": [
        "opening /Users/thor/Google Drive/Shared/ms_otosense/slurps/http{\u00a7\u00a7www.google.com\u00a7search?start=1&num=100&tbm=shop&query=%22hard+of+hearing%22+%22baby+monitor%22+vibrate&tbs=p_ord%3Arv.html\n"
       ]
      }
     ],
     "prompt_number": 140
    },
    {
     "cell_type": "code",
     "collapsed": false,
     "input": [
      "parse.util.open_in_firefox(file_info_dict[1]['filepath'])"
     ],
     "language": "python",
     "metadata": {},
     "outputs": []
    },
    {
     "cell_type": "code",
     "collapsed": false,
     "input": [
      "parse.util.open_in_firefox(file_info_dict[3]['filepath'])"
     ],
     "language": "python",
     "metadata": {},
     "outputs": [
      {
       "output_type": "stream",
       "stream": "stdout",
       "text": [
        "opening /Users/thor/Google Drive/Shared/ms_otosense/slurps/http{\u00a7\u00a7www.google.com\u00a7search?start=1&num=100&tbm=shop&query=%22hard+of+hearing%22+%22fire+alarm%22+vibrating&tbs=p_ord%3Arv.html\n"
       ]
      }
     ],
     "prompt_number": 141
    },
    {
     "cell_type": "code",
     "collapsed": false,
     "input": [
      "parse.util.open_in_firefox(file_info_dict[-2]['filepath'])"
     ],
     "language": "python",
     "metadata": {},
     "outputs": [
      {
       "output_type": "stream",
       "stream": "stdout",
       "text": [
        "opening /Users/thor/Google Drive/Shared/ms_otosense/slurps/http{\u00a7\u00a7www.google.com\u00a7search?start=1&num=100&tbm=shop&query=%22hearing+impairment%22+%22baby+monitor%22+vibrate&tbs=p_ord%3Arv.html\n"
       ]
      }
     ],
     "prompt_number": 142
    },
    {
     "cell_type": "code",
     "collapsed": false,
     "input": [
      "peep_in_results(file_info_dict, 4, 4);\n"
     ],
     "language": "python",
     "metadata": {},
     "outputs": [
      {
       "output_type": "stream",
       "stream": "stdout",
       "text": [
        "http{\u00a7\u00a7www.google.com\u00a7search?start=1&num=100&tbm=shop&query=%22hard+of+hearing%22+%22smoke+alarm%22+flashing&tbs=p_ord%3Arv.html\n",
        "------------------------\n",
        "{   'desc': u'',\n",
        "    'href': '/aclk?sa=l&ai=CLVeB7EjoUoGjH-X3iQLCxYGICKa_gcAFnueiv2fm9NaxXAgJEAQg3s3PHigHUMzK4_ADYMnOkomIpIQQoAHCvIfhA8gBB6oEI0_QrQZFHKeFX2wASgO7qbSGwy9UC-Ut14twO3zsE9dm3o2MwAUFoAYmgAemw_gekAcB4BKLu6LYwubi564B&sig=AOD64_2NZ0urkdE5IjFKaQbMYhb9I2rC4g&ctype=5&ved=0CDAQ-RIwBDgB&adurl=http://www.electricbargainstores.com/product-p/first-alert-sa100b.htm',\n",
        "    'href_text': u'First Alert BRK SA100B 120V AC Hardwired Ionization Smoke Alarm ...',\n",
        "    'img_alt': 'First Alert BRK SA100B 120V AC Hardwired Ionization <b>Smoke Alarm</b> ...',\n",
        "    'img_src': 'http://t2.gstatic.com/shopping?q=tbn:ANd9GcTXKLvlO7GdcPnoFD67D_GxZXFMjHi-4rPZ2E5GgT95n-mg3lsZ&usqp=CAE',\n",
        "    'psliprice_divs_html': [   '<b>$6.88</b>',\n",
        "                               '<cite>Electric Bargain Store</cite>'],\n",
        "    'psliprice_divs_text': [u'$6.88', u'Electric Bargain Store']}\n"
       ]
      }
     ],
     "prompt_number": 137
    },
    {
     "cell_type": "code",
     "collapsed": false,
     "input": [
      "peep_in_results(file_info_dict, 4, 6);"
     ],
     "language": "python",
     "metadata": {},
     "outputs": [
      {
       "output_type": "stream",
       "stream": "stdout",
       "text": [
        "http{\u00a7\u00a7www.google.com\u00a7search?start=1&num=100&tbm=shop&query=%22hard+of+hearing%22+%22smoke+alarm%22+flashing&tbs=p_ord%3Arv.html\n",
        "------------------------\n",
        "{   'desc': u'A 120V AC Wire In Alarm with Battery Backup provides worry free protection for you and your family It can be interconnected with up to 24 alarms we recommend using connecting ...',\n",
        "    'href': u'Kidde Combination Smoke and Carbon Monoxide Alarm with Battery Backup',\n",
        "    'img_alt': 'Kidde Combination Smoke and Carbon Monoxide Alarm with Battery Backup',\n",
        "    'img_src': 'http://t2.gstatic.com/shopping?q=tbn:ANd9GcR-j4W7gGXg90c7NKsuZp6Uj3kZCWhf1IAiQjRf5XXtPiyHd4Hb5QPoAjAgKPyMcMURRAJpTQ&usqp=CAE',\n",
        "    'psliprice_divs_html': ['<b>$81.95</b>', '<cite>Maxi-Aids</cite>'],\n",
        "    'psliprice_divs_text': [u'$81.95', u'Maxi-Aids']}\n"
       ]
      }
     ],
     "prompt_number": 125
    },
    {
     "cell_type": "code",
     "collapsed": false,
     "input": [
      "import pprint"
     ],
     "language": "python",
     "metadata": {},
     "outputs": [],
     "prompt_number": 113
    },
    {
     "cell_type": "code",
     "collapsed": false,
     "input": [],
     "language": "python",
     "metadata": {},
     "outputs": []
    },
    {
     "cell_type": "code",
     "collapsed": false,
     "input": [],
     "language": "python",
     "metadata": {},
     "outputs": []
    },
    {
     "cell_type": "code",
     "collapsed": false,
     "input": [
      "i = 0\n",
      "html = pfile.to.str(file_info_dict[i]['filepath'])\n",
      "html = pstr.trans.str_to_unicode_or_bust(html)\n",
      "b = BeautifulSoup(html)"
     ],
     "language": "python",
     "metadata": {},
     "outputs": [],
     "prompt_number": 17
    },
    {
     "cell_type": "code",
     "collapsed": false,
     "input": [],
     "language": "python",
     "metadata": {},
     "outputs": []
    },
    {
     "cell_type": "code",
     "collapsed": false,
     "input": [
      "parse_gshop(b)"
     ],
     "language": "python",
     "metadata": {},
     "outputs": [
      {
       "metadata": {},
       "output_type": "pyout",
       "prompt_number": 89,
       "text": [
        "[{'desc': u'Bundle including the CLARITY-52510 AL10 AlertMaster and the CLARITY-52512 AL12 AlertMaster CLARITY-52510:Clarity AlertMaster visual alert system Wirelessly connects to remote ...',\n",
        "  'href': u'Clarity-52510120 Al10 Alertmaster Alert Master Al12 W/ Remote Hard ...',\n",
        "  'img_alt': 'Clarity-52510120 Al10 Alertmaster Alert Master Al12 W/ Remote <b>Hard</b> ...',\n",
        "  'img_src': 'http://t1.gstatic.com/shopping?q=tbn:ANd9GcQWvScogopDaS-VRp_NpZLe1xFemevuM657iSHjbJZWvjWE_ek4T3IUfdu7LEW3wiLQUWoV7w&usqp=CAE',\n",
        "  'psliprice_divs_html': ['<b>$178.00</b>', '<cite>eBay</cite>'],\n",
        "  'psliprice_divs_text': [u'$178.00', u'eBay']},\n",
        " {'desc': u'MSRP: $179.95 Clarity AlertMaster visual alert system with door knocker Wirelessly connects to remote accessory units (sold seperately)Bright, flashing red alert light Phone ...',\n",
        "  'href': u'Clarity-52510-100 Al10 Alertmaster W/ Door Knocker Alert Master ...',\n",
        "  'img_alt': 'Clarity-52510-100 Al10 Alertmaster W/ Door Knocker Alert Master ...',\n",
        "  'img_src': 'http://t0.gstatic.com/shopping?q=tbn:ANd9GcTIJMWJqy7Ff5ICsP07ZKUMnnaKoSt2JLY3mMsnTGk4pcSFNQW8LndLWGH6Ft-BPHVmmtDsAw&usqp=CAE',\n",
        "  'psliprice_divs_html': ['<b>$165.00</b>', '<cite>eBay</cite>'],\n",
        "  'psliprice_divs_text': [u'$165.00', u'eBay']}]"
       ]
      }
     ],
     "prompt_number": 89
    },
    {
     "cell_type": "code",
     "collapsed": false,
     "input": [
      "t = items[0]\n",
      "t"
     ],
     "language": "python",
     "metadata": {},
     "outputs": [
      {
       "metadata": {},
       "output_type": "pyout",
       "prompt_number": 43,
       "text": [
        "<li class=\"g\"><div class=\"pslires\"><div class=\"psliimg\"><a href=\"/aclk?sa=L&amp;ai=CulpR10boUsqCDcnW-QOPxoGwC4HpwdIEuYaZ6oQB0dTVr9kBCAkQASDezc8eKAJQ-tDNwv3_____AWDJ9oKJhKSAEcgBB6oEJk_QT4fiF8XQr27jr6mAlKcqPNfoxUUjMwnIfKSZ937wqAFdYaSiwAUFoAYmgAfbgI4VkAcB4BKA79Py7L7QrbwB&amp;sig=AOD64_39WDFFBhZSokffXFKc_jJ2MVWGeA&amp;ctype=5&amp;ved=0CBQQ-hIwADgB&amp;adurl=http://rover.ebay.com/rover/1/711-117182-37290-0/2%3Fmtid%3D1588%26kwid%3D1%26crlp%3D35694479049_324272%26itemid%3D321244142392%26targetid%3D58350463569%26rpc%3D0.06%26rpc_upld_id%3D24715%26device%3Dc%26mpre%3Dhttp%253A%252F%252Fwww.ebay.com%252Fitm%252Flike%252F321244142392%253Flpid%253D82%26adtype%3Dpla\"><img alt=\"Clarity-52510120 Al10 Alertmaster Alert Master Al12 W/ Remote &lt;b&gt;Hard&lt;/b&gt; ...\" src=\"http://t1.gstatic.com/shopping?q=tbn:ANd9GcQWvScogopDaS-VRp_NpZLe1xFemevuM657iSHjbJZWvjWE_ek4T3IUfdu7LEW3wiLQUWoV7w&amp;usqp=CAE\"/></a></div><div class=\"psliprice\"><div><b>$178.00</b></div><div><cite>eBay</cite></div></div><div class=\"pslimain\"><h3 class=\"r\"><a href=\"/aclk?sa=L&amp;ai=CulpR10boUsqCDcnW-QOPxoGwC4HpwdIEuYaZ6oQB0dTVr9kBCAkQASDezc8eKAJQ-tDNwv3_____AWDJ9oKJhKSAEcgBB6oEJk_QT4fiF8XQr27jr6mAlKcqPNfoxUUjMwnIfKSZ937wqAFdYaSiwAUFoAYmgAfbgI4VkAcB4BKA79Py7L7QrbwB&amp;sig=AOD64_39WDFFBhZSokffXFKc_jJ2MVWGeA&amp;ctype=5&amp;ved=0CBUQ-RIwADgB&amp;adurl=http://rover.ebay.com/rover/1/711-117182-37290-0/2%3Fmtid%3D1588%26kwid%3D1%26crlp%3D35694479049_324272%26itemid%3D321244142392%26targetid%3D58350463569%26rpc%3D0.06%26rpc_upld_id%3D24715%26device%3Dc%26mpre%3Dhttp%253A%252F%252Fwww.ebay.com%252Fitm%252Flike%252F321244142392%253Flpid%253D82%26adtype%3Dpla\">Clarity-52510120 Al10 Alertmaster Alert Master Al12 W/ Remote <b>Hard</b> ...</a></h3><div>Bundle including the CLARITY-52510 AL10 AlertMaster and the CLARITY-52512 AL12 AlertMaster CLARITY-52510:Clarity AlertMaster visual alert system Wirelessly connects to remote ...</div></div><div style=\"clear:both\"></div></div></li>"
       ]
      }
     ],
     "prompt_number": 43
    },
    {
     "cell_type": "code",
     "collapsed": false,
     "input": [
      "parse.util.open_html_in_firefox(t.renderContents())"
     ],
     "language": "python",
     "metadata": {},
     "outputs": [
      {
       "output_type": "stream",
       "stream": "stdout",
       "text": [
        "opening tmp_open_html_in_firefox.html\n"
       ]
      }
     ],
     "prompt_number": 44
    },
    {
     "cell_type": "code",
     "collapsed": false,
     "input": [
      "tt = t.find('div', attrs={'class':'psliimg'})\n",
      "tt"
     ],
     "language": "python",
     "metadata": {},
     "outputs": [
      {
       "metadata": {},
       "output_type": "pyout",
       "prompt_number": 45,
       "text": [
        "<div class=\"psliimg\"><a href=\"/aclk?sa=L&amp;ai=CulpR10boUsqCDcnW-QOPxoGwC4HpwdIEuYaZ6oQB0dTVr9kBCAkQASDezc8eKAJQ-tDNwv3_____AWDJ9oKJhKSAEcgBB6oEJk_QT4fiF8XQr27jr6mAlKcqPNfoxUUjMwnIfKSZ937wqAFdYaSiwAUFoAYmgAfbgI4VkAcB4BKA79Py7L7QrbwB&amp;sig=AOD64_39WDFFBhZSokffXFKc_jJ2MVWGeA&amp;ctype=5&amp;ved=0CBQQ-hIwADgB&amp;adurl=http://rover.ebay.com/rover/1/711-117182-37290-0/2%3Fmtid%3D1588%26kwid%3D1%26crlp%3D35694479049_324272%26itemid%3D321244142392%26targetid%3D58350463569%26rpc%3D0.06%26rpc_upld_id%3D24715%26device%3Dc%26mpre%3Dhttp%253A%252F%252Fwww.ebay.com%252Fitm%252Flike%252F321244142392%253Flpid%253D82%26adtype%3Dpla\"><img alt=\"Clarity-52510120 Al10 Alertmaster Alert Master Al12 W/ Remote &lt;b&gt;Hard&lt;/b&gt; ...\" src=\"http://t1.gstatic.com/shopping?q=tbn:ANd9GcQWvScogopDaS-VRp_NpZLe1xFemevuM657iSHjbJZWvjWE_ek4T3IUfdu7LEW3wiLQUWoV7w&amp;usqp=CAE\"/></a></div>"
       ]
      }
     ],
     "prompt_number": 45
    },
    {
     "cell_type": "code",
     "collapsed": false,
     "input": [
      "ttt.find('img').get('alt')\n",
      "ttt.find('img').get('src')"
     ],
     "language": "python",
     "metadata": {},
     "outputs": [
      {
       "metadata": {},
       "output_type": "pyout",
       "prompt_number": 40,
       "text": [
        "'http://t1.gstatic.com/shopping?q=tbn:ANd9GcQWvScogopDaS-VRp_NpZLe1xFemevuM657iSHjbJZWvjWE_ek4T3IUfdu7LEW3wiLQUWoV7w&usqp=CAE'"
       ]
      }
     ],
     "prompt_number": 40
    },
    {
     "cell_type": "code",
     "collapsed": false,
     "input": [
      "ttt.find('img').get('aasdf')"
     ],
     "language": "python",
     "metadata": {},
     "outputs": [],
     "prompt_number": 47
    },
    {
     "cell_type": "code",
     "collapsed": false,
     "input": [
      "parse.util.open_html_in_firefox(ttt)"
     ],
     "language": "python",
     "metadata": {},
     "outputs": [
      {
       "output_type": "stream",
       "stream": "stdout",
       "text": [
        "opening tmp_open_html_in_firefox.html\n"
       ]
      }
     ],
     "prompt_number": 35
    },
    {
     "cell_type": "code",
     "collapsed": false,
     "input": [],
     "language": "python",
     "metadata": {},
     "outputs": [],
     "prompt_number": 34
    },
    {
     "cell_type": "code",
     "collapsed": false,
     "input": [],
     "language": "python",
     "metadata": {},
     "outputs": [
      {
       "metadata": {},
       "output_type": "pyout",
       "prompt_number": 51,
       "text": [
        "{'img_alt': 'Clarity-52510120 Al10 Alertmaster Alert Master Al12 W/ Remote <b>Hard</b> ...',\n",
        " 'img_src': 'http://t1.gstatic.com/shopping?q=tbn:ANd9GcQWvScogopDaS-VRp_NpZLe1xFemevuM657iSHjbJZWvjWE_ek4T3IUfdu7LEW3wiLQUWoV7w&usqp=CAE'}"
       ]
      }
     ],
     "prompt_number": 51
    },
    {
     "cell_type": "code",
     "collapsed": false,
     "input": [
      "def parse_gshop_item(t):\n",
      "    parse_dict = dict()\n",
      "    # psliimg section\n",
      "    tt = t.find('div', attrs={'class':'psliimg'})\n",
      "    if tt:\n",
      "        ttt = tt.find('img')\n",
      "        x = ttt.get('alt')\n",
      "        if x:\n",
      "            parse_dict['img_alt'] = x\n",
      "        x = ttt.get('src')\n",
      "        if x:\n",
      "            parse_dict['img_src'] = x\n",
      "    # psliprice section\n",
      "    tt = t.find('div', attrs={'class':'psliprice'})\n",
      "    if tt:\n",
      "        parse_dict['psliprice_divs_html'] = [x.renderContents() for x in tt.findAll('div')]\n",
      "        parse_dict['psliprice_divs_text'] = [x.get_text() for x in tt.findAll('div')]\n",
      "    # pslimain section\n",
      "    tt = t.find('div', attrs={'class':'pslimain'})\n",
      "    if tt:\n",
      "        # title\n",
      "        ttt = tt.find('h3')\n",
      "        if ttt:\n",
      "            x = ttt.find('a')\n",
      "            parse_dict['href'] = x['href']\n",
      "            parse_dict['href'] = x.get_text()\n",
      "        # description\n",
      "        ttt = tt.find('div')\n",
      "        if ttt:\n",
      "            parse_dict['desc'] = ttt.get_text()\n",
      "    return parse_dict"
     ],
     "language": "python",
     "metadata": {},
     "outputs": [],
     "prompt_number": 85
    },
    {
     "cell_type": "code",
     "collapsed": false,
     "input": [
      "w = parse_gshop_item(t)\n",
      "w"
     ],
     "language": "python",
     "metadata": {},
     "outputs": [
      {
       "metadata": {},
       "output_type": "pyout",
       "prompt_number": 86,
       "text": [
        "{'desc': u'Bundle including the CLARITY-52510 AL10 AlertMaster and the CLARITY-52512 AL12 AlertMaster CLARITY-52510:Clarity AlertMaster visual alert system Wirelessly connects to remote ...',\n",
        " 'href': u'Clarity-52510120 Al10 Alertmaster Alert Master Al12 W/ Remote Hard ...',\n",
        " 'img_alt': 'Clarity-52510120 Al10 Alertmaster Alert Master Al12 W/ Remote <b>Hard</b> ...',\n",
        " 'img_src': 'http://t1.gstatic.com/shopping?q=tbn:ANd9GcQWvScogopDaS-VRp_NpZLe1xFemevuM657iSHjbJZWvjWE_ek4T3IUfdu7LEW3wiLQUWoV7w&usqp=CAE',\n",
        " 'psliprice_divs_html': ['<b>$178.00</b>', '<cite>eBay</cite>'],\n",
        " 'psliprice_divs_text': [u'$178.00', u'eBay']}"
       ]
      }
     ],
     "prompt_number": 86
    },
    {
     "cell_type": "code",
     "collapsed": false,
     "input": [],
     "language": "python",
     "metadata": {},
     "outputs": []
    },
    {
     "cell_type": "code",
     "collapsed": false,
     "input": [
      "tt = t.find('div', attrs={'class':'pslimain'}).find('a')\n",
      "print tt['href']\n",
      "print tt.get_text()"
     ],
     "language": "python",
     "metadata": {},
     "outputs": [
      {
       "output_type": "stream",
       "stream": "stdout",
       "text": [
        "/aclk?sa=L&ai=CulpR10boUsqCDcnW-QOPxoGwC4HpwdIEuYaZ6oQB0dTVr9kBCAkQASDezc8eKAJQ-tDNwv3_____AWDJ9oKJhKSAEcgBB6oEJk_QT4fiF8XQr27jr6mAlKcqPNfoxUUjMwnIfKSZ937wqAFdYaSiwAUFoAYmgAfbgI4VkAcB4BKA79Py7L7QrbwB&sig=AOD64_39WDFFBhZSokffXFKc_jJ2MVWGeA&ctype=5&ved=0CBUQ-RIwADgB&adurl=http://rover.ebay.com/rover/1/711-117182-37290-0/2%3Fmtid%3D1588%26kwid%3D1%26crlp%3D35694479049_324272%26itemid%3D321244142392%26targetid%3D58350463569%26rpc%3D0.06%26rpc_upld_id%3D24715%26device%3Dc%26mpre%3Dhttp%253A%252F%252Fwww.ebay.com%252Fitm%252Flike%252F321244142392%253Flpid%253D82%26adtype%3Dpla\n",
        "Clarity-52510120 Al10 Alertmaster Alert Master Al12 W/ Remote Hard ...\n"
       ]
      }
     ],
     "prompt_number": 84
    },
    {
     "cell_type": "code",
     "collapsed": false,
     "input": [
      "print tt['href']\n",
      "print tt.get_text()"
     ],
     "language": "python",
     "metadata": {},
     "outputs": [
      {
       "output_type": "stream",
       "stream": "stdout",
       "text": [
        "/aclk?sa=L&ai=CulpR10boUsqCDcnW-QOPxoGwC4HpwdIEuYaZ6oQB0dTVr9kBCAkQASDezc8eKAJQ-tDNwv3_____AWDJ9oKJhKSAEcgBB6oEJk_QT4fiF8XQr27jr6mAlKcqPNfoxUUjMwnIfKSZ937wqAFdYaSiwAUFoAYmgAfbgI4VkAcB4BKA79Py7L7QrbwB&sig=AOD64_39WDFFBhZSokffXFKc_jJ2MVWGeA&ctype=5&ved=0CBUQ-RIwADgB&adurl=http://rover.ebay.com/rover/1/711-117182-37290-0/2%3Fmtid%3D1588%26kwid%3D1%26crlp%3D35694479049_324272%26itemid%3D321244142392%26targetid%3D58350463569%26rpc%3D0.06%26rpc_upld_id%3D24715%26device%3Dc%26mpre%3Dhttp%253A%252F%252Fwww.ebay.com%252Fitm%252Flike%252F321244142392%253Flpid%253D82%26adtype%3Dpla\n",
        "Clarity-52510120 Al10 Alertmaster Alert Master Al12 W/ Remote Hard ...\n"
       ]
      }
     ],
     "prompt_number": 83
    },
    {
     "cell_type": "code",
     "collapsed": false,
     "input": [
      "tt = t.find('div', attrs={'class':'pslimain'}).find('h3').find('a')"
     ],
     "language": "python",
     "metadata": {},
     "outputs": [],
     "prompt_number": 74
    },
    {
     "cell_type": "code",
     "collapsed": false,
     "input": [
      "tt['href']"
     ],
     "language": "python",
     "metadata": {},
     "outputs": [
      {
       "metadata": {},
       "output_type": "pyout",
       "prompt_number": 72,
       "text": [
        "'/aclk?sa=L&ai=CulpR10boUsqCDcnW-QOPxoGwC4HpwdIEuYaZ6oQB0dTVr9kBCAkQASDezc8eKAJQ-tDNwv3_____AWDJ9oKJhKSAEcgBB6oEJk_QT4fiF8XQr27jr6mAlKcqPNfoxUUjMwnIfKSZ937wqAFdYaSiwAUFoAYmgAfbgI4VkAcB4BKA79Py7L7QrbwB&sig=AOD64_39WDFFBhZSokffXFKc_jJ2MVWGeA&ctype=5&ved=0CBUQ-RIwADgB&adurl=http://rover.ebay.com/rover/1/711-117182-37290-0/2%3Fmtid%3D1588%26kwid%3D1%26crlp%3D35694479049_324272%26itemid%3D321244142392%26targetid%3D58350463569%26rpc%3D0.06%26rpc_upld_id%3D24715%26device%3Dc%26mpre%3Dhttp%253A%252F%252Fwww.ebay.com%252Fitm%252Flike%252F321244142392%253Flpid%253D82%26adtype%3Dpla'"
       ]
      }
     ],
     "prompt_number": 72
    },
    {
     "cell_type": "code",
     "collapsed": false,
     "input": [
      "[x for x in tt.children]"
     ],
     "language": "python",
     "metadata": {},
     "outputs": [
      {
       "metadata": {},
       "output_type": "pyout",
       "prompt_number": 64,
       "text": [
        "[<h3 class=\"r\"><a href=\"/aclk?sa=L&amp;ai=CulpR10boUsqCDcnW-QOPxoGwC4HpwdIEuYaZ6oQB0dTVr9kBCAkQASDezc8eKAJQ-tDNwv3_____AWDJ9oKJhKSAEcgBB6oEJk_QT4fiF8XQr27jr6mAlKcqPNfoxUUjMwnIfKSZ937wqAFdYaSiwAUFoAYmgAfbgI4VkAcB4BKA79Py7L7QrbwB&amp;sig=AOD64_39WDFFBhZSokffXFKc_jJ2MVWGeA&amp;ctype=5&amp;ved=0CBUQ-RIwADgB&amp;adurl=http://rover.ebay.com/rover/1/711-117182-37290-0/2%3Fmtid%3D1588%26kwid%3D1%26crlp%3D35694479049_324272%26itemid%3D321244142392%26targetid%3D58350463569%26rpc%3D0.06%26rpc_upld_id%3D24715%26device%3Dc%26mpre%3Dhttp%253A%252F%252Fwww.ebay.com%252Fitm%252Flike%252F321244142392%253Flpid%253D82%26adtype%3Dpla\">Clarity-52510120 Al10 Alertmaster Alert Master Al12 W/ Remote <b>Hard</b> ...</a></h3>,\n",
        " <div>Bundle including the CLARITY-52510 AL10 AlertMaster and the CLARITY-52512 AL12 AlertMaster CLARITY-52510:Clarity AlertMaster visual alert system Wirelessly connects to remote ...</div>]"
       ]
      }
     ],
     "prompt_number": 64
    },
    {
     "cell_type": "code",
     "collapsed": false,
     "input": [
      "urlparse.parse_qs('www.google.com/aclk?sa=L&ai=CulpR10boUsqCDcnW-QOPxoGwC4HpwdIEuYaZ6oQB0dTVr9kBCAkQASDezc8eKAJQ-tDNwv3_____AWDJ9oKJhKSAEcgBB6oEJk_QT4fiF8XQr27jr6mAlKcqPNfoxUUjMwnIfKSZ937wqAFdYaSiwAUFoAYmgAfbgI4VkAcB4BKA79Py7L7QrbwB&sig=AOD64_39WDFFBhZSokffXFKc_jJ2MVWGeA&ctype=5&ved=0CBUQ-RIwADgB&adurl=http://rover.ebay.com/rover/1/711-117182-37290-0/2%3Fmtid%3D1588%26kwid%3D1%26crlp%3D35694479049_324272%26itemid%3D321244142392%26targetid%3D58350463569%26rpc%3D0.06%26rpc_upld_id%3D24715%26device%3Dc%26mpre%3Dhttp%253A%252F%252Fwww.ebay.com%252Fitm%252Flike%252F321244142392%253Flpid%253D82%26adtype%3Dpla')"
     ],
     "language": "python",
     "metadata": {},
     "outputs": [
      {
       "metadata": {},
       "output_type": "pyout",
       "prompt_number": 58,
       "text": [
        "{'adurl': ['http://rover.ebay.com/rover/1/711-117182-37290-0/2?mtid=1588&kwid=1&crlp=35694479049_324272&itemid=321244142392&targetid=58350463569&rpc=0.06&rpc_upld_id=24715&device=c&mpre=http%3A%2F%2Fwww.ebay.com%2Fitm%2Flike%2F321244142392%3Flpid%3D82&adtype=pla'],\n",
        " 'ai': ['CulpR10boUsqCDcnW-QOPxoGwC4HpwdIEuYaZ6oQB0dTVr9kBCAkQASDezc8eKAJQ-tDNwv3_____AWDJ9oKJhKSAEcgBB6oEJk_QT4fiF8XQr27jr6mAlKcqPNfoxUUjMwnIfKSZ937wqAFdYaSiwAUFoAYmgAfbgI4VkAcB4BKA79Py7L7QrbwB'],\n",
        " 'ctype': ['5'],\n",
        " 'sig': ['AOD64_39WDFFBhZSokffXFKc_jJ2MVWGeA'],\n",
        " 'ved': ['0CBUQ-RIwADgB'],\n",
        " 'www.google.com/aclk?sa': ['L']}"
       ]
      }
     ],
     "prompt_number": 58
    },
    {
     "cell_type": "code",
     "collapsed": false,
     "input": [
      "file_info_dict = [{'file':f, 'filepath':os.path.join(slurps_folder, f)} for f in file_list]\n",
      "n = len(file_info_dict)\n",
      "n"
     ],
     "language": "python",
     "metadata": {},
     "outputs": [
      {
       "metadata": {},
       "output_type": "pyout",
       "prompt_number": 8,
       "text": [
        "498"
       ]
      }
     ],
     "prompt_number": 8
    },
    {
     "cell_type": "code",
     "collapsed": false,
     "input": [],
     "language": "python",
     "metadata": {},
     "outputs": [],
     "prompt_number": 8
    },
    {
     "cell_type": "code",
     "collapsed": false,
     "input": [
      "for i in range(45): #range(len(file_info_dict)):\n",
      "    print \"%d\"%i\n",
      "#     print \"%s\" % file_info_dict[i]['file']\n",
      "#     log_to_file('log.log', '%d/%d'%(i,n))\n",
      "    try:\n",
      "        s = pfile.to.str(file_info_dict[i]['filepath'])\n",
      "        s = pstr.trans.str_to_unicode_or_bust(s)\n",
      "        file_info_dict[i]['nlis'] = len(BeautifulSoup(s).findAll('li'))\n",
      "    except:\n",
      "        pass"
     ],
     "language": "python",
     "metadata": {},
     "outputs": [
      {
       "output_type": "stream",
       "stream": "stdout",
       "text": [
        "0\n",
        "1\n",
        "2\n",
        "3"
       ]
      },
      {
       "output_type": "stream",
       "stream": "stdout",
       "text": [
        "\n",
        "4\n",
        "5\n",
        "6"
       ]
      },
      {
       "output_type": "stream",
       "stream": "stdout",
       "text": [
        "\n",
        "7"
       ]
      },
      {
       "output_type": "stream",
       "stream": "stdout",
       "text": [
        "\n",
        "8\n",
        "9\n",
        "10\n",
        "11"
       ]
      },
      {
       "output_type": "stream",
       "stream": "stdout",
       "text": [
        "\n",
        "12"
       ]
      },
      {
       "output_type": "stream",
       "stream": "stdout",
       "text": [
        "\n",
        "13"
       ]
      },
      {
       "output_type": "stream",
       "stream": "stdout",
       "text": [
        "\n",
        "14\n",
        "15\n",
        "16"
       ]
      },
      {
       "output_type": "stream",
       "stream": "stdout",
       "text": [
        "\n",
        "17\n",
        "18\n",
        "19"
       ]
      },
      {
       "output_type": "stream",
       "stream": "stdout",
       "text": [
        "\n",
        "20\n",
        "21\n",
        "22\n",
        "23"
       ]
      },
      {
       "output_type": "stream",
       "stream": "stdout",
       "text": [
        "\n",
        "24"
       ]
      },
      {
       "output_type": "stream",
       "stream": "stdout",
       "text": [
        "\n",
        "25\n",
        "26\n",
        "27"
       ]
      },
      {
       "output_type": "stream",
       "stream": "stdout",
       "text": [
        "\n",
        "28\n",
        "29\n",
        "30"
       ]
      },
      {
       "output_type": "stream",
       "stream": "stdout",
       "text": [
        "\n",
        "31\n",
        "32\n",
        "33"
       ]
      },
      {
       "output_type": "stream",
       "stream": "stdout",
       "text": [
        "\n",
        "34\n",
        "35"
       ]
      },
      {
       "output_type": "stream",
       "stream": "stdout",
       "text": [
        "\n",
        "36\n",
        "37"
       ]
      },
      {
       "output_type": "stream",
       "stream": "stdout",
       "text": [
        "\n",
        "38\n",
        "39\n",
        "40\n",
        "41\n",
        "42"
       ]
      },
      {
       "output_type": "stream",
       "stream": "stdout",
       "text": [
        "\n",
        "43\n",
        "44\n"
       ]
      },
      {
       "output_type": "stream",
       "stream": "stderr",
       "text": [
        "/Users/thor/anaconda/lib/python2.7/site-packages/bs4/dammit.py:269: UnicodeWarning: Unicode equal comparison failed to convert both arguments to Unicode - interpreting them as being unequal\n",
        "  if (len(data) >= 4) and (data[:2] == b'\\xfe\\xff') \\\n",
        "/Users/thor/anaconda/lib/python2.7/site-packages/bs4/dammit.py:273: UnicodeWarning: Unicode equal comparison failed to convert both arguments to Unicode - interpreting them as being unequal\n",
        "  elif (len(data) >= 4) and (data[:2] == b'\\xff\\xfe') \\\n",
        "/Users/thor/anaconda/lib/python2.7/site-packages/bs4/dammit.py:277: UnicodeWarning: Unicode equal comparison failed to convert both arguments to Unicode - interpreting them as being unequal\n",
        "  elif data[:3] == b'\\xef\\xbb\\xbf':\n",
        "/Users/thor/anaconda/lib/python2.7/site-packages/bs4/dammit.py:280: UnicodeWarning: Unicode equal comparison failed to convert both arguments to Unicode - interpreting them as being unequal\n",
        "  elif data[:4] == b'\\x00\\x00\\xfe\\xff':\n",
        "/Users/thor/anaconda/lib/python2.7/site-packages/bs4/dammit.py:283: UnicodeWarning: Unicode equal comparison failed to convert both arguments to Unicode - interpreting them as being unequal\n",
        "  elif data[:4] == b'\\xff\\xfe\\x00\\x00':\n"
       ]
      }
     ],
     "prompt_number": 9
    },
    {
     "cell_type": "code",
     "collapsed": false,
     "input": [
      "s = pfile.to.str(file_info_dict[11]['filepath'])"
     ],
     "language": "python",
     "metadata": {},
     "outputs": [],
     "prompt_number": 12
    },
    {
     "cell_type": "code",
     "collapsed": false,
     "input": [
      "b = BeautifulSoup(s)"
     ],
     "language": "python",
     "metadata": {},
     "outputs": [],
     "prompt_number": "*"
    },
    {
     "cell_type": "code",
     "collapsed": false,
     "input": [
      "xx = [x['nlis'] for x in file_info_dict[:45]]\n",
      "print xx"
     ],
     "language": "python",
     "metadata": {},
     "outputs": [
      {
       "output_type": "stream",
       "stream": "stdout",
       "text": [
        "[10, 0, 3, 0, 38, 0, 0, 37, 61, 41, 0, 0, 0, 67, 20, 36, 0, 66, 66, 20, 20, 20, 58, 0, 46, 63, 0, 67, 77, 0, 54, 82, 0, 0, 78, 82, 82, 27, 27, 27, 27, 37, 27, 11, 41]\n"
       ]
      }
     ],
     "prompt_number": 12
    },
    {
     "cell_type": "code",
     "collapsed": false,
     "input": [
      "len([i for i in xx if i == 0])"
     ],
     "language": "python",
     "metadata": {},
     "outputs": [
      {
       "metadata": {},
       "output_type": "pyout",
       "prompt_number": 13,
       "text": [
        "13"
       ]
      }
     ],
     "prompt_number": 13
    },
    {
     "cell_type": "code",
     "collapsed": false,
     "input": [],
     "language": "python",
     "metadata": {},
     "outputs": []
    },
    {
     "cell_type": "code",
     "collapsed": false,
     "input": [],
     "language": "python",
     "metadata": {},
     "outputs": []
    },
    {
     "cell_type": "code",
     "collapsed": false,
     "input": [],
     "language": "python",
     "metadata": {},
     "outputs": []
    },
    {
     "cell_type": "code",
     "collapsed": false,
     "input": [],
     "language": "python",
     "metadata": {},
     "outputs": []
    },
    {
     "cell_type": "code",
     "collapsed": false,
     "input": [],
     "language": "python",
     "metadata": {},
     "outputs": []
    },
    {
     "cell_type": "code",
     "collapsed": false,
     "input": [],
     "language": "python",
     "metadata": {},
     "outputs": []
    },
    {
     "cell_type": "code",
     "collapsed": false,
     "input": [],
     "language": "python",
     "metadata": {},
     "outputs": []
    },
    {
     "cell_type": "code",
     "collapsed": false,
     "input": [
      "'http{\u00a7\u00a7www.google.com\u00a7search?start=1&num=100&tbm=shop&query=%22hard+of+hearing%22+alarm+flash&tbs=p_ord%3Arv.html'"
     ],
     "language": "python",
     "metadata": {},
     "outputs": [
      {
       "metadata": {},
       "output_type": "pyout",
       "prompt_number": 1,
       "text": [
        "'http{\\xc2\\xa7\\xc2\\xa7www.google.com\\xc2\\xa7search?start=1&num=100&tbm=shop&query=%22hard+of+hearing%22+alarm+flash&tbs=p_ord%3Arv.html'"
       ]
      }
     ],
     "prompt_number": 1
    },
    {
     "cell_type": "code",
     "collapsed": false,
     "input": [
      "'http{\u00a7\u00a7www.google.com\u00a7search?start=1&num=100&tbm=shop&query=%22hard+of+hearing%22+alarm+flash&tbs=p_ord%3Arv.html'"
     ],
     "language": "python",
     "metadata": {},
     "outputs": [
      {
       "metadata": {},
       "output_type": "pyout",
       "prompt_number": 1,
       "text": [
        "'http{\\xc2\\xa7\\xc2\\xa7www.google.com\\xc2\\xa7search?start=1&num=100&tbm=shop&query=%22hard+of+hearing%22+alarm+flash&tbs=p_ord%3Arv.html'"
       ]
      }
     ],
     "prompt_number": 1
    },
    {
     "cell_type": "code",
     "collapsed": false,
     "input": [
      "file_info_dict"
     ],
     "language": "python",
     "metadata": {},
     "outputs": [
      {
       "ename": "NameError",
       "evalue": "name 'file_info_dict' is not defined",
       "output_type": "pyerr",
       "traceback": [
        "\u001b[0;31m---------------------------------------------------------------------------\u001b[0m\n\u001b[0;31mNameError\u001b[0m                                 Traceback (most recent call last)",
        "\u001b[0;32m<ipython-input-2-d6abcaa9aa2a>\u001b[0m in \u001b[0;36m<module>\u001b[0;34m()\u001b[0m\n\u001b[0;32m----> 1\u001b[0;31m \u001b[0mfile_info_dict\u001b[0m\u001b[0;34m\u001b[0m\u001b[0m\n\u001b[0m",
        "\u001b[0;31mNameError\u001b[0m: name 'file_info_dict' is not defined"
       ]
      }
     ],
     "prompt_number": 2
    },
    {
     "cell_type": "code",
     "collapsed": false,
     "input": [],
     "language": "python",
     "metadata": {},
     "outputs": []
    },
    {
     "cell_type": "code",
     "collapsed": false,
     "input": [
      "file_path"
     ],
     "language": "python",
     "metadata": {},
     "outputs": [
      {
       "metadata": {},
       "output_type": "pyout",
       "prompt_number": 186,
       "text": [
        "'/Users/thor/Google Drive/Shared/ms_otosense/slurps/http{\\xc2\\xa7\\xc2\\xa7www.google.com\\xc2\\xa7search?start=1&num=100&tbm=shop&query=%22hard+of+hearing%22+%22baby+monitor%22+flashing&tbs=p_ord%3Arv.html'"
       ]
      }
     ],
     "prompt_number": 186
    },
    {
     "cell_type": "markdown",
     "metadata": {},
     "source": [
      "### SCRAPING SCRAP"
     ]
    },
    {
     "cell_type": "code",
     "collapsed": false,
     "input": [
      "f = 'http{\u00a7\u00a7www.google.com\u00a7search?start=1&num=100&tbm=shop&query=%22hard+of+hearing%22+%22baby+monitor%22+flashing&tbs=p_ord%3Arv.html'\n",
      "f = os.path.join(slurps_folder, f)\n",
      "f = os.path.join(slurps_folder,file_list[0])\n",
      "html = pfile.to.str(f)\n",
      "b = BeautifulSoup(html)"
     ],
     "language": "python",
     "metadata": {},
     "outputs": [],
     "prompt_number": 138
    },
    {
     "cell_type": "code",
     "collapsed": false,
     "input": [
      "# <li class=\"g psli\" "
     ],
     "language": "python",
     "metadata": {},
     "outputs": [],
     "prompt_number": 98
    },
    {
     "cell_type": "code",
     "collapsed": false,
     "input": [
      "file_path"
     ],
     "language": "python",
     "metadata": {},
     "outputs": [
      {
       "metadata": {},
       "output_type": "pyout",
       "prompt_number": 245,
       "text": [
        "'/Users/thor/Google Drive/Shared/ms_otosense/slurps/http{\\xc2\\xa7\\xc2\\xa7www.google.com\\xc2\\xa7search?start=1&num=100&tbm=shop&query=deaf+clock+flash&tbs=p_ord%3Arv.html'"
       ]
      }
     ],
     "prompt_number": 245
    },
    {
     "cell_type": "code",
     "collapsed": false,
     "input": [
      "i = 0"
     ],
     "language": "python",
     "metadata": {},
     "outputs": [],
     "prompt_number": 225
    },
    {
     "cell_type": "code",
     "collapsed": false,
     "input": [
      "i += 1\n",
      "file_path = os.path.join(slurps_folder,file_list[i])"
     ],
     "language": "python",
     "metadata": {},
     "outputs": [],
     "prompt_number": 226
    },
    {
     "cell_type": "code",
     "collapsed": false,
     "input": [
      "file_path = os.path.join(slurps_folder, 'http{\u00a7\u00a7www.google.com\u00a7search?start=1&num=100&tbm=shop&query=deaf+clock+flash&tbs=p_ord%3Arv.html')"
     ],
     "language": "python",
     "metadata": {},
     "outputs": [],
     "prompt_number": 243
    },
    {
     "cell_type": "code",
     "collapsed": false,
     "input": [
      "import parse.util\n",
      "parse.util.open_in_firefox(file_path)"
     ],
     "language": "python",
     "metadata": {},
     "outputs": [
      {
       "output_type": "stream",
       "stream": "stdout",
       "text": [
        "opening /Users/thor/Google Drive/Shared/ms_otosense/slurps/http{\u00a7\u00a7www.google.com\u00a7search?start=1&num=100&tbm=shop&query=deaf+clock+flash&tbs=p_ord%3Arv.html\n"
       ]
      }
     ],
     "prompt_number": 244
    },
    {
     "cell_type": "code",
     "collapsed": false,
     "input": [
      "html = pfile.to.str(file_path)"
     ],
     "language": "python",
     "metadata": {},
     "outputs": [],
     "prompt_number": 251
    },
    {
     "cell_type": "code",
     "collapsed": false,
     "input": [
      "html = pfile.to.str(file_path)\n",
      "print len(html)\n",
      "html = re.findall('<body.+?</body>', html, flags=re.DOTALL)[0]\n",
      "print len(html)"
     ],
     "language": "python",
     "metadata": {},
     "outputs": [
      {
       "output_type": "stream",
       "stream": "stdout",
       "text": [
        "361773\n",
        "218962\n"
       ]
      }
     ],
     "prompt_number": 222
    },
    {
     "cell_type": "code",
     "collapsed": false,
     "input": [
      "pstr.to.file(pstr.trans.str_to_unicode_or_bust(html), 'test.html')"
     ],
     "language": "python",
     "metadata": {},
     "outputs": [],
     "prompt_number": 224
    },
    {
     "cell_type": "code",
     "collapsed": false,
     "input": [
      "b = BeautifulSoup(html)"
     ],
     "language": "python",
     "metadata": {},
     "outputs": [],
     "prompt_number": 252
    },
    {
     "cell_type": "code",
     "collapsed": false,
     "input": [
      "b.findAll('li')"
     ],
     "language": "python",
     "metadata": {},
     "outputs": [
      {
       "metadata": {},
       "output_type": "pyout",
       "prompt_number": 253,
       "text": [
        "[]"
       ]
      }
     ],
     "prompt_number": 253
    },
    {
     "cell_type": "code",
     "collapsed": false,
     "input": [],
     "language": "python",
     "metadata": {},
     "outputs": []
    },
    {
     "cell_type": "code",
     "collapsed": false,
     "input": [],
     "language": "python",
     "metadata": {},
     "outputs": []
    },
    {
     "cell_type": "code",
     "collapsed": false,
     "input": [
      "def get_gshop_item_tags(t):\n",
      "    return t.findAll('li', attrs={'class':'gb_a'})\n",
      "\n",
      "\n"
     ],
     "language": "python",
     "metadata": {},
     "outputs": [],
     "prompt_number": 163
    },
    {
     "cell_type": "code",
     "collapsed": false,
     "input": [
      "t = get_gshop_item_tags(b)\n",
      "len(t)"
     ],
     "language": "python",
     "metadata": {},
     "outputs": [
      {
       "metadata": {},
       "output_type": "pyout",
       "prompt_number": 248,
       "text": [
        "0"
       ]
      }
     ],
     "prompt_number": 248
    },
    {
     "cell_type": "code",
     "collapsed": false,
     "input": [
      "tt = t[0]"
     ],
     "language": "python",
     "metadata": {},
     "outputs": [],
     "prompt_number": 166
    },
    {
     "cell_type": "code",
     "collapsed": false,
     "input": [
      "tt.findAll('div', attrs={'class':'_te'})"
     ],
     "language": "python",
     "metadata": {},
     "outputs": [
      {
       "metadata": {},
       "output_type": "pyout",
       "prompt_number": 167,
       "text": [
        "[]"
       ]
      }
     ],
     "prompt_number": 167
    },
    {
     "cell_type": "code",
     "collapsed": false,
     "input": [
      "w = [x.attrs for x in tt.findAll('div')]\n",
      "w"
     ],
     "language": "python",
     "metadata": {},
     "outputs": [
      {
       "metadata": {},
       "output_type": "pyout",
       "prompt_number": 170,
       "text": [
        "[]"
       ]
      }
     ],
     "prompt_number": 170
    },
    {
     "cell_type": "code",
     "collapsed": false,
     "input": [
      "i = 0"
     ],
     "language": "python",
     "metadata": {},
     "outputs": [],
     "prompt_number": 172
    },
    {
     "cell_type": "code",
     "collapsed": false,
     "input": [
      "i += 1\n",
      "t[i]"
     ],
     "language": "python",
     "metadata": {},
     "outputs": [
      {
       "metadata": {},
       "output_type": "pyout",
       "prompt_number": 185,
       "text": [
        "<li class=\"gb_a\"><a class=\"gb_e\" data-pid=\"6\" href=\"http://www.google.com/shopping?hl=en&amp;spons=1&amp;tab=ff&amp;ei=z8LoUruUA8WhogSR5oG4Cw&amp;ved=0CBAQqS4oDQ\" id=\"gb6\"><span class=\"gb_g\" style=\"background-position:-428px -277px\"></span><span class=\"gb_h\">Shopping</span></a></li>"
       ]
      }
     ],
     "prompt_number": 185
    },
    {
     "cell_type": "code",
     "collapsed": false,
     "input": [
      "t = b.findAll('div', attrs={'id':'search'})\n",
      "len(t)"
     ],
     "language": "python",
     "metadata": {},
     "outputs": [
      {
       "metadata": {},
       "output_type": "pyout",
       "prompt_number": 204,
       "text": [
        "0"
       ]
      }
     ],
     "prompt_number": 204
    },
    {
     "cell_type": "code",
     "collapsed": false,
     "input": [
      "t = b.findAll('li')\n",
      "len(t)"
     ],
     "language": "python",
     "metadata": {},
     "outputs": [
      {
       "metadata": {},
       "output_type": "pyout",
       "prompt_number": 187,
       "text": [
        "26"
       ]
      }
     ],
     "prompt_number": 187
    },
    {
     "cell_type": "code",
     "collapsed": false,
     "input": [
      "tt = t[0]"
     ],
     "language": "python",
     "metadata": {},
     "outputs": [],
     "prompt_number": 159
    },
    {
     "cell_type": "code",
     "collapsed": false,
     "input": [
      "[tt.attrs for tt in t]"
     ],
     "language": "python",
     "metadata": {},
     "outputs": [
      {
       "metadata": {},
       "output_type": "pyout",
       "prompt_number": 188,
       "text": [
        "[{'class': ['gb_a']},\n",
        " {'class': ['gb_a']},\n",
        " {'class': ['gb_a']},\n",
        " {'class': ['gb_a']},\n",
        " {'class': ['gb_a']},\n",
        " {'class': ['gb_a']},\n",
        " {'class': ['gb_a']},\n",
        " {'class': ['gb_a']},\n",
        " {'class': ['gb_a']},\n",
        " {'class': ['gb_a']},\n",
        " {'class': ['gb_a']},\n",
        " {'class': ['gb_a']},\n",
        " {'class': ['gb_a']},\n",
        " {'class': ['gb_a']},\n",
        " {'class': ['gb_a']},\n",
        " {'class': ['gb_a']},\n",
        " {'class': ['gb_a']},\n",
        " {'class': ['ab_ctl'], 'id': 'ab_ctl_opt'},\n",
        " {'aria-selected': 'false', 'class': ['ab_dropdownitem'], 'role': 'menuitem'},\n",
        " {'class': ['ab_dropdownrule']},\n",
        " {'aria-selected': 'false', 'class': ['ab_dropdownitem'], 'role': 'menuitem'},\n",
        " {'aria-selected': 'false', 'class': ['ab_dropdownitem'], 'role': 'menuitem'},\n",
        " {'aria-selected': 'false', 'class': ['ab_dropdownitem'], 'role': 'menuitem'},\n",
        " {'aria-selected': 'false', 'class': ['ab_dropdownitem'], 'role': 'menuitem'},\n",
        " {'aria-selected': 'false', 'class': ['ab_dropdownitem'], 'role': 'menuitem'},\n",
        " {'aria-selected': 'false', 'class': ['ab_dropdownitem'], 'role': 'menuitem'}]"
       ]
      }
     ],
     "prompt_number": 188
    },
    {
     "cell_type": "code",
     "collapsed": false,
     "input": [
      "file_list[-1]"
     ],
     "language": "python",
     "metadata": {},
     "outputs": [
      {
       "metadata": {},
       "output_type": "pyout",
       "prompt_number": 210,
       "text": [
        "'http{\\xc2\\xa7\\xc2\\xa7www.google.com\\xc2\\xa7search?start=401&num=100&tbm=shop&query=deaf+clock+vibrating&tbs=p_ord%3Arv.html'"
       ]
      }
     ],
     "prompt_number": 210
    },
    {
     "cell_type": "code",
     "collapsed": false,
     "input": [
      "b.findAll(name='body')"
     ],
     "language": "python",
     "metadata": {},
     "outputs": [
      {
       "metadata": {},
       "output_type": "pyout",
       "prompt_number": 17,
       "text": [
        "[]"
       ]
      }
     ],
     "prompt_number": 17
    },
    {
     "cell_type": "code",
     "collapsed": false,
     "input": [
      "w = re.findall('.{200}The MBP36 features a 3.{200}', html, re.DOTALL)\n",
      "w"
     ],
     "language": "python",
     "metadata": {},
     "outputs": [
      {
       "metadata": {},
       "output_type": "pyout",
       "prompt_number": 191,
       "text": [
        "['fl\" href=\"/search?tbm=shop&amp;tbs=cat:541&amp;q=baby+monitor&amp;sa=X&amp;ei=z8LoUqzWAtCDogSH94C4DQ&amp;ved=0CEsQswwwAjgB\">Baby Monitors</a></span></span></div><div class=\"pslline\"><div class=\"psst\">The MBP36 features a 3.5&quot; diagonal color screen, infrared night vision, video remote pan, tilt and zoom, high sensitivity microphone and pre ...</div></div><div class=\"ps-ginkgo-line\"><span class=\"ps-ginkgo\"><a class=',\n",
        " '698\":[0,\"Motorola MBP36 - Baby monitoring system - wireless 1 camera(s) - 3.5\\\\u0026quot;\",\"/shopping/product/9125507522365103027?num=100\\\\u0026query=%22hard+of+hearing%22+%22baby+monitor%22+flashing\",\"The MBP36 features a 3.5\\\\u0026quot; diagonal color screen, infrared night vision, video remote pan, tilt and zoom, high sensitivity microphone and pre-recorded lullabies.\",null,\"9125507522365103027\",\"\\\\u003Cstrong\\\\u003EComp']"
       ]
      }
     ],
     "prompt_number": 191
    },
    {
     "cell_type": "code",
     "collapsed": false,
     "input": [],
     "language": "python",
     "metadata": {},
     "outputs": []
    },
    {
     "cell_type": "code",
     "collapsed": false,
     "input": [],
     "language": "python",
     "metadata": {},
     "outputs": []
    },
    {
     "cell_type": "code",
     "collapsed": false,
     "input": [],
     "language": "python",
     "metadata": {},
     "outputs": []
    },
    {
     "cell_type": "code",
     "collapsed": false,
     "input": [
      "https://www.google.com/aclk?sa=L&ai=CFrR3HgvpUuyrN4XA7gblnYAwgenB0gSx7s61kwHpl5bk4wEICRACIN7Nzx4oCVCiku_q-f____8BYMkGyAEHqgQmT9Cz_5RAhBMvVg0HcBGeaIdJAdU-YJ0N3a7H6XgsjCol5ln0ckDABQWgBiaAB9uAjhWQBwPgEvD_refE6crYgQE&sig=AOD64_1aOq9jZbdvzEBPvtyXLBUp4u0BWQ&ctype=5&ved=0CDcQ1CkwAQ&adurl=http://rover.ebay.com/rover/1/711-117182-37290-0/2%3Fmtid%3D1588%26kwid%3D1%26crlp%3D39615971649_324272%26itemid%3D321244138413%26targetid%3D61144927209%26rpc%3D0.06%26rpc_upld_id%3D25106%26device%3Dc%26mpre%3Dhttp%253A%252F%252Fwww.ebay.com%252Fitm%252Flike%252F321244138413%253Flpid%253D82%26adtype%3Dpla&rct=j&q=%22hard%20of%20hearing%22%20%22baby%20monitor%22%20flashing&cad=rja"
     ],
     "language": "python",
     "metadata": {},
     "outputs": []
    },
    {
     "cell_type": "code",
     "collapsed": false,
     "input": [],
     "language": "python",
     "metadata": {},
     "outputs": []
    },
    {
     "cell_type": "code",
     "collapsed": false,
     "input": [],
     "language": "python",
     "metadata": {},
     "outputs": []
    },
    {
     "cell_type": "code",
     "collapsed": false,
     "input": [],
     "language": "python",
     "metadata": {},
     "outputs": []
    },
    {
     "cell_type": "code",
     "collapsed": false,
     "input": [
      "import parse.google"
     ],
     "language": "python",
     "metadata": {},
     "outputs": [],
     "prompt_number": 209
    },
    {
     "cell_type": "code",
     "collapsed": false,
     "input": [
      "f = os.path.join(slurps_folder, 'http{\u00a7\u00a7www.google.com\u00a7search?start=401&num=100&query=%22hard+of+hearing%22+alarm+vibrating+site%3Ayoutube.com.html')"
     ],
     "language": "python",
     "metadata": {},
     "outputs": [],
     "prompt_number": 212
    },
    {
     "cell_type": "code",
     "collapsed": false,
     "input": [
      "h = pfile.to.str(f)"
     ],
     "language": "python",
     "metadata": {},
     "outputs": [],
     "prompt_number": 215
    },
    {
     "cell_type": "code",
     "collapsed": false,
     "input": [],
     "language": "python",
     "metadata": {},
     "outputs": [
      {
       "metadata": {},
       "output_type": "pyout",
       "prompt_number": 216,
       "text": [
        "'<!doctype html><html itemscope=\"\" itemtype=\"http://schema.org/WebPage\"><head><meta content=\"text/html; charset=UTF-8\" http-equiv=\"Content-Type\"><meta content=\"/images/google_favicon_128.png\" itemprop=\"image\"><title>\"hard of hearing\" alarm vibrating site:youtube.com - Google Search</title><style>#gb{font:13px/27px Arial,sans-serif;height:30px}#gbz,#gbg{position:absolute;white-space:nowrap;top:0;height:30px;z-index:1000}#gbz{left:0;padding-left:4px}#gbg{right:0;padding-right:5px}#gbs{background:transparent;position:absolute;top:-999px;visibility:hidden;z-index:998;right:0}.gbto #gbs{background:#fff}#gbx3,#gbx4{background-color:#2d2d2d;background-image:none;_background-image:none;background-position:0 -138px;background-repeat:repeat-x;border-bottom:1px solid #000;font-size:24px;height:29px;_height:30px;opacity:1;filter:alpha(opacity=100);position:absolute;top:0;width:100%;z-index:990}#gbx3{left:0}#gbx4{right:0}#gbb{position:relative}#gbbw{left:0;position:absolute;top:30px;width:100%}.gbtcb{position:absolute;visibility:hidden}#gbz .gbtcb{right:0}#gbg .gbtcb{left:0}.gbxx{display:none !important}.gbxo{opacity:0 !important;filter:alpha(opacity=0) !important}.gbm{position:absolute;z-index:999;top:-999px;visibility:hidden;text-align:left;border:1px solid #bebebe;background:#fff;-moz-box-shadow:-1px 1px 1px rgba(0,0,0,.2);-webkit-box-shadow:0 2px 4px rgba(0,0,0,.2);box-shadow:0 2px 4px rgba(0,0,0,.2)}.gbrtl .gbm{-moz-box-shadow:1px 1px 1px rgba(0,0,0,.2)}.gbto .gbm,.gbto #gbs{top:29px;visibility:visible}#gbz .gbm{left:0}#gbg .gbm{right:0}.gbxms{background-color:#ccc;display:block;position:absolute;z-index:1;top:-1px;left:-2px;right:-2px;bottom:-2px;opacity:.4;-moz-border-radius:3px;filter:progid:DXImageTransform.Microsoft.Blur(pixelradius=5);*opacity:1;*top:-2px;*left:-5px;*right:5px;*bottom:4px;-ms-filter:\"progid:DXImageTransform.Microsoft.Blur(pixelradius=5)\";opacity:1\\\\0/;top:-4px\\\\0/;left:-6px\\\\0/;right:5px\\\\0/;bottom:4px\\\\0/}.gbma{position:relative;top:-1px;border-style:solid dashed dashed;border-color:transparent;border-top-color:#c0c0c0;display:-moz-inline-box;display:inline-block;font-size:0;height:0;line-height:0;width:0;border-width:3px 3px 0;padding-top:1px;left:4px}#gbztms1,#gbi4m1,#gbi4s,#gbi4t{zoom:1}.gbtc,.gbmc,.gbmcc{display:block;list-style:none;margin:0;padding:0}.gbmc{background:#fff;padding:10px 0;position:relative;z-index:2;zoom:1}.gbt{position:relative;display:-moz-inline-box;display:inline-block;line-height:27px;padding:0;vertical-align:top}.gbt{*display:inline}.gbto{box-shadow:0 2px 4px rgba(0,0,0,.2);-moz-box-shadow:0 2px 4px rgba(0,0,0,.2);-webkit-box-shadow:0 2px 4px rgba(0,0,0,.2)}.gbzt,.gbgt{cursor:pointer;display:block;text-decoration:none !important}span#gbg6,span#gbg4{cursor:default}.gbts{border-left:1px solid transparent;border-right:1px solid transparent;display:block;*display:inline-block;padding:0 5px;position:relative;z-index:1000}.gbts{*display:inline}.gbzt .gbts{display:inline;zoom:1}.gbto .gbts{background:#fff;border-color:#bebebe;color:#36c;padding-bottom:1px;padding-top:2px}.gbz0l .gbts{color:#fff;font-weight:bold}.gbtsa{padding-right:9px}#gbz .gbzt,#gbz .gbgt,#gbg .gbgt{color:#ccc!important}.gbtb2{display:block;border-top:2px solid transparent}.gbto .gbzt .gbtb2,.gbto .gbgt .gbtb2{border-top-width:0}.gbtb .gbts{background:url(//ssl.gstatic.com/gb/images/b_8d5afc09.png);_background:url(//ssl.gstatic.com/gb/images/b8_3615d64d.png);background-position:-27px -22px;border:0;font-size:0;padding:29px 0 0;*padding:27px 0 0;width:1px}.gbzt:hover,.gbzt:focus,.gbgt-hvr,.gbgt:focus{background-color:#4c4c4c;background-image:none;_background-image:none;background-position:0 -102px;background-repeat:repeat-x;outline:none;text-decoration:none !important}.gbpdjs .gbto .gbm{min-width:99%}.gbz0l .gbtb2{border-top-color:#dd4b39!important}#gbi4s,#gbi4s1{font-weight:bold}#gbg6.gbgt-hvr,#gbg6.gbgt:focus{background-color:transparent;background-image:none}.gbg4a{font-size:0;line-height:0}.gbg4a .gbts{padding:27px 5px 0;*padding:25px 5px 0}.gbto .gbg4a .gbts{padding:29px 5px 1px;*padding:27px 5px 1px}#gbi4i,#gbi4id{left:5px;border:0;height:24px;position:absolute;top:1px;width:24px}.gbto #gbi4i,.gbto #gbi4id{top:3px}.gbi4p{display:block;width:24px}#gbi4id{background-position:-44px -101px}#gbmpid{background-position:0 0}#gbmpi,#gbmpid{border:none;display:inline-block;height:48px;width:48px}#gbmpiw{display:inline-block;line-height:9px;padding-left:20px;margin-top:10px;position:relative}#gbmpi,#gbmpid,#gbmpiw{*display:inline}#gbg5{font-size:0}#gbgs5{padding:5px !important}.gbto #gbgs5{padding:7px 5px 6px !important}#gbi5{background:url(//ssl.gstatic.com/gb/images/b_8d5afc09.png);_background:url(//ssl.gstatic.com/gb/images/b8_3615d64d.png);background-position:0 0;display:block;font-size:0;height:17px;width:16px}.gbto #gbi5{background-position:-6px -22px}.gbn .gbmt,.gbn .gbmt:visited,.gbnd .gbmt,.gbnd .gbmt:visited{color:#dd8e27 !important}.gbf .gbmt,.gbf .gbmt:visited{color:#900 !important}.gbmt,.gbml1,.gbmlb,.gbmt:visited,.gbml1:visited,.gbmlb:visited{color:#36c !important;text-decoration:none !important}.gbmt,.gbmt:visited{display:block}.gbml1,.gbmlb,.gbml1:visited,.gbmlb:visited{display:inline-block;margin:0 10px}.gbml1,.gbmlb,.gbml1:visited,.gbmlb:visited{*display:inline}.gbml1,.gbml1:visited{padding:0 10px}.gbml1-hvr,.gbml1:focus{outline:none;text-decoration:underline !important}#gbpm .gbml1{display:inline;margin:0;padding:0;white-space:nowrap}.gbmlb,.gbmlb:visited{line-height:27px}.gbmlb-hvr,.gbmlb:focus{outline:none;text-decoration:underline !important}.gbmlbw{color:#ccc;margin:0 10px}.gbmt{padding:0 20px}.gbmt:hover,.gbmt:focus{background:#eee;cursor:pointer;outline:0 solid black;text-decoration:none !important}.gbm0l,.gbm0l:visited{color:#000 !important;font-weight:bold}.gbmh{border-top:1px solid #bebebe;font-size:0;margin:10px 0}#gbd4 .gbmc{background:#f5f5f5;padding-top:0}#gbd4 .gbsbic::-webkit-scrollbar-track:vertical{background-color:#f5f5f5;margin-top:2px}#gbmpdv{background:#fff;border-bottom:1px solid #bebebe;-moz-box-shadow:0 2px 4px rgba(0,0,0,.12);-o-box-shadow:0 2px 4px rgba(0,0,0,.12);-webkit-box-shadow:0 2px 4px rgba(0,0,0,.12);box-shadow:0 2px 4px rgba(0,0,0,.12);position:relative;z-index:1}#gbd4 .gbmh{margin:0}.gbmtc{padding:0;margin:0;line-height:27px}.GBMCC:last-child:after,#GBMPAL:last-child:after{content:\\'\\\\0A\\\\0A\\';white-space:pre;position:absolute}#gbmps{*zoom:1}#gbd4 .gbpc,#gbmpas .gbmt{line-height:17px}#gbd4 .gbpgs .gbmtc{line-height:27px}#gbd4 .gbmtc{border-bottom:1px solid #bebebe}#gbd4 .gbpc{display:inline-block;margin:16px 0 10px;padding-right:50px;vertical-align:top}#gbd4 .gbpc{*display:inline}.gbpc .gbps,.gbpc .gbps2{display:block;margin:0 20px}#gbmplp.gbps{margin:0 10px}.gbpc .gbps{color:#000;font-weight:bold}.gbpc .gbpd{margin-bottom:5px}.gbpd .gbmt,.gbpd .gbps{color:#666 !important}.gbpd .gbmt{opacity:.4;filter:alpha(opacity=40)}.gbps2{color:#666;display:block}.gbp0{display:none}.gbp0 .gbps2{font-weight:bold}#gbd4 .gbmcc{margin-top:5px}.gbpmc{background:#fef9db}.gbpmc .gbpmtc{padding:10px 20px}#gbpm{border:0;*border-collapse:collapse;border-spacing:0;margin:0;white-space:normal}#gbpm .gbpmtc{border-top:none;color:#000 !important;font:11px Arial,sans-serif}#gbpms{*white-space:nowrap}.gbpms2{font-weight:bold;white-space:nowrap}#gbmpal{*border-collapse:collapse;border-spacing:0;border:0;margin:0;white-space:nowrap;width:100%}.gbmpala,.gbmpalb{font:13px Arial,sans-serif;line-height:27px;padding:10px 20px 0;white-space:nowrap}.gbmpala{padding-left:0;text-align:left}.gbmpalb{padding-right:0;text-align:right}#gbmpasb .gbps{color:#000}#gbmpal .gbqfbb{margin:0 20px}.gbp0 .gbps{*display:inline}a.gbiba{margin:8px 20px 10px}.gbmpiaw{display:inline-block;padding-right:10px;margin-bottom:6px;margin-top:10px}.gbxv{visibility:hidden}.gbmpiaa{display:block;margin-top:10px}.gbmpia{border:none;display:block;height:48px;width:48px}.gbmpnw{display:inline-block;height:auto;margin:10px 0;vertical-align:top}.gbqfb,.gbqfba,.gbqfbb{-moz-border-radius:2px;-webkit-border-radius:2px;border-radius:2px;cursor:default !important;display:inline-block;font-weight:bold;height:29px;line-height:29px;min-width:54px;*min-width:70px;padding:0 8px;text-align:center;text-decoration:none !important;-moz-user-select:none;-webkit-user-select:none}.gbqfb:focus,.gbqfba:focus,.gbqfbb:focus{border:1px solid #4d90fe;-moz-box-shadow:inset 0 0 0 1px rgba(255, 255, 255, 0.5);-webkit-box-shadow:inset 0 0 0 1px rgba(255, 255, 255, 0.5);box-shadow:inset 0 0 0 1px rgba(255, 255, 255, 0.5);outline:none}.gbqfb-hvr:focus,.gbqfba-hvr:focus,.gbqfbb-hvr:focus{-webkit-box-shadow:inset 0 0 0 1px #fff,0 1px 1px rgba(0,0,0,.1);-moz-box-shadow:inset 0 0 0 1px #fff,0 1px 1px rgba(0,0,0,.1);box-shadow:inset 0 0 0 1px #fff,0 1px 1px rgba(0,0,0,.1)}.gbqfb-no-focus:focus{border:1px solid #3079ed;-moz-box-shadow:none;-webkit-box-shadow:none;box-shadow:none}.gbqfb-hvr,.gbqfba-hvr,.gbqfbb-hvr{-webkit-box-shadow:0 1px 1px rgba(0,0,0,.1);-moz-box-shadow:0 1px 1px rgba(0,0,0,.1);box-shadow:0 1px 1px rgba(0,0,0,.1)}.gbqfb::-moz-focus-inner,.gbqfba::-moz-focus-inner,.gbqfbb::-moz-focus-inner{border:0}.gbqfba,.gbqfbb{border:1px solid #dcdcdc;border-color:rgba(0,0,0,.1);color:#444 !important;font-size:11px}.gbqfb{background-color:#4d90fe;background-image:-webkit-gradient(linear,left top,left bottom,from(#4d90fe),to(#4787ed));background-image:-webkit-linear-gradient(top,#4d90fe,#4787ed);background-image:-moz-linear-gradient(top,#4d90fe,#4787ed);background-image:-ms-linear-gradient(top,#4d90fe,#4787ed);background-image:-o-linear-gradient(top,#4d90fe,#4787ed);background-image:linear-gradient(top,#4d90fe,#4787ed);filter:progid:DXImageTransform.Microsoft.gradient(startColorStr=\\'#4d90fe\\',EndColorStr=\\'#4787ed\\');border:1px solid #3079ed;color:#fff!important;margin:0 0}.gbqfb-hvr{border-color:#2f5bb7}.gbqfb-hvr:focus{border-color:#2f5bb7}.gbqfb-hvr,.gbqfb-hvr:focus{background-color:#357ae8;background-image:-webkit-gradient(linear,left top,left bottom,from(#4d90fe),to(#357ae8));background-image:-webkit-linear-gradient(top,#4d90fe,#357ae8);background-image:-moz-linear-gradient(top,#4d90fe,#357ae8);background-image:-ms-linear-gradient(top,#4d90fe,#357ae8);background-image:-o-linear-gradient(top,#4d90fe,#357ae8);background-image:linear-gradient(top,#4d90fe,#357ae8)}.gbqfb:active{background-color:inherit;-webkit-box-shadow:inset 0 1px 2px rgba(0, 0, 0, 0.3);-moz-box-shadow:inset 0 1px 2px rgba(0, 0, 0, 0.3);box-shadow:inset 0 1px 2px rgba(0, 0, 0, 0.3)}.gbqfba{background-color:#f5f5f5;background-image:-webkit-gradient(linear,left top,left bottom,from(#f5f5f5),to(#f1f1f1));background-image:-webkit-linear-gradient(top,#f5f5f5,#f1f1f1);background-image:-moz-linear-gradient(top,#f5f5f5,#f1f1f1);background-image:-ms-linear-gradient(top,#f5f5f5,#f1f1f1);background-image:-o-linear-gradient(top,#f5f5f5,#f1f1f1);background-image:linear-gradient(top,#f5f5f5,#f1f1f1);filter:progid:DXImageTransform.Microsoft.gradient(startColorStr=\\'#f5f5f5\\',EndColorStr=\\'#f1f1f1\\')}.gbqfba-hvr,.gbqfba-hvr:active{background-color:#f8f8f8;background-image:-webkit-gradient(linear,left top,left bottom,from(#f8f8f8),to(#f1f1f1));background-image:-webkit-linear-gradient(top,#f8f8f8,#f1f1f1);background-image:-moz-linear-gradient(top,#f8f8f8,#f1f1f1);background-image:-ms-linear-gradient(top,#f8f8f8,#f1f1f1);background-image:-o-linear-gradient(top,#f8f8f8,#f1f1f1);background-image:linear-gradient(top,#f8f8f8,#f1f1f1);filter:progid:DXImageTransform.Microsoft.gradient(startColorStr=\\'#f8f8f8\\',EndColorStr=\\'#f1f1f1\\')}.gbqfbb{background-color:#fff;background-image:-webkit-gradient(linear,left top,left bottom,from(#fff),to(#fbfbfb));background-image:-webkit-linear-gradient(top,#fff,#fbfbfb);background-image:-moz-linear-gradient(top,#fff,#fbfbfb);background-image:-ms-linear-gradient(top,#fff,#fbfbfb);background-image:-o-linear-gradient(top,#fff,#fbfbfb);background-image:linear-gradient(top,#fff,#fbfbfb);filter:progid:DXImageTransform.Microsoft.gradient(startColorStr=\\'#ffffff\\',EndColorStr=\\'#fbfbfb\\')}.gbqfbb-hvr,.gbqfbb-hvr:active{background-color:#fff;background-image:-webkit-gradient(linear,left top,left bottom,from(#fff),to(#f8f8f8));background-image:-webkit-linear-gradient(top,#fff,#f8f8f8);background-image:-moz-linear-gradient(top,#fff,#f8f8f8);background-image:-ms-linear-gradient(top,#fff,#f8f8f8);background-image:-o-linear-gradient(top,#fff,#f8f8f8);background-image:linear-gradient(top,#fff,#f8f8f8);filter:progid:DXImageTransform.Microsoft.gradient(startColorStr=\\'#ffffff\\',EndColorStr=\\'#f8f8f8\\')}.gbqfba-hvr,.gbqfba-hvr:active,.gbqfbb-hvr,.gbqfbb-hvr:active{border-color:#c6c6c6;-webkit-box-shadow:0 1px 1px rgba(0,0,0,.1);-moz-box-shadow:0 1px 1px rgba(0,0,0,.1);box-shadow:0 1px 1px rgba(0,0,0,.1);color:#222 !important}.gbqfba:active,.gbqfbb:active{-webkit-box-shadow:inset 0 1px 2px rgba(0,0,0,.1);-moz-box-shadow:inset 0 1px 2px rgba(0,0,0,.1);box-shadow:inset 0 1px 2px rgba(0,0,0,.1)}</style><style>.j{width:34em}body,td,div,.p,a{font-family:arial,sans-serif;-ms-tap-highlight-color:rgba(255,255,255,0)}body{margin:0}#gbar{float:left;height:22px;padding-left:2px;font-size:13px}.gsfi,.gsfs{font-size:17px}.w,.q:active,.q:visited,.tbotu{color:#11c}a.gl{text-decoration:none}.ads a:link{color:#0E1CB3}#foot{padding:0 8px}#foot a{white-space:nowrap}h3{font-size:16px;font-weight:normal;margin:0;padding:0}#res h3{display:inline}.hd{height:1px;position:absolute;top:-1000em}li.g,body,html,table,.std{font-size:13px}li.g{margin-bottom:23px;margin-top:0;zoom:1}ol li,ul li{list-style:none}h1,ol,ul,li{margin:0;padding:0}#mbEnd h2{color:#676767;font-family:arial,sans-serif;font-size:11px;font-weight:normal}.e{margin:2px 0 0.75em}#leftnav a,.slk a{text-decoration:none}#leftnav h2{color:#767676;font-weight:normal;margin:0}#nav{border-collapse:collapse;margin-top:17px;text-align:left}#nav td{text-align:center}.nobr{white-space:nowrap}.ts{border-collapse:collapse}.s br{display:none}.spon{font-size:11px;font-weight:normal;color:#666}.spon b{color:#444}.csb{display:block;height:40px}.images_table td{line-height:17px;padding-bottom:16px}.images_table img{border:1px solid #ccc;padding:1px}#tbd,#abd{display:block;min-height:1px}#abd{padding-top:3px}#tbd li{display:inline}.tbfo,.tbpd{margin-bottom:8px}#tbd .tbt li{display:block;font-size:13px;line-height:1.2;padding-bottom:3px;padding-left:8px;text-indent:-8px}.tbos,.b{font-weight:bold}em{font-weight:bold;font-style:normal}.mime{color:#12c;font-weight:bold;font-size:x-small}.gac_wd{right:-2px !important;overflow:hidden}.fmg{display:inline-block;margin-top:7px;padding-right:4px;text-align:left;vertical-align:top;width:90px;zoom:1}.pslires{padding-top:6px;width:99.5%}.psliimg{float:left;height:90px;text-align:center;width:90px}.pslimain{margin-left:100px;margin-right:9em}.psliprice{float:right;width:7em}.psliprice b{font-size:large;font-weight:bold;white-space:nowrap}.review-link span:hover{text-decoration:underline}a.review-link:link,a.psvar:visited,a.psvar:active{text-decoration:none}a.review-link:hover{text-decoration:none}.psliimg img{border:none;max-height:90px;max-width:90px}.soc a{text-decoration:none}.soc{color:#666}#aob{border:1px solid #e0e0e0;margin-left:-8px;margin-right:-8px;padding:15px 20px 5px}#aob{position:relative;zoom:1}#aoba{font-size:32px}#aobea{color:#777;font-size:16px;margin-top:5px}#vob{border:1px solid #e0e0e0;padding:15px 15px}#vob_t{font-size:22px;line-height:22px;padding-bottom:5px}#vob_st{line-height:1.24}.lrob_c{border-width:1px;border-style:solid;border-color:#eee;background-color:#fff;position:relative;margin-bottom:26px}.lrob_ans,.lrob_sh,.lrob_txt{font-family:Arial;font-weight:lighter}.lrob_ans{margin-bottom:5px}.lrob_ans{font-size:xx-large}.lrob_sh{font-size:medium}.lrob_txt{font-size:small}.lrob_c{margin-left:-8px;margin-right:-15px;padding:20px 20px 24px}.lrob_bk{color:#212121}.lrob_gy{color:#878787}.gssb_a{padding:0 10px !important}.gssb_c{left:132px !important;right:295px !important;top:78px !important;width:572px !important}.gssb_c table{font-size:16px !important}.gssb_e{border:1px solid #ccc !important;border-top-color:#d9d9d9 !important}.gssb_i{background:#eee !important}#res{padding:0 8px}#spe{padding:0 8px}#subform_ctrl{font-size:11px;height:17px;margin:5px 3px 0 17px}.taf{padding:1px 0 3px}.tam{padding:20px 0 3px}.tal{padding:20px 0 3px}.slk .sld{width:250px}.slk{margin-bottom:-3px}.slk .asld{padding-bottom:5px;width:250px}.slk-exp-table{margin-top:1px;margin-bottom:-11px}.slk-exp{color:#373737}.slk-line2{padding-top:2px;padding-bottom:1px}.slk-line3{padding-top:1px;margin-bottom:14px}.ac,.st{line-height:1.24}#mfr,#ofr{font-size:16px;padding:0 8px}.s{color:#444}.ac{color:#373737}a.fl,.flc a,.osl a{color:#12c;text-decoration:none}a:link{color:#1e0fbe;cursor:pointer}div#tads a:link{color:#1e0fbe}div#tads .soc a:link{color:#666}a:visited{color:#61C}.blg a{text-decoration:none}cite,cite a:link{color:#006621;font-style:normal}div#tads cite{color:#006621}.kv{font-size:14px}.kvs{margin-top:1px}.kv,.kvs,.slp{display:block;margin-bottom:1px}.kt{border-spacing:2px 0;margin-top:1px}#mbEnd li{margin:20px 8px 0 0}.f{color:#666}.grn{color:#093}h4.r{display:inline;font-size:small;font-weight:normal}li{line-height:1.2}.mglbl{display:inline-block;vertical-align:top;overflow:hidden;position:relative}.nrsug{margin:0 0 2em 1.3em}.nrsug li{list-style-type:disc}.osl{color:#777;margin-top:4px}.r{font-size:16px;margin:0}.spell{font-size:16px}.spell_orig{font-size:13px}.spell_orig a{text-decoration:none}.spell_orig b i{font-style:normal;font-weight:normal}.star{float:left;margin-top:1px;overflow:hidden}.th{border:1px solid #ebebeb}.thc{font-size:11px}.ts td{padding:0}.videobox{padding-bottom:3px}#leftnav a:hover,#leftnav .tbou a:hover,.slk h3 a,a:hover{text-decoration:underline}#mn{table-layout:fixed;width:100%}.mitem{font-size:13px;line-height:29px;margin-bottom:1px;padding-left:0}.mitem,.mitem a{display:block;width:116px}.mitem .q,#showmodes{padding-left:16px}.msel{border:none;border-left:5px solid #dd4b39;color:#dd4b39;cursor:pointer;font-weight:normal;margin:0 0 1px 0;padding-left:11px}#leftnav .mitem a:hover,#leftnav .mitem:hover,#showmodes:hover{background-color:#eee;text-decoration:none}#leftnav a{color:#222;font-size:13px}#leftnav{padding:22px 4px 4px 0}#leftnav{padding:43px 4px 4px 0}.tbos{color:#dd4b39}#showmodes{font-size:13px;line-height:29px}.lnsec{border-top:1px solid #efefef;font-size:13px;margin:10px 0 14px 10px;padding:0}.tbt{margin-bottom:28px}#tbd{padding:0 0 0 16px}.tbou a{color:#222}#center_col{border:0;padding:21px 8px 0 8px}#center_col{padding:0 8px 0 0}#topstuff .e{padding-top:3px}#topstuff .sp_cnt{padding-top:6px}#ires{padding-top:6px}#ab_name{color:#dd4b39;font:20px \"Arial\";margin-left:15px}.ab_bg{border-bottom:1px solid #dedede;height:56px;padding-top:1px}#resultStats{color:#999;font-size:13px;overflow:hidden;white-space:nowrap}.mslg>td{padding-right:1px;padding-top:2px}.slk .sld{margin-top:2px;padding:5px 0 5px 5px}.fml,.fmp{padding-top:3px}.close_btn{overflow:hidden}#fll a,#bfl a{color:#12c !important;margin:0 12px;text-decoration:none !important}.ng{color:#dd4b39}#mnav .b{text-decoration:underline}#mss{margin:.33em 0 0;padding:0;display:table}.mss_col{display:inline-block;float:left;white-space:nowrap;padding-right:16px}#mss p{margin:0;padding-top:5px}.tn{border-bottom:1px solid #ebebeb;display:block;float:left;height:59px;line-height:54px;min-width:980px;padding:0;position:relative;white-space:nowrap}.tn-mode,a.tn-mode{color:#777;cursor:pointer;display:inline-block;font-family:arial,sans-serif;font-size:small;height:54px;line-height:54px;margin:0 8px;padding:0 8px;text-decoration:none;white-space:nowrap}.tn-selected-mode{border-bottom:3px solid #dd4b39;color:#dd4b39;font-weight:bold;margin:2px 8px 0}a.tn-unselected-mode:hover{color:black;text-decoration:none;white-space:nowrap}body{margin:0;padding:0}.tn-div{display:inline-block;float:left;margin-top:2px}.tn-first-mode,a.tn-first-mode{margin-left:1px}.sd{line-height:43px;padding:0 8px 0 9px}.csb{background:url(/images/nav_logo176.png) no-repeat;overflow:hidden}.close_btn{background:url(/images/nav_logo176.png) no-repeat -138px -84px;height:14px;width:14px;display:block}.star{background:url(/images/nav_logo176.png) no-repeat -94px -245px;height:13px;width:65px;display:block}.star div,.star span{background:url(/images/nav_logo176.png) no-repeat 0 -245px;height:13px;width:65px;display:block}.sr{background:url(/images/nav_logo176.png) no-repeat -66px -292px;height:13px;width:65px;display:block}.sr span{background:url(/images/nav_logo176.png) no-repeat 0 -292px;height:13px;width:65px;display:block}.am-dwn-arw-container{display:inline;margin:0 3px;outline-color:transparent;overflow:hidden;position:relative}.am-dwn-arw-container>div{outline-color:transparent}.am-dwn-arw{border-color:transparent;border-style:solid dashed dashed;border-top-color:green;border-width:4px 4px 0 4px;cursor:pointer;display:inline-block;font-size:0;height:0;left:4px;line-height:0;outline-color:transparent;position:relative;top:-3px;width:0}.am-dwn-arw{display:block;position:absolute;top:10px}.am-dwn-arw{margin-top:-4px}.am-dropdown-menu{display:block;background:#fff;border:1px solid #dcdcdc;font-size:13px;left:0;padding:0;position:absolute;right:auto;white-space:nowrap;z-index:3}.am-dropdown-menu{top:100%}.am-dropdown-menu-item{list-style:none;white-space:nowrap}.am-dropdown-menu-item:hover{background-color:#eee}a.am-dropdown-menu-item-text{color:#333;cursor:pointer;display:block;padding:7px 18px;text-decoration:none}div#tads a.am-dropdown-menu-item-text{color:#333}</style><script type=\"text/javascript\">window.google = {y:{}};google.lc=[];google.li=0;var a=function(e,g,h){var k=\"\",b=new Image,l=google.lc,f=google.li;b.onerror=b.onload=b.onabort=function(){delete l[f]};l[f]=b;h||-1!=g.search(\"&ei=\")||(k=\"&ei=\"+google.kEI);e=h||\"/gen_204?atyp=i&ct=\"+e+\"&cad=\"+g+k+\"&zx=\"+(new Date).getTime();b.src=e;google.li=f+1},c=[\"google\",\"log\"],d=this;c[0]in d||!d.execScript||d.execScript(\"var \"+c[0]);for(var m;c.length&&(m=c.shift());)c.length||void 0===a?d[m]?d=d[m]:d=d[m]={}:d[m]=a;</script><script type=\"text/javascript\">function g(c){var d=\"undefined\",a=\"1\";if(c&&c.getElementById)if(typeof XMLHttpRequest!=d)a=\"2\";else if(typeof ActiveXObject!=d){var b,e,f=\"MSXML2.XMLHTTP\",h=[f+\".6.0\",f+\".3.0\",f,\"Microsoft.XMLHTTP\"];for(b=0,e;e=h[b++];)try{new ActiveXObject(e);a=\"2\"}catch(i){}}return a};window.maybeRedirectForGBV=function(c,d,a){var b=g(c);if(b!=a)d.href=\"http://www.google.com/search?start=401&num=100&query=%22hard+of+hearing%22+alarm+vibrating+site:youtube.com&sei=HlroUsqQNYbnoASDu4CoDA&gbv=\"+b}; maybeRedirectForGBV(document,location,\"2\");</script><script type=\"text/javascript\">(function(){try{var e=this;var ba=function(a,b,c,d){d=d||{};d._sn=[\"cfg\",b,c].join(\".\");window.gbar.logger.ml(a,d)};var h=window.gbar=window.gbar||{},k=window.gbar.i=window.gbar.i||{},ca;function _tvn(a,b){var c=parseInt(a,10);return isNaN(c)?b:c}function _tvf(a,b){var c=parseFloat(a);return isNaN(c)?b:c}function _tvv(a){return!!a}function p(a,b,c){(c||h)[a]=b}h.bv={n:_tvn(\"2\",0),r:\"\",f:\".66.41.\",e:\"0\",m:_tvn(\"1\",1)}; function da(a,b,c){var d=\"on\"+b;if(a.addEventListener)a.addEventListener(b,c,!1);else if(a.attachEvent)a.attachEvent(d,c);else{var g=a[d];a[d]=function(){var a=g.apply(this,arguments),b=c.apply(this,arguments);return void 0==a?b:void 0==b?a:b&&a}}}var ea=function(a){return function(){return h.bv.m==a}},fa=ea(1),ga=ea(2);p(\"sb\",fa);p(\"kn\",ga);k.a=_tvv;k.b=_tvf;k.c=_tvn;k.i=ba;var r=window.gbar.i.i;var s=function(){},t=function(){},u=function(a){var b=new Image,c=ha;b.onerror=b.onload=b.onabort=function(){try{delete ia[c]}catch(a){}};ia[c]=b;b.src=a;ha=c+1},ia=[],ha=0;p(\"logger\",{il:t,ml:s,log:u});var v=window.gbar.logger;var w={},ja={},x=[],ka=k.b(\"0.1\",0.1),la=k.a(\"1\",!0),ma=function(a,b){x.push([a,b])},na=function(a,b){w[a]=b},oa=function(a){return a in w},z={},A=function(a,b){z[a]||(z[a]=[]);z[a].push(b)},B=function(a){A(\"m\",a)},C=function(a,b){var c=document.createElement(\"script\");c.src=a;c.async=la;Math.random()<ka&&(c.onerror=function(){c.onerror=null;s(Error(\"Bundle load failed: name=\"+(b||\"UNK\")+\" url=\"+a))});(document.getElementById(\"xjsc\")||document.getElementsByTagName(\"body\")[0]|| document.getElementsByTagName(\"head\")[0]).appendChild(c)},F=function(a){for(var b=0,c;(c=x[b])&&c[0]!=a;++b);!c||c[1].l||c[1].s||(c[1].s=!0,D(2,a),c[1].url&&C(c[1].url,a),c[1].libs&&E&&E(c[1].libs))},pa=function(a){A(\"gc\",a)},G=null,qa=function(a){G=a},D=function(a,b,c){if(G){a={t:a,b:b};if(c)for(var d in c)a[d]=c[d];try{G(a)}catch(g){}}};p(\"mdc\",w);p(\"mdi\",ja);p(\"bnc\",x);p(\"qGC\",pa);p(\"qm\",B);p(\"qd\",z);p(\"lb\",F);p(\"mcf\",na);p(\"bcf\",ma);p(\"aq\",A);p(\"mdd\",\"\");p(\"has\",oa); p(\"trh\",qa);p(\"tev\",D);if(k.a(\"1\")){var H=k.a(\"1\"),ra=k.a(\"\"),sa=k.a(\"\"),ta=window.gapi={},ua=function(a,b){var c=function(){h.dgl(a,b)};H?B(c):(A(\"gl\",c),F(\"gl\"))},va={},wa=function(a){a=a.split(\":\");for(var b;(b=a.pop())&&va[b];);return!b},E=function(a){function b(){for(var b=a.split(\":\"),d=0,g;g=b[d];++d)va[g]=1;for(b=0;d=x[b];++b)d=d[1],(g=d.libs)&&!d.l&&d.i&&wa(g)&&d.i()}h.dgl(a,b)},I=window.___jsl={};I.h=\"m;/_/scs/abc-static/_/js/k=gapi.gapi.en.7pZFSlfaRc4.O/m=__features__/rt=j/d=1/rs=AItRSTPlPRJK5w5fnAQwtVZr0Ok3a43hng\";I.ms=\"https://apis.google.com\"; I.m=\"\";I.l=[];H||x.push([\"gl\",{url:\"//ssl.gstatic.com/gb/js/abc/glm_e7bb39a7e1a24581ff4f8d199678b1b9.js\"}]);var xa={pu:ra,sh:\"\",si:sa,hl:\"en\"};w.gl=xa;p(\"load\",ua,ta);p(\"dgl\",ua);p(\"agl\",wa);k.o=H};var ya=k.b(\"0.1\",0.001),za=0; function _mlToken(a,b){try{if(1>za){za++;var c,d=a,g=b||{},f=encodeURIComponent,m=\"es_plusone_gc_20140115.0_p0\",l=[\"//www.google.com/gen_204?atyp=i&zx=\",(new Date).getTime(),\"&jexpid=\",f(\"28834\"),\"&srcpg=\",f(\"prop=1\"),\"&jsr=\",Math.round(1/ya),\"&ogev=\",f(\"HlroUovBNcieogTPk4CYCQ\"),\"&ogf=\",h.bv.f,\"&ogrp=\",f(\"1\"),\"&ogv=\",f(\"1390792839.0\"),m?\"&oggv=\"+f(m):\"\",\"&ogd=\",f(\"com\"),\"&ogl=\",f(\"en\")];g._sn&&(g._sn=\"og.\"+g._sn);for(var n in g)l.push(\"&\"), l.push(f(n)),l.push(\"=\"),l.push(f(g[n]));l.push(\"&emsg=\");l.push(f(d.name+\":\"+d.message));var q=l.join(\"\");Aa(q)&&(q=q.substr(0,2E3));c=q;var y=window.gbar.logger._aem(a,c);u(y)}}catch(Y){}}var Aa=function(a){return 2E3<=a.length},Ca=function(a,b){return b};function Fa(a){s=a;p(\"_itl\",Aa,v);p(\"_aem\",Ca,v);p(\"ml\",s,v);a={};w.er=a}k.a(\"\")?Fa(function(a){throw a;}):k.a(\"1\")&&Math.random()<ya&&Fa(_mlToken);var _E=\"left\",Ga=\"og.og.en_US.x-Z5fsbdA18.O\",Ha=k.a(\"\"),K=function(a,b){var c=a.className;J(a,b)||(a.className+=(\"\"!=c?\" \":\"\")+b)},L=function(a,b){var c=a.className,d=RegExp(\"\\\\\\\\s?\\\\\\\\b\"+b+\"\\\\\\\\b\");c&&c.match(d)&&(a.className=c.replace(d,\"\"))},J=function(a,b){var c=RegExp(\"\\\\\\\\b\"+b+\"\\\\\\\\b\"),d=a.className;return!(!d||!d.match(c))},Ia=function(a,b){J(a,b)?L(a,b):K(a,b)},Ja=function(a,b){a[b]=function(c){var d=arguments;h.qm(function(){a[b].apply(this,d)})}},Ka=function(a){a=[\"//www.gstatic.com\", \"/og/_/js/d=1/k=\",Ga,\"/rt=j/m=\",a,\"/rs=\",\"AItRSTNCl2MZV9iEGfbW5mTqYL6lByHMcw\"];Ha&&a.push(\"?host=www.gstatic.com&bust=og.og.en_US.8Iu9i7IUtYE.DU\");a=a.join(\"\");C(a)};p(\"ca\",K);p(\"cr\",L);p(\"cc\",J);k.k=K;k.l=L;k.m=J;k.n=Ia;k.p=Ka;k.q=Ja;var La=[\"gb_71\",\"gb_155\"],M;function Ma(a){M=a}function Na(a){var b=M&&!a.href.match(/.*\\\\/accounts\\\\/ClearSID[?]/)&&encodeURIComponent(M());b&&(a.href=a.href.replace(/([?&]continue=)[^&]*/,\"$1\"+b))}function Oa(a){window.gApplication&&(a.href=window.gApplication.getTabUrl(a.href))}function Pa(a){try{var b=(document.forms[0].q||\"\").value;b&&(a.href=a.href.replace(/([?&])q=[^&]*|$/,function(a,c){return(c||\"&\")+\"q=\"+encodeURIComponent(b)}))}catch(c){r(c,\"sb\",\"pq\")}} var Qa=function(){for(var a=[],b=0,c;c=La[b];++b)(c=document.getElementById(c))&&a.push(c);return a},Ra=function(){var a=Qa();return 0<a.length?a[0]:null},Sa=function(){return document.getElementById(\"gb_70\")},N={},O={},Ta={},P={},Q=void 0,Ya=function(a,b){try{var c=document.getElementById(\"gb\");K(c,\"gbpdjs\");R();Ua(document.getElementById(\"gb\"))&&K(c,\"gbrtl\");if(b&&b.getAttribute){var d=b.getAttribute(\"aria-owns\");if(d.length){var g=document.getElementById(d);if(g){var f=b.parentNode;if(Q==d)Q=void 0, L(f,\"gbto\");else{if(Q){var m=document.getElementById(Q);if(m&&m.getAttribute){var l=m.getAttribute(\"aria-owner\");if(l.length){var n=document.getElementById(l);n&&n.parentNode&&L(n.parentNode,\"gbto\")}}}Va(g)&&Wa(g);Q=d;K(f,\"gbto\")}}}}B(function(){h.tg(a,b,!0)});Xa(a)}catch(q){r(q,\"sb\",\"tg\")}},Za=function(a){B(function(){h.close(a)})},$a=function(a){B(function(){h.rdd(a)})},Ua=function(a){var b,c=\"direction\",d=document.defaultView;d&&d.getComputedStyle?(a=d.getComputedStyle(a,\"\"))&&(b=a[c]):b=a.currentStyle? a.currentStyle[c]:a.style[c];return\"rtl\"==b},bb=function(a,b,c){if(a)try{var d=document.getElementById(\"gbd5\");if(d){var g=d.firstChild,f=g.firstChild,m=document.createElement(\"li\");m.className=b+\" gbmtc\";m.id=c;a.className=\"gbmt\";m.appendChild(a);if(f.hasChildNodes()){c=[[\"gbkc\"],[\"gbf\",\"gbe\",\"gbn\"],[\"gbkp\"],[\"gbnd\"]];for(var d=0,l=f.childNodes.length,g=!1,n=-1,q=0,y;y=c[q];q++){for(var Y=0,$;$=y[Y];Y++){for(;d<l&&J(f.childNodes[d],$);)d++;if($==b){f.insertBefore(m,f.childNodes[d]||null);g=!0;break}}if(g){if(d+ 1<f.childNodes.length){var Ba=f.childNodes[d+1];J(Ba.firstChild,\"gbmh\")||ab(Ba,y)||(n=d+1)}else if(0<=d-1){var Da=f.childNodes[d-1];J(Da.firstChild,\"gbmh\")||ab(Da,y)||(n=d)}break}0<d&&d+1<l&&d++}if(0<=n){var aa=document.createElement(\"li\"),Ea=document.createElement(\"div\");aa.className=\"gbmtc\";Ea.className=\"gbmt gbmh\";aa.appendChild(Ea);f.insertBefore(aa,f.childNodes[n])}h.addHover&&h.addHover(a)}else f.appendChild(m)}}catch(zb){r(zb,\"sb\",\"al\")}},ab=function(a,b){for(var c=b.length,d=0;d<c;d++)if(J(a, b[d]))return!0;return!1},cb=function(a,b,c){bb(a,b,c)},db=function(a,b){bb(a,\"gbe\",b)},eb=function(){B(function(){h.pcm&&h.pcm()})},fb=function(){B(function(){h.pca&&h.pca()})},gb=function(a,b,c,d,g,f,m,l,n,q){B(function(){h.paa&&h.paa(a,b,c,d,g,f,m,l,n,q)})},hb=function(a,b){N[a]||(N[a]=[]);N[a].push(b)},ib=function(a,b){O[a]||(O[a]=[]);O[a].push(b)},jb=function(a,b){Ta[a]=b},kb=function(a,b){P[a]||(P[a]=[]);P[a].push(b)},Xa=function(a){a.preventDefault&&a.preventDefault();a.returnValue=!1;a.cancelBubble= !0},lb=null,Wa=function(a,b){R();if(a){mb(a,\"Opening&hellip;\");S(a,!0);var c=\"undefined\"!=typeof b?b:1E4,d=function(){nb(a)};lb=window.setTimeout(d,c)}},ob=function(a){R();a&&(S(a,!1),mb(a,\"\"))},nb=function(a){try{R();var b=a||document.getElementById(Q);b&&(mb(b,\"This service is currently unavailable.%1$sPlease try again later.\",\"%1$s\"),S(b,!0))}catch(c){r(c,\"sb\",\"sdhe\")}},mb=function(a,b,c){if(a&&b){var d=Va(a);if(d){if(c){d.innerHTML=\"\";b=b.split(c);c=0;for(var g;g=b[c];c++){var f=document.createElement(\"div\");f.innerHTML= g;d.appendChild(f)}}else d.innerHTML=b;S(a,!0)}}},S=function(a,b){var c=void 0!==b?b:!0;c?K(a,\"gbmsgo\"):L(a,\"gbmsgo\")},Va=function(a){for(var b=0,c;c=a.childNodes[b];b++)if(J(c,\"gbmsg\"))return c},R=function(){lb&&window.clearTimeout(lb)},pb=function(a){var b=\"inner\"+a;a=\"offset\"+a;return window[b]?window[b]:document.documentElement&&document.documentElement[a]?document.documentElement[a]:0},qb=function(){return!1},rb=function(){return!!Q};p(\"so\",Ra);p(\"sos\",Qa);p(\"si\",Sa);p(\"tg\",Ya);p(\"close\",Za); p(\"rdd\",$a);p(\"addLink\",cb);p(\"addExtraLink\",db);p(\"pcm\",eb);p(\"pca\",fb);p(\"paa\",gb);p(\"ddld\",Wa);p(\"ddrd\",ob);p(\"dderr\",nb);p(\"rtl\",Ua);p(\"op\",rb);p(\"bh\",N);p(\"abh\",hb);p(\"dh\",O);p(\"adh\",ib);p(\"ch\",P);p(\"ach\",kb);p(\"eh\",Ta);p(\"aeh\",jb);ca=k.a(\"\")?Oa:Pa;p(\"qs\",ca);p(\"setContinueCb\",Ma);p(\"pc\",Na);p(\"bsy\",qb);k.d=Xa;k.j=pb;var sb={};w.base=sb;x.push([\"m\",{url:\"//ssl.gstatic.com/gb/js/sem_4c722a05e98ad64362c7372f0f9c7372.js\"}]);h.sg={c:\"1\"};p(\"wg\",{rg:{}});var tb={tiw:k.c(\"15000\",0),tie:k.c(\"30000\",0)};w.wg=tb;var ub={thi:k.c(\"10000\",0),thp:k.c(\"180000\",0),tho:k.c(\"5000\",0),tet:k.b(\"0.5\",0)};w.wm=ub;if(k.a(\"1\")){var vb=k.a(\"\");x.push([\"gc\",{auto:vb,url:\"//ssl.gstatic.com/gb/js/abc/gci_91f30755d6a6b787dcc2a4062e6e9824.js\",libs:\"googleapis.client:plusone:gapi.iframes\"}]);var wb={version:\"gci_91f30755d6a6b787dcc2a4062e6e9824.js\",index:\"\",lang:\"en\"};w.gc=wb;var xb=function(a){window.googleapis&&window.iframes?a&&a():(a&&pa(a),F(\"gc\"))};p(\"lGC\",xb);k.a(\"1\")&&p(\"lPWF\",xb)};window.__PVT=\"\";if(k.a(\"1\")&&k.a(\"1\")){var yb=function(a){xb(function(){A(\"pw\",a);F(\"pw\")})};p(\"lPW\",yb);x.push([\"pw\",{url:\"//ssl.gstatic.com/gb/js/abc/pwm_45f73e4df07a0e388b0fa1f3d30e7280.js\"}]);var Ab=[],Bb=function(a){Ab[0]=a},Cb=function(a,b){var c=b||{};c._sn=\"pw\";s(a,c)},Db={signed:Ab,elog:Cb,base:\"https://plusone.google.com/u/0\",loadTime:(new Date).getTime()};w.pw=Db;var Eb=function(a,b){for(var c=b.split(\".\"),d=function(){var b=arguments;a(function(){for(var a=h,d=0,f=c.length-1;d<f;++d)a=a[c[d]];a[c[d]].apply(a,b)})},g=h,f=0,m=c.length-1;f< m;++f)g=g[c[f]]=g[c[f]]||{};return g[c[f]]=d};Eb(yb,\"pw.clk\");Eb(yb,\"pw.hvr\");p(\"su\",Bb,h.pw)};var Fb=[1,2,3,4,5,6,9,10,11,13,14,28,29,30,34,35,37,38,39,40,41,42,43,500];var Gb=k.b(\"0.001\",1E-4),Hb=k.b(\"1\",1),Ib=!1,Jb=!1;if(k.a(\"1\")){var Kb=Math.random();Kb<=Gb&&(Ib=!0);Kb<=Hb&&(Jb=!0)}var T=null;function Lb(){var a=0,b=function(b,d){k.a(d)&&(a|=b)};b(1,\"\");b(2,\"\");b(4,\"\");b(8,\"\");return a} function Mb(a,b){var c=Gb,d=Ib,g;g=a;if(!T){T={};for(var f=0;f<Fb.length;f++){var m=Fb[f];T[m]=!0}}if(g=!!T[g])c=Hb,d=Jb;if(d){d=encodeURIComponent;g=\"es_plusone_gc_20140115.0_p0\";h.rp?(f=h.rp(),f=\"-1\"!=f?f:\"1\"):f=\"1\";c=[\"//www.google.com/gen_204?atyp=i&zx=\",(new Date).getTime(),\"&oge=\",a,\"&ogex=\",d(\"28834\"),\"&ogev=\",d(\"HlroUovBNcieogTPk4CYCQ\"),\"&ogf=\",h.bv.f,\"&ogp=\",d(\"1\"),\"&ogrp=\",d(f),\"&ogsr=\",Math.round(1/c),\"&ogv=\",d(\"1390792839.0\"), g?\"&oggv=\"+d(g):\"\",\"&ogd=\",d(\"com\"),\"&ogl=\",d(\"en\"),\"&ogus=\",Lb()];if(b){\"ogw\"in b&&(c.push(\"&ogw=\"+b.ogw),delete b.ogw);var l;g=b;f=[];for(l in g)0!=f.length&&f.push(\",\"),f.push(Nb(l)),f.push(\".\"),f.push(Nb(g[l]));l=f.join(\"\");\"\"!=l&&(c.push(\"&ogad=\"),c.push(d(l)))}u(c.join(\"\"))}}function Nb(a){\"number\"==typeof a&&(a+=\"\");return\"string\"==typeof a?a.replace(\".\",\"%2E\").replace(\",\",\"%2C\"):a}t=Mb;p(\"il\",t,v);var Ob={};w.il=Ob;var Pb=function(a,b,c,d,g,f,m,l,n,q){B(function(){h.paa(a,b,c,d,g,f,m,l,n,q)})},Qb=function(){B(function(){h.prm()})},Rb=function(a){B(function(){h.spn(a)})},Sb=function(a){B(function(){h.sps(a)})},Tb=function(a){B(function(){h.spp(a)})},Ub={\"27\":\"//ssl.gstatic.com/gb/images/silhouette_24.png\",\"27\":\"//ssl.gstatic.com/gb/images/silhouette_24.png\",\"27\":\"//ssl.gstatic.com/gb/images/silhouette_24.png\"},Vb=function(a){return(a=Ub[a])||\"//ssl.gstatic.com/gb/images/silhouette_24.png\"}, Wb=function(){B(function(){h.spd()})};p(\"spn\",Rb);p(\"spp\",Tb);p(\"sps\",Sb);p(\"spd\",Wb);p(\"paa\",Pb);p(\"prm\",Qb);hb(\"gbd4\",Qb); if(k.a(\"\")){var Xb={d:k.a(\"\"),e:\"\",sanw:k.a(\"\"),p:\"//ssl.gstatic.com/gb/images/silhouette_96.png\",cp:\"1\",xp:k.a(\"1\"),mg:\"%1$s (delegated)\",md:\"%1$s (default)\",mh:\"220\",s:\"\",pp:Vb,ppl:k.a(\"\"),ppa:k.a(\"\"), ppm:\"Google+ page\"};w.prf=Xb};var U,Yb,V,Zb,W=0,$b=function(a,b,c){if(a.indexOf)return a.indexOf(b,c);if(Array.indexOf)return Array.indexOf(a,b,c);for(c=null==c?0:0>c?Math.max(0,a.length+c):c;c<a.length;c++)if(c in a&&a[c]===b)return c;return-1},X=function(a,b){return-1==$b(a,W)?(r(Error(W+\"_\"+b),\"up\",\"caa\"),!1):!0},bc=function(a,b){X([1,2],\"r\")&&(U[a]=U[a]||[],U[a].push(b),2==W&&window.setTimeout(function(){b(ac(a))},0))},cc=function(a,b,c){if(X([1],\"nap\")&&c){for(var d=0;d<c.length;d++)Yb[c[d]]=!0;h.up.spl(a,b,\"nap\",c)}},dc= function(a,b,c){if(X([1],\"aop\")&&c){if(V)for(var d in V)V[d]=V[d]&&-1!=$b(c,d);else for(V={},d=0;d<c.length;d++)V[c[d]]=!0;h.up.spl(a,b,\"aop\",c)}},ec=function(){try{if(W=2,!Zb){Zb=!0;for(var a in U)for(var b=U[a],c=0;c<b.length;c++)try{b[c](ac(a))}catch(d){r(d,\"up\",\"tp\")}}}catch(g){r(g,\"up\",\"mtp\")}},ac=function(a){if(X([2],\"ssp\")){var b=!Yb[a];V&&(b=b&&!!V[a]);return b}};Zb=!1;U={};Yb={};V=null; var W=1,fc=function(a){var b=!1;try{b=a.cookie&&a.cookie.match(\"PREF\")}catch(c){}return!b},gc=function(){try{return!!e.localStorage&&\"object\"==typeof e.localStorage}catch(a){return!1}},hc=function(a){return a&&a.style&&a.style.g&&\"undefined\"!=typeof a.load},ic=function(a,b,c,d){try{fc(document)||(d||(b=\"og-up-\"+b),gc()?e.localStorage.setItem(b,c):hc(a)&&(a.setAttribute(b,c),a.save(a.id)))}catch(g){g.code!=DOMException.QUOTA_EXCEEDED_ERR&&r(g,\"up\",\"spd\")}},jc=function(a,b,c){try{if(fc(document))return\"\"; c||(b=\"og-up-\"+b);if(gc())return e.localStorage.getItem(b);if(hc(a))return a.load(a.id),a.getAttribute(b)}catch(d){d.code!=DOMException.QUOTA_EXCEEDED_ERR&&r(d,\"up\",\"gpd\")}return\"\"},kc=function(a,b,c){a.addEventListener?a.addEventListener(b,c,!1):a.attachEvent&&a.attachEvent(\"on\"+b,c)},lc=function(a){for(var b=0,c;c=a[b];b++){var d=h.up;c=c in d&&d[c];if(!c)return!1}return!0},mc=function(a,b){try{if(fc(a))return-1;var c=a.cookie.match(/OGPC=([^;]*)/);if(c&&c[1]){var d=c[1].match(RegExp(\"\\\\\\\\b\"+b+\"-([0-9]+):\")); if(d&&d[1])return parseInt(d[1],10)}}catch(g){g.code!=DOMException.QUOTA_EXCEEDED_ERR&&r(g,\"up\",\"gcc\")}return-1};p(\"up\",{r:bc,nap:cc,aop:dc,tp:ec,ssp:ac,spd:ic,gpd:jc,aeh:kc,aal:lc,gcc:mc});var Z=function(a,b){a[b]=function(c){var d=arguments;h.qm(function(){a[b].apply(this,d)})}};Z(h.up,\"sl\");Z(h.up,\"si\");Z(h.up,\"spl\");Z(h.up,\"dpc\");Z(h.up,\"iic\");h.mcf(\"up\",{sp:k.b(\"0.01\",1),tld:\"com\",prid:\"1\"});function nc(){function a(){for(var b;(b=f[m++])&&\"m\"!=b[0]&&!b[1].auto;);b&&(D(2,b[0]),b[1].url&&C(b[1].url,b[0]),b[1].libs&&E&&E(b[1].libs));m<f.length&&setTimeout(a,0)}function b(){0<g--?setTimeout(b,0):a()}var c=k.a(\"1\"),d=k.a(\"\"),g=3,f=x,m=0,l=window.gbarOnReady;if(l)try{l()}catch(n){r(n,\"ml\",\"or\")}d?p(\"ldb\",a):c?da(window,\"load\",b):b()}p(\"rdl\",nc);}catch(e){window.gbar&&gbar.logger&&gbar.logger.ml(e,{\"_sn\":\"cfg.init\"});}})(); (function(){try{var a=window.gbar;a.mcf(\"pm\",{p:\"\"});}catch(e){window.gbar&&gbar.logger&&gbar.logger.ml(e,{\"_sn\":\"cfg.init\"});}})(); (function(){try{var d=window.gbar.i.i;var e=window.gbar;var f=e.i;var g=f.c(\"1\",0),h=/\\\\bgbmt\\\\b/,k=function(a){try{var b=document.getElementById(\"gb_\"+g),c=document.getElementById(\"gb_\"+a);b&&f.l(b,h.test(b.className)?\"gbm0l\":\"gbz0l\");c&&f.k(c,h.test(c.className)?\"gbm0l\":\"gbz0l\")}catch(l){d(l,\"sj\",\"ssp\")}g=a},m=e.qs,n=function(a){var b;b=a.href;var c=window.location.href.match(/.*?:\\\\/\\\\/[^\\\\/]*/)[0],c=RegExp(\"^\"+c+\"/search\\\\\\\\?\");(b=c.test(b))&&!/(^|\\\\\\\\?|&)ei=/.test(a.href)&&(b=window.google)&&b.kEXPI&&(a.href+=\"&ei=\"+b.kEI)},p=function(a){m(a); n(a)},q=function(){if(window.google&&window.google.sn){var a=/.*hp$/;return a.test(window.google.sn)?\"\":\"1\"}return\"-1\"};e.rp=q;e.slp=k;e.qs=p;e.qsi=n;}catch(e){window.gbar&&gbar.logger&&gbar.logger.ml(e,{\"_sn\":\"cfg.init\"});}})(); (function(){try{window.gbar.rdl();}catch(e){window.gbar&&gbar.logger&&gbar.logger.ml(e,{\"_sn\":\"cfg.init\"});}})(); </script><script>(function(){var a=function(f){for(var g=f.parentElement,d=null,e=0;e<g.childNodes.length;e++){var h=g.childNodes[e];-1<(\" \"+h.className+\" \").indexOf(\" am-dropdown-menu \")&&(d=h)}\"none\"==d.style.display?(d.style.display=\"\",google.log(\"hpam\",\"&ved=\"+f.getAttribute(\"data-ved\"))):d.style.display=\"none\"},b=[\"google\",\"sham\"],c=this;b[0]in c||!c.execScript||c.execScript(\"var \"+b[0]);for(var k;b.length&&(k=b.shift());)b.length||void 0===a?c[k]?c=c[k]:c=c[k]={}:c[k]=a;}).call(window);</script></head><body bgcolor=\"#ffffff\" marginheight=\"0\" marginwidth=\"0\" topmargin=\"0\"><div id=gb><script>window.gbar&&gbar.eli&&gbar.eli()</script><div id=gbw><div id=gbz><span class=gbtcb></span><ol id=gbzc class=gbtc><li class=gbt><a onclick=gbar.logger.il(1,{t:1}); class=\"gbzt gbz0l gbp1\" id=gb_1 href=\"https://www.google.com/webhp?tab=ww\"><span class=gbtb2></span><span class=gbts>Search</span></a></li><li class=gbt><a onclick=gbar.qs(this);gbar.logger.il(1,{t:2}); class=gbzt id=gb_2 href=\"http://www.google.com/search?num=100&query=%22hard+of+hearing%22+alarm+vibrating+site:youtube.com&um=1&ie=UTF-8&hl=en&tbm=isch&source=og&sa=N&tab=wi\"><span class=gbtb2></span><span class=gbts>Images</span></a></li><li class=gbt><a onclick=gbar.qs(this);gbar.logger.il(1,{t:8}); class=gbzt id=gb_8 href=\"http://maps.google.com/maps?num=100&query=%22hard+of+hearing%22+alarm+vibrating+site:youtube.com&um=1&ie=UTF-8&hl=en&sa=N&tab=wl\"><span class=gbtb2></span><span class=gbts>Maps</span></a></li><li class=gbt><a onclick=gbar.qs(this);gbar.logger.il(1,{t:78}); class=gbzt id=gb_78 href=\"https://play.google.com/?num=100&query=%22hard+of+hearing%22+alarm+vibrating+site:youtube.com&um=1&ie=UTF-8&hl=en&sa=N&tab=w8\"><span class=gbtb2></span><span class=gbts>Play</span></a></li><li class=gbt><a onclick=gbar.qs(this);gbar.logger.il(1,{t:36}); class=gbzt id=gb_36 href=\"http://www.youtube.com/results?num=100&query=%22hard+of+hearing%22+alarm+vibrating+site:youtube.com&um=1&ie=UTF-8&sa=N&tab=w1\"><span class=gbtb2></span><span class=gbts>YouTube</span></a></li><li class=gbt><a onclick=gbar.logger.il(1,{t:5}); class=gbzt id=gb_5 href=\"http://news.google.com/nwshp?hl=en&tab=wn\"><span class=gbtb2></span><span class=gbts>News</span></a></li><li class=gbt><a onclick=gbar.logger.il(1,{t:23}); class=gbzt id=gb_23 href=\"https://mail.google.com/mail/?tab=wm\"><span class=gbtb2></span><span class=gbts>Gmail</span></a></li><li class=gbt><a onclick=gbar.logger.il(1,{t:25}); class=gbzt id=gb_25 href=\"https://drive.google.com/?tab=wo\"><span class=gbtb2></span><span class=gbts>Drive</span></a></li><li class=gbt><a class=gbgt id=gbztm href=\"http://www.google.com/intl/en/options/\" onclick=\"gbar.tg(event,this)\" aria-haspopup=true aria-owns=gbd><span class=gbtb2></span><span id=gbztms class=\"gbts gbtsa\"><span id=gbztms1>More</span><span class=gbma></span></span></a><div class=gbm id=gbd aria-owner=gbztm><div id=gbmmb class=\"gbmc gbsb gbsbis\"><ol id=gbmm class=\"gbmcc gbsbic\"><li class=gbmtc><a onclick=gbar.logger.il(1,{t:24}); class=gbmt id=gb_24 href=\"https://www.google.com/calendar?tab=wc\">Calendar</a></li><li class=gbmtc><a onclick=gbar.qs(this);gbar.logger.il(1,{t:51}); class=gbmt id=gb_51 href=\"http://translate.google.com/?num=100&query=%22hard+of+hearing%22+alarm+vibrating+site:youtube.com&um=1&ie=UTF-8&hl=en&sa=N&tab=wT\">Translate</a></li><li class=gbmtc><a onclick=gbar.logger.il(1,{t:17}); class=gbmt id=gb_17 href=\"http://www.google.com/mobile/?hl=en&tab=wD\">Mobile</a></li><li class=gbmtc><a onclick=gbar.qs(this);gbar.logger.il(1,{t:10}); class=gbmt id=gb_10 href=\"http://www.google.com/search?num=100&query=%22hard+of+hearing%22+alarm+vibrating+site:youtube.com&um=1&ie=UTF-8&hl=en&tbo=u&tbm=bks&source=og&sa=N&tab=wp\">Books</a></li><li class=gbmtc><a onclick=gbar.logger.il(1,{t:172}); class=gbmt id=gb_172 href=\"https://www.google.com/offers?utm_source=xsell&utm_medium=products&utm_campaign=sandbar&hl=en&tab=wG\">Offers</a></li><li class=gbmtc><a onclick=gbar.logger.il(1,{t:212}); class=gbmt id=gb_212 href=\"https://wallet.google.com/manage/?tab=wa\">Wallet</a></li><li class=gbmtc><a onclick=gbar.qs(this);gbar.logger.il(1,{t:6}); class=gbmt id=gb_6 href=\"http://www.google.com/search?num=100&query=%22hard+of+hearing%22+alarm+vibrating+site:youtube.com&um=1&ie=UTF-8&hl=en&tbo=u&tbm=shop&source=og&sa=N&tab=wf\">Shopping</a></li><li class=gbmtc><a onclick=gbar.logger.il(1,{t:30}); class=gbmt id=gb_30 href=\"http://www.blogger.com/?tab=wj\">Blogger</a></li><li class=gbmtc><a onclick=gbar.qs(this);gbar.logger.il(1,{t:27}); class=gbmt id=gb_27 href=\"http://www.google.com/finance?num=100&query=%22hard+of+hearing%22+alarm+vibrating+site:youtube.com&um=1&ie=UTF-8&sa=N&tab=we\">Finance</a></li><li class=gbmtc><a onclick=gbar.qs(this);gbar.logger.il(1,{t:31}); class=gbmt id=gb_31 href=\"https://plus.google.com/photos?num=100&query=%22hard+of+hearing%22+alarm+vibrating+site:youtube.com&um=1&ie=UTF-8&sa=N&tab=wq\">Photos</a></li><li class=gbmtc><a onclick=gbar.qs(this);gbar.logger.il(1,{t:12}); class=gbmt id=gb_12 href=\"http://www.google.com/search?num=100&query=%22hard+of+hearing%22+alarm+vibrating+site:youtube.com&um=1&ie=UTF-8&hl=en&tbo=u&tbm=vid&source=og&sa=N&tab=wv\">Videos</a></li><li class=gbmtc><div class=\"gbmt gbmh\"></div></li><li class=gbmtc><a onclick=gbar.logger.il(1,{t:66}); href=\"http://www.google.com/intl/en/options/\" class=gbmt>Even more &raquo;</a></li></ol><div class=gbsbt></div><div class=gbsbb></div></div></div></li></ol></div><div id=gbg><h2 class=gbxx>Account Options</h2><span class=gbtcb></span><ol class=gbtc><li class=gbt><a target=_top href=\"https://accounts.google.com/ServiceLogin?hl=en&continue=http://www.google.com/search%3Fstart%3D401%26num%3D100%26query%3D%2522hard%2Bof%2Bhearing%2522%2Balarm%2Bvibrating%2Bsite:youtube.com\" onclick=\"gbar.logger.il(9,{l:\\'i\\'})\" id=gb_70 class=gbgt><span class=gbtb2></span><span id=gbgs4 class=gbts><span id=gbi4s1>Sign in</span></span></a></li><li class=\"gbt gbtb\"><span class=gbts></span></li><li class=gbt><a class=gbgt id=gbg5 href=\"http://www.google.com/preferences?hl=en\" title=\"Options\" onclick=\"gbar.tg(event,this)\" aria-haspopup=true aria-owns=gbd5><span class=gbtb2></span><span id=gbgs5 class=gbts><span id=gbi5></span></span></a><div class=gbm id=gbd5 aria-owner=gbg5><div class=gbmc><ol id=gbom class=gbmcc><li class=\"gbkc gbmtc\"><a  class=gbmt href=\"/preferences?hl=en\">Search settings</a></li><li class=gbmtc><div class=\"gbmt gbmh\"></div></li><li class=\"gbkp gbmtc\"><a class=gbmt href=\"http://www.google.com/history/optout?hl=en\">Web History</a></li></ol></div></div></li></ol></div></div><div id=gbx3></div><div id=gbx4></div><script>window.gbar&&gbar.elp&&gbar.elp()</script></div><table border=\"0\" cellpadding=\"0\" cellspacing=\"0\" id=\"mn\" style=\"position:relative\"><tr><th width=\"132\"></th><th width=\"573\"></th><th width=\"278\"></th><th></th></tr><tr><td class=\"sfbgg\" valign=\"top\"><div id=\"logocont\"><h1><a href=\"/webhp?hl=en\" id=\"logo\" title=\"Go to Google Home\" style=\"background:url(/images/nav_logo176.png) no-repeat 0 -41px;height:37px;width:95px;display:block\"></a></h1></div></td><td class=\"sfbgg\" valign=\"top\" colspan=\"2\" style=\"padding-left:0px\"><form action=\"/search\" name=\"gs\" id=\"tsf\" method=\"GET\" style=\"display:block;margin:0;background:none\"><table border=\"0\" cellpadding=\"0\" cellspacing=\"0\" style=\"margin-top:20px;position:relative\"><tr><td><div class=\"lst-a\"><table cellpadding=\"0\" cellspacing=\"0\"><tr><td class=\"lst-td\" width=\"555\" valign=\"bottom\"><div style=\"position:relative;zoom:1\"><input class=\"lst\" value=\\'\"hard of hearing\" alarm vibrating site:youtube.com\\' title=\"Search\" id=\"sbhost\" autocomplete=\"off\" type=\"text\" name=\"q\" maxlength=\"2048\"></div></td></tr></table></div></td><td><div class=\"ds\"><div class=\"lsbb\"><button class=\"lsb\" value=\"Search\" type=\"submit\" name=\"btnG\"><span class=\"sbico\" style=\"background:url(/images/nav_logo176.png) no-repeat -36px -111px;height:14px;width:13px;display:block\"></span></button></div></div></td><td style=\"font-size:11px;padding-left:13px\"></td></tr></table><input name=\"num\" value=\"100\" type=\"hidden\"><input name=\"query\" value=\\'\"hard of hearing\" alarm vibrating site:youtube.com\\' type=\"hidden\"></form></td><td class=\"sfbgg\">&nbsp;</td></tr><style>.sfbgg{background:#f1f1f1;border-bottom:1px solid #e5e5e5;height:71px}#logocont{z-index:1;padding-left:4px;padding-top:4px}#logo{display:block;height:49px;margin-top:12px;margin-left:12px;overflow:hidden;position:relative;width:137px}.lst-a{background:white;border:1px solid #d9d9d9;border-top-color:silver;width:570px}.lst-a:hover{border:1px solid #b9b9b9;border-top:1px solid #a0a0a0;box-shadow:inset 0 1px 2px rgba(0,0,0,0.1);-webkit-box-shadow:inset 0 1px 2px rgba(0,0,0,0.1);-moz-box-shadow:inset 0 1px 2px rgba(0,0,0,0.1)}.lst-td{border:none;padding:0}.tia input{border-right:none;padding-right:0}.tia{padding-right:0}.lst{background:none;border:none;color:#000;font:16px arial,sans-serif;float:left;height:22px;margin:0;padding:3px 6px 2px 9px;vertical-align:top;width:100%;word-break:break-all}.lst:focus{outline:none}.lst-b{background:none;border:none;height:26px;padding:0 6px 0 12px}.ds{border-right:1px solid #e7e7e7;position:relative;height:29px;margin-left:17px;z-index:100}.lsbb{background-image:-moz-linear-gradient(top,#4d90fe,#4787ed);background-image:-ms-linear-gradient(top,#4d90fe,#4787ed);background-image:-o-linear-gradient(top,#4d90fe,#4787ed);background-image:-webkit-gradient(linear,left top,left bottom,from(#4d90fe),to(#4787ed));background-image:-webkit-linear-gradient(top,#4d90fe,#4787ed);background-image:linear-gradient(top,#4d90fe,#4787ed);border:1px solid #3079ed;border-radius:2px;background-color:#4d90fe;height:27px;width:68px}.lsbb:hover{background-image:-moz-linear-gradient(top,#4d90fe,#357ae8);background-image:-ms-linear-gradient(top,#4d90fe,#357ae8);background-image:-o-linear-gradient(top,#4d90fe,#357ae8);background-image:-webkit-gradient(linear,left top,left bottom,from(#4d90fe),to(#357ae8));background-image:-webkit-linear-gradient(top,#4d90fe,#357ae8);background-color:#357ae8;background-image:linear-gradient(top,#4d90fe,#357ae8);border:1px solid #2f5bb7}.lsb{background:transparent;background-position:0 -343px;background-repeat:repeat-x;border:none;color:#000;cursor:default;font:15px arial,sans-serif;height:29px;margin:0;vertical-align:top;width:100%}.lsb:active{-moz-box-shadow:inset 0 1px 2px rgba(0,0,0,0.3);-webkit-box-shadow:inset 0 1px 2px rgba(0,0,0,0.3);box-shadow:inset 0 1px 2px rgba(0,0,0,0.3);background:transparent;color:transparent;overflow:hidden;position:relative;width:100%}.sbico{color:transparent;display:inline-block;height:15px;margin:0 auto;margin-top:2px;width:15px;overflow:hidden}</style><tr style=\"position:relative\"><td><div style=\"border-bottom:1px solid #ebebeb;height:59px\"></div></td><td colspan=\"2\"><div class=\"tn\"><div class=\"tn-mode tn-selected-mode tn-div tn-first-mode\">Web</div><div class=\"tn-div\"><a class=\"tn-mode tn-unselected-mode\" href=\"/search?q=%22hard+of+hearing%22+alarm+vibrating+site:youtube.com&amp;num=100&amp;prmd=ivns&amp;source=lnms&amp;tbm=isch&amp;sa=X&amp;ei=HlroUsqQNYbnoASDu4CoDA&amp;ved=0CAUQ_AU4ZQ\">Images</a></div><div class=\"tn-div\"><a class=\"tn-mode tn-unselected-mode\" href=\"/search?q=%22hard+of+hearing%22+alarm+vibrating+site:youtube.com&amp;num=100&amp;prmd=ivns&amp;source=lnms&amp;tbm=vid&amp;sa=X&amp;ei=HlroUsqQNYbnoASDu4CoDA&amp;ved=0CAYQ_AU4ZQ\">Videos</a></div><div class=\"tn-div\"><a class=\"tn-mode tn-unselected-mode\" href=\"/search?q=%22hard+of+hearing%22+alarm+vibrating+site:youtube.com&amp;num=100&amp;prmd=ivns&amp;source=lnms&amp;tbm=nws&amp;sa=X&amp;ei=HlroUsqQNYbnoASDu4CoDA&amp;ved=0CAcQ_AU4ZQ\">News</a></div><div class=\"tn-div\"><a class=\"tn-mode tn-unselected-mode\" href=\"/search?q=%22hard+of+hearing%22+alarm+vibrating+site:youtube.com&amp;num=100&amp;prmd=ivns&amp;source=lnms&amp;tbm=shop&amp;sa=X&amp;ei=HlroUsqQNYbnoASDu4CoDA&amp;ved=0CAgQ_AU4ZQ\">Shopping</a></div><div class=\"tn-div\"><a class=\"tn-mode tn-unselected-mode\" href=\"http://maps.google.com/maps?num=100&amp;query=%22hard+of+hearing%22+alarm+vibrating+site:youtube.com&amp;q=%22hard+of+hearing%22+alarm+vibrating+site:youtube.com&amp;um=1&amp;ie=UTF-8&amp;sa=X&amp;ei=HlroUsqQNYbnoASDu4CoDA&amp;ved=0CAkQ_AU4ZQ\">Maps</a></div><div class=\"tn-div\"><a class=\"tn-mode tn-unselected-mode\" href=\"/search?q=%22hard+of+hearing%22+alarm+vibrating+site:youtube.com&amp;num=100&amp;prmd=ivns&amp;source=lnms&amp;tbm=bks&amp;sa=X&amp;ei=HlroUsqQNYbnoASDu4CoDA&amp;ved=0CAoQ_AU4ZQ\">Books</a></div></div><div style=\"border-bottom:1px solid #ebebeb;height:59px\"></div></td><td><div style=\"border-bottom:1px solid #ebebeb;height:59px\"></div></td></tr><tr><td id=\"leftnav\" valign=\"top\"><div><h2 class=\"hd\">Search Options</h2><ul class=\"med\" id=\"tbd\"><li><ul class=\"tbt\"><li class=\"tbos\" id=\"qdr_\">Any time</li><li class=\"tbou\" id=\"qdr_h\"><a class=\"q\" href=\"/search?q=%22hard+of+hearing%22+alarm+vibrating+site:youtube.com&amp;num=100&amp;prmd=ivns&amp;source=lnt&amp;tbs=qdr:h&amp;sa=X&amp;ei=HlroUsqQNYbnoASDu4CoDA&amp;ved=0CA8QpwUoAThl\">Past hour</a></li><li class=\"tbou\" id=\"qdr_d\"><a class=\"q\" href=\"/search?q=%22hard+of+hearing%22+alarm+vibrating+site:youtube.com&amp;num=100&amp;prmd=ivns&amp;source=lnt&amp;tbs=qdr:d&amp;sa=X&amp;ei=HlroUsqQNYbnoASDu4CoDA&amp;ved=0CBAQpwUoAjhl\">Past 24 hours</a></li><li class=\"tbou\" id=\"qdr_w\"><a class=\"q\" href=\"/search?q=%22hard+of+hearing%22+alarm+vibrating+site:youtube.com&amp;num=100&amp;prmd=ivns&amp;source=lnt&amp;tbs=qdr:w&amp;sa=X&amp;ei=HlroUsqQNYbnoASDu4CoDA&amp;ved=0CBEQpwUoAzhl\">Past week</a></li><li class=\"tbou\" id=\"qdr_m\"><a class=\"q\" href=\"/search?q=%22hard+of+hearing%22+alarm+vibrating+site:youtube.com&amp;num=100&amp;prmd=ivns&amp;source=lnt&amp;tbs=qdr:m&amp;sa=X&amp;ei=HlroUsqQNYbnoASDu4CoDA&amp;ved=0CBIQpwUoBDhl\">Past month</a></li><li class=\"tbou\" id=\"qdr_y\"><a class=\"q\" href=\"/search?q=%22hard+of+hearing%22+alarm+vibrating+site:youtube.com&amp;num=100&amp;prmd=ivns&amp;source=lnt&amp;tbs=qdr:y&amp;sa=X&amp;ei=HlroUsqQNYbnoASDu4CoDA&amp;ved=0CBMQpwUoBThl\">Past year</a></li></ul></li><li><ul class=\"tbt\"><li class=\"tbos\" id=\"whv_\">All results</li><li class=\"tbou\" id=\"li_1\"><a class=\"q\" href=\"/search?q=%22hard+of+hearing%22+alarm+vibrating+site:youtube.com&amp;num=100&amp;prmd=ivns&amp;source=lnt&amp;tbs=li:1&amp;sa=X&amp;ei=HlroUsqQNYbnoASDu4CoDA&amp;ved=0CBYQpwUoAThl\">Verbatim</a></li></ul></li></ul></div></td><td valign=\"top\"><div id=\"center_col\"><div class=\"sd\" id=\"resultStats\">Page 3 of 190 results</div><div id=\"tads\" style=\"margin:0 0 11px;min-height:0;padding:2px 8px 1px 7px;background:#fff7ed\"><h2 class=\"spon\" style=\"margin:0 -35px 0 0;padding:4px 4px 4px 0;text-align:left;font-size:13px !important\"><span>Ad related to <b>\"hard of hearing\" alarm vibrating site:youtube.com</b></span><a href=\"/settings/ads/preferences?hl=en\" target=\"_blank\" style=\"cursor:pointer\"><span class=\"mglbl\" title=\"Why this ad?\" style=\"height:12px;width:12px;margin-top:-1px;margin-left:3px;top:3px;background:url(/images/nav_logo176.png) no-repeat;background-position:-96px -41px\"></span></a></h2><ol style=\"padding:4px 0\"><li class=\"taf\"><h3><a id=\"pa1\" href=\"/aclk?sa=L&amp;ai=CcWSBHlroUsX2NdKE-gPMx4C4C9euvXSJibzDgwH9xu61AggAEAFQ_IaTyQdgyYajh9SjgBCQAQXIAQGqBCZP0N5RiQL_q6JJoLkkkZo9QBHKAY4XMCMGKY79Gbblg1DnEW2LkYAHjamDCZAHAQ&amp;sig=AOD64_0VL4ClkoiVEI63PK1m-l1zfXNv1g&amp;ved=0CBkQ0Qw4ZQ&amp;adurl=http://www.amazon.com/s/%3Fie%3DUTF8%26keywords%3Dalarm%2Bvibration%26tag%3Dgooghydr-20%26index%3Daps%26hvadid%3D35258593921%26hvpos%3D5t1%26hvexid%3D%26hvnetw%3Dg%26hvrand%3D906360780981735183%26hvpone%3D%26hvptwo%3D%26hvqmt%3Db%26hvdev%3Dc%26ref%3Dpd_sl_8dcfgh3kls_b\" style=\"zoom:1\"><b>Alarm Vibration</b> at Amazon - Amazon.com</a></h3><div class=\"kv\" style=\"margin-bottom:2px;zoom:1\"><cite>www.amazon.com/Home</cite>\\xe2\\x80\\x8e<div class=\"am-dwn-arw-container\"><div onclick=\"google.sham(this);\" aria-expanded=\"false\" aria-haspopup=\"true\" tabindex=\"0\" data-ved=\"0CBoQ7B04ZQ\" style=\"display:inline\"><span class=\"am-dwn-arw\"></span></div><div class=\"am-dropdown-menu\" role=\"menu\" tabindex=\"-1\" style=\"display:none\"><ul><li class=\"am-dropdown-menu-item\" style=\"margin:0\"><a class=\"am-dropdown-menu-item-text\" href=\"/url?q=/settings/ads/preferences%3Fhl%3Den&amp;sa=U&amp;ei=HlroUsqQNYbnoASDu4CoDA&amp;ved=0CBwQgRM4ZQ&amp;usg=AFQjCNFZDGon1gvA-sXM0d8vKlCPk1To5Q\" target=\"_blank\">Why this ad?</a></li></ul></div></div></div><div class=\"f\"><div style=\"float:left\">amazon.com is rated <span class=\"star sr\" style=\"display:-moz-inline-box;display:inline-block;float:none;vertical-align:top\"><span style=\"width:59px\">&nbsp;</span></span> (<a class=\"fl\" href=\"/shopping/seller?q=amazon.com&mrqs=1&hl=en\">323 reviews</a>)</div></div><div style=\"clear:both\"></div><span class=\"ac\">Low Prices on <b>Alarm vibration</b> Free Shipping on Qualified Orders.</span><table class=\"slk slk\" style=\"border-collapse:collapse;margin-top:8px\"><tr><td style=\"padding-left:28px;vertical-align:top\"><div class=\"asld\"><a href=\"/aclk?sa=L&amp;ai=CzAo1HlroUsX2NdKE-gPMx4C4C9euvXSJibzDgwH9xu61AggAEAFQ4q2syAZgyYajh9SjgBCQAQXIAQGqBCZP0N5RiQL_q6JJoLkkkZo9QBHKAY4XMCMGKY79Gbblg1DnEW2LkdIGDBDh_q4BGIHbmAgoAYAHjamDCZAHAQ&amp;sig=AOD64_0LO3ZUQkjAajBXC6f0XuPWWyVirQ&amp;ctype=4&amp;ved=0CCAQwgUoADhl&amp;adurl=http://www.amazon.com/b/%3Fie%3DUTF8%26node%3D284507%26ext%3D470-1516%26ref%3Dpd_sl_8dcfgh3kls_b%26tag%3Dgooghydr-20%26hvpos%3D5t1%26hvexid%3D%26hvnetw%3Dg%26hvrand%3D5603104961104121289%26hvpone%3D%26hvptwo%3D%26hvqmt%3Db%26hvdev%3Dc\">Kitchen & Dining</a></div><div class=\"asld\"><a href=\"/aclk?sa=L&amp;ai=CtHA8HlroUsX2NdKE-gPMx4C4C9euvXSJibzDgwH9xu61AggAEAFQhevb0P3_____AWDJhqOH1KOAEJABBcgBAaoEJk_Q3lGJAv-rokmguSSRmj1AEcoBjhcwIwYpjv0ZtuWDUOcRbYuR0gYMEOH-rgEY2d-YCCgBgAeNqYMJkAcB&amp;sig=AOD64_1eOiTlEXbMJP-wqdojN_CoBxEyEA&amp;ctype=4&amp;ved=0CCEQwgUoAThl&amp;adurl=http://www.amazon.com/b/%3Fie%3DUTF8%26node%3D289814%26ext%3D470-1520%26ref%3Dpd_sl_8dcfgh3kls_b%26tag%3Dgooghydr-20%26hvpos%3D5t1%26hvexid%3D%26hvnetw%3Dg%26hvrand%3D681268563422714177%26hvpone%3D%26hvptwo%3D%26hvqmt%3Db%26hvdev%3Dc\">Cookware</a></div></td><td style=\"padding-left:14px;vertical-align:top\"><div class=\"asld\"><a href=\"/aclk?sa=L&amp;ai=CbUjqHlroUsX2NdKE-gPMx4C4C9euvXSJibzDgwH9xu61AggAEAFQ49zMuARgyYajh9SjgBCQAQXIAQGqBCZP0N5RiQL_q6JJoLkkkZo9QBHKAY4XMCMGKY79Gbblg1DnEW2LkdIGDBDh_q4BGInamAgoAYAHjamDCZAHAQ&amp;sig=AOD64_1lN2FSPk4kMinl2INZPH_GrxcsLg&amp;ctype=4&amp;ved=0CCIQwgUoAjhl&amp;adurl=http://www.amazon.com/b/%3Fie%3DUTF8%26node%3D1063252%26ext%3D470-1525%26ref%3Dpd_sl_8dcfgh3kls_b%26tag%3Dgooghydr-20%26hvpos%3D5t1%26hvexid%3D%26hvnetw%3Dg%26hvrand%3D19509745141845416184%26hvpone%3D%26hvptwo%3D%26hvqmt%3Db%26hvdev%3Dc\">Bedding</a></div><div class=\"asld\"><a href=\"/aclk?sa=L&amp;ai=CzGbyHlroUsX2NdKE-gPMx4C4C9euvXSJibzDgwH9xu61AggAEAFQpJDEvwFgyYajh9SjgBCQAQXIAQGqBCZP0N5RiQL_q6JJoLkkkZo9QBHKAY4XMCMGKY79Gbblg1DnEW2LkdIGDBDh_q4BGOHemAgoAYAHjamDCZAHAQ&amp;sig=AOD64_1zs-fRwNO9Dc749kqgZLQ41HeE2g&amp;ctype=4&amp;ved=0CCMQwgUoAzhl&amp;adurl=http://www.amazon.com/b/%3Fie%3DUTF8%26node%3D6361272011%26ext%3D470-1517%26ref%3Dpd_sl_8dcfgh3kls_b%26tag%3Dgooghydr-20%26hvpos%3D5t1%26hvexid%3D%26hvnetw%3Dg%26hvrand%3D634041802100850755%26hvpone%3D%26hvptwo%3D%26hvqmt%3Db%26hvdev%3Dc\">Off to College</a></div></td></tr></table></li></ol></div><div id=\"res\"><div id=\"topstuff\"></div><div id=\"search\"><div id=\"ires\"><ol><li class=\"g\"><h3 class=\"r\"><a href=\"/url?q=http://www.youtube.com/playlist%3Flist%3DFLQP7N_fmszNThjsh9esDecw%26page%3D14&amp;sa=U&amp;ei=HlroUsqQNYbnoASDu4CoDA&amp;ved=0CCgQFjAAOGU&amp;usg=AFQjCNGG25cIkqwGIk387zwPRSM7jxIlVA\">Favorite videos - YouTube</a></h3><div class=\"s\"><div class=\"kv\" style=\"margin-bottom:2px\"><cite>www.youtube.com/playlist?list=FLQP7N_fmszNThjsh9esDecw...</cite><div class=\"am-dwn-arw-container\">\\xe2\\x80\\x8e<div onclick=\"google.sham(this);\" aria-expanded=\"false\" aria-haspopup=\"true\" tabindex=\"0\" data-ved=\"0CCkQ7B0wADhl\" style=\"display:inline\"><span class=\"am-dwn-arw\"></span></div><div class=\"am-dropdown-menu\" role=\"menu\" tabindex=\"-1\" style=\"display:none\"><ul><li class=\"am-dropdown-menu-item\"><a class=\"am-dropdown-menu-item-text\" href=\"/url?q=http://webcache.googleusercontent.com/search%3Fnum%3D100%26query%3D%2522hard%2Bof%2Bhearing%2522%2Balarm%2Bvibrating%2Bsite%253Ayoutube.com%26hl%3Den%26ct%3Dclnk%26q%3Dcache:rlg_EGnpIHEJ:http://www.youtube.com/playlist%253Flist%253DFLQP7N_fmszNThjsh9esDecw%2526page%253D14%252B%2522hard%2Bof%2Bhearing%2522%2Balarm%2Bvibrating%2Bsite:youtube.com&amp;sa=U&amp;ei=HlroUsqQNYbnoASDu4CoDA&amp;ved=0CCsQIDAAOGU&amp;usg=AFQjCNHPlagr_RoIt1XXCnAIdaSSph0U1w\">Cached</a></li></ul></div></div></div><span class=\"st\">Where both deaf/<b>hard of hearing</b> and hearing youth are joining for a common aim <br>\\n<b>.....</b> <b>vibration</b>, <b>vibration</b> oh! <b>...</b> Obtain warning devices such as smoke <b>alarms</b> and <br>\\nweather radios at affordable prices for people with hearing loss and deaf-blind</span><br></div></li><li class=\"g\"><h3 class=\"r\"><a href=\"/url?q=http://www.youtube.com/playlist%3Ffeature%3Dc4-feed-f%26list%3DFL3jMqgtQcwEgw_npzgfhXkw&amp;sa=U&amp;ei=HlroUsqQNYbnoASDu4CoDA&amp;ved=0CC0QFjABOGU&amp;usg=AFQjCNHlNuFH86kW1aw8VGsDzNuKIlGhpQ\">Favorite videos - YouTube</a></h3><div class=\"s\"><div class=\"kv\" style=\"margin-bottom:2px\"><cite>www.youtube.com/playlist?feature=c4-feed-f&amp;list...</cite><div class=\"am-dwn-arw-container\">\\xe2\\x80\\x8e<div onclick=\"google.sham(this);\" aria-expanded=\"false\" aria-haspopup=\"true\" tabindex=\"0\" data-ved=\"0CC4Q7B0wAThl\" style=\"display:inline\"><span class=\"am-dwn-arw\"></span></div><div class=\"am-dropdown-menu\" role=\"menu\" tabindex=\"-1\" style=\"display:none\"><ul><li class=\"am-dropdown-menu-item\"><a class=\"am-dropdown-menu-item-text\" href=\"/url?q=http://webcache.googleusercontent.com/search%3Fnum%3D100%26query%3D%2522hard%2Bof%2Bhearing%2522%2Balarm%2Bvibrating%2Bsite%253Ayoutube.com%26hl%3Den%26ct%3Dclnk%26q%3Dcache:7Fampd2A3pMJ:http://www.youtube.com/playlist%253Ffeature%253Dc4-feed-f%2526list%253DFL3jMqgtQcwEgw_npzgfhXkw%252B%2522hard%2Bof%2Bhearing%2522%2Balarm%2Bvibrating%2Bsite:youtube.com&amp;sa=U&amp;ei=HlroUsqQNYbnoASDu4CoDA&amp;ved=0CDAQIDABOGU&amp;usg=AFQjCNFTuWemmr7vxmOYAZdbDfriG3KylA\">Cached</a></li></ul></div></div></div><span class=\"st\">My Dad, who has been <b>hard of hearing</b> for about as long as I can remember, <br>\\nrecently invested in hearing <b>.....</b> This week&#39;s Behind the Scenes brings you &quot;Good <br>\\n<b>Vibrations</b>. <b>.....</b> Human Car <b>Alarm</b>: http://www.youtube.com/watch?v=<br>\\nUtJX9AtXq6w</span><br></div></li><li class=\"g\"><h3 class=\"r\"><a href=\"/url?q=http://www.youtube.com/playlist%3Flist%3DPL4537C98C74BFF7B8&amp;sa=U&amp;ei=HlroUsqQNYbnoASDu4CoDA&amp;ved=0CDIQFjACOGU&amp;usg=AFQjCNGO8WL-Sl2nIyaUgp8tYTvs78w0RQ\">Spirit and the self - YouTube</a></h3><div class=\"s\"><div class=\"kv\" style=\"margin-bottom:2px\"><cite>www.youtube.com/playlist?list=PL4537C98C74BFF7B8</cite><div class=\"am-dwn-arw-container\">\\xe2\\x80\\x8e<div onclick=\"google.sham(this);\" aria-expanded=\"false\" aria-haspopup=\"true\" tabindex=\"0\" data-ved=\"0CDMQ7B0wAjhl\" style=\"display:inline\"><span class=\"am-dwn-arw\"></span></div><div class=\"am-dropdown-menu\" role=\"menu\" tabindex=\"-1\" style=\"display:none\"><ul><li class=\"am-dropdown-menu-item\"><a class=\"am-dropdown-menu-item-text\" href=\"/url?q=http://webcache.googleusercontent.com/search%3Fnum%3D100%26query%3D%2522hard%2Bof%2Bhearing%2522%2Balarm%2Bvibrating%2Bsite%253Ayoutube.com%26hl%3Den%26ct%3Dclnk%26q%3Dcache:T4LC6vtFUNUJ:http://www.youtube.com/playlist%253Flist%253DPL4537C98C74BFF7B8%252B%2522hard%2Bof%2Bhearing%2522%2Balarm%2Bvibrating%2Bsite:youtube.com&amp;sa=U&amp;ei=HlroUsqQNYbnoASDu4CoDA&amp;ved=0CDUQIDACOGU&amp;usg=AFQjCNHomGwePMXCOtpXgwYl4vaDvXweVA\">Cached</a></li></ul></div></div></div><span class=\"st\">Also, help the deaf and <b>hard of hearing</b> by creating subtitles in English. <br>\\nProofreaders for existing <b>...</b> He is author of Beautiful Painted Arrow and Being <br>\\nand <b>Vibration</b>. Joseph discusses the <b>.....</b> Set an <b>alarm</b> for yourself for 10 minutes. <br>\\nYou can&nbsp;<b>...</b></span><br></div></li><li class=\"g\"><h3 class=\"r\"><a href=\"/url?q=http://www.youtube.com/playlist%3Flist%3DUU9E5Z5xnZ7H62U7s_ckHNwQ%26page%3D2&amp;sa=U&amp;ei=HlroUsqQNYbnoASDu4CoDA&amp;ved=0CDcQFjADOGU&amp;usg=AFQjCNHuuBo09oMWTTFk_42UMujiAUq00Q\">Uploads from PrankandSpank - YouTube</a></h3><div class=\"s\"><div class=\"kv\" style=\"margin-bottom:2px\"><cite>www.youtube.com/playlist?list=UU9E5Z5xnZ7H62U7s...page...</cite><div class=\"am-dwn-arw-container\">\\xe2\\x80\\x8e<div onclick=\"google.sham(this);\" aria-expanded=\"false\" aria-haspopup=\"true\" tabindex=\"0\" data-ved=\"0CDgQ7B0wAzhl\" style=\"display:inline\"><span class=\"am-dwn-arw\"></span></div><div class=\"am-dropdown-menu\" role=\"menu\" tabindex=\"-1\" style=\"display:none\"><ul><li class=\"am-dropdown-menu-item\"><a class=\"am-dropdown-menu-item-text\" href=\"/url?q=http://webcache.googleusercontent.com/search%3Fnum%3D100%26query%3D%2522hard%2Bof%2Bhearing%2522%2Balarm%2Bvibrating%2Bsite%253Ayoutube.com%26hl%3Den%26ct%3Dclnk%26q%3Dcache:oPK62aJwOK0J:http://www.youtube.com/playlist%253Flist%253DUU9E5Z5xnZ7H62U7s_ckHNwQ%2526page%253D2%252B%2522hard%2Bof%2Bhearing%2522%2Balarm%2Bvibrating%2Bsite:youtube.com&amp;sa=U&amp;ei=HlroUsqQNYbnoASDu4CoDA&amp;ved=0CDoQIDADOGU&amp;usg=AFQjCNEdwWhYoZxhcSWC2FAa27u9byCNxw\">Cached</a></li></ul></div></div></div><span class=\"st\">I would have never suspected that I would find the <b>alarm</b> clock under the pillow of <br>\\n<b>...</b> hilarious wtf <b>vibrating alarm</b> clock ASL sign language deaf <b>hard of hearing</b>&nbsp;<b>...</b></span><br></div></li><li class=\"g\"><h3 class=\"r\"><a href=\"/url?q=http://www.youtube.com/playlist%3Flist%3DFL_fK8K66cPkmWM23CT0XA1w&amp;sa=U&amp;ei=HlroUsqQNYbnoASDu4CoDA&amp;ved=0CDwQFjAEOGU&amp;usg=AFQjCNEWSZxVBZMXK8ZJIhDbZ275583gjw\">Favorite videos - YouTube</a></h3><div class=\"s\"><div class=\"kv\" style=\"margin-bottom:2px\"><cite>www.youtube.com/playlist?list=FL_fK8K66cPkmWM23CT0XA1w</cite><div class=\"am-dwn-arw-container\">\\xe2\\x80\\x8e<div onclick=\"google.sham(this);\" aria-expanded=\"false\" aria-haspopup=\"true\" tabindex=\"0\" data-ved=\"0CD0Q7B0wBDhl\" style=\"display:inline\"><span class=\"am-dwn-arw\"></span></div><div class=\"am-dropdown-menu\" role=\"menu\" tabindex=\"-1\" style=\"display:none\"><ul><li class=\"am-dropdown-menu-item\"><a class=\"am-dropdown-menu-item-text\" href=\"/url?q=http://webcache.googleusercontent.com/search%3Fnum%3D100%26query%3D%2522hard%2Bof%2Bhearing%2522%2Balarm%2Bvibrating%2Bsite%253Ayoutube.com%26hl%3Den%26ct%3Dclnk%26q%3Dcache:2uDZffiO4FMJ:http://www.youtube.com/playlist%253Flist%253DFL_fK8K66cPkmWM23CT0XA1w%252B%2522hard%2Bof%2Bhearing%2522%2Balarm%2Bvibrating%2Bsite:youtube.com&amp;sa=U&amp;ei=HlroUsqQNYbnoASDu4CoDA&amp;ved=0CD8QIDAEOGU&amp;usg=AFQjCNEqAaxFGY9sRwk_0nXqz0uhPyjAtg\">Cached</a></li></ul></div></div></div><span class=\"st\">Some baby monitors have a <b>vibration</b> mode that can be switched on -- this is very <br>\\n<b>...</b> out there have low battery lights, and others even have low battery <b>alarms</b>. <b>...</b> <br>\\nThis is helpful if you are in a noisy environment or if you are <b>hard of hearing</b>.</span><br></div></li><li class=\"g\"><h3 class=\"r\"><a href=\"/url?q=http://www.youtube.com/playlist%3Flist%3DFLM56-zdfqiChRD7WKlAqUsQ&amp;sa=U&amp;ei=HlroUsqQNYbnoASDu4CoDA&amp;ved=0CEEQFjAFOGU&amp;usg=AFQjCNEZf1aoPgHnMWRUc_5sT29OM-9x4A\">Favorite videos - YouTube</a></h3><div class=\"s\"><div class=\"kv\" style=\"margin-bottom:2px\"><cite>www.youtube.com/playlist?list=FLM56-zdfqiChRD7WKlAqUsQ</cite><div class=\"am-dwn-arw-container\">\\xe2\\x80\\x8e<div onclick=\"google.sham(this);\" aria-expanded=\"false\" aria-haspopup=\"true\" tabindex=\"0\" data-ved=\"0CEIQ7B0wBThl\" style=\"display:inline\"><span class=\"am-dwn-arw\"></span></div><div class=\"am-dropdown-menu\" role=\"menu\" tabindex=\"-1\" style=\"display:none\"><ul><li class=\"am-dropdown-menu-item\"><a class=\"am-dropdown-menu-item-text\" href=\"/url?q=http://webcache.googleusercontent.com/search%3Fnum%3D100%26query%3D%2522hard%2Bof%2Bhearing%2522%2Balarm%2Bvibrating%2Bsite%253Ayoutube.com%26hl%3Den%26ct%3Dclnk%26q%3Dcache:OBjdeH3YFw4J:http://www.youtube.com/playlist%253Flist%253DFLM56-zdfqiChRD7WKlAqUsQ%252B%2522hard%2Bof%2Bhearing%2522%2Balarm%2Bvibrating%2Bsite:youtube.com&amp;sa=U&amp;ei=HlroUsqQNYbnoASDu4CoDA&amp;ved=0CEQQIDAFOGU&amp;usg=AFQjCNG_FZUQ-GIJR8H6OivgDkdmMjb_Pg\">Cached</a></li></ul></div></div></div><span class=\"st\"><b>...</b> and Rat Guy voice by Brendan Caulfield https://soundcloud.com/glub-<br>\\n<b>vibrations</b> <b>.....</b> could even raise the <b>alarm</b>) and assisting in his fight against <br>\\nrenegade forces. <b>...</b> Noel Fielding in this video, presumably by someone a little <br>\\n<b>hard of hearing</b>.</span><br></div></li><li class=\"g\"><h3 class=\"r\"><a href=\"/url?q=http://www.youtube.com/playlist%3Flist%3DFLZjl471hsipUkmrbn4VmUhg&amp;sa=U&amp;ei=HlroUsqQNYbnoASDu4CoDA&amp;ved=0CEYQFjAGOGU&amp;usg=AFQjCNFbrNw1Up0YSA_RyZ5Og1EVWvGoNg\">Favorite videos - YouTube</a></h3><div class=\"s\"><div class=\"kv\" style=\"margin-bottom:2px\"><cite>www.youtube.com/playlist?list=FLZjl471hsipUkmrbn4VmUhg</cite><div class=\"am-dwn-arw-container\">\\xe2\\x80\\x8e<div onclick=\"google.sham(this);\" aria-expanded=\"false\" aria-haspopup=\"true\" tabindex=\"0\" data-ved=\"0CEcQ7B0wBjhl\" style=\"display:inline\"><span class=\"am-dwn-arw\"></span></div><div class=\"am-dropdown-menu\" role=\"menu\" tabindex=\"-1\" style=\"display:none\"><ul><li class=\"am-dropdown-menu-item\"><a class=\"am-dropdown-menu-item-text\" href=\"/url?q=http://webcache.googleusercontent.com/search%3Fnum%3D100%26query%3D%2522hard%2Bof%2Bhearing%2522%2Balarm%2Bvibrating%2Bsite%253Ayoutube.com%26hl%3Den%26ct%3Dclnk%26q%3Dcache:AVv0XU4nZgoJ:http://www.youtube.com/playlist%253Flist%253DFLZjl471hsipUkmrbn4VmUhg%252B%2522hard%2Bof%2Bhearing%2522%2Balarm%2Bvibrating%2Bsite:youtube.com&amp;sa=U&amp;ei=HlroUsqQNYbnoASDu4CoDA&amp;ved=0CEkQIDAGOGU&amp;usg=AFQjCNGREuvZHEXDkP3gGq-i6uMjzsXujA\">Cached</a></li></ul></div></div></div><span class=\"st\">Cocaine; featuring vocals from Stick Figure&#39;s &#39;Ring the <b>Alarm</b>&#39;. 3. <b>...</b> of learning that <br>\\nwe believe will bring you closer to <b>vibrating</b> at the level of the divine. <b>......</b> <br>\\nlanguage closed caption subtitles deaf <b>hard of hearing</b> swearing bad language <br>\\nRAWR&nbsp;<b>...</b></span><br></div></li><li class=\"g\"><h3 class=\"r\"><a href=\"/url?q=http://www.youtube.com/playlist%3Flist%3DPLCD549E0A4614E820&amp;sa=U&amp;ei=HlroUsqQNYbnoASDu4CoDA&amp;ved=0CEsQFjAHOGU&amp;usg=AFQjCNGk1Gjwn_Ealni6xSQhLsUtgizgRA\">Funny - YouTube</a></h3><div class=\"s\"><div class=\"kv\" style=\"margin-bottom:2px\"><cite>www.youtube.com/playlist?list=PLCD549E0A4614E820</cite><div class=\"am-dwn-arw-container\">\\xe2\\x80\\x8e<div onclick=\"google.sham(this);\" aria-expanded=\"false\" aria-haspopup=\"true\" tabindex=\"0\" data-ved=\"0CEwQ7B0wBzhl\" style=\"display:inline\"><span class=\"am-dwn-arw\"></span></div><div class=\"am-dropdown-menu\" role=\"menu\" tabindex=\"-1\" style=\"display:none\"><ul><li class=\"am-dropdown-menu-item\"><a class=\"am-dropdown-menu-item-text\" href=\"/url?q=http://webcache.googleusercontent.com/search%3Fnum%3D100%26query%3D%2522hard%2Bof%2Bhearing%2522%2Balarm%2Bvibrating%2Bsite%253Ayoutube.com%26hl%3Den%26ct%3Dclnk%26q%3Dcache:O21MXY03IqkJ:http://www.youtube.com/playlist%253Flist%253DPLCD549E0A4614E820%252B%2522hard%2Bof%2Bhearing%2522%2Balarm%2Bvibrating%2Bsite:youtube.com&amp;sa=U&amp;ei=HlroUsqQNYbnoASDu4CoDA&amp;ved=0CE4QIDAHOGU&amp;usg=AFQjCNGDgGW6iq3ffle1F5X_uydYgcTTEA\">Cached</a></li></ul></div></div></div><span class=\"st\">I would have never suspected that I would find the <b>alarm</b> clock under the pillow of <br>\\n<b>...</b> hilarious wtf <b>vibrating alarm</b> clock ASL sign language deaf <b>hard of hearing</b>&nbsp;<b>...</b></span><br></div></li><li class=\"g\"><h3 class=\"r\"><a href=\"/url?q=http://www.youtube.com/playlist%3Flist%3DFL0Ur6ckDepD4zod1YCiFIXw&amp;sa=U&amp;ei=HlroUsqQNYbnoASDu4CoDA&amp;ved=0CFAQFjAIOGU&amp;usg=AFQjCNHNNsGpWJ9UawDzC05z5rw675xdQQ\">Favorite videos - YouTube</a></h3><div class=\"s\"><div class=\"kv\" style=\"margin-bottom:2px\"><cite>www.youtube.com/playlist?list=FL0Ur6ckDepD4zod1YCiFIXw</cite><div class=\"am-dwn-arw-container\">\\xe2\\x80\\x8e<div onclick=\"google.sham(this);\" aria-expanded=\"false\" aria-haspopup=\"true\" tabindex=\"0\" data-ved=\"0CFEQ7B0wCDhl\" style=\"display:inline\"><span class=\"am-dwn-arw\"></span></div><div class=\"am-dropdown-menu\" role=\"menu\" tabindex=\"-1\" style=\"display:none\"><ul><li class=\"am-dropdown-menu-item\"><a class=\"am-dropdown-menu-item-text\" href=\"/url?q=http://webcache.googleusercontent.com/search%3Fnum%3D100%26query%3D%2522hard%2Bof%2Bhearing%2522%2Balarm%2Bvibrating%2Bsite%253Ayoutube.com%26hl%3Den%26ct%3Dclnk%26q%3Dcache:XqsoMlZbMuQJ:http://www.youtube.com/playlist%253Flist%253DFL0Ur6ckDepD4zod1YCiFIXw%252B%2522hard%2Bof%2Bhearing%2522%2Balarm%2Bvibrating%2Bsite:youtube.com&amp;sa=U&amp;ei=HlroUsqQNYbnoASDu4CoDA&amp;ved=0CFMQIDAIOGU&amp;usg=AFQjCNGSR5ByxdmxNYzxdlPQ85pwOGAG0g\">Cached</a></li></ul></div></div></div><span class=\"st\">New recruits to the Israel Defense Forces who are <b>hard of hearing</b> taught their <br>\\n<b>......</b> Boycott Ivory Coast, sound the <b>alarm</b> <b>.....</b> Album: Rastaman <b>Vibration</b> (1976)</span><br></div></li><li class=\"g\"><h3 class=\"r\"><a href=\"/url?q=http://www.youtube.com/playlist%3Flist%3DFL9og6neLXi8zA-cFIPGtJHw&amp;sa=U&amp;ei=HlroUsqQNYbnoASDu4CoDA&amp;ved=0CFUQFjAJOGU&amp;usg=AFQjCNF0AEIJH8dQTO1YUCca3fmG_sHsMg\">Favorite videos - YouTube</a></h3><div class=\"s\"><div class=\"kv\" style=\"margin-bottom:2px\"><cite>www.youtube.com/playlist?list=FL9og6neLXi8zA-cFIPGtJHw</cite><div class=\"am-dwn-arw-container\">\\xe2\\x80\\x8e<div onclick=\"google.sham(this);\" aria-expanded=\"false\" aria-haspopup=\"true\" tabindex=\"0\" data-ved=\"0CFYQ7B0wCThl\" style=\"display:inline\"><span class=\"am-dwn-arw\"></span></div><div class=\"am-dropdown-menu\" role=\"menu\" tabindex=\"-1\" style=\"display:none\"><ul><li class=\"am-dropdown-menu-item\"><a class=\"am-dropdown-menu-item-text\" href=\"/url?q=http://webcache.googleusercontent.com/search%3Fnum%3D100%26query%3D%2522hard%2Bof%2Bhearing%2522%2Balarm%2Bvibrating%2Bsite%253Ayoutube.com%26hl%3Den%26ct%3Dclnk%26q%3Dcache:06CSPj9w3hwJ:http://www.youtube.com/playlist%253Flist%253DFL9og6neLXi8zA-cFIPGtJHw%252B%2522hard%2Bof%2Bhearing%2522%2Balarm%2Bvibrating%2Bsite:youtube.com&amp;sa=U&amp;ei=HlroUsqQNYbnoASDu4CoDA&amp;ved=0CFgQIDAJOGU&amp;usg=AFQjCNFd7wSILdqBqipN6NAUAAwN4YG9Dg\">Cached</a></li></ul></div></div></div><span class=\"st\"><b>...</b> so non-English speakers or the deaf and <b>hard of hearing</b> can enjoy this talk, <b>....</b> <br>\\nImagine waking up one morning, before the <b>alarm</b>, feeling relaxed and refreshed. <br>\\n<b>.....</b> Because those who live in lower <b>vibrations</b> cannot exist on 5D Earth.</span><br></div></li><li class=\"g\"><h3 class=\"r\"><a href=\"/url?q=http://www.youtube.com/playlist%3Flist%3DFL7fsgTQMEUjT_YOlMs4ihiA&amp;sa=U&amp;ei=HlroUsqQNYbnoASDu4CoDA&amp;ved=0CFoQFjAKOGU&amp;usg=AFQjCNG9aIGr7CsU71VuE8c0Wr8J7xR5sw\">Favorite videos - YouTube</a></h3><div class=\"s\"><div class=\"kv\" style=\"margin-bottom:2px\"><cite>www.youtube.com/playlist?list=FL7fsgTQMEUjT_YOlMs4ihiA</cite><div class=\"am-dwn-arw-container\">\\xe2\\x80\\x8e<div onclick=\"google.sham(this);\" aria-expanded=\"false\" aria-haspopup=\"true\" tabindex=\"0\" data-ved=\"0CFsQ7B0wCjhl\" style=\"display:inline\"><span class=\"am-dwn-arw\"></span></div><div class=\"am-dropdown-menu\" role=\"menu\" tabindex=\"-1\" style=\"display:none\"><ul><li class=\"am-dropdown-menu-item\"><a class=\"am-dropdown-menu-item-text\" href=\"/url?q=http://webcache.googleusercontent.com/search%3Fnum%3D100%26query%3D%2522hard%2Bof%2Bhearing%2522%2Balarm%2Bvibrating%2Bsite%253Ayoutube.com%26hl%3Den%26ct%3Dclnk%26q%3Dcache:fLJ0xRF1VigJ:http://www.youtube.com/playlist%253Flist%253DFL7fsgTQMEUjT_YOlMs4ihiA%252B%2522hard%2Bof%2Bhearing%2522%2Balarm%2Bvibrating%2Bsite:youtube.com&amp;sa=U&amp;ei=HlroUsqQNYbnoASDu4CoDA&amp;ved=0CF0QIDAKOGU&amp;usg=AFQjCNGo5SckMEykGVVK6_zJLIzL5NlM7g\">Cached</a></li></ul></div></div></div><span class=\"st\"><b>Alarm</b> Clocks - ESPN Monday Night Football <b>.....</b> <b>vibration</b>, edgar cayce, spiritual <br>\\nawareness, DNA upgrade, how to meditate, <b>.....</b> for the benefit of the deaf, <b>hard-of-</b><br>\\n<b>hearing</b> and non-native English speakers, here&#39;s a neat clip of ESPN&#39;s me\\xe2\\x80\\xa6</span><br></div></li><li class=\"g\"><h3 class=\"r\"><a href=\"/url?q=http://www.youtube.com/user/alyssa00100&amp;sa=U&amp;ei=HlroUsqQNYbnoASDu4CoDA&amp;ved=0CF8QFjALOGU&amp;usg=AFQjCNHBD36YgZt_4Mjvwt8UZSJg_3dqpw\">alyssa00100&#39;s channel - YouTube</a></h3><div class=\"s\"><div class=\"kv\" style=\"margin-bottom:2px\"><cite>www.youtube.com/user/alyssa00100</cite><div class=\"am-dwn-arw-container\">\\xe2\\x80\\x8e<div onclick=\"google.sham(this);\" aria-expanded=\"false\" aria-haspopup=\"true\" tabindex=\"0\" data-ved=\"0CGAQ7B0wCzhl\" style=\"display:inline\"><span class=\"am-dwn-arw\"></span></div><div class=\"am-dropdown-menu\" role=\"menu\" tabindex=\"-1\" style=\"display:none\"><ul><li class=\"am-dropdown-menu-item\"><a class=\"am-dropdown-menu-item-text\" href=\"/url?q=http://webcache.googleusercontent.com/search%3Fnum%3D100%26query%3D%2522hard%2Bof%2Bhearing%2522%2Balarm%2Bvibrating%2Bsite%253Ayoutube.com%26hl%3Den%26ct%3Dclnk%26q%3Dcache:3alO4LTOkxUJ:http://www.youtube.com/user/alyssa00100%252B%2522hard%2Bof%2Bhearing%2522%2Balarm%2Bvibrating%2Bsite:youtube.com&amp;sa=U&amp;ei=HlroUsqQNYbnoASDu4CoDA&amp;ved=0CGIQIDALOGU&amp;usg=AFQjCNEO4u04YVsH7HTypFFFa2h7Srsdzg\">Cached</a></li></ul></div></div></div><span class=\"st\">Sonic Sweetheart Wecker in Herz Form mit <b>Vibrations</b>-Pad <b>...</b> <b>Alarm</b> clock for the <br>\\n<b>Hard of Hearing</b> &amp; Visually Impaired: Wake &#39;N&#39; Shake. by Kate Orlovsky; 3 years&nbsp;<b>...</b></span><br></div></li><li class=\"g\"><h3 class=\"r\"><a href=\"/url?q=http://www.youtube.com/playlist%3Flist%3DFLBDwP92P4WSSaFgii-VBGbQ&amp;sa=U&amp;ei=HlroUsqQNYbnoASDu4CoDA&amp;ved=0CGQQFjAMOGU&amp;usg=AFQjCNFK2c0scQQzr2u4dB1f2Bxd1kYW5g\">Favorite videos - YouTube</a></h3><div class=\"s\"><div class=\"kv\" style=\"margin-bottom:2px\"><cite>www.youtube.com/playlist?list=FLBDwP92P4WSSaFgii-VBGbQ</cite><div class=\"am-dwn-arw-container\">\\xe2\\x80\\x8e<div onclick=\"google.sham(this);\" aria-expanded=\"false\" aria-haspopup=\"true\" tabindex=\"0\" data-ved=\"0CGUQ7B0wDDhl\" style=\"display:inline\"><span class=\"am-dwn-arw\"></span></div><div class=\"am-dropdown-menu\" role=\"menu\" tabindex=\"-1\" style=\"display:none\"><ul><li class=\"am-dropdown-menu-item\"><a class=\"am-dropdown-menu-item-text\" href=\"/url?q=http://webcache.googleusercontent.com/search%3Fnum%3D100%26query%3D%2522hard%2Bof%2Bhearing%2522%2Balarm%2Bvibrating%2Bsite%253Ayoutube.com%26hl%3Den%26ct%3Dclnk%26q%3Dcache:8bn9R0HwXwUJ:http://www.youtube.com/playlist%253Flist%253DFLBDwP92P4WSSaFgii-VBGbQ%252B%2522hard%2Bof%2Bhearing%2522%2Balarm%2Bvibrating%2Bsite:youtube.com&amp;sa=U&amp;ei=HlroUsqQNYbnoASDu4CoDA&amp;ved=0CGcQIDAMOGU&amp;usg=AFQjCNEPw-lVXVx6WzKFfJQograukXuYzQ\">Cached</a></li></ul></div></div></div><span class=\"st\">Manhattan fire <b>alarm</b> shown. From the Library of <b>.....</b> Now you can sing along. Or, <br>\\nif you&#39;re <b>hard of hearing</b>, you can understand what the heck is happening.</span><br></div></li><li class=\"g\"><h3 class=\"r\"><a href=\"/url?q=https://www.youtube.com/playlist%3Flist%3DLLVBqw-WuAN6AS21mK_qL8AQ&amp;sa=U&amp;ei=HlroUsqQNYbnoASDu4CoDA&amp;ved=0CGkQFjANOGU&amp;usg=AFQjCNHnM_eFEu7Ge4qWImEHbRXgjGRgCA\">Liked videos - YouTube</a></h3><div class=\"s\"><div class=\"kv\" style=\"margin-bottom:2px\"><cite>https://www.youtube.com/playlist?list=LLVBqw-WuAN6AS21mK...</cite><div class=\"am-dwn-arw-container\">\\xe2\\x80\\x8e<div onclick=\"google.sham(this);\" aria-expanded=\"false\" aria-haspopup=\"true\" tabindex=\"0\" data-ved=\"0CGoQ7B0wDThl\" style=\"display:inline\"><span class=\"am-dwn-arw\"></span></div><div class=\"am-dropdown-menu\" role=\"menu\" tabindex=\"-1\" style=\"display:none\"><ul><li class=\"am-dropdown-menu-item\"><a class=\"am-dropdown-menu-item-text\" href=\"/url?q=http://webcache.googleusercontent.com/search%3Fnum%3D100%26query%3D%2522hard%2Bof%2Bhearing%2522%2Balarm%2Bvibrating%2Bsite%253Ayoutube.com%26hl%3Den%26ct%3Dclnk%26q%3Dcache:eREH27vxOo8J:https://www.youtube.com/playlist%253Flist%253DLLVBqw-WuAN6AS21mK_qL8AQ%252B%2522hard%2Bof%2Bhearing%2522%2Balarm%2Bvibrating%2Bsite:youtube.com&amp;sa=U&amp;ei=HlroUsqQNYbnoASDu4CoDA&amp;ved=0CGwQIDANOGU&amp;usg=AFQjCNFC_8uyNGgC2dscNHLnXVWPAix1og\">Cached</a></li></ul></div></div></div><span class=\"st\">I am <b>hard of hearing</b> myself, but I am culturally Deaf, meaning that ASL is my first <br>\\nlanguage--the language I grew up with. <b>...</b> not only by hearing/feeling the beat <br>\\nand <b>vibrations</b> of the music, but also by having access to <b>......</b> it usually <b>alarms</b> me</span><br></div></li><li class=\"g\"><h3 class=\"r\"><a href=\"/url?q=http://www.youtube.com/playlist%3Flist%3DFL-XoQY5JG4JUgSqlQrSt3wQ&amp;sa=U&amp;ei=HlroUsqQNYbnoASDu4CoDA&amp;ved=0CG4QFjAOOGU&amp;usg=AFQjCNFF4Y4c06MlOKNgGBqkJUn4lxdMNg\">Favorite videos - YouTube</a></h3><div class=\"s\"><div class=\"kv\" style=\"margin-bottom:2px\"><cite>www.youtube.com/playlist?list=FL-XoQY5JG4JUgSqlQrSt3wQ</cite><div class=\"am-dwn-arw-container\">\\xe2\\x80\\x8e<div onclick=\"google.sham(this);\" aria-expanded=\"false\" aria-haspopup=\"true\" tabindex=\"0\" data-ved=\"0CG8Q7B0wDjhl\" style=\"display:inline\"><span class=\"am-dwn-arw\"></span></div><div class=\"am-dropdown-menu\" role=\"menu\" tabindex=\"-1\" style=\"display:none\"><ul><li class=\"am-dropdown-menu-item\"><a class=\"am-dropdown-menu-item-text\" href=\"/url?q=http://webcache.googleusercontent.com/search%3Fnum%3D100%26query%3D%2522hard%2Bof%2Bhearing%2522%2Balarm%2Bvibrating%2Bsite%253Ayoutube.com%26hl%3Den%26ct%3Dclnk%26q%3Dcache:Ap-LqQEjhlEJ:http://www.youtube.com/playlist%253Flist%253DFL-XoQY5JG4JUgSqlQrSt3wQ%252B%2522hard%2Bof%2Bhearing%2522%2Balarm%2Bvibrating%2Bsite:youtube.com&amp;sa=U&amp;ei=HlroUsqQNYbnoASDu4CoDA&amp;ved=0CHEQIDAOOGU&amp;usg=AFQjCNFz1BT2EHnrEHEKRwQww0re8KFaqg\">Cached</a></li></ul></div></div></div><span class=\"st\">My Dad, who has been <b>hard of hearing</b> for about as long as I can remember, <b>.....</b> <br>\\n6am and your hand can&#39;t make it to the <b>alarm</b> clock before the voices in your <br>\\nhead <b>......</b> Rat Guy voice by Brendan Caulfield https://soundcloud.com/glub-<br>\\n<b>vibrations</b></span><br></div></li><li class=\"g\"><h3 class=\"r\"><a href=\"/url?q=http://www.youtube.com/playlist%3Flist%3DPL17FD0633739349B6&amp;sa=U&amp;ei=HlroUsqQNYbnoASDu4CoDA&amp;ved=0CHMQFjAPOGU&amp;usg=AFQjCNF10Hlvi3sRHgty97e9Odln-c6vbA\">wordly17 - YouTube</a></h3><div class=\"s\"><div class=\"kv\" style=\"margin-bottom:2px\"><cite>www.youtube.com/playlist?list=PL17FD0633739349B6</cite><div class=\"am-dwn-arw-container\">\\xe2\\x80\\x8e<div onclick=\"google.sham(this);\" aria-expanded=\"false\" aria-haspopup=\"true\" tabindex=\"0\" data-ved=\"0CHQQ7B0wDzhl\" style=\"display:inline\"><span class=\"am-dwn-arw\"></span></div><div class=\"am-dropdown-menu\" role=\"menu\" tabindex=\"-1\" style=\"display:none\"><ul><li class=\"am-dropdown-menu-item\"><a class=\"am-dropdown-menu-item-text\" href=\"/url?q=http://webcache.googleusercontent.com/search%3Fnum%3D100%26query%3D%2522hard%2Bof%2Bhearing%2522%2Balarm%2Bvibrating%2Bsite%253Ayoutube.com%26hl%3Den%26ct%3Dclnk%26q%3Dcache:m4hAlWqadmcJ:http://www.youtube.com/playlist%253Flist%253DPL17FD0633739349B6%252B%2522hard%2Bof%2Bhearing%2522%2Balarm%2Bvibrating%2Bsite:youtube.com&amp;sa=U&amp;ei=HlroUsqQNYbnoASDu4CoDA&amp;ved=0CHYQIDAPOGU&amp;usg=AFQjCNHDntTbkJtFqi0xvL1Hz5Y-N3zvkA\">Cached</a></li></ul></div></div></div><span class=\"st\">But the excruciating pain didn&#39;t stop Storro -- who is <b>hard of hearing</b> because of <br>\\n<b>......</b> with <b>vibrations</b> and frequencies which is used as a measuring tool to <b>alarm</b> if<br>\\n&nbsp;<b>...</b></span><br></div></li><li class=\"g\"><h3 class=\"r\"><a href=\"/url?q=https://www.youtube.com/playlist%3Flist%3DPLljwe-lyHKOEElDEDBAFNTKG_J0ZU5El6&amp;sa=U&amp;ei=HlroUsqQNYbnoASDu4CoDA&amp;ved=0CHgQFjAQOGU&amp;usg=AFQjCNGT1mvLhwrBS-0Q5UZmMxVO0evpew\">AVA - YouTube</a></h3><div class=\"s\"><div class=\"kv\" style=\"margin-bottom:2px\"><cite>https://www.youtube.com/playlist?list=PLljwe...J0ZU5El6</cite><div class=\"am-dwn-arw-container\">\\xe2\\x80\\x8e<div onclick=\"google.sham(this);\" aria-expanded=\"false\" aria-haspopup=\"true\" tabindex=\"0\" data-ved=\"0CHkQ7B0wEDhl\" style=\"display:inline\"><span class=\"am-dwn-arw\"></span></div><div class=\"am-dropdown-menu\" role=\"menu\" tabindex=\"-1\" style=\"display:none\"><ul><li class=\"am-dropdown-menu-item\"><a class=\"am-dropdown-menu-item-text\" href=\"/url?q=http://webcache.googleusercontent.com/search%3Fnum%3D100%26query%3D%2522hard%2Bof%2Bhearing%2522%2Balarm%2Bvibrating%2Bsite%253Ayoutube.com%26hl%3Den%26ct%3Dclnk%26q%3Dcache:CuNDumvi6IAJ:https://www.youtube.com/playlist%253Flist%253DPLljwe-lyHKOEElDEDBAFNTKG_J0ZU5El6%252B%2522hard%2Bof%2Bhearing%2522%2Balarm%2Bvibrating%2Bsite:youtube.com&amp;sa=U&amp;ei=HlroUsqQNYbnoASDu4CoDA&amp;ved=0CHsQIDAQOGU&amp;usg=AFQjCNEfuDdpH4ZP-1sIPRHo8wzsxfeb0w\">Cached</a></li></ul></div></div></div><span class=\"st\">Im floating. And somethings reaching out. <b>Vibrations</b> Can you hear them now. <br>\\nPlease help us <b>...</b> Ive got an ache like a cat theifs got an <b>alarm</b>. Its got a sound like <br>\\na <b>.....</b> Subtitled for the deaf and <b>hard of hearing</b>, no hating please. I got some lyrics<br>\\n&nbsp;<b>...</b></span><br></div></li><li class=\"g\"><h3 class=\"r\"><a href=\"/url?q=http://www.youtube.com/playlist%3Flist%3DFL-dS9Lq2Cy73o3DE_7mvvNw%26page%3D8&amp;sa=U&amp;ei=HlroUsqQNYbnoASDu4CoDA&amp;ved=0CH0QFjAROGU&amp;usg=AFQjCNHujXTXzddJYRY3SgFyMbtnZx62GQ\">Favorite videos - YouTube</a></h3><div class=\"s\"><div class=\"kv\" style=\"margin-bottom:2px\"><cite>www.youtube.com/playlist?list=FL-dS9Lq2Cy73o3DE...page...</cite><div class=\"am-dwn-arw-container\">\\xe2\\x80\\x8e<div onclick=\"google.sham(this);\" aria-expanded=\"false\" aria-haspopup=\"true\" tabindex=\"0\" data-ved=\"0CH4Q7B0wEThl\" style=\"display:inline\"><span class=\"am-dwn-arw\"></span></div><div class=\"am-dropdown-menu\" role=\"menu\" tabindex=\"-1\" style=\"display:none\"><ul><li class=\"am-dropdown-menu-item\"><a class=\"am-dropdown-menu-item-text\" href=\"/url?q=http://webcache.googleusercontent.com/search%3Fnum%3D100%26query%3D%2522hard%2Bof%2Bhearing%2522%2Balarm%2Bvibrating%2Bsite%253Ayoutube.com%26hl%3Den%26ct%3Dclnk%26q%3Dcache:yEv5b6jnyiAJ:http://www.youtube.com/playlist%253Flist%253DFL-dS9Lq2Cy73o3DE_7mvvNw%2526page%253D8%252B%2522hard%2Bof%2Bhearing%2522%2Balarm%2Bvibrating%2Bsite:youtube.com&amp;sa=U&amp;ei=HlroUsqQNYbnoASDu4CoDA&amp;ved=0CIABECAwEThl&amp;usg=AFQjCNE9y2IYkhM-cKOgcPhYf-PurjrP2w\">Cached</a></li></ul></div></div></div><span class=\"st\">I need your good love, them good <b>vibrations</b>. Good love <b>....</b> How to handle <br>\\ncommunication issues when facing deaf and <b>hard of hearing</b> citizens? DEAF Inc., <br>\\nwith&nbsp;<b>...</b></span><br></div></li><li class=\"g\"><h3 class=\"r\"><a href=\"/url?q=http://www.youtube.com/playlist%3Flist%3DLL4Uv7KCBy4Wc54sBK6n_FsA&amp;sa=U&amp;ei=HlroUsqQNYbnoASDu4CoDA&amp;ved=0CIIBEBYwEjhl&amp;usg=AFQjCNE_O3qblvPGk3ML00gt6qUZv1uxQQ\">Liked videos - YouTube</a></h3><div class=\"s\"><div class=\"kv\" style=\"margin-bottom:2px\"><cite>www.youtube.com/playlist?list=LL4Uv7KCBy4Wc54sBK6n_FsA</cite><div class=\"am-dwn-arw-container\">\\xe2\\x80\\x8e<div onclick=\"google.sham(this);\" aria-expanded=\"false\" aria-haspopup=\"true\" tabindex=\"0\" data-ved=\"0CIMBEOwdMBI4ZQ\" style=\"display:inline\"><span class=\"am-dwn-arw\"></span></div><div class=\"am-dropdown-menu\" role=\"menu\" tabindex=\"-1\" style=\"display:none\"><ul><li class=\"am-dropdown-menu-item\"><a class=\"am-dropdown-menu-item-text\" href=\"/url?q=http://webcache.googleusercontent.com/search%3Fnum%3D100%26query%3D%2522hard%2Bof%2Bhearing%2522%2Balarm%2Bvibrating%2Bsite%253Ayoutube.com%26hl%3Den%26ct%3Dclnk%26q%3Dcache:Syc3mI7lE1QJ:http://www.youtube.com/playlist%253Flist%253DLL4Uv7KCBy4Wc54sBK6n_FsA%252B%2522hard%2Bof%2Bhearing%2522%2Balarm%2Bvibrating%2Bsite:youtube.com&amp;sa=U&amp;ei=HlroUsqQNYbnoASDu4CoDA&amp;ved=0CIUBECAwEjhl&amp;usg=AFQjCNGBneqmXOixUTwQoS0wzNx514jpCA\">Cached</a></li></ul></div></div></div><span class=\"st\">I also show the Gallop <b>alarm</b> that I have installed on the bike. <b>....</b> I am <b>hard of</b> <br>\\n<b>hearing</b> myself, but I am culturally Deaf, meaning that ASL is my first <b>...</b> not only by <br>\\nhearing/feeling the beat and <b>vibrations</b> of the music, but also by having access to<br>\\n&nbsp;<b>...</b></span><br></div></li><li class=\"g\"><h3 class=\"r\"><a href=\"/url?q=https://www.youtube.com/playlist%3Flist%3DPLB3ULOQAUjDnYT0FiQvs-ebvRKtZHxu40&amp;sa=U&amp;ei=HlroUsqQNYbnoASDu4CoDA&amp;ved=0CIcBEBYwEzhl&amp;usg=AFQjCNGf4L7HsHYx7iCblxZT_cM9gnI4WQ\">Disclosure 5 - YouTube</a></h3><div class=\"s\"><div class=\"kv\" style=\"margin-bottom:2px\"><cite>https://www.youtube.com/playlist?list...ebvRKtZHxu40</cite><div class=\"am-dwn-arw-container\">\\xe2\\x80\\x8e<div onclick=\"google.sham(this);\" aria-expanded=\"false\" aria-haspopup=\"true\" tabindex=\"0\" data-ved=\"0CIgBEOwdMBM4ZQ\" style=\"display:inline\"><span class=\"am-dwn-arw\"></span></div><div class=\"am-dropdown-menu\" role=\"menu\" tabindex=\"-1\" style=\"display:none\"><ul><li class=\"am-dropdown-menu-item\"><a class=\"am-dropdown-menu-item-text\" href=\"/url?q=http://webcache.googleusercontent.com/search%3Fnum%3D100%26query%3D%2522hard%2Bof%2Bhearing%2522%2Balarm%2Bvibrating%2Bsite%253Ayoutube.com%26hl%3Den%26ct%3Dclnk%26q%3Dcache:jiQSQAnI5LgJ:https://www.youtube.com/playlist%253Flist%253DPLB3ULOQAUjDnYT0FiQvs-ebvRKtZHxu40%252B%2522hard%2Bof%2Bhearing%2522%2Balarm%2Bvibrating%2Bsite:youtube.com&amp;sa=U&amp;ei=HlroUsqQNYbnoASDu4CoDA&amp;ved=0CIoBECAwEzhl&amp;usg=AFQjCNEkSlCOBhHIn2k-odnhxhDeYfOvgw\">Cached</a></li></ul></div></div></div><span class=\"st\">Raise Your Daily Life <b>Vibration</b> with Inelia Benz: Plants, Elementals, Gaia <b>......</b> <br>\\nAnthony Gucciardi sounds the <b>alarm</b> and calls concerned citizens to join the fight <br>\\nin <b>......</b> so non-English speakers or the deaf and <b>hard of hearing</b> can enjoy this talk<br>\\n,&nbsp;<b>...</b></span><br></div></li><li class=\"g\"><h3 class=\"r\"><a href=\"/url?q=http://www.youtube.com/user/HxCshredder1109&amp;sa=U&amp;ei=HlroUsqQNYbnoASDu4CoDA&amp;ved=0CIwBEBYwFDhl&amp;usg=AFQjCNF6M7AUmOgZkI10CsRCqn7wu-fZGA\">HxCshredder1109 - YouTube</a></h3><div class=\"s\"><div class=\"kv\" style=\"margin-bottom:2px\"><cite>www.youtube.com/user/HxCshredder1109</cite><div class=\"am-dwn-arw-container\">\\xe2\\x80\\x8e<div onclick=\"google.sham(this);\" aria-expanded=\"false\" aria-haspopup=\"true\" tabindex=\"0\" data-ved=\"0CI0BEOwdMBQ4ZQ\" style=\"display:inline\"><span class=\"am-dwn-arw\"></span></div><div class=\"am-dropdown-menu\" role=\"menu\" tabindex=\"-1\" style=\"display:none\"><ul><li class=\"am-dropdown-menu-item\"><a class=\"am-dropdown-menu-item-text\" href=\"/url?q=http://webcache.googleusercontent.com/search%3Fnum%3D100%26query%3D%2522hard%2Bof%2Bhearing%2522%2Balarm%2Bvibrating%2Bsite%253Ayoutube.com%26hl%3Den%26ct%3Dclnk%26q%3Dcache:o6ozML9hZCAJ:http://www.youtube.com/user/HxCshredder1109%252B%2522hard%2Bof%2Bhearing%2522%2Balarm%2Bvibrating%2Bsite:youtube.com&amp;sa=U&amp;ei=HlroUsqQNYbnoASDu4CoDA&amp;ved=0CI8BECAwFDhl&amp;usg=AFQjCNFUEMH0WxMIr2L5HPLX6rxG0CZaCw\">Cached</a></li></ul></div></div></div><span class=\"st\">Lunk <b>Alarm</b> ! <b>....</b> I&#39;m <b>hard of hearing</b>. <b>....</b> with my Droid X phone (pardon the <br>\\nshakiness and several text messages received during the video, heard as <br>\\n<b>vibrations</b>).</span><br></div></li><li class=\"g\"><h3 class=\"r\"><a href=\"/url?q=http://www.youtube.com/playlist%3Flist%3DPL02D1BE764AE989E9&amp;sa=U&amp;ei=HlroUsqQNYbnoASDu4CoDA&amp;ved=0CJEBEBYwFThl&amp;usg=AFQjCNG8H96hgh7QUKp-aM4fik440oe2qg\">Needs to be Organized, May 27, 2012 - YouTube</a></h3><div class=\"s\"><div class=\"kv\" style=\"margin-bottom:2px\"><cite>www.youtube.com/playlist?list=PL02D1BE764AE989E9</cite><div class=\"am-dwn-arw-container\">\\xe2\\x80\\x8e<div onclick=\"google.sham(this);\" aria-expanded=\"false\" aria-haspopup=\"true\" tabindex=\"0\" data-ved=\"0CJIBEOwdMBU4ZQ\" style=\"display:inline\"><span class=\"am-dwn-arw\"></span></div><div class=\"am-dropdown-menu\" role=\"menu\" tabindex=\"-1\" style=\"display:none\"><ul><li class=\"am-dropdown-menu-item\"><a class=\"am-dropdown-menu-item-text\" href=\"/url?q=http://webcache.googleusercontent.com/search%3Fnum%3D100%26query%3D%2522hard%2Bof%2Bhearing%2522%2Balarm%2Bvibrating%2Bsite%253Ayoutube.com%26hl%3Den%26ct%3Dclnk%26q%3Dcache:Qn3ywh-nYsoJ:http://www.youtube.com/playlist%253Flist%253DPL02D1BE764AE989E9%252B%2522hard%2Bof%2Bhearing%2522%2Balarm%2Bvibrating%2Bsite:youtube.com&amp;sa=U&amp;ei=HlroUsqQNYbnoASDu4CoDA&amp;ved=0CJQBECAwFThl&amp;usg=AFQjCNH2Hp_Oqva-lQfNFqxpwkRTchpO7Q\">Cached</a></li></ul></div></div></div><span class=\"st\">For best results, set your <b>alarm</b> for a few hours earlier than you normally wake. <b>.....</b> <br>\\nattuned thought waves, releasing the associated mental <b>vibration</b> in the mind of <br>\\nthe <b>......</b> Also, help the deaf and <b>hard of hearing</b> by creating subtitles in English.</span><br></div></li><li class=\"g\"><h3 class=\"r\"><a href=\"/url?q=http://www.youtube.com/playlist%3Flist%3DFLldozd3VOQn4BRjINDLsL9Q&amp;sa=U&amp;ei=HlroUsqQNYbnoASDu4CoDA&amp;ved=0CJYBEBYwFjhl&amp;usg=AFQjCNHeFn8nW6lTi9LB3zRDGl3btZNffg\">Favorite videos - YouTube</a></h3><div class=\"s\"><div class=\"kv\" style=\"margin-bottom:2px\"><cite>www.youtube.com/playlist?list=FLldozd3VOQn4BRjINDLsL9Q</cite><div class=\"am-dwn-arw-container\">\\xe2\\x80\\x8e<div onclick=\"google.sham(this);\" aria-expanded=\"false\" aria-haspopup=\"true\" tabindex=\"0\" data-ved=\"0CJcBEOwdMBY4ZQ\" style=\"display:inline\"><span class=\"am-dwn-arw\"></span></div><div class=\"am-dropdown-menu\" role=\"menu\" tabindex=\"-1\" style=\"display:none\"><ul><li class=\"am-dropdown-menu-item\"><a class=\"am-dropdown-menu-item-text\" href=\"/url?q=http://webcache.googleusercontent.com/search%3Fnum%3D100%26query%3D%2522hard%2Bof%2Bhearing%2522%2Balarm%2Bvibrating%2Bsite%253Ayoutube.com%26hl%3Den%26ct%3Dclnk%26q%3Dcache:6RpeeKnnri4J:http://www.youtube.com/playlist%253Flist%253DFLldozd3VOQn4BRjINDLsL9Q%252B%2522hard%2Bof%2Bhearing%2522%2Balarm%2Bvibrating%2Bsite:youtube.com&amp;sa=U&amp;ei=HlroUsqQNYbnoASDu4CoDA&amp;ved=0CJkBECAwFjhl&amp;usg=AFQjCNFnF5oRSBZgvTCQfdkvhe8Kx4tOow\">Cached</a></li></ul></div></div></div><span class=\"st\">My Dad, who has been <b>hard of hearing</b> for about as long as I can remember, <br>\\nrecently <b>.....</b> Cocaine; featuring vocals from Stick Figure&#39;s &#39;Ring the <b>Alarm</b>&#39;. <b>......</b> <br>\\nModes! They become particles (particles!) <b>Vibrations</b> They become particles (<br>\\nparticles!)</span><br></div></li><li class=\"g\"><h3 class=\"r\"><a href=\"/url?q=http://www.youtube.com/playlist%3Flist%3DFL4fXP-YPKbkuZj40gJ4Tfzg&amp;sa=U&amp;ei=HlroUsqQNYbnoASDu4CoDA&amp;ved=0CJsBEBYwFzhl&amp;usg=AFQjCNHBlgMk5WQrgSsQWNMBar0bEj9Fcg\">Favorite videos - YouTube</a></h3><div class=\"s\"><div class=\"kv\" style=\"margin-bottom:2px\"><cite>www.youtube.com/playlist?list=FL4fXP-YPKbkuZj40gJ4Tfzg</cite><div class=\"am-dwn-arw-container\">\\xe2\\x80\\x8e<div onclick=\"google.sham(this);\" aria-expanded=\"false\" aria-haspopup=\"true\" tabindex=\"0\" data-ved=\"0CJwBEOwdMBc4ZQ\" style=\"display:inline\"><span class=\"am-dwn-arw\"></span></div><div class=\"am-dropdown-menu\" role=\"menu\" tabindex=\"-1\" style=\"display:none\"><ul><li class=\"am-dropdown-menu-item\"><a class=\"am-dropdown-menu-item-text\" href=\"/url?q=http://webcache.googleusercontent.com/search%3Fnum%3D100%26query%3D%2522hard%2Bof%2Bhearing%2522%2Balarm%2Bvibrating%2Bsite%253Ayoutube.com%26hl%3Den%26ct%3Dclnk%26q%3Dcache:OrnbajtsJyUJ:http://www.youtube.com/playlist%253Flist%253DFL4fXP-YPKbkuZj40gJ4Tfzg%252B%2522hard%2Bof%2Bhearing%2522%2Balarm%2Bvibrating%2Bsite:youtube.com&amp;sa=U&amp;ei=HlroUsqQNYbnoASDu4CoDA&amp;ved=0CJ4BECAwFzhl&amp;usg=AFQjCNGlguPP6wZvD6BjKzyzQIKlZk74Gg\">Cached</a></li></ul></div></div></div><span class=\"st\">The definitive tutorial - now with captioned subtitles for the <b>hard of hearing</b>! <b>...</b> One <br>\\nfriday afternoon at an innocent band practice, fire <b>alarm</b> tests are being <b>.....</b> and <br>\\nRat Guy voice by Brendan Caulfield https://soundcloud.com/glub-<b>vibrations</b></span><br></div></li><li class=\"g\"><h3 class=\"r\"><a href=\"/url?q=http://www.youtube.com/playlist%3Flist%3DFLaeBleSWbp7EbOPG4QXYaYQ&amp;sa=U&amp;ei=HlroUsqQNYbnoASDu4CoDA&amp;ved=0CKABEBYwGDhl&amp;usg=AFQjCNFw6SYXL3zomKVUZAzkYVmSevG00A\">Favorite videos - YouTube</a></h3><div class=\"s\"><div class=\"kv\" style=\"margin-bottom:2px\"><cite>www.youtube.com/playlist?list=FLaeBleSWbp7EbOPG4QXYaYQ</cite><div class=\"am-dwn-arw-container\">\\xe2\\x80\\x8e<div onclick=\"google.sham(this);\" aria-expanded=\"false\" aria-haspopup=\"true\" tabindex=\"0\" data-ved=\"0CKEBEOwdMBg4ZQ\" style=\"display:inline\"><span class=\"am-dwn-arw\"></span></div><div class=\"am-dropdown-menu\" role=\"menu\" tabindex=\"-1\" style=\"display:none\"><ul><li class=\"am-dropdown-menu-item\"><a class=\"am-dropdown-menu-item-text\" href=\"/url?q=http://webcache.googleusercontent.com/search%3Fnum%3D100%26query%3D%2522hard%2Bof%2Bhearing%2522%2Balarm%2Bvibrating%2Bsite%253Ayoutube.com%26hl%3Den%26ct%3Dclnk%26q%3Dcache:DlAKwE2wfbsJ:http://www.youtube.com/playlist%253Flist%253DFLaeBleSWbp7EbOPG4QXYaYQ%252B%2522hard%2Bof%2Bhearing%2522%2Balarm%2Bvibrating%2Bsite:youtube.com&amp;sa=U&amp;ei=HlroUsqQNYbnoASDu4CoDA&amp;ved=0CKMBECAwGDhl&amp;usg=AFQjCNEMVHj6_Rw6RFQjkr4xn9rkaCwFoA\">Cached</a></li></ul></div></div></div><span class=\"st\">Song &quot;I&#39;m Trying&quot; on &quot;Bad <b>Vibrations</b>, Vol. 1 (LP)&quot; &amp; &quot;Prisoners Of <b>...</b> Strawberry <br>\\n<b>Alarm</b> Clock&#39;s &quot;Curse Of The Witches&quot;, off of their 1968 album &quot;Wake Up.. <b>.....</b> The <br>\\nsame video captioned for the deaf and <b>hard of hearing</b> and karaoke. Thumbnail&nbsp;<b>...</b></span><br></div></li><li class=\"g\"><h3 class=\"r\"><a href=\"/url?q=http://www.youtube.com/playlist%3Flist%3DFL6G7xcpsO5xlSQjuWqfdpzw&amp;sa=U&amp;ei=HlroUsqQNYbnoASDu4CoDA&amp;ved=0CKUBEBYwGThl&amp;usg=AFQjCNFp-K9B5DQrA_dlVqh7GpFxIucznA\">Favorite videos - YouTube</a></h3><div class=\"s\"><div class=\"kv\" style=\"margin-bottom:2px\"><cite>www.youtube.com/playlist?list=FL6G7xcpsO5xlSQjuWqfdpzw</cite><div class=\"am-dwn-arw-container\">\\xe2\\x80\\x8e<div onclick=\"google.sham(this);\" aria-expanded=\"false\" aria-haspopup=\"true\" tabindex=\"0\" data-ved=\"0CKYBEOwdMBk4ZQ\" style=\"display:inline\"><span class=\"am-dwn-arw\"></span></div><div class=\"am-dropdown-menu\" role=\"menu\" tabindex=\"-1\" style=\"display:none\"><ul><li class=\"am-dropdown-menu-item\"><a class=\"am-dropdown-menu-item-text\" href=\"/url?q=http://webcache.googleusercontent.com/search%3Fnum%3D100%26query%3D%2522hard%2Bof%2Bhearing%2522%2Balarm%2Bvibrating%2Bsite%253Ayoutube.com%26hl%3Den%26ct%3Dclnk%26q%3Dcache:LkQ_tWne_pUJ:http://www.youtube.com/playlist%253Flist%253DFL6G7xcpsO5xlSQjuWqfdpzw%252B%2522hard%2Bof%2Bhearing%2522%2Balarm%2Bvibrating%2Bsite:youtube.com&amp;sa=U&amp;ei=HlroUsqQNYbnoASDu4CoDA&amp;ved=0CKgBECAwGThl&amp;usg=AFQjCNHnocisfGi0-p5o2gfKTsw4tp76bg\">Cached</a></li></ul></div></div></div><span class=\"st\">My Dad, who has been <b>hard of hearing</b> for about as long as I can remember, <br>\\nrecently <b>...</b> Cocaine; featuring vocals from Stick Figure&#39;s &#39;Ring the <b>Alarm</b>&#39;. 3. <b>.....</b> <br>\\nCertain frequencies <b>vibrate</b> the metal plate in such a way that it creates areas <br>\\nwhere&nbsp;<b>...</b></span><br></div></li><li class=\"g\"><h3 class=\"r\"><a href=\"/url?q=http://www.youtube.com/playlist%3Flist%3DFLiICzeUwmWg8_gKs25gQUMA&amp;sa=U&amp;ei=HlroUsqQNYbnoASDu4CoDA&amp;ved=0CKoBEBYwGjhl&amp;usg=AFQjCNFEhxh3OKUZs3P8j6weHDaXqGm_IQ\">Favorite videos - YouTube</a></h3><div class=\"s\"><div class=\"kv\" style=\"margin-bottom:2px\"><cite>www.youtube.com/playlist?list=FLiICzeUwmWg8_gKs25gQUMA</cite><div class=\"am-dwn-arw-container\">\\xe2\\x80\\x8e<div onclick=\"google.sham(this);\" aria-expanded=\"false\" aria-haspopup=\"true\" tabindex=\"0\" data-ved=\"0CKsBEOwdMBo4ZQ\" style=\"display:inline\"><span class=\"am-dwn-arw\"></span></div><div class=\"am-dropdown-menu\" role=\"menu\" tabindex=\"-1\" style=\"display:none\"><ul><li class=\"am-dropdown-menu-item\"><a class=\"am-dropdown-menu-item-text\" href=\"/url?q=http://webcache.googleusercontent.com/search%3Fnum%3D100%26query%3D%2522hard%2Bof%2Bhearing%2522%2Balarm%2Bvibrating%2Bsite%253Ayoutube.com%26hl%3Den%26ct%3Dclnk%26q%3Dcache:F2cxI5dWLm0J:http://www.youtube.com/playlist%253Flist%253DFLiICzeUwmWg8_gKs25gQUMA%252B%2522hard%2Bof%2Bhearing%2522%2Balarm%2Bvibrating%2Bsite:youtube.com&amp;sa=U&amp;ei=HlroUsqQNYbnoASDu4CoDA&amp;ved=0CK0BECAwGjhl&amp;usg=AFQjCNGypagA2HltepaokbL-ZbwaMBalbw\">Cached</a></li></ul></div></div></div><span class=\"st\">THE LAW OF <b>VIBRATION</b>/ ATTRACTION 101 DELIBERATE ATTRACTION! <b>......</b> of <br>\\nJason Derulo&#39;s- Whatcha Say about an old man who&#39;s <b>hard of hearing</b> and <br>\\nliterally asking &quot;What&#39;d Ya say? <b>.....</b> Wake up early &amp; mad from the sound of the <br>\\n<b>alarm</b></span><br></div></li><li class=\"g\"><h3 class=\"r\"><a href=\"/url?q=http://www.youtube.com/playlist%3Flist%3DPL5D81C300B63FCDD2&amp;sa=U&amp;ei=HlroUsqQNYbnoASDu4CoDA&amp;ved=0CK8BEBYwGzhl&amp;usg=AFQjCNHk8zSgsXJYF-aSa4-wIboQ1pvIUQ\">Police videos - YouTube</a></h3><div class=\"s\"><div class=\"kv\" style=\"margin-bottom:2px\"><cite>www.youtube.com/playlist?list=PL5D81C300B63FCDD2</cite><div class=\"am-dwn-arw-container\">\\xe2\\x80\\x8e<div onclick=\"google.sham(this);\" aria-expanded=\"false\" aria-haspopup=\"true\" tabindex=\"0\" data-ved=\"0CLABEOwdMBs4ZQ\" style=\"display:inline\"><span class=\"am-dwn-arw\"></span></div><div class=\"am-dropdown-menu\" role=\"menu\" tabindex=\"-1\" style=\"display:none\"><ul><li class=\"am-dropdown-menu-item\"><a class=\"am-dropdown-menu-item-text\" href=\"/url?q=http://webcache.googleusercontent.com/search%3Fnum%3D100%26query%3D%2522hard%2Bof%2Bhearing%2522%2Balarm%2Bvibrating%2Bsite%253Ayoutube.com%26hl%3Den%26ct%3Dclnk%26q%3Dcache:U-srqVwwye0J:http://www.youtube.com/playlist%253Flist%253DPL5D81C300B63FCDD2%252B%2522hard%2Bof%2Bhearing%2522%2Balarm%2Bvibrating%2Bsite:youtube.com&amp;sa=U&amp;ei=HlroUsqQNYbnoASDu4CoDA&amp;ved=0CLIBECAwGzhl&amp;usg=AFQjCNH6JcO79eMU8W3LFtZ05bixrGjjjA\">Cached</a></li></ul></div></div></div><span class=\"st\">I do admit i was <b>shaking</b>, I didn&#39;t know what was going on! <b>....</b> This is effective for <br>\\nclearing past people with their radios up, or those that are <b>hard of hearing</b>. <b>.....</b> <br>\\nChicago Heights Police and Fire Response Box <b>Alarm</b> Structure Fire 9/11/2011.</span><br></div></li><li class=\"g\"><h3 class=\"r\"><a href=\"/url?q=https://www.youtube.com/playlist%3Flist%3DPLgXzBErq5xF0Mi9tmeOnJtE7LQlm3LeC_&amp;sa=U&amp;ei=HlroUsqQNYbnoASDu4CoDA&amp;ved=0CLQBEBYwHDhl&amp;usg=AFQjCNFZW95aSw6-JB4YM6BCl4wfYFxQcA\">SHORTS &amp; LONGS &amp; BEAUTIES CXXXXII - YouTube</a></h3><div class=\"s\"><div class=\"kv\" style=\"margin-bottom:2px\"><cite>https://www.youtube.com/playlist?list...</cite><div class=\"am-dwn-arw-container\">\\xe2\\x80\\x8e<div onclick=\"google.sham(this);\" aria-expanded=\"false\" aria-haspopup=\"true\" tabindex=\"0\" data-ved=\"0CLUBEOwdMBw4ZQ\" style=\"display:inline\"><span class=\"am-dwn-arw\"></span></div><div class=\"am-dropdown-menu\" role=\"menu\" tabindex=\"-1\" style=\"display:none\"><ul><li class=\"am-dropdown-menu-item\"><a class=\"am-dropdown-menu-item-text\" href=\"/url?q=http://webcache.googleusercontent.com/search%3Fnum%3D100%26query%3D%2522hard%2Bof%2Bhearing%2522%2Balarm%2Bvibrating%2Bsite%253Ayoutube.com%26hl%3Den%26ct%3Dclnk%26q%3Dcache:aJNTtMnGfWQJ:https://www.youtube.com/playlist%253Flist%253DPLgXzBErq5xF0Mi9tmeOnJtE7LQlm3LeC_%252B%2522hard%2Bof%2Bhearing%2522%2Balarm%2Bvibrating%2Bsite:youtube.com&amp;sa=U&amp;ei=HlroUsqQNYbnoASDu4CoDA&amp;ved=0CLcBECAwHDhl&amp;usg=AFQjCNGZfD5N7sPXprEpnTUf7pGV_-9jGQ\">Cached</a></li></ul></div></div></div><span class=\"st\">Audio and seat <b>vibration alarms</b>, meanwhile, alert the operator, and site <br>\\ndispatchers <b>....</b> Actors from the Nedoslov Theater are <b>hard-of-hearing</b> or <br>\\ncompletely deaf.</span><br></div></li><li class=\"g\"><h3 class=\"r\"><a href=\"/url?q=http://www.youtube.com/playlist%3Flist%3DFLPrvmor0JazRph7DU2KguTw&amp;sa=U&amp;ei=HlroUsqQNYbnoASDu4CoDA&amp;ved=0CLkBEBYwHThl&amp;usg=AFQjCNGg0lR9C4MclFPsjE2SeJiyOnp89A\">Favorite videos - YouTube</a></h3><div class=\"s\"><div class=\"kv\" style=\"margin-bottom:2px\"><cite>www.youtube.com/playlist?list=FLPrvmor0JazRph7DU2KguTw</cite><div class=\"am-dwn-arw-container\">\\xe2\\x80\\x8e<div onclick=\"google.sham(this);\" aria-expanded=\"false\" aria-haspopup=\"true\" tabindex=\"0\" data-ved=\"0CLoBEOwdMB04ZQ\" style=\"display:inline\"><span class=\"am-dwn-arw\"></span></div><div class=\"am-dropdown-menu\" role=\"menu\" tabindex=\"-1\" style=\"display:none\"><ul><li class=\"am-dropdown-menu-item\"><a class=\"am-dropdown-menu-item-text\" href=\"/url?q=http://webcache.googleusercontent.com/search%3Fnum%3D100%26query%3D%2522hard%2Bof%2Bhearing%2522%2Balarm%2Bvibrating%2Bsite%253Ayoutube.com%26hl%3Den%26ct%3Dclnk%26q%3Dcache:4DTqJqfLaoMJ:http://www.youtube.com/playlist%253Flist%253DFLPrvmor0JazRph7DU2KguTw%252B%2522hard%2Bof%2Bhearing%2522%2Balarm%2Bvibrating%2Bsite:youtube.com&amp;sa=U&amp;ei=HlroUsqQNYbnoASDu4CoDA&amp;ved=0CLwBECAwHThl&amp;usg=AFQjCNFgEyV0hxvA3a-5eiiMMOo6hMIGXA\">Cached</a></li></ul></div></div></div><span class=\"st\">Cocaine; featuring vocals from Stick Figure&#39;s &#39;Ring the <b>Alarm</b>&#39;. <b>...</b> All music tracks <br>\\nare original and the sole property of Source <b>Vibrations</b>. <b>.....</b> any language so non-<br>\\nEnglish speakers or the deaf and <b>hard of hearing</b> can enjoy this talk, please do&nbsp;<b>...</b></span><br></div></li><li class=\"g\"><h3 class=\"r\"><a href=\"/url?q=http://www.youtube.com/playlist%3Flist%3DFLDYInjrEFYN42eoceGxJ8JA&amp;sa=U&amp;ei=HlroUsqQNYbnoASDu4CoDA&amp;ved=0CL4BEBYwHjhl&amp;usg=AFQjCNGvnSyKQlyKhPdSzB2urKL3273Yog\">Favorite videos - YouTube</a></h3><div class=\"s\"><div class=\"kv\" style=\"margin-bottom:2px\"><cite>www.youtube.com/playlist?list=FLDYInjrEFYN42eoceGxJ8JA</cite><div class=\"am-dwn-arw-container\">\\xe2\\x80\\x8e<div onclick=\"google.sham(this);\" aria-expanded=\"false\" aria-haspopup=\"true\" tabindex=\"0\" data-ved=\"0CL8BEOwdMB44ZQ\" style=\"display:inline\"><span class=\"am-dwn-arw\"></span></div><div class=\"am-dropdown-menu\" role=\"menu\" tabindex=\"-1\" style=\"display:none\"><ul><li class=\"am-dropdown-menu-item\"><a class=\"am-dropdown-menu-item-text\" href=\"/url?q=http://webcache.googleusercontent.com/search%3Fnum%3D100%26query%3D%2522hard%2Bof%2Bhearing%2522%2Balarm%2Bvibrating%2Bsite%253Ayoutube.com%26hl%3Den%26ct%3Dclnk%26q%3Dcache:c6vqPYVx7bYJ:http://www.youtube.com/playlist%253Flist%253DFLDYInjrEFYN42eoceGxJ8JA%252B%2522hard%2Bof%2Bhearing%2522%2Balarm%2Bvibrating%2Bsite:youtube.com&amp;sa=U&amp;ei=HlroUsqQNYbnoASDu4CoDA&amp;ved=0CMEBECAwHjhl&amp;usg=AFQjCNG46Gfy_DPcb2JL-E9vkS8umhSZew\">Cached</a></li></ul></div></div></div><span class=\"st\">My Dad, who has been <b>hard of hearing</b> for about as long as I can remember, <br>\\nrecently invested in hearing <b>.....</b> It&#39;s best to do this outdoors, unless you want your <br>\\nsmoke <b>alarm</b> to go off. <b>.....</b> There&#39;s gonna be temptation then sensations of <br>\\n<b>vibration</b></span><br></div></li><li class=\"g\"><h3 class=\"r\"><a href=\"/url?q=http://www.youtube.com/playlist%3Flist%3DPLgJNC9FB8KAjOdzUytCiJ_0Wfta8QNHP2&amp;sa=U&amp;ei=HlroUsqQNYbnoASDu4CoDA&amp;ved=0CMMBEBYwHzhl&amp;usg=AFQjCNEAX0nw1doyXqAhi6QFv7YgUI9OCw\">fav sessions...&quot;)0( - YouTube</a></h3><div class=\"s\"><div class=\"kv\" style=\"margin-bottom:2px\"><cite>www.youtube.com/playlist?list=PLgJNC9FB8KAjOdzUytCiJ...</cite><div class=\"am-dwn-arw-container\">\\xe2\\x80\\x8e<div onclick=\"google.sham(this);\" aria-expanded=\"false\" aria-haspopup=\"true\" tabindex=\"0\" data-ved=\"0CMQBEOwdMB84ZQ\" style=\"display:inline\"><span class=\"am-dwn-arw\"></span></div><div class=\"am-dropdown-menu\" role=\"menu\" tabindex=\"-1\" style=\"display:none\"><ul><li class=\"am-dropdown-menu-item\"><a class=\"am-dropdown-menu-item-text\" href=\"/url?q=http://webcache.googleusercontent.com/search%3Fnum%3D100%26query%3D%2522hard%2Bof%2Bhearing%2522%2Balarm%2Bvibrating%2Bsite%253Ayoutube.com%26hl%3Den%26ct%3Dclnk%26q%3Dcache:mR1zlwDd6IkJ:http://www.youtube.com/playlist%253Flist%253DPLgJNC9FB8KAjOdzUytCiJ_0Wfta8QNHP2%252B%2522hard%2Bof%2Bhearing%2522%2Balarm%2Bvibrating%2Bsite:youtube.com&amp;sa=U&amp;ei=HlroUsqQNYbnoASDu4CoDA&amp;ved=0CMYBECAwHzhl&amp;usg=AFQjCNHciDWh1r-cUXF-cghdtcba1Pgokw\">Cached</a></li></ul></div></div></div><span class=\"st\">sound the <b>alarm</b> <b>......</b> Road sessions on Channel 4 with subtitles for the deaf and <br>\\n<b>hard of hearing</b>. <b>....</b> The Secrets Of <b>Vibration</b> (528 Hz) - Hidden truths of sound!</span><br></div></li><li class=\"g\"><h3 class=\"r\"><a href=\"/url?q=http://www.youtube.com/playlist%3Flist%3DFLzns90b5DN_QK5rvPW4x4wQ&amp;sa=U&amp;ei=HlroUsqQNYbnoASDu4CoDA&amp;ved=0CMgBEBYwIDhl&amp;usg=AFQjCNHwYFi9k3thDxCdxIG55CByiwpNdg\">Favorite videos - YouTube</a></h3><div class=\"s\"><div class=\"kv\" style=\"margin-bottom:2px\"><cite>www.youtube.com/playlist?list=FLzns90b5DN_QK5rvPW4x4wQ</cite><div class=\"am-dwn-arw-container\">\\xe2\\x80\\x8e<div onclick=\"google.sham(this);\" aria-expanded=\"false\" aria-haspopup=\"true\" tabindex=\"0\" data-ved=\"0CMkBEOwdMCA4ZQ\" style=\"display:inline\"><span class=\"am-dwn-arw\"></span></div><div class=\"am-dropdown-menu\" role=\"menu\" tabindex=\"-1\" style=\"display:none\"><ul><li class=\"am-dropdown-menu-item\"><a class=\"am-dropdown-menu-item-text\" href=\"/url?q=http://webcache.googleusercontent.com/search%3Fnum%3D100%26query%3D%2522hard%2Bof%2Bhearing%2522%2Balarm%2Bvibrating%2Bsite%253Ayoutube.com%26hl%3Den%26ct%3Dclnk%26q%3Dcache:U05eQ9YeBfMJ:http://www.youtube.com/playlist%253Flist%253DFLzns90b5DN_QK5rvPW4x4wQ%252B%2522hard%2Bof%2Bhearing%2522%2Balarm%2Bvibrating%2Bsite:youtube.com&amp;sa=U&amp;ei=HlroUsqQNYbnoASDu4CoDA&amp;ved=0CMsBECAwIDhl&amp;usg=AFQjCNGRyrFF4je9lYhflQhynR2Da_wCuw\">Cached</a></li></ul></div></div></div><span class=\"st\">STRAWBERRY <b>ALARM</b> CLOCK (Live w/lyrics) - Incense &amp; Peppermints <b>.....</b> <br>\\n<b>Vibrations</b> through &amp; through. So come on baby, won&#39;t <b>....</b> Blondie&#39;s video for <br>\\nHanging On he Telephone with subtitles for the deaf and <b>hard of hearing</b> by <br>\\nMuzzy Fush.</span><br></div></li><li class=\"g\"><h3 class=\"r\"><a href=\"/url?q=http://www.youtube.com/playlist%3Flist%3DFLLzYyKMGp-fbf5OPUhALTEA&amp;sa=U&amp;ei=HlroUsqQNYbnoASDu4CoDA&amp;ved=0CM0BEBYwIThl&amp;usg=AFQjCNFemDVTXLMVJ8uvIuIFzItPzQES_Q\">Favorite videos - YouTube</a></h3><div class=\"s\"><div class=\"kv\" style=\"margin-bottom:2px\"><cite>www.youtube.com/playlist?list=FLLzYyKMGp-fbf5OPUhALTEA</cite><div class=\"am-dwn-arw-container\">\\xe2\\x80\\x8e<div onclick=\"google.sham(this);\" aria-expanded=\"false\" aria-haspopup=\"true\" tabindex=\"0\" data-ved=\"0CM4BEOwdMCE4ZQ\" style=\"display:inline\"><span class=\"am-dwn-arw\"></span></div><div class=\"am-dropdown-menu\" role=\"menu\" tabindex=\"-1\" style=\"display:none\"><ul><li class=\"am-dropdown-menu-item\"><a class=\"am-dropdown-menu-item-text\" href=\"/url?q=http://webcache.googleusercontent.com/search%3Fnum%3D100%26query%3D%2522hard%2Bof%2Bhearing%2522%2Balarm%2Bvibrating%2Bsite%253Ayoutube.com%26hl%3Den%26ct%3Dclnk%26q%3Dcache:P8u_bAiqo3kJ:http://www.youtube.com/playlist%253Flist%253DFLLzYyKMGp-fbf5OPUhALTEA%252B%2522hard%2Bof%2Bhearing%2522%2Balarm%2Bvibrating%2Bsite:youtube.com&amp;sa=U&amp;ei=HlroUsqQNYbnoASDu4CoDA&amp;ved=0CNABECAwIThl&amp;usg=AFQjCNFL2TFiEBa9ICJZvqRkQ1rMr5GIBw\">Cached</a></li></ul></div></div></div><span class=\"st\">Check out the Affirmation <b>Alarm</b> - http://www.youtube.com/watch?v=I7ln_oVBsUU <br>\\n<b>...</b> awakening 2013 <b>vibration</b> light universe consciousness peace sound nature <br>\\nsounds <b>...</b> Also, help the deaf and <b>hard of hearing</b> by creating subtitles in English.</span><br></div></li><li class=\"g\"><h3 class=\"r\"><a href=\"/url?q=http://www.youtube.com/playlist%3Flist%3DUU9x2yEAU0Yp1qmhgky4cfKA&amp;sa=U&amp;ei=HlroUsqQNYbnoASDu4CoDA&amp;ved=0CNIBEBYwIjhl&amp;usg=AFQjCNGogvrWFBpnahPOZjo50AznH3_6eA\">Uploads from Remark! - YouTube</a></h3><div class=\"s\"><div class=\"kv\" style=\"margin-bottom:2px\"><cite>www.youtube.com/playlist?list=UU9x2yEAU0Yp1qmhgky4cfKA</cite><div class=\"am-dwn-arw-container\">\\xe2\\x80\\x8e<div onclick=\"google.sham(this);\" aria-expanded=\"false\" aria-haspopup=\"true\" tabindex=\"0\" data-ved=\"0CNMBEOwdMCI4ZQ\" style=\"display:inline\"><span class=\"am-dwn-arw\"></span></div><div class=\"am-dropdown-menu\" role=\"menu\" tabindex=\"-1\" style=\"display:none\"><ul><li class=\"am-dropdown-menu-item\"><a class=\"am-dropdown-menu-item-text\" href=\"/url?q=http://webcache.googleusercontent.com/search%3Fnum%3D100%26query%3D%2522hard%2Bof%2Bhearing%2522%2Balarm%2Bvibrating%2Bsite%253Ayoutube.com%26hl%3Den%26ct%3Dclnk%26q%3Dcache:t_SmDw5diEEJ:http://www.youtube.com/playlist%253Flist%253DUU9x2yEAU0Yp1qmhgky4cfKA%252B%2522hard%2Bof%2Bhearing%2522%2Balarm%2Bvibrating%2Bsite:youtube.com&amp;sa=U&amp;ei=HlroUsqQNYbnoASDu4CoDA&amp;ved=0CNUBECAwIjhl&amp;usg=AFQjCNEaR01JQZ5Q7PZ4cjitmVUIhZztCQ\">Cached</a></li></ul></div></div></div><span class=\"st\">In 2010, Ong realised that 64 per cent of deaf and <b>hard-of-hearing</b> graduates are <br>\\n<b>.....</b> chance to take part in music by feeling the <b>vibrations</b> on musical instruments. <br>\\n<b>....</b> Many of us grew up in houses fitted with the Mountcastle Silent <b>Alarm</b>, which&nbsp;<b>...</b></span><br></div></li><li class=\"g\"><h3 class=\"r\"><a href=\"/url?q=https://www.youtube.com/playlist%3Flist%3DPLctGsOaiOxWtf1-9MdmPAuwWu9sJp403J&amp;sa=U&amp;ei=HlroUsqQNYbnoASDu4CoDA&amp;ved=0CNcBEBYwIzhl&amp;usg=AFQjCNEE_1ca1o4EEZrp3H6kujQtaijcMg\">Music - YouTube</a></h3><div class=\"s\"><div class=\"kv\" style=\"margin-bottom:2px\"><cite>https://www.youtube.com/playlist?list=PLctGsOaiOxWtf1...</cite><div class=\"am-dwn-arw-container\">\\xe2\\x80\\x8e<div onclick=\"google.sham(this);\" aria-expanded=\"false\" aria-haspopup=\"true\" tabindex=\"0\" data-ved=\"0CNgBEOwdMCM4ZQ\" style=\"display:inline\"><span class=\"am-dwn-arw\"></span></div><div class=\"am-dropdown-menu\" role=\"menu\" tabindex=\"-1\" style=\"display:none\"><ul><li class=\"am-dropdown-menu-item\"><a class=\"am-dropdown-menu-item-text\" href=\"/url?q=http://webcache.googleusercontent.com/search%3Fnum%3D100%26query%3D%2522hard%2Bof%2Bhearing%2522%2Balarm%2Bvibrating%2Bsite%253Ayoutube.com%26hl%3Den%26ct%3Dclnk%26q%3Dcache:DiWhtguDnoUJ:https://www.youtube.com/playlist%253Flist%253DPLctGsOaiOxWtf1-9MdmPAuwWu9sJp403J%252B%2522hard%2Bof%2Bhearing%2522%2Balarm%2Bvibrating%2Bsite:youtube.com&amp;sa=U&amp;ei=HlroUsqQNYbnoASDu4CoDA&amp;ved=0CNoBECAwIzhl&amp;usg=AFQjCNHl7EIMahFlu8_MxibEHUyTbTbQaA\">Cached</a></li></ul></div></div></div><span class=\"st\">Nicki Minaj - &quot;Pound The <b>Alarm</b>&quot; <b>......</b> I am <b>hard of hearing</b> myself, but I am <br>\\nculturally Deaf, meaning that ASL is my first language--the language I grew up <br>\\nwith. <b>...</b> not only by hearing/feeling the beat and <b>vibrations</b> of the music, but also <br>\\nby having&nbsp;<b>...</b></span><br></div></li><li class=\"g\"><h3 class=\"r\"><a href=\"/url?q=http://www.youtube.com/playlist%3Flist%3DFLuV-EBJZniW9NFraJYPS4-g%26page%3D1&amp;sa=U&amp;ei=HlroUsqQNYbnoASDu4CoDA&amp;ved=0CNwBEBYwJDhl&amp;usg=AFQjCNHISCvROsoFXctikarik0ceM5QjMw\">Favorite videos - YouTube</a></h3><div class=\"s\"><div class=\"kv\" style=\"margin-bottom:2px\"><cite>www.youtube.com/playlist?list=FLuV-EBJZniW9NFraJYPS4-g...</cite><div class=\"am-dwn-arw-container\">\\xe2\\x80\\x8e<div onclick=\"google.sham(this);\" aria-expanded=\"false\" aria-haspopup=\"true\" tabindex=\"0\" data-ved=\"0CN0BEOwdMCQ4ZQ\" style=\"display:inline\"><span class=\"am-dwn-arw\"></span></div><div class=\"am-dropdown-menu\" role=\"menu\" tabindex=\"-1\" style=\"display:none\"><ul><li class=\"am-dropdown-menu-item\"><a class=\"am-dropdown-menu-item-text\" href=\"/url?q=http://webcache.googleusercontent.com/search%3Fnum%3D100%26query%3D%2522hard%2Bof%2Bhearing%2522%2Balarm%2Bvibrating%2Bsite%253Ayoutube.com%26hl%3Den%26ct%3Dclnk%26q%3Dcache:wUC-cBz0oNkJ:http://www.youtube.com/playlist%253Flist%253DFLuV-EBJZniW9NFraJYPS4-g%2526page%253D1%252B%2522hard%2Bof%2Bhearing%2522%2Balarm%2Bvibrating%2Bsite:youtube.com&amp;sa=U&amp;ei=HlroUsqQNYbnoASDu4CoDA&amp;ved=0CN8BECAwJDhl&amp;usg=AFQjCNHwXy6MdNx9Rgg-TsgSFasLQB-eYw\">Cached</a></li></ul></div></div></div><span class=\"st\">Ke$ha&#39;s hit single We R Who We R. Signed for the deaf and <b>hard of hearing</b>. <b>....</b> <br>\\nnot only by hearing/feeling the beat and <b>vibrations</b> of the music, but also by <br>\\nhaving access to the message <b>.....</b> Pound The <b>Alarm</b> by Nicki Minaj in Sign <br>\\nLanguage.</span><br></div></li><li class=\"g\"><h3 class=\"r\"><a href=\"/url?q=http://www.youtube.com/playlist%3Flist%3DPL8C9A33A7ECD6E231&amp;sa=U&amp;ei=HlroUsqQNYbnoASDu4CoDA&amp;ved=0COEBEBYwJThl&amp;usg=AFQjCNEGJ3njOIIte6MGQHwrmCyoiN_nEw\">Tunes - YouTube</a></h3><div class=\"s\"><div class=\"kv\" style=\"margin-bottom:2px\"><cite>www.youtube.com/playlist?list=PL8C9A33A7ECD6E231</cite><div class=\"am-dwn-arw-container\">\\xe2\\x80\\x8e<div onclick=\"google.sham(this);\" aria-expanded=\"false\" aria-haspopup=\"true\" tabindex=\"0\" data-ved=\"0COIBEOwdMCU4ZQ\" style=\"display:inline\"><span class=\"am-dwn-arw\"></span></div><div class=\"am-dropdown-menu\" role=\"menu\" tabindex=\"-1\" style=\"display:none\"><ul><li class=\"am-dropdown-menu-item\"><a class=\"am-dropdown-menu-item-text\" href=\"/url?q=http://webcache.googleusercontent.com/search%3Fnum%3D100%26query%3D%2522hard%2Bof%2Bhearing%2522%2Balarm%2Bvibrating%2Bsite%253Ayoutube.com%26hl%3Den%26ct%3Dclnk%26q%3Dcache:eKxElACfymYJ:http://www.youtube.com/playlist%253Flist%253DPL8C9A33A7ECD6E231%252B%2522hard%2Bof%2Bhearing%2522%2Balarm%2Bvibrating%2Bsite:youtube.com&amp;sa=U&amp;ei=HlroUsqQNYbnoASDu4CoDA&amp;ved=0COQBECAwJThl&amp;usg=AFQjCNFUHKMB40Gn_8faU7eiQxhNVAvhBg\">Cached</a></li></ul></div></div></div><span class=\"st\">Complete with subtitles for the deaf and <b>hard of hearing</b>. <b>.....</b> Taken from the <br>\\nalbum &quot;Silent <b>Alarm</b>&quot;, available to purchase now from the Wichita Recordings <b>...</b> <br>\\nThe Whigs&#39; &quot;Like A <b>Vibration</b>&quot;, from their album &quot;Mission Control&quot; on ATO Records<br>\\n.</span><br></div></li><li class=\"g\"><h3 class=\"r\"><a href=\"/url?q=http://www.youtube.com/playlist%3Flist%3DFLUoi7siBe8rTZmdaTNBNEeg&amp;sa=U&amp;ei=HlroUsqQNYbnoASDu4CoDA&amp;ved=0COYBEBYwJjhl&amp;usg=AFQjCNEeo3kH2ZLfroQzrcF-sKZW6mqQEg\">Favorite videos - YouTube</a></h3><div class=\"s\"><div class=\"kv\" style=\"margin-bottom:2px\"><cite>www.youtube.com/playlist?list=FLUoi7siBe8rTZmdaTNBNEeg</cite><div class=\"am-dwn-arw-container\">\\xe2\\x80\\x8e<div onclick=\"google.sham(this);\" aria-expanded=\"false\" aria-haspopup=\"true\" tabindex=\"0\" data-ved=\"0COcBEOwdMCY4ZQ\" style=\"display:inline\"><span class=\"am-dwn-arw\"></span></div><div class=\"am-dropdown-menu\" role=\"menu\" tabindex=\"-1\" style=\"display:none\"><ul><li class=\"am-dropdown-menu-item\"><a class=\"am-dropdown-menu-item-text\" href=\"/url?q=http://webcache.googleusercontent.com/search%3Fnum%3D100%26query%3D%2522hard%2Bof%2Bhearing%2522%2Balarm%2Bvibrating%2Bsite%253Ayoutube.com%26hl%3Den%26ct%3Dclnk%26q%3Dcache:IBjtXmXLzx0J:http://www.youtube.com/playlist%253Flist%253DFLUoi7siBe8rTZmdaTNBNEeg%252B%2522hard%2Bof%2Bhearing%2522%2Balarm%2Bvibrating%2Bsite:youtube.com&amp;sa=U&amp;ei=HlroUsqQNYbnoASDu4CoDA&amp;ved=0COkBECAwJjhl&amp;usg=AFQjCNGk20teIGhI6xzIZWN3q9QWAk-aNw\">Cached</a></li></ul></div></div></div><span class=\"st\">Imagine how beautiful the world would be with the Love <b>vibration</b> permeating the <br>\\n<b>.....</b> by training dogs to alert Deaf and <b>hard of hearing</b> people to important sounds. <br>\\n<b>.....</b> to alert deaf people to everyday household sounds such as the <b>alarm</b> clock,&nbsp;<b>...</b></span><br></div></li><li class=\"g\"><h3 class=\"r\"><a href=\"/url?q=http://www.youtube.com/playlist%3Flist%3DPL44A207D07EECBBE2&amp;sa=U&amp;ei=HlroUsqQNYbnoASDu4CoDA&amp;ved=0COsBEBYwJzhl&amp;usg=AFQjCNEcRONu7GIu_wX6YdP9vKRlvDvgpg\">...shall set you free - YouTube</a></h3><div class=\"s\"><div class=\"kv\" style=\"margin-bottom:2px\"><cite>www.youtube.com/playlist?list=PL44A207D07EECBBE2</cite><div class=\"am-dwn-arw-container\">\\xe2\\x80\\x8e<div onclick=\"google.sham(this);\" aria-expanded=\"false\" aria-haspopup=\"true\" tabindex=\"0\" data-ved=\"0COwBEOwdMCc4ZQ\" style=\"display:inline\"><span class=\"am-dwn-arw\"></span></div><div class=\"am-dropdown-menu\" role=\"menu\" tabindex=\"-1\" style=\"display:none\"><ul><li class=\"am-dropdown-menu-item\"><a class=\"am-dropdown-menu-item-text\" href=\"/url?q=http://webcache.googleusercontent.com/search%3Fnum%3D100%26query%3D%2522hard%2Bof%2Bhearing%2522%2Balarm%2Bvibrating%2Bsite%253Ayoutube.com%26hl%3Den%26ct%3Dclnk%26q%3Dcache:mN2hM6qcTzMJ:http://www.youtube.com/playlist%253Flist%253DPL44A207D07EECBBE2%252B%2522hard%2Bof%2Bhearing%2522%2Balarm%2Bvibrating%2Bsite:youtube.com&amp;sa=U&amp;ei=HlroUsqQNYbnoASDu4CoDA&amp;ved=0CO4BECAwJzhl&amp;usg=AFQjCNEfiLgDLsHDtZWk9MZJzNJSgPcjNg\">Cached</a></li></ul></div></div></div><span class=\"st\"><b>...</b> the Logos, and the Vedic concept of Nada Brahma (the universe is sound or <br>\\n<b>vibration</b>). <b>......</b> so non-English speakers or the deaf and <b>hard of hearing</b> can enjoy <br>\\nthis talk, <b>....</b> Several worried pediatricians and scientists are sounding the <b>alarm</b>.</span><br></div></li><li class=\"g\"><h3 class=\"r\"><a href=\"/url?q=http://www.youtube.com/playlist%3Flist%3DPLFB1F196611DF4D7A%26feature%3Dc4-feed-a&amp;sa=U&amp;ei=HlroUsqQNYbnoASDu4CoDA&amp;ved=0CPABEBYwKDhl&amp;usg=AFQjCNGQiJ6kjqXd7l1RjPQxl9qY8YtIVw\">Favorite Sign Language/Deaf videos - YouTube</a></h3><div class=\"s\"><div class=\"kv\" style=\"margin-bottom:2px\"><cite>www.youtube.com/playlist?list=PLFB1F196611DF4D7A...c4...</cite><div class=\"am-dwn-arw-container\">\\xe2\\x80\\x8e<div onclick=\"google.sham(this);\" aria-expanded=\"false\" aria-haspopup=\"true\" tabindex=\"0\" data-ved=\"0CPEBEOwdMCg4ZQ\" style=\"display:inline\"><span class=\"am-dwn-arw\"></span></div><div class=\"am-dropdown-menu\" role=\"menu\" tabindex=\"-1\" style=\"display:none\"><ul><li class=\"am-dropdown-menu-item\"><a class=\"am-dropdown-menu-item-text\" href=\"/url?q=http://webcache.googleusercontent.com/search%3Fnum%3D100%26query%3D%2522hard%2Bof%2Bhearing%2522%2Balarm%2Bvibrating%2Bsite%253Ayoutube.com%26hl%3Den%26ct%3Dclnk%26q%3Dcache:PWjJKxvKZh0J:http://www.youtube.com/playlist%253Flist%253DPLFB1F196611DF4D7A%2526feature%253Dc4-feed-a%252B%2522hard%2Bof%2Bhearing%2522%2Balarm%2Bvibrating%2Bsite:youtube.com&amp;sa=U&amp;ei=HlroUsqQNYbnoASDu4CoDA&amp;ved=0CPMBECAwKDhl&amp;usg=AFQjCNGD5CQla4C9vFmIk1haPI5ZenkW7g\">Cached</a></li></ul></div></div></div><span class=\"st\">-Floor -Clock -Book -Home -House -<b>Alarm</b>. Thumbnail 2:28. Watch Later. 33 <b>.....</b> to <br>\\nfeel the <b>vibrations</b> of the music and get them to try to speak phonetically. <b>....</b> For <br>\\nmore information about teaching ASL to your deaf or <b>hard of hearing</b> child,&nbsp;<b>...</b></span><br></div></li><li class=\"g\"><h3 class=\"r\"><a href=\"/url?q=http://www.youtube.com/playlist%3Flist%3DPL07058A9F6DA0C3C5&amp;sa=U&amp;ei=HlroUsqQNYbnoASDu4CoDA&amp;ved=0CPUBEBYwKThl&amp;usg=AFQjCNHId95YFvxTEmkmuQvz7hgT-5kXbg\">rain - YouTube</a></h3><div class=\"s\"><div class=\"kv\" style=\"margin-bottom:2px\"><cite>www.youtube.com/playlist?list=PL07058A9F6DA0C3C5</cite><div class=\"am-dwn-arw-container\">\\xe2\\x80\\x8e<div onclick=\"google.sham(this);\" aria-expanded=\"false\" aria-haspopup=\"true\" tabindex=\"0\" data-ved=\"0CPYBEOwdMCk4ZQ\" style=\"display:inline\"><span class=\"am-dwn-arw\"></span></div><div class=\"am-dropdown-menu\" role=\"menu\" tabindex=\"-1\" style=\"display:none\"><ul><li class=\"am-dropdown-menu-item\"><a class=\"am-dropdown-menu-item-text\" href=\"/url?q=http://webcache.googleusercontent.com/search%3Fnum%3D100%26query%3D%2522hard%2Bof%2Bhearing%2522%2Balarm%2Bvibrating%2Bsite%253Ayoutube.com%26hl%3Den%26ct%3Dclnk%26q%3Dcache:z4QlDcWpccwJ:http://www.youtube.com/playlist%253Flist%253DPL07058A9F6DA0C3C5%252B%2522hard%2Bof%2Bhearing%2522%2Balarm%2Bvibrating%2Bsite:youtube.com&amp;sa=U&amp;ei=HlroUsqQNYbnoASDu4CoDA&amp;ved=0CPgBECAwKThl&amp;usg=AFQjCNG0EuxaiDaM93TL6qT-5s-WZHTzVA\">Cached</a></li></ul></div></div></div><span class=\"st\">Strawberry <b>Alarm</b> Clock - Rainy Day Mushroom Pillow - 1968 <b>.....</b> a. rhythmical <br>\\nbeating, <b>vibrating</b>, or sounding <b>...</b> perform &#39;Goodnight Bad Morning&#39; during their <br>\\nAbbey Road sessions on Channel 4 with subtitles for the deaf and <b>hard of</b> <br>\\n<b>hearing</b>.</span><br></div></li><li class=\"g\"><h3 class=\"r\"><a href=\"/url?q=https://www.youtube.com/playlist%3Flist%3DLLWsPYaX4lL-tYAuSScVWJkg&amp;sa=U&amp;ei=HlroUsqQNYbnoASDu4CoDA&amp;ved=0CPoBEBYwKjhl&amp;usg=AFQjCNF1zXi1fahiAdouHuROmJ3m3vskpA\">Liked videos - YouTube</a></h3><div class=\"s\"><div class=\"kv\" style=\"margin-bottom:2px\"><cite>https://www.youtube.com/playlist?list=LLWsPYaX4lL...</cite><div class=\"am-dwn-arw-container\">\\xe2\\x80\\x8e<div onclick=\"google.sham(this);\" aria-expanded=\"false\" aria-haspopup=\"true\" tabindex=\"0\" data-ved=\"0CPsBEOwdMCo4ZQ\" style=\"display:inline\"><span class=\"am-dwn-arw\"></span></div><div class=\"am-dropdown-menu\" role=\"menu\" tabindex=\"-1\" style=\"display:none\"><ul><li class=\"am-dropdown-menu-item\"><a class=\"am-dropdown-menu-item-text\" href=\"/url?q=http://webcache.googleusercontent.com/search%3Fnum%3D100%26query%3D%2522hard%2Bof%2Bhearing%2522%2Balarm%2Bvibrating%2Bsite%253Ayoutube.com%26hl%3Den%26ct%3Dclnk%26q%3Dcache:_QLguv_9w-YJ:https://www.youtube.com/playlist%253Flist%253DLLWsPYaX4lL-tYAuSScVWJkg%252B%2522hard%2Bof%2Bhearing%2522%2Balarm%2Bvibrating%2Bsite:youtube.com&amp;sa=U&amp;ei=HlroUsqQNYbnoASDu4CoDA&amp;ved=0CP0BECAwKjhl&amp;usg=AFQjCNGrvjDahPpbIHRQ31dk2lIfC1yiog\">Cached</a></li></ul></div></div></div><span class=\"st\">A special tuning fork set is used to resonate the core creative <b>vibrations</b> of the <b>....</b> <br>\\nso non-English speakers or the deaf and <b>hard of hearing</b> can enjoy this talk, <br>\\nplease do so and I will be happy to upload it. <b>......</b> Geithner sounds <b>alarm</b> on <br>\\nEurope</span><br></div></li><li class=\"g\"><h3 class=\"r\"><a href=\"/url?q=http://www.youtube.com/playlist%3Flist%3DPLZiPeAUjq-efE4b1R-roT7jnjhfuJAkme&amp;sa=U&amp;ei=HlroUsqQNYbnoASDu4CoDA&amp;ved=0CP8BEBYwKzhl&amp;usg=AFQjCNEcEDAJpB4495gPwAPxVSfpOJGonQ\">Morning meditations - YouTube</a></h3><div class=\"s\"><div class=\"kv\" style=\"margin-bottom:2px\"><cite>www.youtube.com/playlist?list=PLZiPeAUjq-efE4b1R...</cite><div class=\"am-dwn-arw-container\">\\xe2\\x80\\x8e<div onclick=\"google.sham(this);\" aria-expanded=\"false\" aria-haspopup=\"true\" tabindex=\"0\" data-ved=\"0CIACEOwdMCs4ZQ\" style=\"display:inline\"><span class=\"am-dwn-arw\"></span></div><div class=\"am-dropdown-menu\" role=\"menu\" tabindex=\"-1\" style=\"display:none\"><ul><li class=\"am-dropdown-menu-item\"><a class=\"am-dropdown-menu-item-text\" href=\"/url?q=http://webcache.googleusercontent.com/search%3Fnum%3D100%26query%3D%2522hard%2Bof%2Bhearing%2522%2Balarm%2Bvibrating%2Bsite%253Ayoutube.com%26hl%3Den%26ct%3Dclnk%26q%3Dcache:UubsNqcYOsUJ:http://www.youtube.com/playlist%253Flist%253DPLZiPeAUjq-efE4b1R-roT7jnjhfuJAkme%252B%2522hard%2Bof%2Bhearing%2522%2Balarm%2Bvibrating%2Bsite:youtube.com&amp;sa=U&amp;ei=HlroUsqQNYbnoASDu4CoDA&amp;ved=0CIICECAwKzhl&amp;usg=AFQjCNHPBpV-MN7iHeuQdI7tqqdmT14gYQ\">Cached</a></li></ul></div></div></div><span class=\"st\">One challenge with lining up your <b>vibration</b> to the frequency of what you desire is <br>\\n<b>.....</b> mp3 soon enough for you to download for your <b>alarm</b> or phone or ipod, <br>\\nwhatever. <b>...</b> Also, help the deaf and <b>hard of hearing</b> by creating subtitles in <br>\\nEnglish.</span><br></div></li><li class=\"g\"><h3 class=\"r\"><a href=\"/url?q=http://www.youtube.com/playlist%3Flist%3DFLvVdlyhL4_uWq7m7v2oW7ew&amp;sa=U&amp;ei=HlroUsqQNYbnoASDu4CoDA&amp;ved=0CIQCEBYwLDhl&amp;usg=AFQjCNHLyGG2ax4bbqn7jMPH39Eh6bFUig\">Favorite videos - YouTube</a></h3><div class=\"s\"><div class=\"kv\" style=\"margin-bottom:2px\"><cite>www.youtube.com/playlist?list=FLvVdlyhL4_uWq7m7v2oW7ew</cite><div class=\"am-dwn-arw-container\">\\xe2\\x80\\x8e<div onclick=\"google.sham(this);\" aria-expanded=\"false\" aria-haspopup=\"true\" tabindex=\"0\" data-ved=\"0CIUCEOwdMCw4ZQ\" style=\"display:inline\"><span class=\"am-dwn-arw\"></span></div><div class=\"am-dropdown-menu\" role=\"menu\" tabindex=\"-1\" style=\"display:none\"><ul><li class=\"am-dropdown-menu-item\"><a class=\"am-dropdown-menu-item-text\" href=\"/url?q=http://webcache.googleusercontent.com/search%3Fnum%3D100%26query%3D%2522hard%2Bof%2Bhearing%2522%2Balarm%2Bvibrating%2Bsite%253Ayoutube.com%26hl%3Den%26ct%3Dclnk%26q%3Dcache:6G0NBC5wqZgJ:http://www.youtube.com/playlist%253Flist%253DFLvVdlyhL4_uWq7m7v2oW7ew%252B%2522hard%2Bof%2Bhearing%2522%2Balarm%2Bvibrating%2Bsite:youtube.com&amp;sa=U&amp;ei=HlroUsqQNYbnoASDu4CoDA&amp;ved=0CIcCECAwLDhl&amp;usg=AFQjCNHbXRntAnsGo4MaWYGaGq8b31wJ7Q\">Cached</a></li></ul></div></div></div><span class=\"st\">Nicki Minaj - &quot;Pound The <b>Alarm</b>&quot; <b>....</b> <b>Vibrations</b> Modes! They become particles (<br>\\nparticles!) <b>Vibrations</b> <b>......</b> &quot;D-PAN aims to make music and music culture <br>\\naccessible to the deaf and <b>hard of hearing</b> community, and to give recognition to <br>\\ndeaf and&nbsp;<b>...</b></span><br></div></li><li class=\"g\"><h3 class=\"r\"><a href=\"/url?q=http://www.youtube.com/playlist%3Flist%3DPL9AED51C6A60E686F&amp;sa=U&amp;ei=HlroUsqQNYbnoASDu4CoDA&amp;ved=0CIkCEBYwLThl&amp;usg=AFQjCNFRkW_fgnaUP7klRLDQqAKGMYpQKA\">Wisdom - YouTube</a></h3><div class=\"s\"><div class=\"kv\" style=\"margin-bottom:2px\"><cite>www.youtube.com/playlist?list=PL9AED51C6A60E686F</cite><div class=\"am-dwn-arw-container\">\\xe2\\x80\\x8e<div onclick=\"google.sham(this);\" aria-expanded=\"false\" aria-haspopup=\"true\" tabindex=\"0\" data-ved=\"0CIoCEOwdMC04ZQ\" style=\"display:inline\"><span class=\"am-dwn-arw\"></span></div><div class=\"am-dropdown-menu\" role=\"menu\" tabindex=\"-1\" style=\"display:none\"><ul><li class=\"am-dropdown-menu-item\"><a class=\"am-dropdown-menu-item-text\" href=\"/url?q=http://webcache.googleusercontent.com/search%3Fnum%3D100%26query%3D%2522hard%2Bof%2Bhearing%2522%2Balarm%2Bvibrating%2Bsite%253Ayoutube.com%26hl%3Den%26ct%3Dclnk%26q%3Dcache:9Xt6hIp3tycJ:http://www.youtube.com/playlist%253Flist%253DPL9AED51C6A60E686F%252B%2522hard%2Bof%2Bhearing%2522%2Balarm%2Bvibrating%2Bsite:youtube.com&amp;sa=U&amp;ei=HlroUsqQNYbnoASDu4CoDA&amp;ved=0CIwCECAwLThl&amp;usg=AFQjCNH0QrIBC5WmJv_v-87xrqfPSS2Jmw\">Cached</a></li></ul></div></div></div><span class=\"st\">Listen to it on your ipod or burn onto a CD set up as your <b>alarm</b> clock as your <br>\\npositive prosperous wake up call! Watch this for <b>.....</b> VI - 285 Hz - Raising <br>\\n<b>Vibration</b> ...The 9 <b>...</b> Also, help the deaf and <b>hard of hearing</b> by creating subtitles <br>\\nin English.</span><br></div></li><li class=\"g\"><h3 class=\"r\"><a href=\"/url?q=http://www.youtube.com/playlist%3Flist%3DFLLLJQT5LCFsyYN2BeQjD7ow&amp;sa=U&amp;ei=HlroUsqQNYbnoASDu4CoDA&amp;ved=0CI4CEBYwLjhl&amp;usg=AFQjCNFEpitBH3YJknrYp4BcxPoQgbpurw\">Favorite videos - YouTube</a></h3><div class=\"s\"><div class=\"kv\" style=\"margin-bottom:2px\"><cite>www.youtube.com/playlist?list=FLLLJQT5LCFsyYN2BeQjD7ow</cite><div class=\"am-dwn-arw-container\">\\xe2\\x80\\x8e<div onclick=\"google.sham(this);\" aria-expanded=\"false\" aria-haspopup=\"true\" tabindex=\"0\" data-ved=\"0CI8CEOwdMC44ZQ\" style=\"display:inline\"><span class=\"am-dwn-arw\"></span></div><div class=\"am-dropdown-menu\" role=\"menu\" tabindex=\"-1\" style=\"display:none\"><ul><li class=\"am-dropdown-menu-item\"><a class=\"am-dropdown-menu-item-text\" href=\"/url?q=http://webcache.googleusercontent.com/search%3Fnum%3D100%26query%3D%2522hard%2Bof%2Bhearing%2522%2Balarm%2Bvibrating%2Bsite%253Ayoutube.com%26hl%3Den%26ct%3Dclnk%26q%3Dcache:XfLbFFUv4JMJ:http://www.youtube.com/playlist%253Flist%253DFLLLJQT5LCFsyYN2BeQjD7ow%252B%2522hard%2Bof%2Bhearing%2522%2Balarm%2Bvibrating%2Bsite:youtube.com&amp;sa=U&amp;ei=HlroUsqQNYbnoASDu4CoDA&amp;ved=0CJECECAwLjhl&amp;usg=AFQjCNFcaqv0EVJAaq3fioJB1LpeFwp5pQ\">Cached</a></li></ul></div></div></div><span class=\"st\">Nicki Minaj - &quot;Pound The <b>Alarm</b>&quot; <b>.....</b> hilarious wtf ASL sign language closed <br>\\ncaption subtitles deaf <b>hard of hearing</b> swearing bad language RAWR mad <br>\\nscream fake <b>.....</b> Download &#39;<b>Vibrations</b>&#39; album on iTunes: http://smarturl.it/<br>\\nVibrations_Album</span><br></div></li><li class=\"g\"><h3 class=\"r\"><a href=\"/url?q=http://www.youtube.com/playlist%3Flist%3DFLwyJiWaM4SvWZDMnrFkXDJg%26page%3D4&amp;sa=U&amp;ei=HlroUsqQNYbnoASDu4CoDA&amp;ved=0CJMCEBYwLzhl&amp;usg=AFQjCNEk6FiB4U75pl_Wqo9EoImk1ofpwQ\">Favorite videos - YouTube</a></h3><div class=\"s\"><div class=\"kv\" style=\"margin-bottom:2px\"><cite>www.youtube.com/playlist?list...page=4</cite><div class=\"am-dwn-arw-container\">\\xe2\\x80\\x8e<div onclick=\"google.sham(this);\" aria-expanded=\"false\" aria-haspopup=\"true\" tabindex=\"0\" data-ved=\"0CJQCEOwdMC84ZQ\" style=\"display:inline\"><span class=\"am-dwn-arw\"></span></div><div class=\"am-dropdown-menu\" role=\"menu\" tabindex=\"-1\" style=\"display:none\"><ul><li class=\"am-dropdown-menu-item\"><a class=\"am-dropdown-menu-item-text\" href=\"/url?q=http://webcache.googleusercontent.com/search%3Fnum%3D100%26query%3D%2522hard%2Bof%2Bhearing%2522%2Balarm%2Bvibrating%2Bsite%253Ayoutube.com%26hl%3Den%26ct%3Dclnk%26q%3Dcache:0er9zXQF-mMJ:http://www.youtube.com/playlist%253Flist%253DFLwyJiWaM4SvWZDMnrFkXDJg%2526page%253D4%252B%2522hard%2Bof%2Bhearing%2522%2Balarm%2Bvibrating%2Bsite:youtube.com&amp;sa=U&amp;ei=HlroUsqQNYbnoASDu4CoDA&amp;ved=0CJYCECAwLzhl&amp;usg=AFQjCNGCLVSsU0uCl_PFp-1gazeXWPRLRg\">Cached</a></li></ul></div></div></div><span class=\"st\">Shreveport, Louisiana Fire Station 9 empties when an <b>alarm</b> of fire is <b>...</b> actually <br>\\nfeel the siren&#39;s <b>vibrations</b> as it approaches, from up to 300 feet away. This is <br>\\neffective for clearing past people with their radios up, or those that are <b>hard of</b> <br>\\n<b>hearing</b>.</span><br></div></li><li class=\"g\"><h3 class=\"r\"><a href=\"/url?q=https://www.youtube.com/playlist%3Flist%3DFLYfzEkuwLeVzXyLTe3GNfqQ%26page%3D3&amp;sa=U&amp;ei=HlroUsqQNYbnoASDu4CoDA&amp;ved=0CJgCEBYwMDhl&amp;usg=AFQjCNGzupn1dx2zmesLE_fPjjrkrkhjzQ\">Favorite videos - YouTube</a></h3><div class=\"s\"><div class=\"kv\" style=\"margin-bottom:2px\"><cite>https://www.youtube.com/playlist?list...page=3</cite><div class=\"am-dwn-arw-container\">\\xe2\\x80\\x8e<div onclick=\"google.sham(this);\" aria-expanded=\"false\" aria-haspopup=\"true\" tabindex=\"0\" data-ved=\"0CJkCEOwdMDA4ZQ\" style=\"display:inline\"><span class=\"am-dwn-arw\"></span></div><div class=\"am-dropdown-menu\" role=\"menu\" tabindex=\"-1\" style=\"display:none\"><ul><li class=\"am-dropdown-menu-item\"><a class=\"am-dropdown-menu-item-text\" href=\"/url?q=http://webcache.googleusercontent.com/search%3Fnum%3D100%26query%3D%2522hard%2Bof%2Bhearing%2522%2Balarm%2Bvibrating%2Bsite%253Ayoutube.com%26hl%3Den%26ct%3Dclnk%26q%3Dcache:LdaQlTbPZKYJ:https://www.youtube.com/playlist%253Flist%253DFLYfzEkuwLeVzXyLTe3GNfqQ%2526page%253D3%252B%2522hard%2Bof%2Bhearing%2522%2Balarm%2Bvibrating%2Bsite:youtube.com&amp;sa=U&amp;ei=HlroUsqQNYbnoASDu4CoDA&amp;ved=0CJsCECAwMDhl&amp;usg=AFQjCNHZXMX3nksIwmUfKKglFG0wBHSgVQ\">Cached</a></li></ul></div></div></div><span class=\"st\"><b>...</b> actually feel the siren&#39;s <b>vibrations</b> as it approaches, from up to 300 feet away. <b>...</b> <br>\\nfor clearing past people with their radios up, or those that are <b>hard of hearing</b>. <b>...</b> <br>\\nthe San Francisco fire department is dispatched to a fire <b>alarm</b> in a hotel near&nbsp;<b>...</b></span><br></div></li><li class=\"g\"><h3 class=\"r\"><a href=\"/url?q=http://www.youtube.com/playlist%3Flist%3DUUnuvJ4DUpZ2X1nmMgYxka6Q%26page%3D3&amp;sa=U&amp;ei=HlroUsqQNYbnoASDu4CoDA&amp;ved=0CJ0CEBYwMThl&amp;usg=AFQjCNEmqRHh3ImRjW7DK29k6ShOfRG5Rg\">Uploads from MrLodurr - YouTube</a></h3><div class=\"s\"><div class=\"kv\" style=\"margin-bottom:2px\"><cite>www.youtube.com/playlist?list...page=3</cite><div class=\"am-dwn-arw-container\">\\xe2\\x80\\x8e<div onclick=\"google.sham(this);\" aria-expanded=\"false\" aria-haspopup=\"true\" tabindex=\"0\" data-ved=\"0CJ4CEOwdMDE4ZQ\" style=\"display:inline\"><span class=\"am-dwn-arw\"></span></div><div class=\"am-dropdown-menu\" role=\"menu\" tabindex=\"-1\" style=\"display:none\"><ul><li class=\"am-dropdown-menu-item\"><a class=\"am-dropdown-menu-item-text\" href=\"/url?q=http://webcache.googleusercontent.com/search%3Fnum%3D100%26query%3D%2522hard%2Bof%2Bhearing%2522%2Balarm%2Bvibrating%2Bsite%253Ayoutube.com%26hl%3Den%26ct%3Dclnk%26q%3Dcache:wQ8csDZdFeoJ:http://www.youtube.com/playlist%253Flist%253DUUnuvJ4DUpZ2X1nmMgYxka6Q%2526page%253D3%252B%2522hard%2Bof%2Bhearing%2522%2Balarm%2Bvibrating%2Bsite:youtube.com&amp;sa=U&amp;ei=HlroUsqQNYbnoASDu4CoDA&amp;ved=0CKACECAwMThl&amp;usg=AFQjCNFTSTo9sllRbIIG20M9tb7lwli1kQ\">Cached</a></li></ul></div></div></div><span class=\"st\">Procol Harum - Sympathy For The <b>Hard Of Hearing</b> // Denmark - 2006. by <br>\\nMrLodurr 668 <b>....</b> <b>Alarm</b> bell rings, it will not stop. And I can see <b>.....</b> High <b>vibration</b> <br>\\ngo on</span><br></div></li><li class=\"g\"><h3 class=\"r\"><a href=\"/url?q=http://m.youtube.com/playlist%3Fclient%3Dmv-google%26hl%3Dam%26gl%3DHK%26list%3DPL584CFBEA201AF47A&amp;sa=U&amp;ei=HlroUsqQNYbnoASDu4CoDA&amp;ved=0CKICEBYwMjhl&amp;usg=AFQjCNEbw_rQZVEzJImgwqanFKQCu1cEYQ\">PC Tech &amp; Gaming - YouTube</a></h3><div class=\"s\"><div class=\"kv\" style=\"margin-bottom:2px\"><cite>m.youtube.com/playlist?client=mv-google&amp;hl=am&amp;gl...</cite><div class=\"am-dwn-arw-container\">\\xe2\\x80\\x8e<div onclick=\"google.sham(this);\" aria-expanded=\"false\" aria-haspopup=\"true\" tabindex=\"0\" data-ved=\"0CKMCEOwdMDI4ZQ\" style=\"display:inline\"><span class=\"am-dwn-arw\"></span></div><div class=\"am-dropdown-menu\" role=\"menu\" tabindex=\"-1\" style=\"display:none\"><ul><li class=\"am-dropdown-menu-item\"><a class=\"am-dropdown-menu-item-text\" href=\"/url?q=http://webcache.googleusercontent.com/search%3Fnum%3D100%26query%3D%2522hard%2Bof%2Bhearing%2522%2Balarm%2Bvibrating%2Bsite%253Ayoutube.com%26hl%3Den%26ct%3Dclnk%26q%3Dcache:TZgMpn6BsHYJ:http://m.youtube.com/playlist%253Fclient%253Dmv-google%2526hl%253Dam%2526gl%253DHK%2526list%253DPL584CFBEA201AF47A%252B%2522hard%2Bof%2Bhearing%2522%2Balarm%2Bvibrating%2Bsite:youtube.com&amp;sa=U&amp;ei=HlroUsqQNYbnoASDu4CoDA&amp;ved=0CKUCECAwMjhl&amp;usg=AFQjCNHKppRlYPu-tpgE2cc7oAVaxL0NrQ\">Cached</a></li></ul></div></div></div><span class=\"st\">An audio transducer is a silent subwoofer that only transmits the <b>vibrations</b> <b>...</b> side <br>\\nproject to come after is my <b>alarm</b> clock project for those <b>hard of hearing</b> or deaf.</span><br></div></li><li class=\"g\"><h3 class=\"r\"><a href=\"/url?q=http://www.youtube.com/playlist%3Flist%3DPLSXOkO1eptO5SRiWnYigfo_EgaJOJbn0w&amp;sa=U&amp;ei=HlroUsqQNYbnoASDu4CoDA&amp;ved=0CKcCEBYwMzhl&amp;usg=AFQjCNEEAWCjSbXGSNfU55BBsRxmqXm6BA\">Shop - YouTube</a></h3><div class=\"s\"><div class=\"kv\" style=\"margin-bottom:2px\"><cite>www.youtube.com/playlist?list=PLSXOkO1eptO5SRiWnYigfo...</cite><div class=\"am-dwn-arw-container\">\\xe2\\x80\\x8e<div onclick=\"google.sham(this);\" aria-expanded=\"false\" aria-haspopup=\"true\" tabindex=\"0\" data-ved=\"0CKgCEOwdMDM4ZQ\" style=\"display:inline\"><span class=\"am-dwn-arw\"></span></div><div class=\"am-dropdown-menu\" role=\"menu\" tabindex=\"-1\" style=\"display:none\"><ul><li class=\"am-dropdown-menu-item\"><a class=\"am-dropdown-menu-item-text\" href=\"/url?q=http://webcache.googleusercontent.com/search%3Fnum%3D100%26query%3D%2522hard%2Bof%2Bhearing%2522%2Balarm%2Bvibrating%2Bsite%253Ayoutube.com%26hl%3Den%26ct%3Dclnk%26q%3Dcache:w3pWTklaaEgJ:http://www.youtube.com/playlist%253Flist%253DPLSXOkO1eptO5SRiWnYigfo_EgaJOJbn0w%252B%2522hard%2Bof%2Bhearing%2522%2Balarm%2Bvibrating%2Bsite:youtube.com&amp;sa=U&amp;ei=HlroUsqQNYbnoASDu4CoDA&amp;ved=0CKoCECAwMzhl&amp;usg=AFQjCNH7bRCilorM3X43agLL5eKCtI37lA\">Cached</a></li></ul></div></div></div><span class=\"st\">*Low battery and out of range <b>alarm</b> for extra reassurance *Sound level <b>...</b> <br>\\n<b>Vibration</b> mode which is ideal for noisy environments and to aid the <b>hard of</b> <br>\\n<b>hearing</b></span><br></div></li><li class=\"g\"><h3 class=\"r\"><a href=\"/url?q=http://www.youtube.com/playlist%3Flist%3DPLED753707920A3556&amp;sa=U&amp;ei=HlroUsqQNYbnoASDu4CoDA&amp;ved=0CKwCEBYwNDhl&amp;usg=AFQjCNHhOh61IPoeBg2kw_LJuPbCInA8RA\">Inspirational - YouTube</a></h3><div class=\"s\"><div class=\"kv\" style=\"margin-bottom:2px\"><cite>www.youtube.com/playlist?list=PLED753707920A3556</cite><div class=\"am-dwn-arw-container\">\\xe2\\x80\\x8e<div onclick=\"google.sham(this);\" aria-expanded=\"false\" aria-haspopup=\"true\" tabindex=\"0\" data-ved=\"0CK0CEOwdMDQ4ZQ\" style=\"display:inline\"><span class=\"am-dwn-arw\"></span></div><div class=\"am-dropdown-menu\" role=\"menu\" tabindex=\"-1\" style=\"display:none\"><ul><li class=\"am-dropdown-menu-item\"><a class=\"am-dropdown-menu-item-text\" href=\"/url?q=http://webcache.googleusercontent.com/search%3Fnum%3D100%26query%3D%2522hard%2Bof%2Bhearing%2522%2Balarm%2Bvibrating%2Bsite%253Ayoutube.com%26hl%3Den%26ct%3Dclnk%26q%3Dcache:1-ZhWfX5Zn4J:http://www.youtube.com/playlist%253Flist%253DPLED753707920A3556%252B%2522hard%2Bof%2Bhearing%2522%2Balarm%2Bvibrating%2Bsite:youtube.com&amp;sa=U&amp;ei=HlroUsqQNYbnoASDu4CoDA&amp;ved=0CK8CECAwNDhl&amp;usg=AFQjCNEaUetv2Kivsi4fmN_G9zK0ti7DKA\">Cached</a></li></ul></div></div></div><span class=\"st\"><b>...</b> and music culture accessible to the deaf and <b>hard of hearing</b> community, and <br>\\nto <b>......</b> With <b>alarms</b> &amp; sirens signaling escape, gunshots echoing through the room <br>\\n<b>....</b> When you experience Planet Earth, the positive <b>vibration</b> of your energy will&nbsp;<b>...</b></span><br></div></li><li class=\"g\"><h3 class=\"r\"><a href=\"/url?q=http://www.youtube.com/playlist%3Flist%3DLLEEyqNEiRPcZrYryJtiqvmQ&amp;sa=U&amp;ei=HlroUsqQNYbnoASDu4CoDA&amp;ved=0CLECEBYwNThl&amp;usg=AFQjCNGujVKLvRkfxW_llAdH-D4PacOLlg\">Liked videos - YouTube</a></h3><div class=\"s\"><div class=\"kv\" style=\"margin-bottom:2px\"><cite>www.youtube.com/playlist?list=LLEEyqNEiRPcZrYryJtiqvmQ</cite><div class=\"am-dwn-arw-container\">\\xe2\\x80\\x8e<div onclick=\"google.sham(this);\" aria-expanded=\"false\" aria-haspopup=\"true\" tabindex=\"0\" data-ved=\"0CLICEOwdMDU4ZQ\" style=\"display:inline\"><span class=\"am-dwn-arw\"></span></div><div class=\"am-dropdown-menu\" role=\"menu\" tabindex=\"-1\" style=\"display:none\"><ul><li class=\"am-dropdown-menu-item\"><a class=\"am-dropdown-menu-item-text\" href=\"/url?q=http://webcache.googleusercontent.com/search%3Fnum%3D100%26query%3D%2522hard%2Bof%2Bhearing%2522%2Balarm%2Bvibrating%2Bsite%253Ayoutube.com%26hl%3Den%26ct%3Dclnk%26q%3Dcache:4lBVTs9FcvIJ:http://www.youtube.com/playlist%253Flist%253DLLEEyqNEiRPcZrYryJtiqvmQ%252B%2522hard%2Bof%2Bhearing%2522%2Balarm%2Bvibrating%2Bsite:youtube.com&amp;sa=U&amp;ei=HlroUsqQNYbnoASDu4CoDA&amp;ved=0CLQCECAwNThl&amp;usg=AFQjCNGlLtbozvSgSpQwLXOSkuCfwZIxQw\">Cached</a></li></ul></div></div></div><span class=\"st\"><b>...</b> will awaken people who are deaf or <b>hard of hearing</b>, if there&#39;s a fire in the home<br>\\n. <b>...</b> This will let them know what is going to happen during the <b>alarm</b> installation. <br>\\n<b>....</b> in this video I&#39;m covering Liquid, Strobing and my &quot;<b>shaking</b>&quot; or <b>vibrating</b> haha.</span><br></div></li><li class=\"g\"><h3 class=\"r\"><a href=\"/url?q=http://www.youtube.com/playlist%3Fp%3DPLC3174A2442241939&amp;sa=U&amp;ei=HlroUsqQNYbnoASDu4CoDA&amp;ved=0CLYCEBYwNjhl&amp;usg=AFQjCNE_gL0Q4N8Ct10UO1aYAltymWnnRQ\">Video 2011-2012 - YouTube</a></h3><div class=\"s\"><div class=\"kv\" style=\"margin-bottom:2px\"><cite>www.youtube.com/playlist?p=PLC3174A2442241939</cite><div class=\"am-dwn-arw-container\">\\xe2\\x80\\x8e<div onclick=\"google.sham(this);\" aria-expanded=\"false\" aria-haspopup=\"true\" tabindex=\"0\" data-ved=\"0CLcCEOwdMDY4ZQ\" style=\"display:inline\"><span class=\"am-dwn-arw\"></span></div><div class=\"am-dropdown-menu\" role=\"menu\" tabindex=\"-1\" style=\"display:none\"><ul><li class=\"am-dropdown-menu-item\"><a class=\"am-dropdown-menu-item-text\" href=\"/url?q=http://webcache.googleusercontent.com/search%3Fnum%3D100%26query%3D%2522hard%2Bof%2Bhearing%2522%2Balarm%2Bvibrating%2Bsite%253Ayoutube.com%26hl%3Den%26ct%3Dclnk%26q%3Dcache:JL2DHgUlRY0J:http://www.youtube.com/playlist%253Fp%253DPLC3174A2442241939%252B%2522hard%2Bof%2Bhearing%2522%2Balarm%2Bvibrating%2Bsite:youtube.com&amp;sa=U&amp;ei=HlroUsqQNYbnoASDu4CoDA&amp;ved=0CLkCECAwNjhl&amp;usg=AFQjCNEtPQSmKmzb_AAbmRfilUVFJUbb1w\">Cached</a></li></ul></div></div></div><span class=\"st\"><b>...</b> Teleclasses Coincidence Attracting Abundant <b>vibrations</b> identify desire raise <br>\\n<b>......</b> and educates families of deaf and <b>hard of hearing</b> children and advocates for <br>\\n<b>......</b> Q: The <b>alarm</b> bark and vixen&#39;s scream almost sound alike, how do you tell the<br>\\n&nbsp;<b>...</b></span><br></div></li><li class=\"g\"><h3 class=\"r\"><a href=\"/url?q=http://www.youtube.com/playlist%3Flist%3DFLhCfI2c4tL06zdCecrGIfJw%26page%3D5&amp;sa=U&amp;ei=HlroUsqQNYbnoASDu4CoDA&amp;ved=0CLsCEBYwNzhl&amp;usg=AFQjCNGzH8s0HrwSa76ONA_TU-ppnJedVQ\">Favorite videos - YouTube</a></h3><div class=\"s\"><div class=\"kv\" style=\"margin-bottom:2px\"><cite>www.youtube.com/playlist?list=FLhCfI2c4tL06zdCecrGIfJw...5</cite><div class=\"am-dwn-arw-container\">\\xe2\\x80\\x8e<div onclick=\"google.sham(this);\" aria-expanded=\"false\" aria-haspopup=\"true\" tabindex=\"0\" data-ved=\"0CLwCEOwdMDc4ZQ\" style=\"display:inline\"><span class=\"am-dwn-arw\"></span></div><div class=\"am-dropdown-menu\" role=\"menu\" tabindex=\"-1\" style=\"display:none\"><ul><li class=\"am-dropdown-menu-item\"><a class=\"am-dropdown-menu-item-text\" href=\"/url?q=http://webcache.googleusercontent.com/search%3Fnum%3D100%26query%3D%2522hard%2Bof%2Bhearing%2522%2Balarm%2Bvibrating%2Bsite%253Ayoutube.com%26hl%3Den%26ct%3Dclnk%26q%3Dcache:MO7e83lgv2sJ:http://www.youtube.com/playlist%253Flist%253DFLhCfI2c4tL06zdCecrGIfJw%2526page%253D5%252B%2522hard%2Bof%2Bhearing%2522%2Balarm%2Bvibrating%2Bsite:youtube.com&amp;sa=U&amp;ei=HlroUsqQNYbnoASDu4CoDA&amp;ved=0CL4CECAwNzhl&amp;usg=AFQjCNGo5vsLO8-fcgN-_Xo66gIxjEM7_w\">Cached</a></li></ul></div></div></div><span class=\"st\">Subtitled for the deaf and <b>hard of hearing</b>, no hating please. I got some <b>....</b> A <br>\\nregular &quot;C&quot; <b>vibrates</b> at a frequency of 523.3 Hz. The &quot;C&quot; of <b>.....</b> Album: Silent <b>Alarm</b></span><br></div></li><li class=\"g\"><h3 class=\"r\"><a href=\"/url?q=http://www.youtube.com/playlist%3Flist%3DFLfftBAzF7WptJ8Qf6LvKt1w&amp;sa=U&amp;ei=HlroUsqQNYbnoASDu4CoDA&amp;ved=0CMACEBYwODhl&amp;usg=AFQjCNGx1Dj66SDLL3Jnrxi3_0ARBr_i-Q\">Favorite videos - YouTube</a></h3><div class=\"s\"><div class=\"kv\" style=\"margin-bottom:2px\"><cite>www.youtube.com/playlist?list=FLfftBAzF7WptJ8Qf6LvKt1w</cite><div class=\"am-dwn-arw-container\">\\xe2\\x80\\x8e<div onclick=\"google.sham(this);\" aria-expanded=\"false\" aria-haspopup=\"true\" tabindex=\"0\" data-ved=\"0CMECEOwdMDg4ZQ\" style=\"display:inline\"><span class=\"am-dwn-arw\"></span></div><div class=\"am-dropdown-menu\" role=\"menu\" tabindex=\"-1\" style=\"display:none\"><ul><li class=\"am-dropdown-menu-item\"><a class=\"am-dropdown-menu-item-text\" href=\"/url?q=http://webcache.googleusercontent.com/search%3Fnum%3D100%26query%3D%2522hard%2Bof%2Bhearing%2522%2Balarm%2Bvibrating%2Bsite%253Ayoutube.com%26hl%3Den%26ct%3Dclnk%26q%3Dcache:5bfP48NeXisJ:http://www.youtube.com/playlist%253Flist%253DFLfftBAzF7WptJ8Qf6LvKt1w%252B%2522hard%2Bof%2Bhearing%2522%2Balarm%2Bvibrating%2Bsite:youtube.com&amp;sa=U&amp;ei=HlroUsqQNYbnoASDu4CoDA&amp;ved=0CMMCECAwODhl&amp;usg=AFQjCNF0kSew2ixunmIoCHBaPBz9urvMHw\">Cached</a></li></ul></div></div></div><span class=\"st\">I DON&#39;T OWN THIS, but I subtitled it for Deaf and <b>Hard of Hearing</b> Jews and <br>\\nChristians. <b>.....</b> certain staccato chord progressions, the little <b>vibrations</b> being the <br>\\nspecial charme of such historic organs (I had that <b>....</b> Gabriel Lopez - Sound An <br>\\n<b>Alarm</b>!</span><br></div></li><li class=\"g\"><h3 class=\"r\"><a href=\"/url?q=http://www.youtube.com/playlist%3Flist%3DFLtMkn3p0pJ2jlFjEXlNZx_w%26page%3D2&amp;sa=U&amp;ei=HlroUsqQNYbnoASDu4CoDA&amp;ved=0CMUCEBYwOThl&amp;usg=AFQjCNF8Sg7nZs4IjbMhg1nYbiF1Q56CKQ\">Favorite videos - YouTube</a></h3><div class=\"s\"><div class=\"kv\" style=\"margin-bottom:2px\"><cite>www.youtube.com/playlist?list=FLtMkn3p0pJ2jlFjEXlNZx_w...</cite><div class=\"am-dwn-arw-container\">\\xe2\\x80\\x8e<div onclick=\"google.sham(this);\" aria-expanded=\"false\" aria-haspopup=\"true\" tabindex=\"0\" data-ved=\"0CMYCEOwdMDk4ZQ\" style=\"display:inline\"><span class=\"am-dwn-arw\"></span></div><div class=\"am-dropdown-menu\" role=\"menu\" tabindex=\"-1\" style=\"display:none\"><ul><li class=\"am-dropdown-menu-item\"><a class=\"am-dropdown-menu-item-text\" href=\"/url?q=http://webcache.googleusercontent.com/search%3Fnum%3D100%26query%3D%2522hard%2Bof%2Bhearing%2522%2Balarm%2Bvibrating%2Bsite%253Ayoutube.com%26hl%3Den%26ct%3Dclnk%26q%3Dcache:urripnNgenUJ:http://www.youtube.com/playlist%253Flist%253DFLtMkn3p0pJ2jlFjEXlNZx_w%2526page%253D2%252B%2522hard%2Bof%2Bhearing%2522%2Balarm%2Bvibrating%2Bsite:youtube.com&amp;sa=U&amp;ei=HlroUsqQNYbnoASDu4CoDA&amp;ved=0CMgCECAwOThl&amp;usg=AFQjCNHwRkmZQyCdBFWumcUd3dBW2YfQKw\">Cached</a></li></ul></div></div></div><span class=\"st\">This custom <b>alarm</b> clock comes complete with a bed <b>shaking</b> device and 113 <b>....</b> <br>\\nand <b>hard of hearing</b> people to the sound of fire <b>alarm</b> by sending them a text!</span><br></div></li><li class=\"g\"><h3 class=\"r\"><a href=\"/url?q=http://www.youtube.com/playlist%3Flist%3DFLBEw-RBk5HWTKrhK4Vr1PVA%26page%3D6&amp;sa=U&amp;ei=HlroUsqQNYbnoASDu4CoDA&amp;ved=0CMoCEBYwOjhl&amp;usg=AFQjCNEvBdzkVwvDj7Hz2WyuuzYadAWxQw\">Favorite videos - YouTube</a></h3><div class=\"s\"><div class=\"kv\" style=\"margin-bottom:2px\"><cite>www.youtube.com/playlist?list=FLBEw...page=6</cite><div class=\"am-dwn-arw-container\">\\xe2\\x80\\x8e<div onclick=\"google.sham(this);\" aria-expanded=\"false\" aria-haspopup=\"true\" tabindex=\"0\" data-ved=\"0CMsCEOwdMDo4ZQ\" style=\"display:inline\"><span class=\"am-dwn-arw\"></span></div><div class=\"am-dropdown-menu\" role=\"menu\" tabindex=\"-1\" style=\"display:none\"><ul><li class=\"am-dropdown-menu-item\"><a class=\"am-dropdown-menu-item-text\" href=\"/url?q=http://webcache.googleusercontent.com/search%3Fnum%3D100%26query%3D%2522hard%2Bof%2Bhearing%2522%2Balarm%2Bvibrating%2Bsite%253Ayoutube.com%26hl%3Den%26ct%3Dclnk%26q%3Dcache:0kV5BVVc7kAJ:http://www.youtube.com/playlist%253Flist%253DFLBEw-RBk5HWTKrhK4Vr1PVA%2526page%253D6%252B%2522hard%2Bof%2Bhearing%2522%2Balarm%2Bvibrating%2Bsite:youtube.com&amp;sa=U&amp;ei=HlroUsqQNYbnoASDu4CoDA&amp;ved=0CM0CECAwOjhl&amp;usg=AFQjCNG_wGRP7ouF-8wJvx-hAR-Jf3G5jg\">Cached</a></li></ul></div></div></div><span class=\"st\"><b>...</b> subtitles deaf <b>hard of hearing</b> swearing bad language joke laugh humor winter <br>\\ngloves <b>.....</b> It consists of a fire <b>alarm</b> bell and a circuit that allows a standard tiny <br>\\n<b>alarm</b> <b>.....</b> Details of my (<b>vibration</b> free) homemade aluminium camera mount and<br>\\n&nbsp;<b>...</b></span><br></div></li><li class=\"g\"><h3 class=\"r\"><a href=\"/url?q=https://www.youtube.com/playlist%3Flist%3DUU6fu_OakhfgY3PaYBuiDmNQ&amp;sa=U&amp;ei=HlroUsqQNYbnoASDu4CoDA&amp;ved=0CM8CEBYwOzhl&amp;usg=AFQjCNGROikgmkWtr3efjaE314Vlf1pAZw\">Uploads from Vicious Computers - YouTube</a></h3><div class=\"s\"><div class=\"kv\" style=\"margin-bottom:2px\"><cite>https://www.youtube.com/playlist?list=UU6fu...</cite><div class=\"am-dwn-arw-container\">\\xe2\\x80\\x8e<div onclick=\"google.sham(this);\" aria-expanded=\"false\" aria-haspopup=\"true\" tabindex=\"0\" data-ved=\"0CNACEOwdMDs4ZQ\" style=\"display:inline\"><span class=\"am-dwn-arw\"></span></div><div class=\"am-dropdown-menu\" role=\"menu\" tabindex=\"-1\" style=\"display:none\"><ul><li class=\"am-dropdown-menu-item\"><a class=\"am-dropdown-menu-item-text\" href=\"/url?q=http://webcache.googleusercontent.com/search%3Fnum%3D100%26query%3D%2522hard%2Bof%2Bhearing%2522%2Balarm%2Bvibrating%2Bsite%253Ayoutube.com%26hl%3Den%26ct%3Dclnk%26q%3Dcache:Tes2ykWEu2QJ:https://www.youtube.com/playlist%253Flist%253DUU6fu_OakhfgY3PaYBuiDmNQ%252B%2522hard%2Bof%2Bhearing%2522%2Balarm%2Bvibrating%2Bsite:youtube.com&amp;sa=U&amp;ei=HlroUsqQNYbnoASDu4CoDA&amp;ved=0CNICECAwOzhl&amp;usg=AFQjCNEFcJzAT0pwVA3oOm71CC5Kl8bX3A\">Cached</a></li></ul></div></div></div><span class=\"st\">Really good for people that need to have their phone on <b>vibrate</b> or silent at work <br>\\nand <b>...</b> <b>Alarm</b> Clock Plus App Review - Android Segment #1 <b>.....</b> A special side <br>\\nproject to come after is my <b>alarm</b> clock project for those <b>hard of hearing</b> or deaf.</span><br></div></li><li class=\"g\"><h3 class=\"r\"><a href=\"/url?q=http://www.youtube.com/playlist%3Flist%3DUUT_Yy4FinvkmpEJzwuDRtJQ%26page%3D2&amp;sa=U&amp;ei=HlroUsqQNYbnoASDu4CoDA&amp;ved=0CNQCEBYwPDhl&amp;usg=AFQjCNHJcJxvWHTOc4ocLhKESmULMn6vyA\">Uploads from Leicestershire Police - YouTube</a></h3><div class=\"s\"><div class=\"kv\" style=\"margin-bottom:2px\"><cite>www.youtube.com/playlist?list=UUT_Yy4FinvkmpEJzwuDRtJQ...</cite><div class=\"am-dwn-arw-container\">\\xe2\\x80\\x8e<div onclick=\"google.sham(this);\" aria-expanded=\"false\" aria-haspopup=\"true\" tabindex=\"0\" data-ved=\"0CNUCEOwdMDw4ZQ\" style=\"display:inline\"><span class=\"am-dwn-arw\"></span></div><div class=\"am-dropdown-menu\" role=\"menu\" tabindex=\"-1\" style=\"display:none\"><ul><li class=\"am-dropdown-menu-item\"><a class=\"am-dropdown-menu-item-text\" href=\"/url?q=http://webcache.googleusercontent.com/search%3Fnum%3D100%26query%3D%2522hard%2Bof%2Bhearing%2522%2Balarm%2Bvibrating%2Bsite%253Ayoutube.com%26hl%3Den%26ct%3Dclnk%26q%3Dcache:mzJIzhbcuvIJ:http://www.youtube.com/playlist%253Flist%253DUUT_Yy4FinvkmpEJzwuDRtJQ%2526page%253D2%252B%2522hard%2Bof%2Bhearing%2522%2Balarm%2Bvibrating%2Bsite:youtube.com&amp;sa=U&amp;ei=HlroUsqQNYbnoASDu4CoDA&amp;ved=0CNcCECAwPDhl&amp;usg=AFQjCNEVcF7nRoHFUWizp4dCphpyZe4ffw\">Cached</a></li></ul></div></div></div><span class=\"st\">If you are Deaf or <b>Hard of Hearing</b> and you would like to contact your local police <br>\\n<b>.....</b> The <b>alarms</b> are sensitive to <b>vibration</b> and once fitted trigger a 110 decibel&nbsp;<b>...</b></span><br></div></li><li class=\"g\"><h3 class=\"r\"><a href=\"/url?q=http://www.youtube.com/playlist%3Flist%3DFLEfzcK2ObsImEp3-1e70uHw&amp;sa=U&amp;ei=HlroUsqQNYbnoASDu4CoDA&amp;ved=0CNkCEBYwPThl&amp;usg=AFQjCNHymzV8HffNdQjfBN7veKFr396M4Q\">Favorite videos - YouTube</a></h3><div class=\"s\"><div class=\"kv\" style=\"margin-bottom:2px\"><cite>www.youtube.com/playlist?list=FLEfzcK2ObsImEp3-1e70uHw</cite><div class=\"am-dwn-arw-container\">\\xe2\\x80\\x8e<div onclick=\"google.sham(this);\" aria-expanded=\"false\" aria-haspopup=\"true\" tabindex=\"0\" data-ved=\"0CNoCEOwdMD04ZQ\" style=\"display:inline\"><span class=\"am-dwn-arw\"></span></div><div class=\"am-dropdown-menu\" role=\"menu\" tabindex=\"-1\" style=\"display:none\"><ul><li class=\"am-dropdown-menu-item\"><a class=\"am-dropdown-menu-item-text\" href=\"/url?q=http://webcache.googleusercontent.com/search%3Fnum%3D100%26query%3D%2522hard%2Bof%2Bhearing%2522%2Balarm%2Bvibrating%2Bsite%253Ayoutube.com%26hl%3Den%26ct%3Dclnk%26q%3Dcache:MeVEvVOG5f8J:http://www.youtube.com/playlist%253Flist%253DFLEfzcK2ObsImEp3-1e70uHw%252B%2522hard%2Bof%2Bhearing%2522%2Balarm%2Bvibrating%2Bsite:youtube.com&amp;sa=U&amp;ei=HlroUsqQNYbnoASDu4CoDA&amp;ved=0CNwCECAwPThl&amp;usg=AFQjCNH3-yu5WpucArKjwAgn0OqRWkheBQ\">Cached</a></li></ul></div></div></div><span class=\"st\">Cocaine; featuring vocals from Stick Figure&#39;s &#39;Ring the <b>Alarm</b>&#39;. <b>.....</b> and Rat Guy <br>\\nvoice by Brendan Caulfield https://soundcloud.com/glub-<b>vibrations</b> <b>......</b> make <br>\\nmusic and music culture accessible to the deaf and <b>hard of hearing</b> community, <br>\\nand to&nbsp;<b>...</b></span><br></div></li><li class=\"g\"><h3 class=\"r\"><a href=\"/url?q=http://www.youtube.com/playlist%3Flist%3DPL312BBFA04197BA68&amp;sa=U&amp;ei=HlroUsqQNYbnoASDu4CoDA&amp;ved=0CN4CEBYwPjhl&amp;usg=AFQjCNFNAclbWKD-6BcUWUeO3vG9nrJtUQ\">share - YouTube</a></h3><div class=\"s\"><div class=\"kv\" style=\"margin-bottom:2px\"><cite>www.youtube.com/playlist?list=PL312BBFA04197BA68</cite><div class=\"am-dwn-arw-container\">\\xe2\\x80\\x8e<div onclick=\"google.sham(this);\" aria-expanded=\"false\" aria-haspopup=\"true\" tabindex=\"0\" data-ved=\"0CN8CEOwdMD44ZQ\" style=\"display:inline\"><span class=\"am-dwn-arw\"></span></div><div class=\"am-dropdown-menu\" role=\"menu\" tabindex=\"-1\" style=\"display:none\"><ul><li class=\"am-dropdown-menu-item\"><a class=\"am-dropdown-menu-item-text\" href=\"/url?q=http://webcache.googleusercontent.com/search%3Fnum%3D100%26query%3D%2522hard%2Bof%2Bhearing%2522%2Balarm%2Bvibrating%2Bsite%253Ayoutube.com%26hl%3Den%26ct%3Dclnk%26q%3Dcache:bIMJakkMYC0J:http://www.youtube.com/playlist%253Flist%253DPL312BBFA04197BA68%252B%2522hard%2Bof%2Bhearing%2522%2Balarm%2Bvibrating%2Bsite:youtube.com&amp;sa=U&amp;ei=HlroUsqQNYbnoASDu4CoDA&amp;ved=0COECECAwPjhl&amp;usg=AFQjCNFB_RSOAM4qRb8W4GG87QDkjCEeVQ\">Cached</a></li></ul></div></div></div><span class=\"st\">Also, help the deaf and <b>hard of hearing</b> by creating subtitles in English. <br>\\nProofreaders <b>.....</b> Mysterious Rumblings and <b>Vibrations</b> in Windsor. <b>....</b> What&#39;s <br>\\ncausing the mysterious sounds coming from the sky that are so loud they set off <br>\\ncar <b>alarms</b>?</span><br></div></li><li class=\"g\"><h3 class=\"r\"><a href=\"/url?q=http://www.youtube.com/playlist%3Flist%3DPLGzCEBSRzYAdwHiwfNiYAV_777Ql_RVjM&amp;sa=U&amp;ei=HlroUsqQNYbnoASDu4CoDA&amp;ved=0COMCEBYwPzhl&amp;usg=AFQjCNGzHu5Non0sybzGRN7DdEy64jEGsA\">Even more videoes - YouTube</a></h3><div class=\"s\"><div class=\"kv\" style=\"margin-bottom:2px\"><cite>www.youtube.com/playlist?list=PLGzCEBSRzYAdwHiwfNiYAV...</cite><div class=\"am-dwn-arw-container\">\\xe2\\x80\\x8e<div onclick=\"google.sham(this);\" aria-expanded=\"false\" aria-haspopup=\"true\" tabindex=\"0\" data-ved=\"0COQCEOwdMD84ZQ\" style=\"display:inline\"><span class=\"am-dwn-arw\"></span></div><div class=\"am-dropdown-menu\" role=\"menu\" tabindex=\"-1\" style=\"display:none\"><ul><li class=\"am-dropdown-menu-item\"><a class=\"am-dropdown-menu-item-text\" href=\"/url?q=http://webcache.googleusercontent.com/search%3Fnum%3D100%26query%3D%2522hard%2Bof%2Bhearing%2522%2Balarm%2Bvibrating%2Bsite%253Ayoutube.com%26hl%3Den%26ct%3Dclnk%26q%3Dcache:QCilyJAU5R8J:http://www.youtube.com/playlist%253Flist%253DPLGzCEBSRzYAdwHiwfNiYAV_777Ql_RVjM%252B%2522hard%2Bof%2Bhearing%2522%2Balarm%2Bvibrating%2Bsite:youtube.com&amp;sa=U&amp;ei=HlroUsqQNYbnoASDu4CoDA&amp;ved=0COYCECAwPzhl&amp;usg=AFQjCNEa6Uf1JiObHPWUyyqBqk7hM5sPAw\">Cached</a></li></ul></div></div></div><span class=\"st\">Not to mention Terry Crews <b>shaking</b> his head to the riff of &quot;A Thousand Miles&quot; in <br>\\nthe <b>......</b> Cocaine; featuring vocals from Stick Figure&#39;s &#39;Ring the <b>Alarm</b>&#39;. 3. <b>.....</b> My <br>\\nDad, who has been <b>hard of hearing</b> for about as long as I can remember, recently<br>\\n&nbsp;<b>...</b></span><br></div></li><li class=\"g\"><h3 class=\"r\"><a href=\"/url?q=http://www.youtube.com/playlist%3Flist%3DUU5SUqWRqIReLyYe9Xwc2kgQ%26page%3D2&amp;sa=U&amp;ei=HlroUsqQNYbnoASDu4CoDA&amp;ved=0COgCEBYwQDhl&amp;usg=AFQjCNF8cViavfxozffH7F7CawWA0K87ug\">Uploads from DeafTechNews - YouTube</a></h3><div class=\"s\"><div class=\"kv\" style=\"margin-bottom:2px\"><cite>www.youtube.com/playlist?list...page=2</cite><div class=\"am-dwn-arw-container\">\\xe2\\x80\\x8e<div onclick=\"google.sham(this);\" aria-expanded=\"false\" aria-haspopup=\"true\" tabindex=\"0\" data-ved=\"0COkCEOwdMEA4ZQ\" style=\"display:inline\"><span class=\"am-dwn-arw\"></span></div><div class=\"am-dropdown-menu\" role=\"menu\" tabindex=\"-1\" style=\"display:none\"><ul><li class=\"am-dropdown-menu-item\"><a class=\"am-dropdown-menu-item-text\" href=\"/url?q=http://webcache.googleusercontent.com/search%3Fnum%3D100%26query%3D%2522hard%2Bof%2Bhearing%2522%2Balarm%2Bvibrating%2Bsite%253Ayoutube.com%26hl%3Den%26ct%3Dclnk%26q%3Dcache:uXrj4FdA1boJ:http://www.youtube.com/playlist%253Flist%253DUU5SUqWRqIReLyYe9Xwc2kgQ%2526page%253D2%252B%2522hard%2Bof%2Bhearing%2522%2Balarm%2Bvibrating%2Bsite:youtube.com&amp;sa=U&amp;ei=HlroUsqQNYbnoASDu4CoDA&amp;ved=0COsCECAwQDhl&amp;usg=AFQjCNHu_RW8Nxrkmijby0RTAi0kpmNrRQ\">Cached</a></li></ul></div></div></div><span class=\"st\">How-to: Enable Custom <b>Vibration</b> in iOS 5. by DeafTechNews 2,912 <b>....</b> No Data <br>\\nPlan from Verizon for the Deaf and <b>Hard of Hearing</b>. by DeafTechNews 3,075&nbsp;<b>...</b></span><br></div></li><li class=\"g\"><h3 class=\"r\"><a href=\"/url?q=http://www.youtube.com/playlist%3Flist%3DFLIRLU9GGJlqrt9S9glrPVRQ%26page%3D4&amp;sa=U&amp;ei=HlroUsqQNYbnoASDu4CoDA&amp;ved=0CO0CEBYwQThl&amp;usg=AFQjCNFQgHmt9kiVDqZzvQa1E5GFeoeLaA\">Favorite videos - YouTube</a></h3><div class=\"s\"><div class=\"kv\" style=\"margin-bottom:2px\"><cite>www.youtube.com/playlist?list=FLIRLU9GGJlqrt9S9glrPVRQ...4</cite><div class=\"am-dwn-arw-container\">\\xe2\\x80\\x8e<div onclick=\"google.sham(this);\" aria-expanded=\"false\" aria-haspopup=\"true\" tabindex=\"0\" data-ved=\"0CO4CEOwdMEE4ZQ\" style=\"display:inline\"><span class=\"am-dwn-arw\"></span></div><div class=\"am-dropdown-menu\" role=\"menu\" tabindex=\"-1\" style=\"display:none\"><ul><li class=\"am-dropdown-menu-item\"><a class=\"am-dropdown-menu-item-text\" href=\"/url?q=http://webcache.googleusercontent.com/search%3Fnum%3D100%26query%3D%2522hard%2Bof%2Bhearing%2522%2Balarm%2Bvibrating%2Bsite%253Ayoutube.com%26hl%3Den%26ct%3Dclnk%26q%3Dcache:0zs9RvwEqFgJ:http://www.youtube.com/playlist%253Flist%253DFLIRLU9GGJlqrt9S9glrPVRQ%2526page%253D4%252B%2522hard%2Bof%2Bhearing%2522%2Balarm%2Bvibrating%2Bsite:youtube.com&amp;sa=U&amp;ei=HlroUsqQNYbnoASDu4CoDA&amp;ved=0CPACECAwQThl&amp;usg=AFQjCNFdxWNMM97K8-WM6htsGsILFNL4Jw\">Cached</a></li></ul></div></div></div><span class=\"st\">Also, help the deaf and <b>hard of hearing</b> by creating subtitles in English. <b>....</b> and <br>\\nhas been consistently sounding the <b>alarm</b> over the danger of nuclear power.</span><br></div></li><li class=\"g\"><h3 class=\"r\"><a href=\"/url?q=http://www.youtube.com/playlist%3Flist%3DPL2F06D09415F1796C&amp;sa=U&amp;ei=HlroUsqQNYbnoASDu4CoDA&amp;ved=0CPICEBYwQjhl&amp;usg=AFQjCNF2r62ooiE5DHySuTCW5VcbcHch-g\">Knowings 5 - YouTube</a></h3><div class=\"s\"><div class=\"kv\" style=\"margin-bottom:2px\"><cite>www.youtube.com/playlist?list=PL2F06D09415F1796C</cite><div class=\"am-dwn-arw-container\">\\xe2\\x80\\x8e<div onclick=\"google.sham(this);\" aria-expanded=\"false\" aria-haspopup=\"true\" tabindex=\"0\" data-ved=\"0CPMCEOwdMEI4ZQ\" style=\"display:inline\"><span class=\"am-dwn-arw\"></span></div><div class=\"am-dropdown-menu\" role=\"menu\" tabindex=\"-1\" style=\"display:none\"><ul><li class=\"am-dropdown-menu-item\"><a class=\"am-dropdown-menu-item-text\" href=\"/url?q=http://webcache.googleusercontent.com/search%3Fnum%3D100%26query%3D%2522hard%2Bof%2Bhearing%2522%2Balarm%2Bvibrating%2Bsite%253Ayoutube.com%26hl%3Den%26ct%3Dclnk%26q%3Dcache:o3DN3LcblyoJ:http://www.youtube.com/playlist%253Flist%253DPL2F06D09415F1796C%252B%2522hard%2Bof%2Bhearing%2522%2Balarm%2Bvibrating%2Bsite:youtube.com&amp;sa=U&amp;ei=HlroUsqQNYbnoASDu4CoDA&amp;ved=0CPUCECAwQjhl&amp;usg=AFQjCNGM7cFTvKDH81utQ-niOcV_SGj8PQ\">Cached</a></li></ul></div></div></div><span class=\"st\">Also, help the deaf and <b>hard of hearing</b> by creating subtitles in English. <b>......</b> Set <br>\\nyour <b>alarm</b> clock to go off in the middle of your typical range of sleep. <b>...</b> mind the <br>\\nimage of the front door as if you were standing in front of it the <b>vibrations</b> hit, hard.</span><br></div></li><li class=\"g\"><h3 class=\"r\"><a href=\"/url?q=http://www.youtube.com/playlist%3Ffeature%3Dc4-feed-a%26list%3DFLM7KaWnJGXiG3LTvAT_ZWhw&amp;sa=U&amp;ei=HlroUsqQNYbnoASDu4CoDA&amp;ved=0CPcCEBYwQzhl&amp;usg=AFQjCNGOT0LJdvRjUr9TQQeubxHzIyEKDA\">Favorite videos - YouTube</a></h3><div class=\"s\"><div class=\"kv\" style=\"margin-bottom:2px\"><cite>www.youtube.com/playlist?feature=c4-feed-a&amp;list...ZWhw</cite><div class=\"am-dwn-arw-container\">\\xe2\\x80\\x8e<div onclick=\"google.sham(this);\" aria-expanded=\"false\" aria-haspopup=\"true\" tabindex=\"0\" data-ved=\"0CPgCEOwdMEM4ZQ\" style=\"display:inline\"><span class=\"am-dwn-arw\"></span></div><div class=\"am-dropdown-menu\" role=\"menu\" tabindex=\"-1\" style=\"display:none\"><ul><li class=\"am-dropdown-menu-item\"><a class=\"am-dropdown-menu-item-text\" href=\"/url?q=http://webcache.googleusercontent.com/search%3Fnum%3D100%26query%3D%2522hard%2Bof%2Bhearing%2522%2Balarm%2Bvibrating%2Bsite%253Ayoutube.com%26hl%3Den%26ct%3Dclnk%26q%3Dcache:k-DN7Lb82D4J:http://www.youtube.com/playlist%253Ffeature%253Dc4-feed-a%2526list%253DFLM7KaWnJGXiG3LTvAT_ZWhw%252B%2522hard%2Bof%2Bhearing%2522%2Balarm%2Bvibrating%2Bsite:youtube.com&amp;sa=U&amp;ei=HlroUsqQNYbnoASDu4CoDA&amp;ved=0CPoCECAwQzhl&amp;usg=AFQjCNEcSRVuLsIEKpqfKdZNCH8N7gx-Lg\">Cached</a></li></ul></div></div></div><span class=\"st\">The more light you can store in your body, the higher your <b>vibration</b> will become. <br>\\n<b>......</b> Nicki Minaj - Pound The <b>Alarm</b> (Reidiculous Remix) <b>.....</b> My Dad, who has <br>\\nbeen <b>hard of hearing</b> for about as long as I can remember, recently invested in&nbsp;<b>...</b></span><br></div></li><li class=\"g\"><h3 class=\"r\"><a href=\"/url?q=http://www.youtube.com/playlist%3Flist%3DPLC84E851D576819CA&amp;sa=U&amp;ei=HlroUsqQNYbnoASDu4CoDA&amp;ved=0CPwCEBYwRDhl&amp;usg=AFQjCNEWLQITEqtq-Cicicrj9xOKCTPv3A\">Cool and Awsome - YouTube</a></h3><div class=\"s\"><div class=\"kv\" style=\"margin-bottom:2px\"><cite>www.youtube.com/playlist?list=PLC84E851D576819CA</cite><div class=\"am-dwn-arw-container\">\\xe2\\x80\\x8e<div onclick=\"google.sham(this);\" aria-expanded=\"false\" aria-haspopup=\"true\" tabindex=\"0\" data-ved=\"0CP0CEOwdMEQ4ZQ\" style=\"display:inline\"><span class=\"am-dwn-arw\"></span></div><div class=\"am-dropdown-menu\" role=\"menu\" tabindex=\"-1\" style=\"display:none\"><ul><li class=\"am-dropdown-menu-item\"><a class=\"am-dropdown-menu-item-text\" href=\"/url?q=http://webcache.googleusercontent.com/search%3Fnum%3D100%26query%3D%2522hard%2Bof%2Bhearing%2522%2Balarm%2Bvibrating%2Bsite%253Ayoutube.com%26hl%3Den%26ct%3Dclnk%26q%3Dcache:TezsZ-9BnNsJ:http://www.youtube.com/playlist%253Flist%253DPLC84E851D576819CA%252B%2522hard%2Bof%2Bhearing%2522%2Balarm%2Bvibrating%2Bsite:youtube.com&amp;sa=U&amp;ei=HlroUsqQNYbnoASDu4CoDA&amp;ved=0CP8CECAwRDhl&amp;usg=AFQjCNFh68Z6AV53_wu7GPG66_F6NjnvQA\">Cached</a></li></ul></div></div></div><span class=\"st\">Basically your cameras frame rate is synced up with the rate of the <b>vibrations</b> of <br>\\n<b>.....</b> Q: The <b>alarm</b> bark and vixen&#39;s scream almost sound alike, how do you tell the <br>\\n<b>......</b> My Dad, who has been <b>hard of hearing</b> for about as long as I can remember,<br>\\n&nbsp;<b>...</b></span><br></div></li><li class=\"g\"><h3 class=\"r\"><a href=\"/url?q=http://www.youtube.com/playlist%3Flist%3DFL_9j-Tor-CNa_tHtuLKc3VQ%26page%3D4&amp;sa=U&amp;ei=HlroUsqQNYbnoASDu4CoDA&amp;ved=0CIEDEBYwRThl&amp;usg=AFQjCNGUl5Lb9c1sveVC0ikNbutL7egRYA\">Favorite videos - YouTube</a></h3><div class=\"s\"><div class=\"kv\" style=\"margin-bottom:2px\"><cite>www.youtube.com/playlist?list=FL_9j-Tor-CNa...page=4</cite><div class=\"am-dwn-arw-container\">\\xe2\\x80\\x8e<div onclick=\"google.sham(this);\" aria-expanded=\"false\" aria-haspopup=\"true\" tabindex=\"0\" data-ved=\"0CIIDEOwdMEU4ZQ\" style=\"display:inline\"><span class=\"am-dwn-arw\"></span></div><div class=\"am-dropdown-menu\" role=\"menu\" tabindex=\"-1\" style=\"display:none\"><ul><li class=\"am-dropdown-menu-item\"><a class=\"am-dropdown-menu-item-text\" href=\"/url?q=http://webcache.googleusercontent.com/search%3Fnum%3D100%26query%3D%2522hard%2Bof%2Bhearing%2522%2Balarm%2Bvibrating%2Bsite%253Ayoutube.com%26hl%3Den%26ct%3Dclnk%26q%3Dcache:q4VAdVFchekJ:http://www.youtube.com/playlist%253Flist%253DFL_9j-Tor-CNa_tHtuLKc3VQ%2526page%253D4%252B%2522hard%2Bof%2Bhearing%2522%2Balarm%2Bvibrating%2Bsite:youtube.com&amp;sa=U&amp;ei=HlroUsqQNYbnoASDu4CoDA&amp;ved=0CIQDECAwRThl&amp;usg=AFQjCNGvaBkY_SHV2hjGpLKz4ErmLdxa-g\">Cached</a></li></ul></div></div></div><span class=\"st\">Introduction to fire <b>alarms</b> 21 - Intelligent Panels. by Joe Klochan 14,544 views <br>\\n<b>.....</b> Also, help the deaf and <b>hard of hearing</b> by creating subtitles in English. <br>\\nProofreaders for <b>....</b> Musical <b>Vibrations</b> in Satsang ~ 29 Jan 2011. by <br>\\nAwakeningBridge&nbsp;<b>...</b></span><br></div></li><li class=\"g\"><h3 class=\"r\"><a href=\"/url?q=http://www.youtube.com/playlist%3Flist%3DFLPgmhkt6UBFUlZLW4hhroTQ&amp;sa=U&amp;ei=HlroUsqQNYbnoASDu4CoDA&amp;ved=0CIYDEBYwRjhl&amp;usg=AFQjCNHxHNVf4HWUXcPRJZSzPMu9yT3MmA\">Favorite videos - YouTube</a></h3><div class=\"s\"><div class=\"kv\" style=\"margin-bottom:2px\"><cite>www.youtube.com/playlist?list=FLPgmhkt6UBFUlZLW4hhroTQ</cite><div class=\"am-dwn-arw-container\">\\xe2\\x80\\x8e<div onclick=\"google.sham(this);\" aria-expanded=\"false\" aria-haspopup=\"true\" tabindex=\"0\" data-ved=\"0CIcDEOwdMEY4ZQ\" style=\"display:inline\"><span class=\"am-dwn-arw\"></span></div><div class=\"am-dropdown-menu\" role=\"menu\" tabindex=\"-1\" style=\"display:none\"><ul><li class=\"am-dropdown-menu-item\"><a class=\"am-dropdown-menu-item-text\" href=\"/url?q=http://webcache.googleusercontent.com/search%3Fnum%3D100%26query%3D%2522hard%2Bof%2Bhearing%2522%2Balarm%2Bvibrating%2Bsite%253Ayoutube.com%26hl%3Den%26ct%3Dclnk%26q%3Dcache:mUnWCDEhi-UJ:http://www.youtube.com/playlist%253Flist%253DFLPgmhkt6UBFUlZLW4hhroTQ%252B%2522hard%2Bof%2Bhearing%2522%2Balarm%2Bvibrating%2Bsite:youtube.com&amp;sa=U&amp;ei=HlroUsqQNYbnoASDu4CoDA&amp;ved=0CIkDECAwRjhl&amp;usg=AFQjCNEoHvs9Q92WswyPxkFrSuKCy2z9Gg\">Cached</a></li></ul></div></div></div><span class=\"st\">Ke$ha&#39;s hit single We R Who We R. Signed for the deaf and <b>hard of hearing</b>. <b>......</b> <br>\\nhearts; we are all attuned with the multidimensional <b>vibration</b> of the Cosmic Heart<br>\\n. <b>....</b> Listen to it on your ipod or burn onto a CD set up as your <b>alarm</b> clock as your<br>\\n&nbsp;<b>...</b></span><br></div></li><li class=\"g\"><h3 class=\"r\"><a href=\"/url?q=https://www.youtube.com/playlist%3Flist%3DFLfxFE3sdN9VuSODOq7P8utw&amp;sa=U&amp;ei=HlroUsqQNYbnoASDu4CoDA&amp;ved=0CIsDEBYwRzhl&amp;usg=AFQjCNFxsAEb56TEFTrziQICJ3b0g-ogFg\">Favorite videos - YouTube</a></h3><div class=\"s\"><div class=\"kv\" style=\"margin-bottom:2px\"><cite>https://www.youtube.com/playlist?list...</cite><div class=\"am-dwn-arw-container\">\\xe2\\x80\\x8e<div onclick=\"google.sham(this);\" aria-expanded=\"false\" aria-haspopup=\"true\" tabindex=\"0\" data-ved=\"0CIwDEOwdMEc4ZQ\" style=\"display:inline\"><span class=\"am-dwn-arw\"></span></div><div class=\"am-dropdown-menu\" role=\"menu\" tabindex=\"-1\" style=\"display:none\"><ul><li class=\"am-dropdown-menu-item\"><a class=\"am-dropdown-menu-item-text\" href=\"/url?q=http://webcache.googleusercontent.com/search%3Fnum%3D100%26query%3D%2522hard%2Bof%2Bhearing%2522%2Balarm%2Bvibrating%2Bsite%253Ayoutube.com%26hl%3Den%26ct%3Dclnk%26q%3Dcache:AqeHxdmfGVUJ:https://www.youtube.com/playlist%253Flist%253DFLfxFE3sdN9VuSODOq7P8utw%252B%2522hard%2Bof%2Bhearing%2522%2Balarm%2Bvibrating%2Bsite:youtube.com&amp;sa=U&amp;ei=HlroUsqQNYbnoASDu4CoDA&amp;ved=0CI4DECAwRzhl&amp;usg=AFQjCNHvFHZcJt_OqcFvy-Fdys7YB04tpA\">Cached</a></li></ul></div></div></div><span class=\"st\">Jordan show us a first look at the new Encore E3 <b>alarm</b> systems. <b>.....</b> hilarious wtf <br>\\n<b>vibrating alarm</b> clock ASL sign language deaf <b>hard of hearing</b> twitter facebook.</span><br></div></li><li class=\"g\"><h3 class=\"r\"><a href=\"/url?q=http://www.youtube.com/playlist%3Flist%3DFLTBepCS124OcfMYz_j_CJlA&amp;sa=U&amp;ei=HlroUsqQNYbnoASDu4CoDA&amp;ved=0CJADEBYwSDhl&amp;usg=AFQjCNG8P4QiKRXIXtfG_8LLURBtFbldGQ\">Favorite videos - YouTube</a></h3><div class=\"s\"><div class=\"kv\" style=\"margin-bottom:2px\"><cite>www.youtube.com/playlist?list=FLTBepCS124OcfMYz_j_CJlA</cite><div class=\"am-dwn-arw-container\">\\xe2\\x80\\x8e<div onclick=\"google.sham(this);\" aria-expanded=\"false\" aria-haspopup=\"true\" tabindex=\"0\" data-ved=\"0CJEDEOwdMEg4ZQ\" style=\"display:inline\"><span class=\"am-dwn-arw\"></span></div><div class=\"am-dropdown-menu\" role=\"menu\" tabindex=\"-1\" style=\"display:none\"><ul><li class=\"am-dropdown-menu-item\"><a class=\"am-dropdown-menu-item-text\" href=\"/url?q=http://webcache.googleusercontent.com/search%3Fnum%3D100%26query%3D%2522hard%2Bof%2Bhearing%2522%2Balarm%2Bvibrating%2Bsite%253Ayoutube.com%26hl%3Den%26ct%3Dclnk%26q%3Dcache:RgFxWIyS2EAJ:http://www.youtube.com/playlist%253Flist%253DFLTBepCS124OcfMYz_j_CJlA%252B%2522hard%2Bof%2Bhearing%2522%2Balarm%2Bvibrating%2Bsite:youtube.com&amp;sa=U&amp;ei=HlroUsqQNYbnoASDu4CoDA&amp;ved=0CJMDECAwSDhl&amp;usg=AFQjCNEec0FzIV5-3Busj1w7bjUMuTansw\">Cached</a></li></ul></div></div></div><span class=\"st\"><b>...</b> so non-English speakers or the deaf and <b>hard of hearing</b> can enjoy this talk, <br>\\nplease <b>.....</b> Certain frequencies <b>vibrate</b> the metal plate in such a way that it creates <br>\\nareas <b>.....</b> As a consequence, close to 80% of the population uses <b>alarm</b> clocks on<br>\\n&nbsp;<b>...</b></span><br></div></li><li class=\"g\"><h3 class=\"r\"><a href=\"/url?q=http://www.youtube.com/playlist%3Flist%3DFLctwshanRqvuaJzNxWyfZYA&amp;sa=U&amp;ei=HlroUsqQNYbnoASDu4CoDA&amp;ved=0CJUDEBYwSThl&amp;usg=AFQjCNGpIKR9to3ZMItXGbGJBV4k08Uo8g\">Favorite videos - YouTube</a></h3><div class=\"s\"><div class=\"kv\" style=\"margin-bottom:2px\"><cite>www.youtube.com/playlist?list=FLctwshanRqvuaJzNxWyfZYA</cite><div class=\"am-dwn-arw-container\">\\xe2\\x80\\x8e<div onclick=\"google.sham(this);\" aria-expanded=\"false\" aria-haspopup=\"true\" tabindex=\"0\" data-ved=\"0CJYDEOwdMEk4ZQ\" style=\"display:inline\"><span class=\"am-dwn-arw\"></span></div><div class=\"am-dropdown-menu\" role=\"menu\" tabindex=\"-1\" style=\"display:none\"><ul><li class=\"am-dropdown-menu-item\"><a class=\"am-dropdown-menu-item-text\" href=\"/url?q=http://webcache.googleusercontent.com/search%3Fnum%3D100%26query%3D%2522hard%2Bof%2Bhearing%2522%2Balarm%2Bvibrating%2Bsite%253Ayoutube.com%26hl%3Den%26ct%3Dclnk%26q%3Dcache:PaFktUx-FXMJ:http://www.youtube.com/playlist%253Flist%253DFLctwshanRqvuaJzNxWyfZYA%252B%2522hard%2Bof%2Bhearing%2522%2Balarm%2Bvibrating%2Bsite:youtube.com&amp;sa=U&amp;ei=HlroUsqQNYbnoASDu4CoDA&amp;ved=0CJgDECAwSThl&amp;usg=AFQjCNFzxv0lfcBIuEBue8KuCkVM75IK2Q\">Cached</a></li></ul></div></div></div><span class=\"st\">Music video by Nicki Minaj performing Pound The <b>Alarm</b> (Explicit). <b>.....</b> hilarious <br>\\nwtf <b>vibrating alarm</b> clock ASL sign language deaf <b>hard of hearing</b> twitter facebook<br>\\n.</span><br></div></li><li class=\"g\"><h3 class=\"r\"><a href=\"/url?q=http://www.youtube.com/playlist%3Flist%3DLLmCvjf4LCj4kuoHP8dUAUnQ&amp;sa=U&amp;ei=HlroUsqQNYbnoASDu4CoDA&amp;ved=0CJoDEBYwSjhl&amp;usg=AFQjCNGncqMoNN6JLlogmuutSZ0-Ij5ZUw\">Liked videos - YouTube</a></h3><div class=\"s\"><div class=\"kv\" style=\"margin-bottom:2px\"><cite>www.youtube.com/playlist?list=LLmCvjf4LCj4kuoHP8dUAUnQ</cite><div class=\"am-dwn-arw-container\">\\xe2\\x80\\x8e<div onclick=\"google.sham(this);\" aria-expanded=\"false\" aria-haspopup=\"true\" tabindex=\"0\" data-ved=\"0CJsDEOwdMEo4ZQ\" style=\"display:inline\"><span class=\"am-dwn-arw\"></span></div><div class=\"am-dropdown-menu\" role=\"menu\" tabindex=\"-1\" style=\"display:none\"><ul><li class=\"am-dropdown-menu-item\"><a class=\"am-dropdown-menu-item-text\" href=\"/url?q=http://webcache.googleusercontent.com/search%3Fnum%3D100%26query%3D%2522hard%2Bof%2Bhearing%2522%2Balarm%2Bvibrating%2Bsite%253Ayoutube.com%26hl%3Den%26ct%3Dclnk%26q%3Dcache:DPWSCpVj5WMJ:http://www.youtube.com/playlist%253Flist%253DLLmCvjf4LCj4kuoHP8dUAUnQ%252B%2522hard%2Bof%2Bhearing%2522%2Balarm%2Bvibrating%2Bsite:youtube.com&amp;sa=U&amp;ei=HlroUsqQNYbnoASDu4CoDA&amp;ved=0CJ0DECAwSjhl&amp;usg=AFQjCNGihL-RIfOO8r2CyF_H_z96h7H1mQ\">Cached</a></li></ul></div></div></div><span class=\"st\">My Dad, who has been <b>hard of hearing</b> for about as long as I can remember, <br>\\nrecently invested <b>.....</b> Cocaine; featuring vocals from Stick Figure&#39;s &#39;Ring the <b>Alarm</b><br>\\n&#39;. <b>......</b> Many deaf people learn to &quot;feel&quot; sound through their fingers and <b>vibrations</b> <br>\\non&nbsp;<b>...</b></span><br></div></li><li class=\"g\"><h3 class=\"r\"><a href=\"/url?q=http://www.youtube.com/playlist%3Flist%3DFL7fsgTQMEUjT_YOlMs4ihiA%26feature%3Dc4-feed-lik&amp;sa=U&amp;ei=HlroUsqQNYbnoASDu4CoDA&amp;ved=0CJ8DEBYwSzhl&amp;usg=AFQjCNGRsEP3Sp4fwHBDVytcq5aR50ugsQ\">Favorite videos - YouTube</a></h3><div class=\"s\"><div class=\"kv\" style=\"margin-bottom:2px\"><cite>www.youtube.com/playlist?list=FL7fsgTQMEUjT...feature=c4...</cite><div class=\"am-dwn-arw-container\">\\xe2\\x80\\x8e<div onclick=\"google.sham(this);\" aria-expanded=\"false\" aria-haspopup=\"true\" tabindex=\"0\" data-ved=\"0CKADEOwdMEs4ZQ\" style=\"display:inline\"><span class=\"am-dwn-arw\"></span></div><div class=\"am-dropdown-menu\" role=\"menu\" tabindex=\"-1\" style=\"display:none\"><ul><li class=\"am-dropdown-menu-item\"><a class=\"am-dropdown-menu-item-text\" href=\"/url?q=http://webcache.googleusercontent.com/search%3Fnum%3D100%26query%3D%2522hard%2Bof%2Bhearing%2522%2Balarm%2Bvibrating%2Bsite%253Ayoutube.com%26hl%3Den%26ct%3Dclnk%26q%3Dcache:dA9ARnJ3OMgJ:http://www.youtube.com/playlist%253Flist%253DFL7fsgTQMEUjT_YOlMs4ihiA%2526feature%253Dc4-feed-lik%252B%2522hard%2Bof%2Bhearing%2522%2Balarm%2Bvibrating%2Bsite:youtube.com&amp;sa=U&amp;ei=HlroUsqQNYbnoASDu4CoDA&amp;ved=0CKIDECAwSzhl&amp;usg=AFQjCNFWtlHilR5HwH4HRThKju5WlWQ73Q\">Cached</a></li></ul></div></div></div><span class=\"st\"><b>Alarm</b> Clocks - ESPN Monday Night Football <b>.....</b> <b>vibration</b>, edgar cayce, spiritual <br>\\nawareness, DNA upgrade, how to meditate, <b>....</b> for the benefit of the deaf, <b>hard-of-</b><br>\\n<b>hearing</b> and non-native English speakers, here&#39;s a neat clip of ESPN&#39;s me\\xe2\\x80\\xa6</span><br></div></li><li class=\"g\"><h3 class=\"r\"><a href=\"/url?q=https://www.youtube.com/playlist%3Flist%3DFL6PKoTbBUXjYUnxwUKgnqug&amp;sa=U&amp;ei=HlroUsqQNYbnoASDu4CoDA&amp;ved=0CKQDEBYwTDhl&amp;usg=AFQjCNGJGadgk0h0CMcFUYBpJY3Dz3mK_w\">Favorite videos - YouTube</a></h3><div class=\"s\"><div class=\"kv\" style=\"margin-bottom:2px\"><cite>https://www.youtube.com/playlist?list...</cite><div class=\"am-dwn-arw-container\">\\xe2\\x80\\x8e<div onclick=\"google.sham(this);\" aria-expanded=\"false\" aria-haspopup=\"true\" tabindex=\"0\" data-ved=\"0CKUDEOwdMEw4ZQ\" style=\"display:inline\"><span class=\"am-dwn-arw\"></span></div><div class=\"am-dropdown-menu\" role=\"menu\" tabindex=\"-1\" style=\"display:none\"><ul><li class=\"am-dropdown-menu-item\"><a class=\"am-dropdown-menu-item-text\" href=\"/url?q=http://webcache.googleusercontent.com/search%3Fnum%3D100%26query%3D%2522hard%2Bof%2Bhearing%2522%2Balarm%2Bvibrating%2Bsite%253Ayoutube.com%26hl%3Den%26ct%3Dclnk%26q%3Dcache:1zIYCdGLJFEJ:https://www.youtube.com/playlist%253Flist%253DFL6PKoTbBUXjYUnxwUKgnqug%252B%2522hard%2Bof%2Bhearing%2522%2Balarm%2Bvibrating%2Bsite:youtube.com&amp;sa=U&amp;ei=HlroUsqQNYbnoASDu4CoDA&amp;ved=0CKcDECAwTDhl&amp;usg=AFQjCNGaKKD_h4pWk_akOVpW-Oi9jcNrVg\">Cached</a></li></ul></div></div></div><span class=\"st\">No <b>vibrations</b> on steering wheel. avilable @ - UK: <b>.....</b> Make a sneaky trigger <br>\\n<b>alarm</b> that will alert you if someone is touching your stuff! More videos at <b>......</b> <br>\\nClose Captioning is provided for Deaf and <b>Hard of Hearing</b>. Please click on the &quot;<br>\\nCC&quot;&nbsp;<b>...</b></span><br></div></li><li class=\"g\"><h3 class=\"r\"><a href=\"/url?q=http://www.youtube.com/playlist%3Flist%3DPL9D6D2DF094EA7A19&amp;sa=U&amp;ei=HlroUsqQNYbnoASDu4CoDA&amp;ved=0CKkDEBYwTThl&amp;usg=AFQjCNGBJ6e01Jsa11ngTXCIJ77-fGUuig\">Timber - YouTube</a></h3><div class=\"s\"><div class=\"kv\" style=\"margin-bottom:2px\"><cite>www.youtube.com/playlist?list=PL9D6D2DF094EA7A19</cite><div class=\"am-dwn-arw-container\">\\xe2\\x80\\x8e<div onclick=\"google.sham(this);\" aria-expanded=\"false\" aria-haspopup=\"true\" tabindex=\"0\" data-ved=\"0CKoDEOwdME04ZQ\" style=\"display:inline\"><span class=\"am-dwn-arw\"></span></div><div class=\"am-dropdown-menu\" role=\"menu\" tabindex=\"-1\" style=\"display:none\"><ul><li class=\"am-dropdown-menu-item\"><a class=\"am-dropdown-menu-item-text\" href=\"/url?q=http://webcache.googleusercontent.com/search%3Fnum%3D100%26query%3D%2522hard%2Bof%2Bhearing%2522%2Balarm%2Bvibrating%2Bsite%253Ayoutube.com%26hl%3Den%26ct%3Dclnk%26q%3Dcache:ST3QQTAWAywJ:http://www.youtube.com/playlist%253Flist%253DPL9D6D2DF094EA7A19%252B%2522hard%2Bof%2Bhearing%2522%2Balarm%2Bvibrating%2Bsite:youtube.com&amp;sa=U&amp;ei=HlroUsqQNYbnoASDu4CoDA&amp;ved=0CKwDECAwTThl&amp;usg=AFQjCNHdjn53TaYJhiE9jm2HVuEbiaZUIQ\">Cached</a></li></ul></div></div></div><span class=\"st\">1:55 - 2:00 &#39;Know our jewellery bark louder than the car <b>alarm</b>, yeah I remember I <br>\\nuse to have to sneak the car&#39; <b>......</b> Say about an old man who&#39;s <b>hard of hearing</b> <br>\\nand literally asking &quot;What&#39;d Ya say?!&quot; <b>......</b> can not keep still, got me on <b>vibration</b></span><br></div></li><li class=\"g\"><h3 class=\"r\"><a href=\"/url?q=http://www.youtube.com/playlist%3Flist%3DFLg8Jiv7wneK2NNXvOe714Bw&amp;sa=U&amp;ei=HlroUsqQNYbnoASDu4CoDA&amp;ved=0CK4DEBYwTjhl&amp;usg=AFQjCNHhXBc55SjcGB37vSQh7TixpysH0w\">Favorite videos - YouTube</a></h3><div class=\"s\"><div class=\"kv\" style=\"margin-bottom:2px\"><cite>www.youtube.com/playlist?list=FLg8Jiv7wneK2NNXvOe714Bw</cite><div class=\"am-dwn-arw-container\">\\xe2\\x80\\x8e<div onclick=\"google.sham(this);\" aria-expanded=\"false\" aria-haspopup=\"true\" tabindex=\"0\" data-ved=\"0CK8DEOwdME44ZQ\" style=\"display:inline\"><span class=\"am-dwn-arw\"></span></div><div class=\"am-dropdown-menu\" role=\"menu\" tabindex=\"-1\" style=\"display:none\"><ul><li class=\"am-dropdown-menu-item\"><a class=\"am-dropdown-menu-item-text\" href=\"/url?q=http://webcache.googleusercontent.com/search%3Fnum%3D100%26query%3D%2522hard%2Bof%2Bhearing%2522%2Balarm%2Bvibrating%2Bsite%253Ayoutube.com%26hl%3Den%26ct%3Dclnk%26q%3Dcache:oYmbIFx9ogsJ:http://www.youtube.com/playlist%253Flist%253DFLg8Jiv7wneK2NNXvOe714Bw%252B%2522hard%2Bof%2Bhearing%2522%2Balarm%2Bvibrating%2Bsite:youtube.com&amp;sa=U&amp;ei=HlroUsqQNYbnoASDu4CoDA&amp;ved=0CLEDECAwTjhl&amp;usg=AFQjCNH6gcac39lwNYEnXAd6QC8s8jgBtg\">Cached</a></li></ul></div></div></div><span class=\"st\">Also, help the deaf and <b>hard of hearing</b> by creating subtitles in English. <b>.....</b> Q: The <br>\\n<b>alarm</b> bark and vixen&#39;s scream almost sound alike, how do you tell the difference<br>\\n? <b>.....</b> The planets in our solar system are raising their <b>vibrations</b> right now.</span><br></div></li><li class=\"g\"><h3 class=\"r\"><a href=\"/url?q=http://www.youtube.com/playlist%3Flist%3DFLhylHsMYqhLKIoHY1nPrf-w&amp;sa=U&amp;ei=HlroUsqQNYbnoASDu4CoDA&amp;ved=0CLMDEBYwTzhl&amp;usg=AFQjCNE27aCexc13nf_fpzliidCZ9xHqTQ\">Favorite videos - YouTube</a></h3><div class=\"s\"><div class=\"kv\" style=\"margin-bottom:2px\"><cite>www.youtube.com/playlist?list=FLhylHsMYqhLKIoHY1nPrf-w</cite><div class=\"am-dwn-arw-container\">\\xe2\\x80\\x8e<div onclick=\"google.sham(this);\" aria-expanded=\"false\" aria-haspopup=\"true\" tabindex=\"0\" data-ved=\"0CLQDEOwdME84ZQ\" style=\"display:inline\"><span class=\"am-dwn-arw\"></span></div><div class=\"am-dropdown-menu\" role=\"menu\" tabindex=\"-1\" style=\"display:none\"><ul><li class=\"am-dropdown-menu-item\"><a class=\"am-dropdown-menu-item-text\" href=\"/url?q=http://webcache.googleusercontent.com/search%3Fnum%3D100%26query%3D%2522hard%2Bof%2Bhearing%2522%2Balarm%2Bvibrating%2Bsite%253Ayoutube.com%26hl%3Den%26ct%3Dclnk%26q%3Dcache:tDw1jUWxQhYJ:http://www.youtube.com/playlist%253Flist%253DFLhylHsMYqhLKIoHY1nPrf-w%252B%2522hard%2Bof%2Bhearing%2522%2Balarm%2Bvibrating%2Bsite:youtube.com&amp;sa=U&amp;ei=HlroUsqQNYbnoASDu4CoDA&amp;ved=0CLYDECAwTzhl&amp;usg=AFQjCNG7Pn6TVZ9sLmlCTCQQbfujTUEIAA\">Cached</a></li></ul></div></div></div><span class=\"st\">Nicki Minaj - &quot;Pound The <b>Alarm</b>&quot; <b>....</b> I am <b>hard of hearing</b> myself, but I am culturally <br>\\nDeaf, meaning that ASL is my first language--the language I grew up with. <b>...</b> not <br>\\nonly by hearing/feeling the beat and <b>vibrations</b> of the music, but also by having&nbsp;<b>...</b></span><br></div></li><li class=\"g\"><h3 class=\"r\"><a href=\"/url?q=https://www.youtube.com/playlist%3Flist%3DLLASyeedYiHQ0exOD6cMzyrA&amp;sa=U&amp;ei=HlroUsqQNYbnoASDu4CoDA&amp;ved=0CLgDEBYwUDhl&amp;usg=AFQjCNGlPPzFQmVGpEXZIoFnhV9I817uug\">Liked videos - YouTube</a></h3><div class=\"s\"><div class=\"kv\" style=\"margin-bottom:2px\"><cite>https://www.youtube.com/playlist?list...</cite><div class=\"am-dwn-arw-container\">\\xe2\\x80\\x8e<div onclick=\"google.sham(this);\" aria-expanded=\"false\" aria-haspopup=\"true\" tabindex=\"0\" data-ved=\"0CLkDEOwdMFA4ZQ\" style=\"display:inline\"><span class=\"am-dwn-arw\"></span></div><div class=\"am-dropdown-menu\" role=\"menu\" tabindex=\"-1\" style=\"display:none\"><ul><li class=\"am-dropdown-menu-item\"><a class=\"am-dropdown-menu-item-text\" href=\"/url?q=http://webcache.googleusercontent.com/search%3Fnum%3D100%26query%3D%2522hard%2Bof%2Bhearing%2522%2Balarm%2Bvibrating%2Bsite%253Ayoutube.com%26hl%3Den%26ct%3Dclnk%26q%3Dcache:9LsfasJ1Dl4J:https://www.youtube.com/playlist%253Flist%253DLLASyeedYiHQ0exOD6cMzyrA%252B%2522hard%2Bof%2Bhearing%2522%2Balarm%2Bvibrating%2Bsite:youtube.com&amp;sa=U&amp;ei=HlroUsqQNYbnoASDu4CoDA&amp;ved=0CLsDECAwUDhl&amp;usg=AFQjCNHZX36aPcn1vfjvTmxKKuvNO-c9bQ\">Cached</a></li></ul></div></div></div><span class=\"st\">Also, help the deaf and <b>hard of hearing</b> by creating subtitles in English. <b>.....</b> Tenor <br>\\nSaw - Ring The <b>Alarm</b> <b>.....</b> 5th dimension, 2012 enigma, spirit, <b>vibration</b>, edgar <br>\\ncayce, spiritual awareness, DNA upgrade, how to meditate, chakra, indigo <br>\\nchildren&nbsp;<b>...</b></span><br></div></li><li class=\"g\"><h3 class=\"r\"><a href=\"/url?q=http://www.youtube.com/playlist%3Flist%3DPLE8B70DBF38FCABAD&amp;sa=U&amp;ei=HlroUsqQNYbnoASDu4CoDA&amp;ved=0CL0DEBYwUThl&amp;usg=AFQjCNGsIIM5X68BtVoxg28ibKw_7XO3qw\">NYPD - FDNY 7 - YouTube</a></h3><div class=\"s\"><div class=\"kv\" style=\"margin-bottom:2px\"><cite>www.youtube.com/playlist?list=PLE8B70DBF38FCABAD</cite><div class=\"am-dwn-arw-container\">\\xe2\\x80\\x8e<div onclick=\"google.sham(this);\" aria-expanded=\"false\" aria-haspopup=\"true\" tabindex=\"0\" data-ved=\"0CL4DEOwdMFE4ZQ\" style=\"display:inline\"><span class=\"am-dwn-arw\"></span></div><div class=\"am-dropdown-menu\" role=\"menu\" tabindex=\"-1\" style=\"display:none\"><ul><li class=\"am-dropdown-menu-item\"><a class=\"am-dropdown-menu-item-text\" href=\"/url?q=http://webcache.googleusercontent.com/search%3Fnum%3D100%26query%3D%2522hard%2Bof%2Bhearing%2522%2Balarm%2Bvibrating%2Bsite%253Ayoutube.com%26hl%3Den%26ct%3Dclnk%26q%3Dcache:xVbiy4Cy_M8J:http://www.youtube.com/playlist%253Flist%253DPLE8B70DBF38FCABAD%252B%2522hard%2Bof%2Bhearing%2522%2Balarm%2Bvibrating%2Bsite:youtube.com&amp;sa=U&amp;ei=HlroUsqQNYbnoASDu4CoDA&amp;ved=0CMADECAwUThl&amp;usg=AFQjCNGWqZU3KK0SnbMjVzOfsF6LC64YCg\">Cached</a></li></ul></div></div></div><span class=\"st\">To A 4 <b>alarm</b> structure fire to help evacuate people and setup road closures to <br>\\nassist Brentwood PD. Thumbnail <b>...</b> Later there were ground <b>shaking</b> explosions.</span><br></div></li><li class=\"g\"><h3 class=\"r\"><a href=\"/url?q=http://www.youtube.com/playlist%3Flist%3DFLQ4Td8sJ-HadCb2CWzp8WXQ&amp;sa=U&amp;ei=HlroUsqQNYbnoASDu4CoDA&amp;ved=0CMIDEBYwUjhl&amp;usg=AFQjCNFpCKSj6UkduWOGTpy3QRvEJUs6gw\">Favorite videos - YouTube</a></h3><div class=\"s\"><div class=\"kv\" style=\"margin-bottom:2px\"><cite>www.youtube.com/playlist?list=FLQ4Td8sJ-HadCb2CWzp8WXQ</cite><div class=\"am-dwn-arw-container\">\\xe2\\x80\\x8e<div onclick=\"google.sham(this);\" aria-expanded=\"false\" aria-haspopup=\"true\" tabindex=\"0\" data-ved=\"0CMMDEOwdMFI4ZQ\" style=\"display:inline\"><span class=\"am-dwn-arw\"></span></div><div class=\"am-dropdown-menu\" role=\"menu\" tabindex=\"-1\" style=\"display:none\"><ul><li class=\"am-dropdown-menu-item\"><a class=\"am-dropdown-menu-item-text\" href=\"/url?q=http://webcache.googleusercontent.com/search%3Fnum%3D100%26query%3D%2522hard%2Bof%2Bhearing%2522%2Balarm%2Bvibrating%2Bsite%253Ayoutube.com%26hl%3Den%26ct%3Dclnk%26q%3Dcache:w5t7RyG_fc0J:http://www.youtube.com/playlist%253Flist%253DFLQ4Td8sJ-HadCb2CWzp8WXQ%252B%2522hard%2Bof%2Bhearing%2522%2Balarm%2Bvibrating%2Bsite:youtube.com&amp;sa=U&amp;ei=HlroUsqQNYbnoASDu4CoDA&amp;ved=0CMUDECAwUjhl&amp;usg=AFQjCNHLUeVqe5m1lWelSKPzRUMu15E5zw\">Cached</a></li></ul></div></div></div><span class=\"st\"><b>...</b> wireless baby monitors, wireless <b>alarm</b> systems, wireless games consoles, etc <br>\\n<b>.....</b> so non-English speakers or the deaf and <b>hard of hearing</b> can enjoy this talk, <br>\\n<b>......</b> The more light you can store in your body, the higher your <b>vibration</b> will&nbsp;<b>...</b></span><br></div></li><li class=\"g\"><h3 class=\"r\"><a href=\"/url?q=https://www.youtube.com/playlist%3Flist%3DPLB3ULOQAUjDkHdnO1okCE0MLX3i13UvTB&amp;sa=U&amp;ei=HlroUsqQNYbnoASDu4CoDA&amp;ved=0CMcDEBYwUzhl&amp;usg=AFQjCNG77gZRswCk1dSaCoLShH25v_Uo-Q\">Planet Constitution 1 - YouTube</a></h3><div class=\"s\"><div class=\"kv\" style=\"margin-bottom:2px\"><cite>https://www.youtube.com/playlist?list...</cite><div class=\"am-dwn-arw-container\">\\xe2\\x80\\x8e<div onclick=\"google.sham(this);\" aria-expanded=\"false\" aria-haspopup=\"true\" tabindex=\"0\" data-ved=\"0CMgDEOwdMFM4ZQ\" style=\"display:inline\"><span class=\"am-dwn-arw\"></span></div><div class=\"am-dropdown-menu\" role=\"menu\" tabindex=\"-1\" style=\"display:none\"><ul><li class=\"am-dropdown-menu-item\"><a class=\"am-dropdown-menu-item-text\" href=\"/url?q=http://webcache.googleusercontent.com/search%3Fnum%3D100%26query%3D%2522hard%2Bof%2Bhearing%2522%2Balarm%2Bvibrating%2Bsite%253Ayoutube.com%26hl%3Den%26ct%3Dclnk%26q%3Dcache:p44RlRmpcPEJ:https://www.youtube.com/playlist%253Flist%253DPLB3ULOQAUjDkHdnO1okCE0MLX3i13UvTB%252B%2522hard%2Bof%2Bhearing%2522%2Balarm%2Bvibrating%2Bsite:youtube.com&amp;sa=U&amp;ei=HlroUsqQNYbnoASDu4CoDA&amp;ved=0CMoDECAwUzhl&amp;usg=AFQjCNGUchYwP0FhFJXzKWgqvnOK4W-hgg\">Cached</a></li></ul></div></div></div><span class=\"st\">Raise Your Daily Life <b>Vibration</b> with Inelia Benz: Plants, Elementals, Gaia <br>\\nGadgets <b>.....</b> Anthony Gucciardi sounds the <b>alarm</b> and calls concerned citizens to <br>\\njoin the <b>......</b> so non-English speakers or the deaf and <b>hard of hearing</b> can enjoy <br>\\nthis talk,&nbsp;<b>...</b></span><br></div></li><li class=\"g\"><h3 class=\"r\"><a href=\"/url?q=http://www.youtube.com/playlist%3Flist%3DPL9FE442CDCEE901D1&amp;sa=U&amp;ei=HlroUsqQNYbnoASDu4CoDA&amp;ved=0CMwDEBYwVDhl&amp;usg=AFQjCNGY8gRBewClnTDXEmHuAHbg7sSqUw\">cops - YouTube</a></h3><div class=\"s\"><div class=\"kv\" style=\"margin-bottom:2px\"><cite>www.youtube.com/playlist?list=PL9FE442CDCEE901D1</cite><div class=\"am-dwn-arw-container\">\\xe2\\x80\\x8e<div onclick=\"google.sham(this);\" aria-expanded=\"false\" aria-haspopup=\"true\" tabindex=\"0\" data-ved=\"0CM0DEOwdMFQ4ZQ\" style=\"display:inline\"><span class=\"am-dwn-arw\"></span></div><div class=\"am-dropdown-menu\" role=\"menu\" tabindex=\"-1\" style=\"display:none\"><ul><li class=\"am-dropdown-menu-item\"><a class=\"am-dropdown-menu-item-text\" href=\"/url?q=http://webcache.googleusercontent.com/search%3Fnum%3D100%26query%3D%2522hard%2Bof%2Bhearing%2522%2Balarm%2Bvibrating%2Bsite%253Ayoutube.com%26hl%3Den%26ct%3Dclnk%26q%3Dcache:UU_dku5DZGYJ:http://www.youtube.com/playlist%253Flist%253DPL9FE442CDCEE901D1%252B%2522hard%2Bof%2Bhearing%2522%2Balarm%2Bvibrating%2Bsite:youtube.com&amp;sa=U&amp;ei=HlroUsqQNYbnoASDu4CoDA&amp;ved=0CM8DECAwVDhl&amp;usg=AFQjCNFrNaCeDgMV0byyCGHh_GqwLzao6Q\">Cached</a></li></ul></div></div></div><span class=\"st\">To A 4 <b>alarm</b> structure fire to help evacuate people and setup road closures to <b>...</b> <br>\\ncan actually feel the siren&#39;s <b>vibrations</b> as it approaches, from up to 300 feet away. <br>\\n<b>...</b> for clearing past people with their radios up, or those that are <b>hard of hearing</b>.</span><br></div></li><li class=\"g\"><h3 class=\"r\"><a href=\"/url?q=http://www.youtube.com/playlist%3Flist%3DPLW4jaCe3SfX8R20o2bZt7rOrWDO9NmZ4w&amp;sa=U&amp;ei=HlroUsqQNYbnoASDu4CoDA&amp;ved=0CNEDEBYwVThl&amp;usg=AFQjCNGS0HLUjj9kefDDSA7Ex4ZK_NrjIQ\">Emergency Responses - YouTube</a></h3><div class=\"s\"><div class=\"kv\" style=\"margin-bottom:2px\"><cite>www.youtube.com/playlist?list...</cite><div class=\"am-dwn-arw-container\">\\xe2\\x80\\x8e<div onclick=\"google.sham(this);\" aria-expanded=\"false\" aria-haspopup=\"true\" tabindex=\"0\" data-ved=\"0CNIDEOwdMFU4ZQ\" style=\"display:inline\"><span class=\"am-dwn-arw\"></span></div><div class=\"am-dropdown-menu\" role=\"menu\" tabindex=\"-1\" style=\"display:none\"><ul><li class=\"am-dropdown-menu-item\"><a class=\"am-dropdown-menu-item-text\" href=\"/url?q=http://webcache.googleusercontent.com/search%3Fnum%3D100%26query%3D%2522hard%2Bof%2Bhearing%2522%2Balarm%2Bvibrating%2Bsite%253Ayoutube.com%26hl%3Den%26ct%3Dclnk%26q%3Dcache:DT5CuYqiAQIJ:http://www.youtube.com/playlist%253Flist%253DPLW4jaCe3SfX8R20o2bZt7rOrWDO9NmZ4w%252B%2522hard%2Bof%2Bhearing%2522%2Balarm%2Bvibrating%2Bsite:youtube.com&amp;sa=U&amp;ei=HlroUsqQNYbnoASDu4CoDA&amp;ved=0CNQDECAwVThl&amp;usg=AFQjCNEhchSqJVO7tiGxp1CKzfFB-peHcw\">Cached</a></li></ul></div></div></div><span class=\"st\">To A 4 <b>alarm</b> structure fire to help evacuate people and setup road closures to <b>.....</b> <br>\\nactually feel the siren&#39;s <b>vibrations</b> as it approaches, from up to 300 feet away. <b>...</b> <br>\\nfor clearing past people with their radios up, or those that are <b>hard of hearing</b>.</span><br></div></li><li class=\"g\"><h3 class=\"r\"><a href=\"/url?q=http://www.youtube.com/playlist%3Flist%3DFL44Y7SUTeqs3wxxqmGBLlPA%26page%3D11&amp;sa=U&amp;ei=HlroUsqQNYbnoASDu4CoDA&amp;ved=0CNYDEBYwVjhl&amp;usg=AFQjCNHYkBElht5pdBTSmubCG90-cx8drg\">Favorite videos - YouTube</a></h3><div class=\"s\"><div class=\"kv\" style=\"margin-bottom:2px\"><cite>www.youtube.com/playlist?list=FL44Y7SUTeqs3wxxqmGBLlPA...</cite><div class=\"am-dwn-arw-container\">\\xe2\\x80\\x8e<div onclick=\"google.sham(this);\" aria-expanded=\"false\" aria-haspopup=\"true\" tabindex=\"0\" data-ved=\"0CNcDEOwdMFY4ZQ\" style=\"display:inline\"><span class=\"am-dwn-arw\"></span></div><div class=\"am-dropdown-menu\" role=\"menu\" tabindex=\"-1\" style=\"display:none\"><ul><li class=\"am-dropdown-menu-item\"><a class=\"am-dropdown-menu-item-text\" href=\"/url?q=http://webcache.googleusercontent.com/search%3Fnum%3D100%26query%3D%2522hard%2Bof%2Bhearing%2522%2Balarm%2Bvibrating%2Bsite%253Ayoutube.com%26hl%3Den%26ct%3Dclnk%26q%3Dcache:sIfxAlhzsKYJ:http://www.youtube.com/playlist%253Flist%253DFL44Y7SUTeqs3wxxqmGBLlPA%2526page%253D11%252B%2522hard%2Bof%2Bhearing%2522%2Balarm%2Bvibrating%2Bsite:youtube.com&amp;sa=U&amp;ei=HlroUsqQNYbnoASDu4CoDA&amp;ved=0CNkDECAwVjhl&amp;usg=AFQjCNHlI64eZD1wO84KoFaVBSEOs2xIHQ\">Cached</a></li></ul></div></div></div><span class=\"st\">This is my original parody of Jason Derulo&#39;s- Whatcha Say about an old man <br>\\nwho&#39;s <b>hard of hearing</b> and literally asking &quot;What&#39;d Ya say?!&quot; Thanks to <b>.....</b> Wake <br>\\nup early &amp; mad from the sound of the <b>alarm</b> <b>.....</b> can not keep still, got me on <br>\\n<b>vibration</b></span><br></div></li><li class=\"g\"><table class=\"ts\"><tr><td colspan=\"2\"><h3 class=\"r\"><a href=\"/url?q=http://www.youtube.com/watch%3Fv%3DbhPyDyJ0XQU&amp;sa=U&amp;ei=HlroUsqQNYbnoASDu4CoDA&amp;ved=0CNwDELcCMFc4ZQ&amp;usg=AFQjCNFJxBPEQPO-qLbd49gwNdJmz_viCQ\">Deaf <b>Alarm</b> Clock: &quot;Two Slats&quot; - YouTube</a></h3></td></tr><tr><td valign=\"top\" width=\"1\" style=\"padding:4px 8px 0 0\"><div class=\"th\" style=\"position:relative;overflow:hidden;width:116px;height:65px\"><a href=\"/url?q=http://www.youtube.com/watch%3Fv%3DbhPyDyJ0XQU&amp;sa=U&amp;ei=HlroUsqQNYbnoASDu4CoDA&amp;ved=0CN0DELgCMFc4ZVAB&amp;usg=AFQjCNFJxBPEQPO-qLbd49gwNdJmz_viCQ\"><div style=\"margin-top:-11px\"><img src=\"http://img.youtube.com/vi/bhPyDyJ0XQU/default.jpg?h=90&amp;w=120&amp;sigh=__0DFDfRNjAgCCWy7iDxGo2llozhg=\" width=\"116\" align=\"middle\" alt=\"\" border=\"0\"></div><div style=\"position:absolute;bottom:0;right:0;font-size:11px;color:#fff;background-color:#222;padding:1px 3px;text-decoration:none;font-weight:bold;text-align:right\">&#9658; 7:52</div></a></div></td><td valign=\"top\" style=\"padding-top:1px\"><cite class=\"kv\">www.youtube.com/watch?v=bhPyDyJ0XQU</cite><span class=\"st\"><span class=\"f\"><span class=\"nobr\">May 12, 2009</span> - <span class=\"nobr\">8 min</span> - <span class=\"nobr\">Uploaded by Edwin Carrington</span></span><br>Deaf <b>Alarm</b> Clock: &quot;Two Slats&quot; <b>....</b> Curb Cuts Episode #3 ::: Deaf &amp; <b>Hard-of-</b> <b>Hearing</b> ATby <b>...</b></span></td></tr></table><div style=\"margin:8px 0 5px\"><a class=\"fl\" href=\"?sa=X&amp;ei=HlroUsqQNYbnoASDu4CoDA&amp;ved=0CN4DEO0JOGU\"></a></div></li><li class=\"g\"><table class=\"ts\"><tr><td colspan=\"2\"><h3 class=\"r\"><a href=\"/url?q=http://www.youtube.com/watch%3Fv%3D81NKLr9BN2I&amp;sa=U&amp;ei=HlroUsqQNYbnoASDu4CoDA&amp;ved=0COEDELcCMFg4ZQ&amp;usg=AFQjCNEHr3N2gql9_KmkDWkWb2D3DjW9nw\">Fire <b>Alarms</b> For Deaf - YouTube</a></h3></td></tr><tr><td valign=\"top\" width=\"1\" style=\"padding:4px 8px 0 0\"><div class=\"th\" style=\"position:relative;overflow:hidden;width:116px;height:65px\"><a href=\"/url?q=http://www.youtube.com/watch%3Fv%3D81NKLr9BN2I&amp;sa=U&amp;ei=HlroUsqQNYbnoASDu4CoDA&amp;ved=0COIDELgCMFg4ZVAB&amp;usg=AFQjCNEHr3N2gql9_KmkDWkWb2D3DjW9nw\"><div style=\"margin-top:-11px\"><img src=\"http://img.youtube.com/vi/81NKLr9BN2I/default.jpg?h=90&amp;w=120&amp;sigh=__lQHLnl5DhcYiuNLdnlrDxv15EbA=\" width=\"116\" align=\"middle\" alt=\"\" border=\"0\"></div><div style=\"position:absolute;bottom:0;right:0;font-size:11px;color:#fff;background-color:#222;padding:1px 3px;text-decoration:none;font-weight:bold;text-align:right\">&#9658; 0:20</div></a></div></td><td valign=\"top\" style=\"padding-top:1px\"><cite class=\"kv\">www.youtube.com/watch?v=81NKLr9BN2I</cite><span class=\"st\"><span class=\"f\"><span class=\"nobr\">Aug 15, 2012</span> - <span class=\"nobr\">20 sec</span> - <span class=\"nobr\">Uploaded by Charles Harper</span></span><br>Smoke <b>Alarms</b> for the Deaf and <b>hard of Hearing</b>by PBC911FIRE820 views <b>...</b>  How to install <b>...</b></span></td></tr></table><div style=\"margin:8px 0 5px\"><a class=\"fl\" href=\"?sa=X&amp;ei=HlroUsqQNYbnoASDu4CoDA&amp;ved=0COMDEO0JOGU\"></a></div></li></ol></div></div></div><div id=\"tads\" style=\"margin:0 0 11px;min-height:0;padding:2px 8px 1px 7px;background:#fff7ed\"><h2 class=\"spon\" style=\"margin:0 -35px 0 0;padding:4px 4px 4px 0;text-align:left;font-size:13px !important\"><span>Ads related to <b>\"hard of hearing\" alarm vibrating site:youtube.com</b></span><a href=\"/settings/ads/preferences?hl=en\" target=\"_blank\" style=\"cursor:pointer\"><span class=\"mglbl\" title=\"Why these ads?\" style=\"height:12px;width:12px;margin-top:-1px;margin-left:3px;top:3px;background:url(/images/nav_logo176.png) no-repeat;background-position:-96px -41px\"></span></a></h2><ol style=\"padding:4px 0\"><li class=\"taf\"><h3><a id=\"pa1\" href=\"/aclk?sa=l&amp;ai=CuruOHlroUsX2NdKE-gPMx4C4C77-pJgEzoCg1RSl6b8LCAMQASgCUK6RxdT9_____wFgyYajh9SjgBCQAQWgAZOyu_8DyAEBqgQmT9CeGIcC_KuiSaDxJDHT5flqDKoyTYR8Dk6iTEcohYKgAd5o3Z6AB9XNRJAHAQ&amp;sig=AOD64_2eS5y8Jq61MdkyY5HkClq56EpdEw&amp;ved=0COYDENEMOGU&amp;adurl=http://www.maxiaids.com/store/prodList.asp%3FidCategory%3D80%26idstore%3D2%26category%3DAlarm_Clocks\" style=\"zoom:1\">Shake Awake <b>Alarm</b> Clocks - Never Sleep Late Again</a></h3><div class=\"kv\" style=\"margin-bottom:2px;zoom:1\"><cite>www.maxiaids.com/Shake-Awake-<b>Alarms</b></cite>\\xe2\\x80\\x8e<div class=\"am-dwn-arw-container\"><div onclick=\"google.sham(this);\" aria-expanded=\"false\" aria-haspopup=\"true\" tabindex=\"0\" data-ved=\"0COcDEOwdOGU\" style=\"display:inline\"><span class=\"am-dwn-arw\"></span></div><div class=\"am-dropdown-menu\" role=\"menu\" tabindex=\"-1\" style=\"display:none\"><ul><li class=\"am-dropdown-menu-item\" style=\"margin:0\"><a class=\"am-dropdown-menu-item-text\" href=\"/url?q=/settings/ads/preferences%3Fhl%3Den&amp;sa=U&amp;ei=HlroUsqQNYbnoASDu4CoDA&amp;ved=0COkDEIETOGU&amp;usg=AFQjCNFZDGon1gvA-sXM0d8vKlCPk1To5Q\" target=\"_blank\">Why this ad?</a></li></ul></div></div></div><div class=\"f\"><div style=\"float:left\">maxiaids.com is rated <span class=\"star sr\" style=\"display:-moz-inline-box;display:inline-block;float:none;vertical-align:top\"><span style=\"width:59px\">&nbsp;</span></span> (<a class=\"fl\" href=\"/shopping/seller?q=maxiaids.com&hl=en\">49 reviews</a>)</div></div><div style=\"clear:both\"></div><span class=\"ac\">Shake Awake &amp; <b>Vibrating Alarms</b> on Sale. </span></li><li class=\"tal\"><h3><a id=\"pa2\" href=\"/aclk?sa=l&amp;ai=CSuzRHlroUsX2NdKE-gPMx4C4C8GpifEDuf-NinGpnrcjCAMQAigCUPq2uboFYMmGo4fUo4AQkAEFoAG_vevkA8gBAaoEKE_Q3nkSG-aYknGZcKYyGi91AVMvwZcJlzItoidLY3Nhs-k4-51ekJWAB6nClBuQBwE&amp;sig=AOD64_2oWlFIASzemAq5jRohd2r4dXk6pg&amp;ved=0CO0DENEMOGU&amp;adurl=http://aahearinggroup.com%3Fag%3DHardofHearing%26adver%3D1%26adcat%3Ddx\" style=\"zoom:1\">Are You <b>Hard of Hearing</b>?</a></h3><div class=\"kv\" style=\"margin-bottom:2px;zoom:1\"><cite>www.aahearinggroup.com/Hearing</cite>\\xe2\\x80\\x8e<div class=\"am-dwn-arw-container\"><div onclick=\"google.sham(this);\" aria-expanded=\"false\" aria-haspopup=\"true\" tabindex=\"0\" data-ved=\"0CO4DEOwdOGU\" style=\"display:inline\"><span class=\"am-dwn-arw\"></span></div><div class=\"am-dropdown-menu\" role=\"menu\" tabindex=\"-1\" style=\"display:none\"><ul><li class=\"am-dropdown-menu-item\" style=\"margin:0\"><a class=\"am-dropdown-menu-item-text\" href=\"/url?q=/settings/ads/preferences%3Fhl%3Den&amp;sa=U&amp;ei=HlroUsqQNYbnoASDu4CoDA&amp;ved=0CPADEIETOGU&amp;usg=AFQjCNFZDGon1gvA-sXM0d8vKlCPk1To5Q\" target=\"_blank\">Why this ad?</a></li></ul></div></div></div><span class=\"ac\">Our Local Office is Hear to Serve the <b>Hard of Hearing</b> - Call Us Today</span></li></ol></div><p id=\"ofr\"><i>In order to show you the most relevant results, we have omitted some entries very similar to the 190 already displayed.<br>If you like, you can <a href=\"/search?q=%22hard+of+hearing%22+alarm+vibrating+site:youtube.com&amp;num=100&amp;prmd=ivns&amp;filter=0\">repeat the search with the omitted results included</a>.</i></p></div><div id=\"foot\"><table align=\"center\" border=\"0\" cellpadding=\"0\" cellspacing=\"0\" id=\"nav\"><tr valign=\"top\"><td align=\"left\" class=\"b\"><a href=\"/search?q=%22hard+of+hearing%22+alarm+vibrating+site:youtube.com&amp;num=100&amp;prmd=ivns&amp;ei=HlroUsqQNYbnoASDu4CoDA&amp;start=1&amp;sa=N\"><span class=\"csb\" style=\"background-position:0 0;float:right;width:53px\"></span><span style=\"display:block;margin-right:35px;clear:right\">Previous</span></a></td><td><a class=\"fl\" href=\"/search?q=%22hard+of+hearing%22+alarm+vibrating+site:youtube.com&amp;num=100&amp;prmd=ivns&amp;ei=HlroUsqQNYbnoASDu4CoDA&amp;start=0&amp;sa=N\"><span class=\"csb\" style=\"background-position:-74px 0;width:20px\"></span>1</a></td><td><a class=\"fl\" href=\"/search?q=%22hard+of+hearing%22+alarm+vibrating+site:youtube.com&amp;num=100&amp;prmd=ivns&amp;ei=HlroUsqQNYbnoASDu4CoDA&amp;start=100&amp;sa=N\"><span class=\"csb\" style=\"background-position:-74px 0;width:20px\"></span>2</a></td><td class=\"b\" style=\"text-align:left\"><span class=\"csb\" style=\"background-position:-96px 0;width:45px\"></span><b></b></td></tr></table><p class=\"flc\" id=\"bfl\" style=\"margin:19px 0 0;text-align:center\"><a href=\"/advanced_search?q=%22hard+of+hearing%22+alarm+vibrating+site:youtube.com&amp;num=100&amp;prmd=ivns\">Advanced search</a><a href=\"/support/websearch/bin/answer.py?answer=134479&amp;hl=en\">Search Help</a> <a href=\"/tools/feedback/survey/html?productId=196&amp;query=%22hard+of+hearing%22+alarm+vibrating+site:youtube.com&amp;hl=en\">Send feedback</a></p><div class=\"flc\" id=\"fll\" style=\"margin:19px auto 19px auto;text-align:center\"><a href=\"/\">Google&nbsp;Home</a> <a href=\"/intl/en/ads\">Advertising&nbsp;Programs</a> <a href=\"/services\">Business Solutions</a> <a href=\"/intl/en/policies/\">Privacy & Terms</a> <a href=\"/intl/en/about.html\">About Google</a></div></div></td><td valign=\"top\"></td></tr></table><script type=\"text/javascript\">(function(){var eventid=\\'HlroUsqQNYbnoASDu4CoDA\\';google.kEI = eventid;})();</script><script src=\"/xjs/_/js/k=xjs.hp.en_US.5ZctehivpOY.O/m=sb_he,pcc/rt=j/d=1/sv=1/rs=AItRSTOGNSbTlsLyZ8k4l-n8_VrlGzmUNA\"></script><script type=\"text/javascript\">google.ac&&google.ac.c({\"agen\":true,\"cgen\":true,\"client\":\"heirloom-serp\",\"dh\":true,\"ds\":\"\",\"eqch\":true,\"fl\":true,\"host\":\"google.com\",\"jsonp\":true,\"msgs\":{\"dym\":\"Did you mean:\",\"lcky\":\"I\\\\u0026#39;m Feeling Lucky\",\"lml\":\"Learn more\",\"oskt\":\"Input tools\",\"psrc\":\"This search was removed from your \\\\u003Ca href=\\\\\"/history\\\\\"\\\\u003EWeb History\\\\u003C/a\\\\u003E\",\"psrl\":\"Remove\",\"sbit\":\"Search by image\",\"srch\":\"Google Search\"},\"ovr\":{},\"pq\":\"\\\\\"hard of hearing\\\\\" alarm vibrating site:youtube.com\",\"qcpw\":false,\"scd\":10,\"sce\":5,\"stok\":\"BGkwouaMDtyrOyoeqFpK2RCmOYg\"})</script></body></html>'"
       ]
      }
     ],
     "prompt_number": 216
    },
    {
     "cell_type": "code",
     "collapsed": false,
     "input": [
      "parse.google.parse_tag_dict(BeautifulSoup(pfile.to.str(f)))"
     ],
     "language": "python",
     "metadata": {},
     "outputs": [
      {
       "output_type": "stream",
       "stream": "stderr",
       "text": [
        "/Users/thor/anaconda/lib/python2.7/site-packages/bs4/element.py:1413: UserWarning: has_key is deprecated. Use has_attr(\"_resultStats\") instead.\n",
        "  key))\n",
        "/Users/thor/anaconda/lib/python2.7/site-packages/bs4/element.py:1413: UserWarning: has_key is deprecated. Use has_attr(\"_top_ads_list\") instead.\n",
        "  key))\n",
        "/Users/thor/anaconda/lib/python2.7/site-packages/bs4/element.py:1413: UserWarning: has_key is deprecated. Use has_attr(\"_organic_results_list\") instead.\n",
        "  key))\n",
        "/Users/thor/anaconda/lib/python2.7/site-packages/bs4/element.py:1413: UserWarning: has_key is deprecated. Use has_attr(\"_rhs_ads_list\") instead.\n",
        "  key))\n",
        "/Users/thor/anaconda/lib/python2.7/site-packages/bs4/element.py:1413: UserWarning: has_key is deprecated. Use has_attr(\"_related_search\") instead.\n",
        "  key))\n"
       ]
      },
      {
       "metadata": {},
       "output_type": "pyout",
       "prompt_number": 218,
       "text": [
        "{'number_of_results': None,\n",
        " 'organic_results_list': [],\n",
        " 'related_search_list': [],\n",
        " 'rhs_ads_list': [],\n",
        " 'top_ads_list': []}"
       ]
      }
     ],
     "prompt_number": 218
    },
    {
     "cell_type": "code",
     "collapsed": false,
     "input": [],
     "language": "python",
     "metadata": {},
     "outputs": []
    },
    {
     "cell_type": "code",
     "collapsed": false,
     "input": [],
     "language": "python",
     "metadata": {},
     "outputs": []
    },
    {
     "cell_type": "code",
     "collapsed": false,
     "input": [],
     "language": "python",
     "metadata": {},
     "outputs": []
    },
    {
     "cell_type": "code",
     "collapsed": false,
     "input": [],
     "language": "python",
     "metadata": {},
     "outputs": []
    },
    {
     "cell_type": "markdown",
     "metadata": {},
     "source": [
      "### SCRAP"
     ]
    },
    {
     "cell_type": "code",
     "collapsed": false,
     "input": [
      "# creating a list of filenames\n",
      "t = pfile.to.str(list_of_gshop_text_filename).split('\\n')[0:-1]\n",
      "peep_in_list(t)"
     ],
     "language": "python",
     "metadata": {},
     "outputs": [
      {
       "output_type": "stream",
       "stream": "stdout",
       "text": [
        "The list has 498 elements\n",
        "Here are elements of indices 0, 1, -2, and -1:\n",
        "-----------------------------------------------\n",
        "http{\u00a7\u00a7www.google.com\u00a7search?start=1&num=100&tbm=shop&query=%22hard+of+hearing%22+%22baby+monitor%22+flash&tbs=p_ord%3Arv.html\n",
        "http{\u00a7\u00a7www.google.com\u00a7search?start=1&num=100&tbm=shop&query=%22hard+of+hearing%22+%22baby+monitor%22+flashing&tbs=p_ord%3Arv.html\n",
        "http{\u00a7\u00a7www.google.com\u00a7search?start=401&num=100&tbm=shop&query=deaf+clock+vibrate&tbs=p_ord%3Arv.html\n",
        "http{\u00a7\u00a7www.google.com\u00a7search?start=401&num=100&tbm=shop&query=deaf+clock+vibrating&tbs=p_ord%3Arv.html\n"
       ]
      }
     ],
     "prompt_number": 40
    },
    {
     "cell_type": "code",
     "collapsed": false,
     "input": [
      "li.g:nth-child(2)"
     ],
     "language": "python",
     "metadata": {},
     "outputs": []
    },
    {
     "cell_type": "code",
     "collapsed": false,
     "input": [
      "import soupselect"
     ],
     "language": "python",
     "metadata": {},
     "outputs": [],
     "prompt_number": 42
    },
    {
     "cell_type": "code",
     "collapsed": false,
     "input": [
      "f = 'http{\u00a7\u00a7www.google.com\u00a7search?start=1&num=100&tbm=shop&query=%22hard+of+hearing%22+%22baby+monitor%22+flashing&tbs=p_ord%3Arv.html'\n",
      "f = os.path.join(slurps_folder, f)\n",
      "html = pfile.to.str(f)"
     ],
     "language": "python",
     "metadata": {},
     "outputs": [],
     "prompt_number": 60
    },
    {
     "cell_type": "code",
     "collapsed": false,
     "input": [
      "b = BeautifulSoup(html)"
     ],
     "language": "python",
     "metadata": {},
     "outputs": []
    },
    {
     "cell_type": "code",
     "collapsed": false,
     "input": [
      "import lxml.html"
     ],
     "language": "python",
     "metadata": {},
     "outputs": [],
     "prompt_number": 58
    },
    {
     "cell_type": "code",
     "collapsed": false,
     "input": [
      "b = lxml.html.parse(f)"
     ],
     "language": "python",
     "metadata": {},
     "outputs": [],
     "prompt_number": 61
    },
    {
     "cell_type": "code",
     "collapsed": false,
     "input": [
      "t = b.xpath('//*[@id=\"rso\"]/li[5]')\n",
      "t"
     ],
     "language": "python",
     "metadata": {},
     "outputs": [
      {
       "metadata": {},
       "output_type": "pyout",
       "prompt_number": 63,
       "text": [
        "[<Element li at 0x108d6a0b0>]"
       ]
      }
     ],
     "prompt_number": 63
    },
    {
     "cell_type": "code",
     "collapsed": false,
     "input": [
      "tt = t[0]"
     ],
     "language": "python",
     "metadata": {},
     "outputs": [],
     "prompt_number": 66
    },
    {
     "cell_type": "code",
     "collapsed": false,
     "input": [
      "tt.text_content()"
     ],
     "language": "python",
     "metadata": {},
     "outputs": [
      {
       "metadata": {},
       "output_type": "pyout",
       "prompt_number": 70,
       "text": [
        "'Motorola MBP33 - Baby Monitoring System - Wireless - 2.4 GHz 1 ...$181.79 from 25+ stores   116 product reviews#3 in Baby MonitorsCMOSThe MBP33 features a 2.8\" diagonal color screen, zoom and infrared night vision, and a high sensitivity microphone.Save to ShortlistMore results for: hard of hearing baby monitor flashing'"
       ]
      }
     ],
     "prompt_number": 70
    },
    {
     "cell_type": "code",
     "collapsed": false,
     "input": [
      "tt.values"
     ],
     "language": "python",
     "metadata": {},
     "outputs": [
      {
       "ename": "TypeError",
       "evalue": "'HtmlElement' object is not callable",
       "output_type": "pyerr",
       "traceback": [
        "\u001b[0;31m---------------------------------------------------------------------------\u001b[0m\n\u001b[0;31mTypeError\u001b[0m                                 Traceback (most recent call last)",
        "\u001b[0;32m<ipython-input-74-822b7a923bee>\u001b[0m in \u001b[0;36m<module>\u001b[0;34m()\u001b[0m\n\u001b[0;32m----> 1\u001b[0;31m \u001b[0mtt\u001b[0m\u001b[0;34m.\u001b[0m\u001b[0mbody\u001b[0m\u001b[0;34m(\u001b[0m\u001b[0;34m)\u001b[0m\u001b[0;34m\u001b[0m\u001b[0m\n\u001b[0m",
        "\u001b[0;31mTypeError\u001b[0m: 'HtmlElement' object is not callable"
       ]
      },
      {
       "output_type": "stream",
       "stream": "stdout",
       "text": [
        "> \u001b[0;32m<ipython-input-74-822b7a923bee>\u001b[0m(1)\u001b[0;36m<module>\u001b[0;34m()\u001b[0m\n",
        "\u001b[0;32m----> 1 \u001b[0;31m\u001b[0mtt\u001b[0m\u001b[0;34m.\u001b[0m\u001b[0mbody\u001b[0m\u001b[0;34m(\u001b[0m\u001b[0;34m)\u001b[0m\u001b[0;34m\u001b[0m\u001b[0m\n",
        "\u001b[0m\n"
       ]
      },
      {
       "name": "stdout",
       "output_type": "stream",
       "stream": "stdout",
       "text": [
        "ipdb> exit\n"
       ]
      }
     ],
     "prompt_number": 74
    },
    {
     "cell_type": "code",
     "collapsed": false,
     "input": [
      "type(tt)"
     ],
     "language": "python",
     "metadata": {},
     "outputs": [
      {
       "metadata": {},
       "output_type": "pyout",
       "prompt_number": 76,
       "text": [
        "lxml.html.HtmlElement"
       ]
      }
     ],
     "prompt_number": 76
    },
    {
     "cell_type": "code",
     "collapsed": false,
     "input": [
      "tt.attrib"
     ],
     "language": "python",
     "metadata": {},
     "outputs": [
      {
       "metadata": {},
       "output_type": "pyout",
       "prompt_number": 80,
       "text": [
        "{'data-docid': '10566903342117405507', 'class': 'g psli'}"
       ]
      }
     ],
     "prompt_number": 80
    },
    {
     "cell_type": "code",
     "collapsed": false,
     "input": [
      "ttt = tt.body"
     ],
     "language": "python",
     "metadata": {},
     "outputs": [],
     "prompt_number": 84
    },
    {
     "cell_type": "code",
     "collapsed": false,
     "input": [
      "s = ttt.text_content()\n",
      "s[:10]"
     ],
     "language": "python",
     "metadata": {},
     "outputs": [
      {
       "metadata": {},
       "output_type": "pyout",
       "prompt_number": 88,
       "text": [
        "u'\\xa0.fade #ce'"
       ]
      }
     ],
     "prompt_number": 88
    },
    {
     "cell_type": "code",
     "collapsed": false,
     "input": [],
     "language": "python",
     "metadata": {},
     "outputs": []
    },
    {
     "cell_type": "code",
     "collapsed": false,
     "input": [
      "tt.getchildren()"
     ],
     "language": "python",
     "metadata": {},
     "outputs": [
      {
       "metadata": {},
       "output_type": "pyout",
       "prompt_number": 94,
       "text": [
        "[<!--m-->,\n",
        " <Element div at 0x108d6a2f0>,\n",
        " <Element a at 0x108d6a290>,\n",
        " <Element a at 0x108d6a230>,\n",
        " <Element div at 0x108d6a110>,\n",
        " <!--n-->]"
       ]
      }
     ],
     "prompt_number": 94
    },
    {
     "cell_type": "code",
     "collapsed": false,
     "input": [
      "tt."
     ],
     "language": "python",
     "metadata": {},
     "outputs": []
    },
    {
     "cell_type": "code",
     "collapsed": false,
     "input": [],
     "language": "python",
     "metadata": {},
     "outputs": []
    },
    {
     "cell_type": "code",
     "collapsed": false,
     "input": [
      "import pstr.to"
     ],
     "language": "python",
     "metadata": {},
     "outputs": [],
     "prompt_number": 89
    },
    {
     "cell_type": "code",
     "collapsed": false,
     "input": [
      "pstr.to.file(s, 'test.html')"
     ],
     "language": "python",
     "metadata": {},
     "outputs": [],
     "prompt_number": 90
    },
    {
     "cell_type": "code",
     "collapsed": false,
     "input": [
      "//*[@id=\"rso\"]/li[4]/div[1]/div[2]\n",
      "//*[@id=\"rso\"]/li[5]"
     ],
     "language": "python",
     "metadata": {},
     "outputs": []
    }
   ],
   "metadata": {}
  }
 ]
}