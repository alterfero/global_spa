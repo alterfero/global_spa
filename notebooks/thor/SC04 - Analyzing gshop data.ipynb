{
 "metadata": {
  "name": ""
 },
 "nbformat": 3,
 "nbformat_minor": 0,
 "worksheets": [
  {
   "cells": [
    {
     "cell_type": "code",
     "collapsed": false,
     "input": [
      "%load_ext autoreload\n",
      "%autoreload 2"
     ],
     "language": "python",
     "metadata": {},
     "outputs": [
      {
       "output_type": "stream",
       "stream": "stdout",
       "text": [
        "The autoreload extension is already loaded. To reload it, use:\n",
        "  %reload_ext autoreload\n"
       ]
      }
     ],
     "prompt_number": 208
    },
    {
     "cell_type": "code",
     "collapsed": false,
     "input": [
      "import os\n",
      "# import pfile.to\n",
      "# import pstr.to\n",
      "from bs4 import BeautifulSoup\n",
      "import requests\n",
      "# import pstr\n",
      "import re\n",
      "# import pickle\n",
      "# import urllib2\n",
      "# from selenium import webdriver\n",
      "# from selenium.webdriver.common.keys import Keys\n",
      "import urlparse\n",
      "import urllib\n",
      "from datetime import datetime\n",
      "import random\n",
      "\n",
      "import pfile.to\n",
      "import pstr.to\n",
      "import parse.util\n",
      "import pstr.trans\n",
      "import pickle\n",
      "\n",
      "import pandas as pd\n",
      "import numpy as np\n",
      "\n",
      "import pfile.accessor\n",
      "\n",
      "import pprint\n",
      "ppr = pprint.PrettyPrinter(indent=4)"
     ],
     "language": "python",
     "metadata": {},
     "outputs": [],
     "prompt_number": 209
    },
    {
     "cell_type": "code",
     "collapsed": false,
     "input": [
      "%pdb"
     ],
     "language": "python",
     "metadata": {},
     "outputs": [
      {
       "output_type": "stream",
       "stream": "stdout",
       "text": [
        "Automatic pdb calling has been turned ON\n"
       ]
      }
     ],
     "prompt_number": 210
    },
    {
     "cell_type": "markdown",
     "metadata": {},
     "source": [
      "_______"
     ]
    },
    {
     "cell_type": "code",
     "collapsed": false,
     "input": [
      "##########\n",
      "# SETTINGS\n",
      "root_folder = os.path.join(os.environ['GD_FOLDER'], 'Shared/ms_otosense')\n",
      "parse_dicts_folder = os.path.join(root_folder, 'parse_dicts')\n",
      "\n",
      "facc = pfile.accessor.for_local(root_folder)\n",
      "dfacc = pfile.accessor.for_local(parse_dicts_folder, extension='dict_list', force_extension=True)\n",
      "\n",
      "list_of_gshop_text_filename = os.path.join(root_folder, 'list_of_gshop_files.txt')"
     ],
     "language": "python",
     "metadata": {},
     "outputs": [],
     "prompt_number": 211
    },
    {
     "cell_type": "code",
     "collapsed": false,
     "input": [
      "def get_subdict(d, list_of_keys):\n",
      "    '''\n",
      "    :param d: dict\n",
      "    :param subset_of_keys: list of keys\n",
      "    :return: the subset of key:value pairs of d where key is in list_of_keys\n",
      "    '''\n",
      "    return dict([(i, d[i]) for i in list_of_keys if i in d])"
     ],
     "language": "python",
     "metadata": {},
     "outputs": [],
     "prompt_number": 212
    },
    {
     "cell_type": "code",
     "collapsed": false,
     "input": [
      "# dict_list = pfile.name.files_of(parse_dicts_folder)\n",
      "dict_list = os.listdir(parse_dicts_folder)[:-1]\n",
      "len(dict_list)"
     ],
     "language": "python",
     "metadata": {},
     "outputs": [
      {
       "metadata": {},
       "output_type": "pyout",
       "prompt_number": 213,
       "text": [
        "498"
       ]
      }
     ],
     "prompt_number": 213
    },
    {
     "cell_type": "code",
     "collapsed": false,
     "input": [
      "dict_list[-1]"
     ],
     "language": "python",
     "metadata": {},
     "outputs": [
      {
       "metadata": {},
       "output_type": "pyout",
       "prompt_number": 201,
       "text": [
        "'http{\\xc2\\xa7\\xc2\\xa7www.google.com\\xc2\\xa7search?start=401&num=100&tbm=shop&query=deaf+clock+vibrating&tbs=p_ord%3Arv.dict_list'"
       ]
      }
     ],
     "prompt_number": 201
    },
    {
     "cell_type": "code",
     "collapsed": false,
     "input": [
      "\n",
      "def mk_item_info_dict(parse_dict_item):\n",
      "    info_dict = dict()\n",
      "    if 'desc' in parse_dict_item.keys():\n",
      "        info_dict['desc'] = parse_dict_item['desc']\n",
      "#     info_dict['href'] = parse_dict_item['href']\n",
      "    if 'img_src' in parse_dict_item.keys():\n",
      "        info_dict['img_src'] = parse_dict_item['img_src']\n",
      "    if 'href_text' in parse_dict_item.keys():\n",
      "        info_dict['title'] = parse_dict_item['href_text']\n",
      "    if 'psliprice_divs_text' in parse_dict_item.keys():\n",
      "        t = parse_dict_item['psliprice_divs_text']\n",
      "        if len(t) >= 2:\n",
      "            info_dict['price_str'] = t[0]\n",
      "            info_dict['provider'] = t[1]\n",
      "    return info_dict\n",
      "\n",
      "def mk_item_info_df_from_parse_dict(parse_dict):\n",
      "    return pd.DataFrame([mk_item_info_dict(dd) for dd in parse_dict])\n",
      "\n",
      "def mk_item_info_df_from_multiple_parse_dicts(parse_dict_enum):\n",
      "    df = pd.DataFrame()\n",
      "    for parse_dict in parse_dict_enum:\n",
      "        df = pd.concat([df, mk_item_info_df_from_parse_dict(parse_dict)])\n",
      "    return df.reset_index(drop=True)\n",
      "\n",
      "class DictLoader:\n",
      "    def __init__(self, max_idx=None):\n",
      "        self.dict_list = os.listdir(parse_dicts_folder)[:-1]\n",
      "        self.max_idx = max_idx or (len(self.dict_list)-1)\n",
      "        self.idx = -1\n",
      "\n",
      "    def __iter__(self):\n",
      "        return self\n",
      "\n",
      "    def next(self):\n",
      "        self.idx += 1\n",
      "        if self.idx > self.max_idx:\n",
      "            raise StopIteration\n",
      "        else:\n",
      "            return dfacc.load(self.dict_list[self.idx])"
     ],
     "language": "python",
     "metadata": {},
     "outputs": [],
     "prompt_number": 214
    },
    {
     "cell_type": "code",
     "collapsed": false,
     "input": [
      "df = mk_item_info_df_from_multiple_parse_dicts(DictLoader())"
     ],
     "language": "python",
     "metadata": {},
     "outputs": [],
     "prompt_number": 215
    },
    {
     "cell_type": "code",
     "collapsed": false,
     "input": [
      "len(df)"
     ],
     "language": "python",
     "metadata": {},
     "outputs": [
      {
       "metadata": {},
       "output_type": "pyout",
       "prompt_number": 216,
       "text": [
        "1113"
       ]
      }
     ],
     "prompt_number": 216
    },
    {
     "cell_type": "code",
     "collapsed": false,
     "input": [
      "df.head()"
     ],
     "language": "python",
     "metadata": {},
     "outputs": [
      {
       "html": [
        "<div style=\"max-height:1000px;max-width:1500px;overflow:auto;\">\n",
        "<table border=\"1\" class=\"dataframe\">\n",
        "  <thead>\n",
        "    <tr style=\"text-align: right;\">\n",
        "      <th></th>\n",
        "      <th>desc</th>\n",
        "      <th>img_src</th>\n",
        "      <th>price_str</th>\n",
        "      <th>provider</th>\n",
        "      <th>title</th>\n",
        "    </tr>\n",
        "  </thead>\n",
        "  <tbody>\n",
        "    <tr>\n",
        "      <th>0</th>\n",
        "      <td> Bundle including the CLARITY-52510 AL10 AlertM...</td>\n",
        "      <td> http://t1.gstatic.com/shopping?q=tbn:ANd9GcQWv...</td>\n",
        "      <td> $178.00</td>\n",
        "      <td>                    eBay</td>\n",
        "      <td> Clarity-52510120 Al10 Alertmaster Alert Master...</td>\n",
        "    </tr>\n",
        "    <tr>\n",
        "      <th>1</th>\n",
        "      <td> MSRP: $179.95 Clarity AlertMaster visual alert...</td>\n",
        "      <td> http://t0.gstatic.com/shopping?q=tbn:ANd9GcTIJ...</td>\n",
        "      <td> $165.00</td>\n",
        "      <td>                    eBay</td>\n",
        "      <td> Clarity-52510-100 Al10 Alertmaster W/ Door Kno...</td>\n",
        "    </tr>\n",
        "    <tr>\n",
        "      <th>2</th>\n",
        "      <td> Sleep peacefully while feeling confident that ...</td>\n",
        "      <td> http://t1.gstatic.com/shopping?q=tbn:ANd9GcQlF...</td>\n",
        "      <td> $248.99</td>\n",
        "      <td> LibertyHealthSupply.com</td>\n",
        "      <td>                                        Safe Awake</td>\n",
        "    </tr>\n",
        "    <tr>\n",
        "      <th>3</th>\n",
        "      <td> Smoke alarm with silence and latching, screene...</td>\n",
        "      <td> http://t3.gstatic.com/shopping?q=tbn:ANd9GcQ4U...</td>\n",
        "      <td>      $7</td>\n",
        "      <td>         from 25+ stores</td>\n",
        "      <td>       First Alert 9120-12st Smoke Alarm, 120 Volt</td>\n",
        "    </tr>\n",
        "    <tr>\n",
        "      <th>4</th>\n",
        "      <td> A 120V AC Wire In Alarm with Battery Backup pr...</td>\n",
        "      <td> http://t1.gstatic.com/shopping?q=tbn:ANd9GcQeY...</td>\n",
        "      <td>  $29.95</td>\n",
        "      <td>               Maxi-Aids</td>\n",
        "      <td>             Kidde Smoke Alarm with Battery Backup</td>\n",
        "    </tr>\n",
        "  </tbody>\n",
        "</table>\n",
        "<p>5 rows \u00d7 5 columns</p>\n",
        "</div>"
       ],
       "metadata": {},
       "output_type": "pyout",
       "prompt_number": 217,
       "text": [
        "                                                desc  \\\n",
        "0  Bundle including the CLARITY-52510 AL10 AlertM...   \n",
        "1  MSRP: $179.95 Clarity AlertMaster visual alert...   \n",
        "2  Sleep peacefully while feeling confident that ...   \n",
        "3  Smoke alarm with silence and latching, screene...   \n",
        "4  A 120V AC Wire In Alarm with Battery Backup pr...   \n",
        "\n",
        "                                             img_src price_str  \\\n",
        "0  http://t1.gstatic.com/shopping?q=tbn:ANd9GcQWv...   $178.00   \n",
        "1  http://t0.gstatic.com/shopping?q=tbn:ANd9GcTIJ...   $165.00   \n",
        "2  http://t1.gstatic.com/shopping?q=tbn:ANd9GcQlF...   $248.99   \n",
        "3  http://t3.gstatic.com/shopping?q=tbn:ANd9GcQ4U...        $7   \n",
        "4  http://t1.gstatic.com/shopping?q=tbn:ANd9GcQeY...    $29.95   \n",
        "\n",
        "                  provider                                              title  \n",
        "0                     eBay  Clarity-52510120 Al10 Alertmaster Alert Master...  \n",
        "1                     eBay  Clarity-52510-100 Al10 Alertmaster W/ Door Kno...  \n",
        "2  LibertyHealthSupply.com                                         Safe Awake  \n",
        "3          from 25+ stores        First Alert 9120-12st Smoke Alarm, 120 Volt  \n",
        "4                Maxi-Aids              Kidde Smoke Alarm with Battery Backup  \n",
        "\n",
        "[5 rows x 5 columns]"
       ]
      }
     ],
     "prompt_number": 217
    },
    {
     "cell_type": "code",
     "collapsed": false,
     "input": [
      "print len(df['desc'].unique())\n",
      "print len(df['img_src'].unique())\n",
      "print len(df['price_str'].unique())\n",
      "print len(df['provider'].unique())\n",
      "print len(df['title'].unique())"
     ],
     "language": "python",
     "metadata": {},
     "outputs": [
      {
       "output_type": "stream",
       "stream": "stdout",
       "text": [
        "442\n",
        "465\n",
        "359\n",
        "91"
       ]
      },
      {
       "output_type": "stream",
       "stream": "stdout",
       "text": [
        "\n",
        "469\n"
       ]
      }
     ],
     "prompt_number": 218
    },
    {
     "cell_type": "code",
     "collapsed": false,
     "input": [
      "print len(df)\n",
      "print len(df.drop_duplicates())\n",
      "print len(df)-len(df.drop_duplicates())"
     ],
     "language": "python",
     "metadata": {},
     "outputs": [
      {
       "output_type": "stream",
       "stream": "stdout",
       "text": [
        "1113\n",
        "532\n",
        "581"
       ]
      },
      {
       "output_type": "stream",
       "stream": "stdout",
       "text": [
        "\n"
       ]
      }
     ],
     "prompt_number": 219
    },
    {
     "cell_type": "code",
     "collapsed": false,
     "input": [
      "d = df[['provider']].groupby('provider').count()\n",
      "d = d.sort"
     ],
     "language": "python",
     "metadata": {},
     "outputs": [],
     "prompt_number": 220
    },
    {
     "cell_type": "code",
     "collapsed": false,
     "input": [
      "import daf.gr\n",
      "d = daf.gr.group_and_count(df[['provider']])\n",
      "d = d.sort(columns=['count'], ascending=False)"
     ],
     "language": "python",
     "metadata": {},
     "outputs": [],
     "prompt_number": 221
    },
    {
     "cell_type": "code",
     "collapsed": false,
     "input": [
      "d.head()"
     ],
     "language": "python",
     "metadata": {},
     "outputs": [
      {
       "html": [
        "<div style=\"max-height:1000px;max-width:1500px;overflow:auto;\">\n",
        "<table border=\"1\" class=\"dataframe\">\n",
        "  <thead>\n",
        "    <tr style=\"text-align: right;\">\n",
        "      <th></th>\n",
        "      <th>provider</th>\n",
        "      <th>count</th>\n",
        "    </tr>\n",
        "  </thead>\n",
        "  <tbody>\n",
        "    <tr>\n",
        "      <th>81</th>\n",
        "      <td>   from 2 stores</td>\n",
        "      <td> 158</td>\n",
        "    </tr>\n",
        "    <tr>\n",
        "      <th>36</th>\n",
        "      <td>       Maxi-Aids</td>\n",
        "      <td> 110</td>\n",
        "    </tr>\n",
        "    <tr>\n",
        "      <th>83</th>\n",
        "      <td> from 25+ stores</td>\n",
        "      <td> 104</td>\n",
        "    </tr>\n",
        "    <tr>\n",
        "      <th>87</th>\n",
        "      <td> from 50+ stores</td>\n",
        "      <td>  71</td>\n",
        "    </tr>\n",
        "    <tr>\n",
        "      <th>86</th>\n",
        "      <td>  from 5+ stores</td>\n",
        "      <td>  55</td>\n",
        "    </tr>\n",
        "  </tbody>\n",
        "</table>\n",
        "<p>5 rows \u00d7 2 columns</p>\n",
        "</div>"
       ],
       "metadata": {},
       "output_type": "pyout",
       "prompt_number": 223,
       "text": [
        "           provider  count\n",
        "81    from 2 stores    158\n",
        "36        Maxi-Aids    110\n",
        "83  from 25+ stores    104\n",
        "87  from 50+ stores     71\n",
        "86   from 5+ stores     55\n",
        "\n",
        "[5 rows x 2 columns]"
       ]
      }
     ],
     "prompt_number": 223
    },
    {
     "cell_type": "code",
     "collapsed": false,
     "input": [
      "t = df.sort(columns=['title', 'price_str'], ascending=[True, False])\n",
      "t.head()"
     ],
     "language": "python",
     "metadata": {},
     "outputs": [
      {
       "html": [
        "<div style=\"max-height:1000px;max-width:1500px;overflow:auto;\">\n",
        "<table border=\"1\" class=\"dataframe\">\n",
        "  <thead>\n",
        "    <tr style=\"text-align: right;\">\n",
        "      <th></th>\n",
        "      <th>desc</th>\n",
        "      <th>img_src</th>\n",
        "      <th>price_str</th>\n",
        "      <th>provider</th>\n",
        "      <th>title</th>\n",
        "    </tr>\n",
        "  </thead>\n",
        "  <tbody>\n",
        "    <tr>\n",
        "      <th>806</th>\n",
        "      <td> NaN</td>\n",
        "      <td> http://t1.gstatic.com/shopping?q=tbn:ANd9GcQ34...</td>\n",
        "      <td>  $99.95</td>\n",
        "      <td>    Sears - MaxiAids.com</td>\n",
        "      <td> </td>\n",
        "    </tr>\n",
        "    <tr>\n",
        "      <th>543</th>\n",
        "      <td> NaN</td>\n",
        "      <td> http://t0.gstatic.com/shopping?q=tbn:ANd9GcQru...</td>\n",
        "      <td>  $54.99</td>\n",
        "      <td> LibertyHealthSupply.com</td>\n",
        "      <td> </td>\n",
        "    </tr>\n",
        "    <tr>\n",
        "      <th>513</th>\n",
        "      <td> NaN</td>\n",
        "      <td> http://t2.gstatic.com/shopping?q=tbn:ANd9GcSly...</td>\n",
        "      <td> $468.99</td>\n",
        "      <td>                   CHIEF</td>\n",
        "      <td> </td>\n",
        "    </tr>\n",
        "    <tr>\n",
        "      <th>746</th>\n",
        "      <td> NaN</td>\n",
        "      <td> http://t2.gstatic.com/shopping?q=tbn:ANd9GcRKA...</td>\n",
        "      <td>  $41.00</td>\n",
        "      <td>  Newegg.com - IPC Store</td>\n",
        "      <td> </td>\n",
        "    </tr>\n",
        "    <tr>\n",
        "      <th>231</th>\n",
        "      <td> NaN</td>\n",
        "      <td> http://t3.gstatic.com/shopping?q=tbn:ANd9GcROR...</td>\n",
        "      <td>    $152</td>\n",
        "      <td>           from 2 stores</td>\n",
        "      <td> </td>\n",
        "    </tr>\n",
        "  </tbody>\n",
        "</table>\n",
        "<p>5 rows \u00d7 5 columns</p>\n",
        "</div>"
       ],
       "metadata": {},
       "output_type": "pyout",
       "prompt_number": 225,
       "text": [
        "    desc                                            img_src price_str  \\\n",
        "806  NaN  http://t1.gstatic.com/shopping?q=tbn:ANd9GcQ34...    $99.95   \n",
        "543  NaN  http://t0.gstatic.com/shopping?q=tbn:ANd9GcQru...    $54.99   \n",
        "513  NaN  http://t2.gstatic.com/shopping?q=tbn:ANd9GcSly...   $468.99   \n",
        "746  NaN  http://t2.gstatic.com/shopping?q=tbn:ANd9GcRKA...    $41.00   \n",
        "231  NaN  http://t3.gstatic.com/shopping?q=tbn:ANd9GcROR...      $152   \n",
        "\n",
        "                    provider title  \n",
        "806     Sears - MaxiAids.com        \n",
        "543  LibertyHealthSupply.com        \n",
        "513                    CHIEF        \n",
        "746   Newegg.com - IPC Store        \n",
        "231            from 2 stores        \n",
        "\n",
        "[5 rows x 5 columns]"
       ]
      }
     ],
     "prompt_number": 225
    },
    {
     "cell_type": "code",
     "collapsed": false,
     "input": [
      "t['title'].iloc[0]"
     ],
     "language": "python",
     "metadata": {},
     "outputs": [
      {
       "metadata": {},
       "output_type": "pyout",
       "prompt_number": 227,
       "text": [
        "u''"
       ]
      }
     ],
     "prompt_number": 227
    },
    {
     "cell_type": "code",
     "collapsed": false,
     "input": [
      "print len(t)\n",
      "dd = t[t['title']!='']\n",
      "print len(dd)\n",
      "dd.head()"
     ],
     "language": "python",
     "metadata": {},
     "outputs": [
      {
       "output_type": "stream",
       "stream": "stdout",
       "text": [
        "1113\n",
        "1107\n"
       ]
      },
      {
       "html": [
        "<div style=\"max-height:1000px;max-width:1500px;overflow:auto;\">\n",
        "<table border=\"1\" class=\"dataframe\">\n",
        "  <thead>\n",
        "    <tr style=\"text-align: right;\">\n",
        "      <th></th>\n",
        "      <th>desc</th>\n",
        "      <th>img_src</th>\n",
        "      <th>price_str</th>\n",
        "      <th>provider</th>\n",
        "      <th>title</th>\n",
        "    </tr>\n",
        "  </thead>\n",
        "  <tbody>\n",
        "    <tr>\n",
        "      <th>297</th>\n",
        "      <td> Bellman Classic Vibrating Alarm Clock includes...</td>\n",
        "      <td> http://t3.gstatic.com/shopping?q=tbn:ANd9GcTuI...</td>\n",
        "      <td> $74.99</td>\n",
        "      <td> Buy Amplified Phones</td>\n",
        "      <td> \"Bellman Classic Vibrating Alarm Clock,4.3\"\"H ...</td>\n",
        "    </tr>\n",
        "    <tr>\n",
        "      <th>300</th>\n",
        "      <td> \"Bellman Pro Vibrating Alarm Clock with LED Fl...</td>\n",
        "      <td> http://t1.gstatic.com/shopping?q=tbn:ANd9GcRjD...</td>\n",
        "      <td> $98.99</td>\n",
        "      <td> Buy Amplified Phones</td>\n",
        "      <td> \"Bellman Pro Vibrating Alarm Clock with LED Fl...</td>\n",
        "    </tr>\n",
        "    <tr>\n",
        "      <th>313</th>\n",
        "      <td> \"Bellman Pro Vibrating Alarm Clock with LED Fl...</td>\n",
        "      <td> http://t1.gstatic.com/shopping?q=tbn:ANd9GcRjD...</td>\n",
        "      <td> $98.99</td>\n",
        "      <td> Buy Amplified Phones</td>\n",
        "      <td> \"Bellman Pro Vibrating Alarm Clock with LED Fl...</td>\n",
        "    </tr>\n",
        "    <tr>\n",
        "      <th>347</th>\n",
        "      <td> \"Bellman Pro Vibrating Alarm Clock with LED Fl...</td>\n",
        "      <td> http://t1.gstatic.com/shopping?q=tbn:ANd9GcRjD...</td>\n",
        "      <td> $98.99</td>\n",
        "      <td> Buy Amplified Phones</td>\n",
        "      <td> \"Bellman Pro Vibrating Alarm Clock with LED Fl...</td>\n",
        "    </tr>\n",
        "    <tr>\n",
        "      <th>622</th>\n",
        "      <td> \"Bellman Pro Vibrating Alarm Clock with LED Fl...</td>\n",
        "      <td> http://t1.gstatic.com/shopping?q=tbn:ANd9GcRjD...</td>\n",
        "      <td> $98.99</td>\n",
        "      <td> Buy Amplified Phones</td>\n",
        "      <td> \"Bellman Pro Vibrating Alarm Clock with LED Fl...</td>\n",
        "    </tr>\n",
        "  </tbody>\n",
        "</table>\n",
        "<p>5 rows \u00d7 5 columns</p>\n",
        "</div>"
       ],
       "metadata": {},
       "output_type": "pyout",
       "prompt_number": 239,
       "text": [
        "                                                  desc  \\\n",
        "297  Bellman Classic Vibrating Alarm Clock includes...   \n",
        "300  \"Bellman Pro Vibrating Alarm Clock with LED Fl...   \n",
        "313  \"Bellman Pro Vibrating Alarm Clock with LED Fl...   \n",
        "347  \"Bellman Pro Vibrating Alarm Clock with LED Fl...   \n",
        "622  \"Bellman Pro Vibrating Alarm Clock with LED Fl...   \n",
        "\n",
        "                                               img_src price_str  \\\n",
        "297  http://t3.gstatic.com/shopping?q=tbn:ANd9GcTuI...    $74.99   \n",
        "300  http://t1.gstatic.com/shopping?q=tbn:ANd9GcRjD...    $98.99   \n",
        "313  http://t1.gstatic.com/shopping?q=tbn:ANd9GcRjD...    $98.99   \n",
        "347  http://t1.gstatic.com/shopping?q=tbn:ANd9GcRjD...    $98.99   \n",
        "622  http://t1.gstatic.com/shopping?q=tbn:ANd9GcRjD...    $98.99   \n",
        "\n",
        "                 provider                                              title  \n",
        "297  Buy Amplified Phones  \"Bellman Classic Vibrating Alarm Clock,4.3\"\"H ...  \n",
        "300  Buy Amplified Phones  \"Bellman Pro Vibrating Alarm Clock with LED Fl...  \n",
        "313  Buy Amplified Phones  \"Bellman Pro Vibrating Alarm Clock with LED Fl...  \n",
        "347  Buy Amplified Phones  \"Bellman Pro Vibrating Alarm Clock with LED Fl...  \n",
        "622  Buy Amplified Phones  \"Bellman Pro Vibrating Alarm Clock with LED Fl...  \n",
        "\n",
        "[5 rows x 5 columns]"
       ]
      }
     ],
     "prompt_number": 239
    },
    {
     "cell_type": "code",
     "collapsed": false,
     "input": [
      "t.tail(3)"
     ],
     "language": "python",
     "metadata": {},
     "outputs": [
      {
       "html": [
        "<div style=\"max-height:1000px;max-width:1500px;overflow:auto;\">\n",
        "<table border=\"1\" class=\"dataframe\">\n",
        "  <thead>\n",
        "    <tr style=\"text-align: right;\">\n",
        "      <th></th>\n",
        "      <th>desc</th>\n",
        "      <th>img_src</th>\n",
        "      <th>price_str</th>\n",
        "      <th>provider</th>\n",
        "      <th>title</th>\n",
        "    </tr>\n",
        "  </thead>\n",
        "  <tbody>\n",
        "    <tr>\n",
        "      <th>563</th>\n",
        "      <td> Smoke Alarm, Detection Method Ionization, No I...</td>\n",
        "      <td> http://t0.gstatic.com/shopping?q=tbn:ANd9GcQZK...</td>\n",
        "      <td>   $9.40</td>\n",
        "      <td> ZORO Tools</td>\n",
        "      <td>             kidde 0914e smoke alarm,ionization,9v</td>\n",
        "    </tr>\n",
        "    <tr>\n",
        "      <th>564</th>\n",
        "      <td> Smoke Alarm, Detection Method Ionization, No I...</td>\n",
        "      <td> http://t2.gstatic.com/shopping?q=tbn:ANd9GcTI5...</td>\n",
        "      <td>   $7.99</td>\n",
        "      <td> ZORO Tools</td>\n",
        "      <td>             kidde 0916e smoke alarm,ionization,9v</td>\n",
        "    </tr>\n",
        "    <tr>\n",
        "      <th>228</th>\n",
        "      <td> USI-2413 USI Hearing Impaired Smoke and Fire A...</td>\n",
        "      <td> http://t3.gstatic.com/shopping?q=tbn:ANd9GcRi2...</td>\n",
        "      <td> $114.54</td>\n",
        "      <td> homegarden</td>\n",
        "      <td> universal security instruments usi-2413 smoke ...</td>\n",
        "    </tr>\n",
        "  </tbody>\n",
        "</table>\n",
        "<p>3 rows \u00d7 5 columns</p>\n",
        "</div>"
       ],
       "metadata": {},
       "output_type": "pyout",
       "prompt_number": 229,
       "text": [
        "                                                  desc  \\\n",
        "563  Smoke Alarm, Detection Method Ionization, No I...   \n",
        "564  Smoke Alarm, Detection Method Ionization, No I...   \n",
        "228  USI-2413 USI Hearing Impaired Smoke and Fire A...   \n",
        "\n",
        "                                               img_src price_str    provider  \\\n",
        "563  http://t0.gstatic.com/shopping?q=tbn:ANd9GcQZK...     $9.40  ZORO Tools   \n",
        "564  http://t2.gstatic.com/shopping?q=tbn:ANd9GcTI5...     $7.99  ZORO Tools   \n",
        "228  http://t3.gstatic.com/shopping?q=tbn:ANd9GcRi2...   $114.54  homegarden   \n",
        "\n",
        "                                                 title  \n",
        "563              kidde 0914e smoke alarm,ionization,9v  \n",
        "564              kidde 0916e smoke alarm,ionization,9v  \n",
        "228  universal security instruments usi-2413 smoke ...  \n",
        "\n",
        "[3 rows x 5 columns]"
       ]
      }
     ],
     "prompt_number": 229
    },
    {
     "cell_type": "code",
     "collapsed": false,
     "input": [
      "exp = re.compile('from \\d+\\+ stores')\n",
      "m = exp.match('from 25+ stores')\n",
      "if m:\n",
      "    print m.pos\n",
      "else:\n",
      "    print 'nope'"
     ],
     "language": "python",
     "metadata": {},
     "outputs": [
      {
       "output_type": "stream",
       "stream": "stdout",
       "text": [
        "nope\n"
       ]
      }
     ],
     "prompt_number": 234
    },
    {
     "cell_type": "code",
     "collapsed": false,
     "input": [
      "print len(t)\n",
      "dd = df[df['provider']!='']\n",
      "dd = dd.dropna(subset=['provider'])\n",
      "print len(dd)"
     ],
     "language": "python",
     "metadata": {},
     "outputs": [
      {
       "output_type": "stream",
       "stream": "stdout",
       "text": [
        "1113\n",
        "1095"
       ]
      },
      {
       "output_type": "stream",
       "stream": "stdout",
       "text": [
        "\n"
       ]
      }
     ],
     "prompt_number": 272
    },
    {
     "cell_type": "code",
     "collapsed": false,
     "input": [
      "lidx = [x==None for x in map(exp.match, list(dd['provider']))]"
     ],
     "language": "python",
     "metadata": {},
     "outputs": [],
     "prompt_number": 278
    },
    {
     "cell_type": "code",
     "collapsed": false,
     "input": [
      "ddd = dd[lidx]\n",
      "ddd.head()"
     ],
     "language": "python",
     "metadata": {},
     "outputs": [
      {
       "html": [
        "<div style=\"max-height:1000px;max-width:1500px;overflow:auto;\">\n",
        "<table border=\"1\" class=\"dataframe\">\n",
        "  <thead>\n",
        "    <tr style=\"text-align: right;\">\n",
        "      <th></th>\n",
        "      <th>desc</th>\n",
        "      <th>img_src</th>\n",
        "      <th>price_str</th>\n",
        "      <th>provider</th>\n",
        "      <th>title</th>\n",
        "    </tr>\n",
        "  </thead>\n",
        "  <tbody>\n",
        "    <tr>\n",
        "      <th>0</th>\n",
        "      <td> Bundle including the CLARITY-52510 AL10 AlertM...</td>\n",
        "      <td> http://t1.gstatic.com/shopping?q=tbn:ANd9GcQWv...</td>\n",
        "      <td> $178.00</td>\n",
        "      <td>                    eBay</td>\n",
        "      <td> Clarity-52510120 Al10 Alertmaster Alert Master...</td>\n",
        "    </tr>\n",
        "    <tr>\n",
        "      <th>1</th>\n",
        "      <td> MSRP: $179.95 Clarity AlertMaster visual alert...</td>\n",
        "      <td> http://t0.gstatic.com/shopping?q=tbn:ANd9GcTIJ...</td>\n",
        "      <td> $165.00</td>\n",
        "      <td>                    eBay</td>\n",
        "      <td> Clarity-52510-100 Al10 Alertmaster W/ Door Kno...</td>\n",
        "    </tr>\n",
        "    <tr>\n",
        "      <th>2</th>\n",
        "      <td> Sleep peacefully while feeling confident that ...</td>\n",
        "      <td> http://t1.gstatic.com/shopping?q=tbn:ANd9GcQlF...</td>\n",
        "      <td> $248.99</td>\n",
        "      <td> LibertyHealthSupply.com</td>\n",
        "      <td>                                        Safe Awake</td>\n",
        "    </tr>\n",
        "    <tr>\n",
        "      <th>4</th>\n",
        "      <td> A 120V AC Wire In Alarm with Battery Backup pr...</td>\n",
        "      <td> http://t1.gstatic.com/shopping?q=tbn:ANd9GcQeY...</td>\n",
        "      <td>  $29.95</td>\n",
        "      <td>               Maxi-Aids</td>\n",
        "      <td>             Kidde Smoke Alarm with Battery Backup</td>\n",
        "    </tr>\n",
        "    <tr>\n",
        "      <th>5</th>\n",
        "      <td> 120V AC Wire In Combination Carbon Monoxide an...</td>\n",
        "      <td> http://t3.gstatic.com/shopping?q=tbn:ANd9GcTrf...</td>\n",
        "      <td> $179.95</td>\n",
        "      <td>               Maxi-Aids</td>\n",
        "      <td> Kidde Combo Carbon Monoxide and Smoke Alarm wi...</td>\n",
        "    </tr>\n",
        "  </tbody>\n",
        "</table>\n",
        "<p>5 rows \u00d7 5 columns</p>\n",
        "</div>"
       ],
       "metadata": {},
       "output_type": "pyout",
       "prompt_number": 280,
       "text": [
        "                                                desc  \\\n",
        "0  Bundle including the CLARITY-52510 AL10 AlertM...   \n",
        "1  MSRP: $179.95 Clarity AlertMaster visual alert...   \n",
        "2  Sleep peacefully while feeling confident that ...   \n",
        "4  A 120V AC Wire In Alarm with Battery Backup pr...   \n",
        "5  120V AC Wire In Combination Carbon Monoxide an...   \n",
        "\n",
        "                                             img_src price_str  \\\n",
        "0  http://t1.gstatic.com/shopping?q=tbn:ANd9GcQWv...   $178.00   \n",
        "1  http://t0.gstatic.com/shopping?q=tbn:ANd9GcTIJ...   $165.00   \n",
        "2  http://t1.gstatic.com/shopping?q=tbn:ANd9GcQlF...   $248.99   \n",
        "4  http://t1.gstatic.com/shopping?q=tbn:ANd9GcQeY...    $29.95   \n",
        "5  http://t3.gstatic.com/shopping?q=tbn:ANd9GcTrf...   $179.95   \n",
        "\n",
        "                  provider                                              title  \n",
        "0                     eBay  Clarity-52510120 Al10 Alertmaster Alert Master...  \n",
        "1                     eBay  Clarity-52510-100 Al10 Alertmaster W/ Door Kno...  \n",
        "2  LibertyHealthSupply.com                                         Safe Awake  \n",
        "4                Maxi-Aids              Kidde Smoke Alarm with Battery Backup  \n",
        "5                Maxi-Aids  Kidde Combo Carbon Monoxide and Smoke Alarm wi...  \n",
        "\n",
        "[5 rows x 5 columns]"
       ]
      }
     ],
     "prompt_number": 280
    },
    {
     "cell_type": "code",
     "collapsed": false,
     "input": [
      "d = daf.gr.group_and_count(ddd[['provider']])\n",
      "d = d.sort(columns=['count'], ascending=False)\n",
      "d.to_excel(facc('provider_counts.xlsx'))\n",
      "d.head()"
     ],
     "language": "python",
     "metadata": {},
     "outputs": [
      {
       "html": [
        "<div style=\"max-height:1000px;max-width:1500px;overflow:auto;\">\n",
        "<table border=\"1\" class=\"dataframe\">\n",
        "  <thead>\n",
        "    <tr style=\"text-align: right;\">\n",
        "      <th></th>\n",
        "      <th>provider</th>\n",
        "      <th>count</th>\n",
        "    </tr>\n",
        "  </thead>\n",
        "  <tbody>\n",
        "    <tr>\n",
        "      <th>79</th>\n",
        "      <td>   from 2 stores</td>\n",
        "      <td> 158</td>\n",
        "    </tr>\n",
        "    <tr>\n",
        "      <th>36</th>\n",
        "      <td>       Maxi-Aids</td>\n",
        "      <td> 110</td>\n",
        "    </tr>\n",
        "    <tr>\n",
        "      <th>80</th>\n",
        "      <td>   from 3 stores</td>\n",
        "      <td>  55</td>\n",
        "    </tr>\n",
        "    <tr>\n",
        "      <th>61</th>\n",
        "      <td>            eBay</td>\n",
        "      <td>  55</td>\n",
        "    </tr>\n",
        "    <tr>\n",
        "      <th>41</th>\n",
        "      <td> Phone Merchants</td>\n",
        "      <td>  51</td>\n",
        "    </tr>\n",
        "  </tbody>\n",
        "</table>\n",
        "<p>5 rows \u00d7 2 columns</p>\n",
        "</div>"
       ],
       "metadata": {},
       "output_type": "pyout",
       "prompt_number": 285,
       "text": [
        "           provider  count\n",
        "79    from 2 stores    158\n",
        "36        Maxi-Aids    110\n",
        "80    from 3 stores     55\n",
        "61             eBay     55\n",
        "41  Phone Merchants     51\n",
        "\n",
        "[5 rows x 2 columns]"
       ]
      }
     ],
     "prompt_number": 285
    },
    {
     "cell_type": "code",
     "collapsed": false,
     "input": [],
     "language": "python",
     "metadata": {},
     "outputs": [],
     "prompt_number": 285
    },
    {
     "cell_type": "code",
     "collapsed": false,
     "input": [
      "url = df['img_src'].iloc[0]\n",
      "url"
     ],
     "language": "python",
     "metadata": {},
     "outputs": [
      {
       "metadata": {},
       "output_type": "pyout",
       "prompt_number": 286,
       "text": [
        "'http://t1.gstatic.com/shopping?q=tbn:ANd9GcQWvScogopDaS-VRp_NpZLe1xFemevuM657iSHjbJZWvjWE_ek4T3IUfdu7LEW3wiLQUWoV7w&usqp=CAE'"
       ]
      }
     ],
     "prompt_number": 286
    },
    {
     "cell_type": "code",
     "collapsed": false,
     "input": [
      "r = requests.get(url, stream=True)"
     ],
     "language": "python",
     "metadata": {},
     "outputs": [],
     "prompt_number": 290
    },
    {
     "cell_type": "code",
     "collapsed": false,
     "input": [
      "import shutil"
     ],
     "language": "python",
     "metadata": {},
     "outputs": [],
     "prompt_number": 292
    },
    {
     "cell_type": "code",
     "collapsed": false,
     "input": [
      "with open(facc('img.png'), 'wb') as out_file:\n",
      "    shutil.copyfileobj(r.raw, out_file)"
     ],
     "language": "python",
     "metadata": {},
     "outputs": [],
     "prompt_number": 293
    },
    {
     "cell_type": "code",
     "collapsed": false,
     "input": [],
     "language": "python",
     "metadata": {},
     "outputs": []
    },
    {
     "cell_type": "code",
     "collapsed": false,
     "input": [
      "w = list(df['img_src'].unique())"
     ],
     "language": "python",
     "metadata": {},
     "outputs": [],
     "prompt_number": 294
    },
    {
     "cell_type": "code",
     "collapsed": false,
     "input": [
      "facc.save(w, 'img_src_list.pickle')"
     ],
     "language": "python",
     "metadata": {},
     "outputs": [],
     "prompt_number": 297
    },
    {
     "cell_type": "code",
     "collapsed": false,
     "input": [],
     "language": "python",
     "metadata": {},
     "outputs": []
    },
    {
     "cell_type": "code",
     "collapsed": false,
     "input": [
      "root_folder"
     ],
     "language": "python",
     "metadata": {},
     "outputs": [
      {
       "metadata": {},
       "output_type": "pyout",
       "prompt_number": 162,
       "text": [
        "'/Users/thor/Google Drive/Shared/ms_otosense'"
       ]
      }
     ],
     "prompt_number": 162
    },
    {
     "cell_type": "code",
     "collapsed": false,
     "input": [
      "facc('raw_provider_counts.html')"
     ],
     "language": "python",
     "metadata": {},
     "outputs": [
      {
       "metadata": {},
       "output_type": "pyout",
       "prompt_number": 164,
       "text": [
        "'/Users/thor/Google Drive/Shared/ms_otosense/raw_provider_counts.html'"
       ]
      }
     ],
     "prompt_number": 164
    },
    {
     "cell_type": "code",
     "collapsed": false,
     "input": [
      "d.to_html(facc('raw_provider_counts.html'))"
     ],
     "language": "python",
     "metadata": {},
     "outputs": [],
     "prompt_number": 165
    },
    {
     "cell_type": "code",
     "collapsed": false,
     "input": [
      "parse.util.open_in_firefox(facc('raw_provider_counts.html'))"
     ],
     "language": "python",
     "metadata": {},
     "outputs": [
      {
       "output_type": "stream",
       "stream": "stdout",
       "text": [
        "opening /Users/thor/Google Drive/Shared/ms_otosense/raw_provider_counts.html\n"
       ]
      }
     ],
     "prompt_number": 166
    },
    {
     "cell_type": "code",
     "collapsed": false,
     "input": [],
     "language": "python",
     "metadata": {},
     "outputs": []
    },
    {
     "cell_type": "code",
     "collapsed": false,
     "input": [
      "import semantics.term_stats\n",
      "import semantics.term_stats_maker"
     ],
     "language": "python",
     "metadata": {},
     "outputs": [],
     "prompt_number": 184
    },
    {
     "cell_type": "code",
     "collapsed": false,
     "input": [
      "w = df[['title']].reset_index()"
     ],
     "language": "python",
     "metadata": {},
     "outputs": [],
     "prompt_number": 189
    },
    {
     "cell_type": "code",
     "collapsed": false,
     "input": [
      "w.head()"
     ],
     "language": "python",
     "metadata": {},
     "outputs": [
      {
       "html": [
        "<div style=\"max-height:1000px;max-width:1500px;overflow:auto;\">\n",
        "<table border=\"1\" class=\"dataframe\">\n",
        "  <thead>\n",
        "    <tr style=\"text-align: right;\">\n",
        "      <th></th>\n",
        "      <th>index</th>\n",
        "      <th>title</th>\n",
        "    </tr>\n",
        "  </thead>\n",
        "  <tbody>\n",
        "    <tr>\n",
        "      <th>0</th>\n",
        "      <td> 0</td>\n",
        "      <td> Clarity-52510120 Al10 Alertmaster Alert Master...</td>\n",
        "    </tr>\n",
        "    <tr>\n",
        "      <th>1</th>\n",
        "      <td> 1</td>\n",
        "      <td> Clarity-52510-100 Al10 Alertmaster W/ Door Kno...</td>\n",
        "    </tr>\n",
        "    <tr>\n",
        "      <th>2</th>\n",
        "      <td> 2</td>\n",
        "      <td>                                        Safe Awake</td>\n",
        "    </tr>\n",
        "    <tr>\n",
        "      <th>3</th>\n",
        "      <td> 3</td>\n",
        "      <td>       First Alert 9120-12st Smoke Alarm, 120 Volt</td>\n",
        "    </tr>\n",
        "    <tr>\n",
        "      <th>4</th>\n",
        "      <td> 4</td>\n",
        "      <td>             Kidde Smoke Alarm with Battery Backup</td>\n",
        "    </tr>\n",
        "  </tbody>\n",
        "</table>\n",
        "<p>5 rows \u00d7 2 columns</p>\n",
        "</div>"
       ],
       "metadata": {},
       "output_type": "pyout",
       "prompt_number": 190,
       "text": [
        "   index                                              title\n",
        "0      0  Clarity-52510120 Al10 Alertmaster Alert Master...\n",
        "1      1  Clarity-52510-100 Al10 Alertmaster W/ Door Kno...\n",
        "2      2                                         Safe Awake\n",
        "3      3        First Alert 9120-12st Smoke Alarm, 120 Volt\n",
        "4      4              Kidde Smoke Alarm with Battery Backup\n",
        "\n",
        "[5 rows x 2 columns]"
       ]
      }
     ],
     "prompt_number": 190
    },
    {
     "cell_type": "code",
     "collapsed": false,
     "input": [
      "w = semantics.term_stats_maker.mk_terms_df(df[['title']], text_cols=['title'], id_cols=['index'])"
     ],
     "language": "python",
     "metadata": {},
     "outputs": [
      {
       "ename": "TypeError",
       "evalue": "expected string or buffer",
       "output_type": "pyerr",
       "traceback": [
        "\u001b[0;31m---------------------------------------------------------------------------\u001b[0m\n\u001b[0;31mTypeError\u001b[0m                                 Traceback (most recent call last)",
        "\u001b[0;32m<ipython-input-193-18cdc288bbdc>\u001b[0m in \u001b[0;36m<module>\u001b[0;34m()\u001b[0m\n\u001b[0;32m----> 1\u001b[0;31m \u001b[0mw\u001b[0m \u001b[0;34m=\u001b[0m \u001b[0msemantics\u001b[0m\u001b[0;34m.\u001b[0m\u001b[0mterm_stats_maker\u001b[0m\u001b[0;34m.\u001b[0m\u001b[0mmk_terms_df\u001b[0m\u001b[0;34m(\u001b[0m\u001b[0mdf\u001b[0m\u001b[0;34m[\u001b[0m\u001b[0;34m[\u001b[0m\u001b[0;34m'title'\u001b[0m\u001b[0;34m]\u001b[0m\u001b[0;34m]\u001b[0m\u001b[0;34m,\u001b[0m \u001b[0mtext_cols\u001b[0m\u001b[0;34m=\u001b[0m\u001b[0;34m[\u001b[0m\u001b[0;34m'title'\u001b[0m\u001b[0;34m]\u001b[0m\u001b[0;34m,\u001b[0m \u001b[0mid_cols\u001b[0m\u001b[0;34m=\u001b[0m\u001b[0;34m[\u001b[0m\u001b[0;34m'index'\u001b[0m\u001b[0;34m]\u001b[0m\u001b[0;34m)\u001b[0m\u001b[0;34m\u001b[0m\u001b[0m\n\u001b[0m",
        "\u001b[0;32m/D/Dropbox/dev/py/proj/ms_utils/semantics/term_stats_maker.py\u001b[0m in \u001b[0;36mmk_terms_df\u001b[0;34m(df, text_cols, id_cols, tokenizer_re)\u001b[0m\n\u001b[1;32m     32\u001b[0m     \u001b[0;32mfor\u001b[0m \u001b[0mc\u001b[0m \u001b[0;32min\u001b[0m \u001b[0mtext_cols\u001b[0m\u001b[0;34m:\u001b[0m\u001b[0;34m\u001b[0m\u001b[0m\n\u001b[1;32m     33\u001b[0m         \u001b[0md\u001b[0m \u001b[0;34m=\u001b[0m \u001b[0mdf\u001b[0m\u001b[0;34m[\u001b[0m\u001b[0mid_cols\u001b[0m\u001b[0;34m]\u001b[0m\u001b[0;34m\u001b[0m\u001b[0m\n\u001b[0;32m---> 34\u001b[0;31m         \u001b[0md\u001b[0m\u001b[0;34m[\u001b[0m\u001b[0;34m'term'\u001b[0m\u001b[0;34m]\u001b[0m \u001b[0;34m=\u001b[0m \u001b[0mmap\u001b[0m\u001b[0;34m(\u001b[0m\u001b[0;32mlambda\u001b[0m \u001b[0mx\u001b[0m \u001b[0;34m:\u001b[0m \u001b[0mre\u001b[0m\u001b[0;34m.\u001b[0m\u001b[0mfindall\u001b[0m\u001b[0;34m(\u001b[0m\u001b[0mtokenizer_re\u001b[0m\u001b[0;34m,\u001b[0m \u001b[0mx\u001b[0m\u001b[0;34m)\u001b[0m\u001b[0;34m,\u001b[0m \u001b[0mdf\u001b[0m\u001b[0;34m[\u001b[0m\u001b[0mc\u001b[0m\u001b[0;34m]\u001b[0m\u001b[0;34m)\u001b[0m\u001b[0;34m\u001b[0m\u001b[0m\n\u001b[0m\u001b[1;32m     35\u001b[0m         \u001b[0md\u001b[0m \u001b[0;34m=\u001b[0m \u001b[0mdaf_manip\u001b[0m\u001b[0;34m.\u001b[0m\u001b[0mrollout_cols\u001b[0m\u001b[0;34m(\u001b[0m\u001b[0md\u001b[0m\u001b[0;34m,\u001b[0m \u001b[0mcols_to_rollout\u001b[0m\u001b[0;34m=\u001b[0m\u001b[0;34m'term'\u001b[0m\u001b[0;34m)\u001b[0m\u001b[0;34m\u001b[0m\u001b[0m\n\u001b[1;32m     36\u001b[0m         \u001b[0mdd\u001b[0m \u001b[0;34m=\u001b[0m \u001b[0mpd\u001b[0m\u001b[0;34m.\u001b[0m\u001b[0mconcat\u001b[0m\u001b[0;34m(\u001b[0m\u001b[0;34m[\u001b[0m\u001b[0mdd\u001b[0m\u001b[0;34m,\u001b[0m \u001b[0md\u001b[0m\u001b[0;34m]\u001b[0m\u001b[0;34m)\u001b[0m\u001b[0;34m\u001b[0m\u001b[0m\n",
        "\u001b[0;32m/D/Dropbox/dev/py/proj/ms_utils/semantics/term_stats_maker.py\u001b[0m in \u001b[0;36m<lambda>\u001b[0;34m(x)\u001b[0m\n\u001b[1;32m     32\u001b[0m     \u001b[0;32mfor\u001b[0m \u001b[0mc\u001b[0m \u001b[0;32min\u001b[0m \u001b[0mtext_cols\u001b[0m\u001b[0;34m:\u001b[0m\u001b[0;34m\u001b[0m\u001b[0m\n\u001b[1;32m     33\u001b[0m         \u001b[0md\u001b[0m \u001b[0;34m=\u001b[0m \u001b[0mdf\u001b[0m\u001b[0;34m[\u001b[0m\u001b[0mid_cols\u001b[0m\u001b[0;34m]\u001b[0m\u001b[0;34m\u001b[0m\u001b[0m\n\u001b[0;32m---> 34\u001b[0;31m         \u001b[0md\u001b[0m\u001b[0;34m[\u001b[0m\u001b[0;34m'term'\u001b[0m\u001b[0;34m]\u001b[0m \u001b[0;34m=\u001b[0m \u001b[0mmap\u001b[0m\u001b[0;34m(\u001b[0m\u001b[0;32mlambda\u001b[0m \u001b[0mx\u001b[0m \u001b[0;34m:\u001b[0m \u001b[0mre\u001b[0m\u001b[0;34m.\u001b[0m\u001b[0mfindall\u001b[0m\u001b[0;34m(\u001b[0m\u001b[0mtokenizer_re\u001b[0m\u001b[0;34m,\u001b[0m \u001b[0mx\u001b[0m\u001b[0;34m)\u001b[0m\u001b[0;34m,\u001b[0m \u001b[0mdf\u001b[0m\u001b[0;34m[\u001b[0m\u001b[0mc\u001b[0m\u001b[0;34m]\u001b[0m\u001b[0;34m)\u001b[0m\u001b[0;34m\u001b[0m\u001b[0m\n\u001b[0m\u001b[1;32m     35\u001b[0m         \u001b[0md\u001b[0m \u001b[0;34m=\u001b[0m \u001b[0mdaf_manip\u001b[0m\u001b[0;34m.\u001b[0m\u001b[0mrollout_cols\u001b[0m\u001b[0;34m(\u001b[0m\u001b[0md\u001b[0m\u001b[0;34m,\u001b[0m \u001b[0mcols_to_rollout\u001b[0m\u001b[0;34m=\u001b[0m\u001b[0;34m'term'\u001b[0m\u001b[0;34m)\u001b[0m\u001b[0;34m\u001b[0m\u001b[0m\n\u001b[1;32m     36\u001b[0m         \u001b[0mdd\u001b[0m \u001b[0;34m=\u001b[0m \u001b[0mpd\u001b[0m\u001b[0;34m.\u001b[0m\u001b[0mconcat\u001b[0m\u001b[0;34m(\u001b[0m\u001b[0;34m[\u001b[0m\u001b[0mdd\u001b[0m\u001b[0;34m,\u001b[0m \u001b[0md\u001b[0m\u001b[0;34m]\u001b[0m\u001b[0;34m)\u001b[0m\u001b[0;34m\u001b[0m\u001b[0m\n",
        "\u001b[0;32m/Users/thor/anaconda/lib/python2.7/re.pyc\u001b[0m in \u001b[0;36mfindall\u001b[0;34m(pattern, string, flags)\u001b[0m\n\u001b[1;32m    175\u001b[0m \u001b[0;34m\u001b[0m\u001b[0m\n\u001b[1;32m    176\u001b[0m     Empty matches are included in the result.\"\"\"\n\u001b[0;32m--> 177\u001b[0;31m     \u001b[0;32mreturn\u001b[0m \u001b[0m_compile\u001b[0m\u001b[0;34m(\u001b[0m\u001b[0mpattern\u001b[0m\u001b[0;34m,\u001b[0m \u001b[0mflags\u001b[0m\u001b[0;34m)\u001b[0m\u001b[0;34m.\u001b[0m\u001b[0mfindall\u001b[0m\u001b[0;34m(\u001b[0m\u001b[0mstring\u001b[0m\u001b[0;34m)\u001b[0m\u001b[0;34m\u001b[0m\u001b[0m\n\u001b[0m\u001b[1;32m    178\u001b[0m \u001b[0;34m\u001b[0m\u001b[0m\n\u001b[1;32m    179\u001b[0m \u001b[0;32mif\u001b[0m \u001b[0msys\u001b[0m\u001b[0;34m.\u001b[0m\u001b[0mhexversion\u001b[0m \u001b[0;34m>=\u001b[0m \u001b[0;36m0x02020000\u001b[0m\u001b[0;34m:\u001b[0m\u001b[0;34m\u001b[0m\u001b[0m\n",
        "\u001b[0;31mTypeError\u001b[0m: expected string or buffer"
       ]
      },
      {
       "output_type": "stream",
       "stream": "stdout",
       "text": [
        "> \u001b[0;32m/Users/thor/anaconda/lib/python2.7/re.py\u001b[0m(177)\u001b[0;36mfindall\u001b[0;34m()\u001b[0m\n",
        "\u001b[0;32m    176 \u001b[0;31m    Empty matches are included in the result.\"\"\"\n",
        "\u001b[0m\u001b[0;32m--> 177 \u001b[0;31m    \u001b[0;32mreturn\u001b[0m \u001b[0m_compile\u001b[0m\u001b[0;34m(\u001b[0m\u001b[0mpattern\u001b[0m\u001b[0;34m,\u001b[0m \u001b[0mflags\u001b[0m\u001b[0;34m)\u001b[0m\u001b[0;34m.\u001b[0m\u001b[0mfindall\u001b[0m\u001b[0;34m(\u001b[0m\u001b[0mstring\u001b[0m\u001b[0;34m)\u001b[0m\u001b[0;34m\u001b[0m\u001b[0m\n",
        "\u001b[0m\u001b[0;32m    178 \u001b[0;31m\u001b[0;34m\u001b[0m\u001b[0m\n",
        "\u001b[0m\n"
       ]
      },
      {
       "name": "stdout",
       "output_type": "stream",
       "stream": "stdout",
       "text": [
        "ipdb> u\n"
       ]
      },
      {
       "output_type": "stream",
       "stream": "stdout",
       "text": [
        "> \u001b[0;32m/D/Dropbox/dev/py/proj/ms_utils/semantics/term_stats_maker.py\u001b[0m(34)\u001b[0;36m<lambda>\u001b[0;34m()\u001b[0m\n",
        "\u001b[0;32m     33 \u001b[0;31m        \u001b[0md\u001b[0m \u001b[0;34m=\u001b[0m \u001b[0mdf\u001b[0m\u001b[0;34m[\u001b[0m\u001b[0mid_cols\u001b[0m\u001b[0;34m]\u001b[0m\u001b[0;34m\u001b[0m\u001b[0m\n",
        "\u001b[0m\u001b[0;32m---> 34 \u001b[0;31m        \u001b[0md\u001b[0m\u001b[0;34m[\u001b[0m\u001b[0;34m'term'\u001b[0m\u001b[0;34m]\u001b[0m \u001b[0;34m=\u001b[0m \u001b[0mmap\u001b[0m\u001b[0;34m(\u001b[0m\u001b[0;32mlambda\u001b[0m \u001b[0mx\u001b[0m \u001b[0;34m:\u001b[0m \u001b[0mre\u001b[0m\u001b[0;34m.\u001b[0m\u001b[0mfindall\u001b[0m\u001b[0;34m(\u001b[0m\u001b[0mtokenizer_re\u001b[0m\u001b[0;34m,\u001b[0m \u001b[0mx\u001b[0m\u001b[0;34m)\u001b[0m\u001b[0;34m,\u001b[0m \u001b[0mdf\u001b[0m\u001b[0;34m[\u001b[0m\u001b[0mc\u001b[0m\u001b[0;34m]\u001b[0m\u001b[0;34m)\u001b[0m\u001b[0;34m\u001b[0m\u001b[0m\n",
        "\u001b[0m\u001b[0;32m     35 \u001b[0;31m        \u001b[0md\u001b[0m \u001b[0;34m=\u001b[0m \u001b[0mdaf_manip\u001b[0m\u001b[0;34m.\u001b[0m\u001b[0mrollout_cols\u001b[0m\u001b[0;34m(\u001b[0m\u001b[0md\u001b[0m\u001b[0;34m,\u001b[0m \u001b[0mcols_to_rollout\u001b[0m\u001b[0;34m=\u001b[0m\u001b[0;34m'term'\u001b[0m\u001b[0;34m)\u001b[0m\u001b[0;34m\u001b[0m\u001b[0m\n",
        "\u001b[0m\n"
       ]
      },
      {
       "name": "stdout",
       "output_type": "stream",
       "stream": "stdout",
       "text": [
        "ipdb> u\n"
       ]
      },
      {
       "output_type": "stream",
       "stream": "stdout",
       "text": [
        "> \u001b[0;32m/D/Dropbox/dev/py/proj/ms_utils/semantics/term_stats_maker.py\u001b[0m(34)\u001b[0;36mmk_terms_df\u001b[0;34m()\u001b[0m\n",
        "\u001b[0;32m     33 \u001b[0;31m        \u001b[0md\u001b[0m \u001b[0;34m=\u001b[0m \u001b[0mdf\u001b[0m\u001b[0;34m[\u001b[0m\u001b[0mid_cols\u001b[0m\u001b[0;34m]\u001b[0m\u001b[0;34m\u001b[0m\u001b[0m\n",
        "\u001b[0m\u001b[0;32m---> 34 \u001b[0;31m        \u001b[0md\u001b[0m\u001b[0;34m[\u001b[0m\u001b[0;34m'term'\u001b[0m\u001b[0;34m]\u001b[0m \u001b[0;34m=\u001b[0m \u001b[0mmap\u001b[0m\u001b[0;34m(\u001b[0m\u001b[0;32mlambda\u001b[0m \u001b[0mx\u001b[0m \u001b[0;34m:\u001b[0m \u001b[0mre\u001b[0m\u001b[0;34m.\u001b[0m\u001b[0mfindall\u001b[0m\u001b[0;34m(\u001b[0m\u001b[0mtokenizer_re\u001b[0m\u001b[0;34m,\u001b[0m \u001b[0mx\u001b[0m\u001b[0;34m)\u001b[0m\u001b[0;34m,\u001b[0m \u001b[0mdf\u001b[0m\u001b[0;34m[\u001b[0m\u001b[0mc\u001b[0m\u001b[0;34m]\u001b[0m\u001b[0;34m)\u001b[0m\u001b[0;34m\u001b[0m\u001b[0m\n",
        "\u001b[0m\u001b[0;32m     35 \u001b[0;31m        \u001b[0md\u001b[0m \u001b[0;34m=\u001b[0m \u001b[0mdaf_manip\u001b[0m\u001b[0;34m.\u001b[0m\u001b[0mrollout_cols\u001b[0m\u001b[0;34m(\u001b[0m\u001b[0md\u001b[0m\u001b[0;34m,\u001b[0m \u001b[0mcols_to_rollout\u001b[0m\u001b[0;34m=\u001b[0m\u001b[0;34m'term'\u001b[0m\u001b[0;34m)\u001b[0m\u001b[0;34m\u001b[0m\u001b[0m\n",
        "\u001b[0m\n"
       ]
      },
      {
       "name": "stdout",
       "output_type": "stream",
       "stream": "stdout",
       "text": [
        "ipdb> df[c]\n"
       ]
      },
      {
       "output_type": "stream",
       "stream": "stdout",
       "text": [
        "0     Clarity-52510120 Al10 Alertmaster Alert Master...\n",
        "1     Clarity-52510-100 Al10 Alertmaster W/ Door Kno...\n",
        "2                                            Safe Awake\n",
        "3           First Alert 9120-12st Smoke Alarm, 120 Volt\n",
        "4                 Kidde Smoke Alarm with Battery Backup\n",
        "5     Kidde Combo Carbon Monoxide and Smoke Alarm wi...\n",
        "6                   Kidde Smoke Alarm with Strobe Light\n",
        "7     First Alert BRK SA100B 120V AC Hardwired Ioniz...\n",
        "8     Gentex 710CS Hard Wired Ceiling Mount Smoke Alarm\n",
        "9     Kidde Combination Smoke and Carbon Monoxide Al...\n",
        "10    Kidde Carbon Monoxide and Smoke Alarms with St...\n",
        "11                                           Safe Awake\n",
        "12     Central Alert System Receiver and Clock HC-CA360\n",
        "13     Central Alert System Receiver and Clock HC-CA360\n",
        "14    Reizen SBB500SS Sonic Bomb Alarm Clock and Bed...\n",
        "...\n",
        "1098    Harris Communications Amplicall 10 Telephone R...\n",
        "1099    Harris Communications CL-XL45 Clarity XL45 Amp...\n",
        "1100    Geemarc Telephone Ringer and Flasher,14cm x 11...\n",
        "1101    Serene Innovations CentralAlert Door Chime, In...\n",
        "1102    Silent Call Communications Silent Call Wireles...\n",
        "1103    \"Krown Tactile Telephone Ring Signaler,Tactile...\n",
        "1104    Serene Innovations CentralAlert Door Hanger wi...\n",
        "1105        Sonic Informer Telephone Receiver - P_SASA101\n",
        "1106                   Silent Call Vibra Call Basic Kit A\n",
        "1107                                Vibra Call Deluxe Kit\n",
        "1108               Silent Call Sidekick II Receiver Combo\n",
        "1109             Silent Call VC4002-2 Vibra Call Receiver\n",
        "1110         Vibralite 3 Chrome with Stainless Steel Band\n",
        "1111                Vibralite 3 White with Pale Blue Trim\n",
        "1112                                                  NaN\n",
        "Name: title, Length: 1113, dtype: object\n"
       ]
      },
      {
       "name": "stdout",
       "output_type": "stream",
       "stream": "stdout",
       "text": [
        "ipdb> ww = map(lambda x : re.findall(tokenizer_re, x), df[c])\n"
       ]
      },
      {
       "output_type": "stream",
       "stream": "stdout",
       "text": [
        "*** TypeError: expected string or buffer\n"
       ]
      },
      {
       "name": "stdout",
       "output_type": "stream",
       "stream": "stdout",
       "text": [
        "ipdb> tokenizer_re\n"
       ]
      },
      {
       "output_type": "stream",
       "stream": "stdout",
       "text": [
        "<_sre.SRE_Pattern object at 0x10a0adc10>\n"
       ]
      },
      {
       "name": "stdout",
       "output_type": "stream",
       "stream": "stdout",
       "text": [
        "ipdb> df[c].iloc[0]\n"
       ]
      },
      {
       "output_type": "stream",
       "stream": "stdout",
       "text": [
        "u'Clarity-52510120 Al10 Alertmaster Alert Master Al12 W/ Remote Hard ...'\n"
       ]
      },
      {
       "name": "stdout",
       "output_type": "stream",
       "stream": "stdout",
       "text": [
        "ipdb> exit\n"
       ]
      }
     ],
     "prompt_number": 193
    },
    {
     "cell_type": "code",
     "collapsed": false,
     "input": [],
     "language": "python",
     "metadata": {},
     "outputs": []
    },
    {
     "cell_type": "code",
     "collapsed": false,
     "input": [
      "w = semantics.term_stats.termdoc_to_termdoc_count(df[['title']])"
     ],
     "language": "python",
     "metadata": {},
     "outputs": [
      {
       "ename": "ValueError",
       "evalue": "In order to guess the doc_var, there needs to be only two columns",
       "output_type": "pyerr",
       "traceback": [
        "\u001b[0;31m---------------------------------------------------------------------------\u001b[0m\n\u001b[0;31mValueError\u001b[0m                                Traceback (most recent call last)",
        "\u001b[0;32m<ipython-input-182-fdc9491ab3f5>\u001b[0m in \u001b[0;36m<module>\u001b[0;34m()\u001b[0m\n\u001b[0;32m----> 1\u001b[0;31m \u001b[0mw\u001b[0m \u001b[0;34m=\u001b[0m \u001b[0msemantics\u001b[0m\u001b[0;34m.\u001b[0m\u001b[0mterm_stats\u001b[0m\u001b[0;34m.\u001b[0m\u001b[0mtermdoc_to_termdoc_count\u001b[0m\u001b[0;34m(\u001b[0m\u001b[0mdf\u001b[0m\u001b[0;34m[\u001b[0m\u001b[0;34m[\u001b[0m\u001b[0;34m'title'\u001b[0m\u001b[0;34m]\u001b[0m\u001b[0;34m]\u001b[0m\u001b[0;34m)\u001b[0m\u001b[0;34m\u001b[0m\u001b[0m\n\u001b[0m",
        "\u001b[0;32m/D/Dropbox/dev/py/proj/ms_utils/semantics/term_stats.pyc\u001b[0m in \u001b[0;36mtermdoc_to_termdoc_count\u001b[0;34m(term_doc_df, doc_var, term_var, count_var)\u001b[0m\n\u001b[1;32m     36\u001b[0m \u001b[0;32mdef\u001b[0m \u001b[0mtermdoc_to_termdoc_count\u001b[0m\u001b[0;34m(\u001b[0m\u001b[0mterm_doc_df\u001b[0m\u001b[0;34m,\u001b[0m \u001b[0mdoc_var\u001b[0m\u001b[0;34m=\u001b[0m\u001b[0mNone\u001b[0m\u001b[0;34m,\u001b[0m \u001b[0mterm_var\u001b[0m\u001b[0;34m=\u001b[0m\u001b[0;34m'term'\u001b[0m\u001b[0;34m,\u001b[0m \u001b[0mcount_var\u001b[0m\u001b[0;34m=\u001b[0m\u001b[0;34m'count'\u001b[0m\u001b[0;34m)\u001b[0m\u001b[0;34m:\u001b[0m\u001b[0;34m\u001b[0m\u001b[0m\n\u001b[1;32m     37\u001b[0m     \u001b[0;31m# processing input\u001b[0m\u001b[0;34m\u001b[0m\u001b[0;34m\u001b[0m\u001b[0m\n\u001b[0;32m---> 38\u001b[0;31m     \u001b[0mterm_doc_df\u001b[0m\u001b[0;34m,\u001b[0m \u001b[0mdoc_var\u001b[0m\u001b[0;34m,\u001b[0m \u001b[0mterm_var\u001b[0m \u001b[0;34m=\u001b[0m \u001b[0m__process_term_doc_var_names__\u001b[0m\u001b[0;34m(\u001b[0m\u001b[0mterm_doc_df\u001b[0m\u001b[0;34m,\u001b[0m \u001b[0mdoc_var\u001b[0m\u001b[0;34m=\u001b[0m\u001b[0mdoc_var\u001b[0m\u001b[0;34m,\u001b[0m \u001b[0mterm_var\u001b[0m\u001b[0;34m=\u001b[0m\u001b[0mterm_var\u001b[0m\u001b[0;34m)\u001b[0m\u001b[0;34m\u001b[0m\u001b[0m\n\u001b[0m\u001b[1;32m     39\u001b[0m     \u001b[0mterm_doc_df\u001b[0m \u001b[0;34m=\u001b[0m \u001b[0mterm_doc_df\u001b[0m\u001b[0;34m.\u001b[0m\u001b[0mgroupby\u001b[0m\u001b[0;34m(\u001b[0m\u001b[0;34m[\u001b[0m\u001b[0mdoc_var\u001b[0m\u001b[0;34m,\u001b[0m \u001b[0mterm_var\u001b[0m\u001b[0;34m]\u001b[0m\u001b[0;34m)\u001b[0m\u001b[0;34m.\u001b[0m\u001b[0mcount\u001b[0m\u001b[0;34m(\u001b[0m\u001b[0;34m)\u001b[0m\u001b[0;34m\u001b[0m\u001b[0m\n\u001b[1;32m     40\u001b[0m     \u001b[0mterm_doc_df\u001b[0m \u001b[0;34m=\u001b[0m \u001b[0mdaf_ch\u001b[0m\u001b[0;34m.\u001b[0m\u001b[0mch_col_names\u001b[0m\u001b[0;34m(\u001b[0m\u001b[0mterm_doc_df\u001b[0m\u001b[0;34m,\u001b[0m \u001b[0mcount_var\u001b[0m\u001b[0;34m,\u001b[0m \u001b[0mterm_var\u001b[0m\u001b[0;34m)\u001b[0m\u001b[0;34m\u001b[0m\u001b[0m\n",
        "\u001b[0;32m/D/Dropbox/dev/py/proj/ms_utils/semantics/term_stats.pyc\u001b[0m in \u001b[0;36m__process_term_doc_var_names__\u001b[0;34m(term_doc_df, doc_var, term_var)\u001b[0m\n\u001b[1;32m     72\u001b[0m     \u001b[0;32mif\u001b[0m \u001b[0mdoc_var\u001b[0m \u001b[0;32mis\u001b[0m \u001b[0mNone\u001b[0m\u001b[0;34m:\u001b[0m  \u001b[0;31m# try to guess it\u001b[0m\u001b[0;34m\u001b[0m\u001b[0m\n\u001b[1;32m     73\u001b[0m         \u001b[0;32mif\u001b[0m \u001b[0mlen\u001b[0m\u001b[0;34m(\u001b[0m\u001b[0mcols\u001b[0m\u001b[0;34m)\u001b[0m \u001b[0;34m!=\u001b[0m \u001b[0;36m2\u001b[0m\u001b[0;34m:\u001b[0m\u001b[0;34m\u001b[0m\u001b[0m\n\u001b[0;32m---> 74\u001b[0;31m             \u001b[0;32mraise\u001b[0m \u001b[0mValueError\u001b[0m\u001b[0;34m(\u001b[0m\u001b[0;34m\"In order to guess the doc_var, there needs to be only two columns\"\u001b[0m\u001b[0;34m)\u001b[0m\u001b[0;34m\u001b[0m\u001b[0m\n\u001b[0m\u001b[1;32m     75\u001b[0m         \u001b[0;32melse\u001b[0m\u001b[0;34m:\u001b[0m\u001b[0;34m\u001b[0m\u001b[0m\n\u001b[1;32m     76\u001b[0m             \u001b[0mdoc_var\u001b[0m \u001b[0;34m=\u001b[0m \u001b[0mlist\u001b[0m\u001b[0;34m(\u001b[0m\u001b[0mset\u001b[0m\u001b[0;34m(\u001b[0m\u001b[0mcols\u001b[0m\u001b[0;34m)\u001b[0m\u001b[0;34m-\u001b[0m\u001b[0mset\u001b[0m\u001b[0;34m(\u001b[0m\u001b[0;34m[\u001b[0m\u001b[0mterm_var\u001b[0m\u001b[0;34m]\u001b[0m\u001b[0;34m)\u001b[0m\u001b[0;34m)\u001b[0m\u001b[0;34m[\u001b[0m\u001b[0;36m0\u001b[0m\u001b[0;34m]\u001b[0m\u001b[0;34m\u001b[0m\u001b[0m\n",
        "\u001b[0;31mValueError\u001b[0m: In order to guess the doc_var, there needs to be only two columns"
       ]
      },
      {
       "output_type": "stream",
       "stream": "stdout",
       "text": [
        "> \u001b[0;32m/D/Dropbox/dev/py/proj/ms_utils/semantics/term_stats.py\u001b[0m(74)\u001b[0;36m__process_term_doc_var_names__\u001b[0;34m()\u001b[0m\n",
        "\u001b[0;32m     73 \u001b[0;31m        \u001b[0;32mif\u001b[0m \u001b[0mlen\u001b[0m\u001b[0;34m(\u001b[0m\u001b[0mcols\u001b[0m\u001b[0;34m)\u001b[0m \u001b[0;34m!=\u001b[0m \u001b[0;36m2\u001b[0m\u001b[0;34m:\u001b[0m\u001b[0;34m\u001b[0m\u001b[0m\n",
        "\u001b[0m\u001b[0;32m---> 74 \u001b[0;31m            \u001b[0;32mraise\u001b[0m \u001b[0mValueError\u001b[0m\u001b[0;34m(\u001b[0m\u001b[0;34m\"In order to guess the doc_var, there needs to be only two columns\"\u001b[0m\u001b[0;34m)\u001b[0m\u001b[0;34m\u001b[0m\u001b[0m\n",
        "\u001b[0m\u001b[0;32m     75 \u001b[0;31m        \u001b[0;32melse\u001b[0m\u001b[0;34m:\u001b[0m\u001b[0;34m\u001b[0m\u001b[0m\n",
        "\u001b[0m\n"
       ]
      },
      {
       "name": "stdout",
       "output_type": "stream",
       "stream": "stdout",
       "text": [
        "ipdb> exit\n"
       ]
      }
     ],
     "prompt_number": 182
    },
    {
     "cell_type": "code",
     "collapsed": false,
     "input": [],
     "language": "python",
     "metadata": {},
     "outputs": []
    },
    {
     "cell_type": "code",
     "collapsed": false,
     "input": [
      "t = list(df['title'])\n",
      "len(t)"
     ],
     "language": "python",
     "metadata": {},
     "outputs": [
      {
       "metadata": {},
       "output_type": "pyout",
       "prompt_number": 194,
       "text": [
        "1113"
       ]
      }
     ],
     "prompt_number": 194
    },
    {
     "cell_type": "code",
     "collapsed": false,
     "input": [
      "imfacc = pfile.accessor.for_local(facc('slurp_images'))\n",
      "fi = range(3)\n",
      "fi[0] = 'http{\u00a7\u00a7t0.gstatic.com\u00a7shopping?q=tbn{ANd9GcQruvEIH0LiDP_kQSbHMNQmxZ7fPXxCyig_GhU3C48nmQoEdeBu05QK-B-b9L0bhdtInhZYFQ&usqp=CAE.png'\n",
      "fi[1] = 'http{\u00a7\u00a7t0.gstatic.com\u00a7shopping?q=tbn{ANd9GcQTYJWmInTSU4Ip9AIb19kdn5rC5Xxxyr9iO5CQrvZwRtf-OhQ22AJ2JkpzC5ysCXq3Th8dlA&usqp=CAE.png'\n",
      "fi[2] = 'http{\u00a7\u00a7t0.gstatic.com\u00a7shopping?q=tbn{ANd9GcQu0uo9SbTFPnnOCSSMY36niM1lzM9SYSUIuWvPujiIj1cfbWiO4QHzo4U08mBsNwF62nVrhA&usqp=CAE.png'"
     ],
     "language": "python",
     "metadata": {},
     "outputs": [],
     "prompt_number": 304
    },
    {
     "cell_type": "code",
     "collapsed": false,
     "input": [
      "import scipy as sp\n",
      "from scipy.misc import imread\n",
      "from scipy.signal.signaltools import correlate2d as c2d"
     ],
     "language": "python",
     "metadata": {},
     "outputs": [],
     "prompt_number": 298
    },
    {
     "cell_type": "code",
     "collapsed": false,
     "input": [
      "def imscore(imfile):\n",
      "    # get JPG image as Scipy array, RGB (3 layer)\n",
      "    data = imread(imfile)\n",
      "    # convert to grey-scale using W3C luminance calc\n",
      "    data = sp.inner(data, [299, 587, 114]) / 1000.0\n",
      "    # normalize per http://en.wikipedia.org/wiki/Cross-correlation\n",
      "    return (data - data.mean()) / data.std()"
     ],
     "language": "python",
     "metadata": {},
     "outputs": [],
     "prompt_number": 300
    },
    {
     "cell_type": "code",
     "collapsed": false,
     "input": [
      "n = len(fi)\n",
      "im = range(n)\n",
      "for i in range(3):\n",
      "    im[i] = imscore(imfacc(fi[i]))"
     ],
     "language": "python",
     "metadata": {},
     "outputs": [],
     "prompt_number": 307
    },
    {
     "cell_type": "code",
     "collapsed": false,
     "input": [
      "im[0].shape"
     ],
     "language": "python",
     "metadata": {},
     "outputs": [
      {
       "metadata": {},
       "output_type": "pyout",
       "prompt_number": 310,
       "text": [
        "(114, 120)"
       ]
      }
     ],
     "prompt_number": 310
    },
    {
     "cell_type": "code",
     "collapsed": false,
     "input": [
      "def comp(i,j):\n",
      "    return c2d(im[i], im[j], mode='same').max()"
     ],
     "language": "python",
     "metadata": {},
     "outputs": [],
     "prompt_number": 334
    },
    {
     "cell_type": "code",
     "collapsed": false,
     "input": [
      "compmat = np.zeros([3,3])\n",
      "for i in range(n):\n",
      "    for j in range(n):\n",
      "        compmat[i,j] = comp(i,j)"
     ],
     "language": "python",
     "metadata": {},
     "outputs": [],
     "prompt_number": 335
    },
    {
     "cell_type": "code",
     "collapsed": false,
     "input": [
      "compmat"
     ],
     "language": "python",
     "metadata": {},
     "outputs": [
      {
       "metadata": {},
       "output_type": "pyout",
       "prompt_number": 336,
       "text": [
        "array([[ 13680.        ,  13390.04226973,   8301.97241631],\n",
        "       [ 13390.04226973,  14400.        ,   8403.24086603],\n",
        "       [  8301.97241631,   8403.24086603,  12000.        ]])"
       ]
      }
     ],
     "prompt_number": 336
    },
    {
     "cell_type": "code",
     "collapsed": false,
     "input": [
      "%%timeit\n",
      "comp(1,2)"
     ],
     "language": "python",
     "metadata": {},
     "outputs": [
      {
       "output_type": "stream",
       "stream": "stdout",
       "text": [
        "1 loops, best of 3: 1.82 s per loop\n"
       ]
      }
     ],
     "prompt_number": 338
    },
    {
     "cell_type": "code",
     "collapsed": false,
     "input": [
      "500*500*2/3600"
     ],
     "language": "python",
     "metadata": {},
     "outputs": [
      {
       "metadata": {},
       "output_type": "pyout",
       "prompt_number": 339,
       "text": [
        "138"
       ]
      }
     ],
     "prompt_number": 339
    },
    {
     "cell_type": "code",
     "collapsed": false,
     "input": [
      "pd.DataFrame"
     ],
     "language": "python",
     "metadata": {},
     "outputs": [
      {
       "ename": "IndexError",
       "evalue": "index 91 is out of bounds for size 2",
       "output_type": "pyerr",
       "traceback": [
        "\u001b[0;31m---------------------------------------------------------------------------\u001b[0m\n\u001b[0;31mIndexError\u001b[0m                                Traceback (most recent call last)",
        "\u001b[0;32m<ipython-input-326-b3d80b2a559e>\u001b[0m in \u001b[0;36m<module>\u001b[0;34m()\u001b[0m\n\u001b[0;32m----> 1\u001b[0;31m \u001b[0mcomp\u001b[0m\u001b[0;34m[\u001b[0m\u001b[0;34m[\u001b[0m\u001b[0;36m91\u001b[0m\u001b[0;34m,\u001b[0m\u001b[0;36m20\u001b[0m\u001b[0;34m]\u001b[0m\u001b[0;34m]\u001b[0m\u001b[0;34m\u001b[0m\u001b[0m\n\u001b[0m",
        "\u001b[0;31mIndexError\u001b[0m: index 91 is out of bounds for size 2"
       ]
      },
      {
       "output_type": "stream",
       "stream": "stdout",
       "text": [
        "> \u001b[0;32m<ipython-input-326-b3d80b2a559e>\u001b[0m(1)\u001b[0;36m<module>\u001b[0;34m()\u001b[0m\n",
        "\u001b[0;32m----> 1 \u001b[0;31m\u001b[0mcomp\u001b[0m\u001b[0;34m[\u001b[0m\u001b[0;34m[\u001b[0m\u001b[0;36m91\u001b[0m\u001b[0;34m,\u001b[0m\u001b[0;36m20\u001b[0m\u001b[0;34m]\u001b[0m\u001b[0;34m]\u001b[0m\u001b[0;34m\u001b[0m\u001b[0m\n",
        "\u001b[0m\n"
       ]
      },
      {
       "name": "stdout",
       "output_type": "stream",
       "stream": "stdout",
       "text": [
        "ipdb> exit\n"
       ]
      }
     ],
     "prompt_number": 326
    },
    {
     "cell_type": "code",
     "collapsed": false,
     "input": [
      "import ms_utils\n",
      "import pdict.manip"
     ],
     "language": "python",
     "metadata": {},
     "outputs": []
    }
   ],
   "metadata": {}
  }
 ]
}