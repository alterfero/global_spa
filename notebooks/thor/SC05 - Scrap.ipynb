{
 "metadata": {
  "name": ""
 },
 "nbformat": 3,
 "nbformat_minor": 0,
 "worksheets": [
  {
   "cells": [
    {
     "cell_type": "code",
     "collapsed": false,
     "input": [
      "%load_ext autoreload\n",
      "%autoreload 2"
     ],
     "language": "python",
     "metadata": {},
     "outputs": [],
     "prompt_number": 1
    },
    {
     "cell_type": "code",
     "collapsed": false,
     "input": [
      "import global_spa as gs\n",
      "import ms_utils as ms\n",
      "import global_spa.data_access.accessors as gaccs\n",
      "import glob\n",
      "from global_spa.data_access.nb_setup import *\n",
      "from global_spa.data_access.scrapes_data_access import ScrapesDataAccess"
     ],
     "language": "python",
     "metadata": {},
     "outputs": [],
     "prompt_number": 3
    },
    {
     "cell_type": "code",
     "collapsed": false,
     "input": [
      "whos"
     ],
     "language": "python",
     "metadata": {},
     "outputs": [
      {
       "output_type": "stream",
       "stream": "stdout",
       "text": [
        "Variable              Type        Data/Info\n",
        "-------------------------------------------\n",
        "ScrapesDataAccess     type        <class 'global_spa.data_a<...>ccess.ScrapesDataAccess'>\n",
        "data_root_folder      str         /Users/thor/Google Drive/Shared/ms_otosense\n",
        "facc                  Accessor    <ms_utils.pfile.accessor.<...>or object at 0x10935e590>\n",
        "gaccs                 module      <module 'global_spa.data_<...>ta_access/accessors.pyc'>\n",
        "glob                  module      <module 'glob' from '/Use<...>/lib/python2.7/glob.pyc'>\n",
        "global_spa            module      <module 'global_spa' from<...>global_spa/__init__.pyc'>\n",
        "gs                    module      <module 'global_spa' from<...>global_spa/__init__.pyc'>\n",
        "ifacc                 Accessor    <ms_utils.pfile.accessor.<...>or object at 0x1093ade10>\n",
        "ms                    module      <module 'ms_utils' from '<...>j/ms_utils/__init__.pyc'>\n",
        "ms_utils              module      <module 'ms_utils' from '<...>j/ms_utils/__init__.pyc'>\n",
        "os                    module      <module 'os' from '/Users<...>da/lib/python2.7/os.pyc'>\n",
        "parse_dicts_folder    str         /Users/thor/Google Drive/<...>d/ms_otosense/parse_dicts\n",
        "pfacc                 Accessor    <ms_utils.pfile.accessor.<...>or object at 0x1093add10>\n",
        "sfacc                 Accessor    <ms_utils.pfile.accessor.<...>or object at 0x1093adbd0>\n",
        "slurp_images_folder   str         /Users/thor/Google Drive/<...>/ms_otosense/slurp_images\n",
        "slurps_folder         str         /Users/thor/Google Drive/<...>Shared/ms_otosense/slurps\n"
       ]
      }
     ],
     "prompt_number": 4
    },
    {
     "cell_type": "code",
     "collapsed": false,
     "input": [
      "sda = ScrapesDataAccess()"
     ],
     "language": "python",
     "metadata": {},
     "outputs": [],
     "prompt_number": 6
    },
    {
     "cell_type": "code",
     "collapsed": false,
     "input": [],
     "language": "python",
     "metadata": {},
     "outputs": []
    },
    {
     "cell_type": "code",
     "collapsed": false,
     "input": [
      "fg = sda.get_file_location_generator('slurp_images')\n",
      "# fg = get_generator('slurp_images')"
     ],
     "language": "python",
     "metadata": {},
     "outputs": [],
     "prompt_number": 12
    },
    {
     "cell_type": "code",
     "collapsed": false,
     "input": [
      "imfile = fg.next()\n",
      "imfile"
     ],
     "language": "python",
     "metadata": {},
     "outputs": [
      {
       "metadata": {},
       "output_type": "pyout",
       "prompt_number": 13,
       "text": [
        "'/Users/thor/Google Drive/Shared/ms_otosense/slurp_images/http{\\xc2\\xa7\\xc2\\xa7t0.gstatic.com\\xc2\\xa7shopping?q=tbn{ANd9GcQ2uB_3BWr8Xa8zeZFQPV_jF8efDJV5ODQSgustTqBZ5UN4Nj4NIft59ifgOLbdFSWbCgde8g&usqp=CAE.png'"
       ]
      }
     ],
     "prompt_number": 13
    },
    {
     "cell_type": "code",
     "collapsed": false,
     "input": [],
     "language": "python",
     "metadata": {},
     "outputs": []
    },
    {
     "cell_type": "code",
     "collapsed": false,
     "input": [],
     "language": "python",
     "metadata": {},
     "outputs": []
    },
    {
     "cell_type": "code",
     "collapsed": false,
     "input": [],
     "language": "python",
     "metadata": {},
     "outputs": []
    }
   ],
   "metadata": {}
  }
 ]
}