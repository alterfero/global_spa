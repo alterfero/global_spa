{
 "metadata": {
  "name": ""
 },
 "nbformat": 3,
 "nbformat_minor": 0,
 "worksheets": [
  {
   "cells": [
    {
     "cell_type": "code",
     "collapsed": false,
     "input": [
      "%load_ext autoreload\n",
      "%autoreload 2"
     ],
     "language": "python",
     "metadata": {},
     "outputs": [],
     "prompt_number": 1
    },
    {
     "cell_type": "code",
     "collapsed": false,
     "input": [
      "import global_spa as gs\n",
      "import ms_utils as ms\n",
      "import global_spa.data_access.accessors as gaccs\n",
      "import glob\n",
      "from global_spa.data_access.nb_setup import *\n",
      "from global_spa.data_access.scrapes_data_access import ScrapesDataAccess"
     ],
     "language": "python",
     "metadata": {},
     "outputs": [],
     "prompt_number": 16
    },
    {
     "cell_type": "code",
     "collapsed": false,
     "input": [
      "whos"
     ],
     "language": "python",
     "metadata": {},
     "outputs": [
      {
       "output_type": "stream",
       "stream": "stdout",
       "text": [
        "Variable              Type                 Data/Info\n",
        "----------------------------------------------------\n",
        "ScrapesDataAccess     type                 <class 'global_spa.data_a<...>ccess.ScrapesDataAccess'>\n",
        "data_root_folder      str                  /Users/thor/Google Drive/Shared/ms_otosense\n",
        "facc                  Accessor             <ms_utils.pfile.accessor.<...>or object at 0x10935e590>\n",
        "fg                    generator            <generator object iglob at 0x1093d6eb0>\n",
        "gaccs                 module               <module 'global_spa.data_<...>ta_access/accessors.pyc'>\n",
        "glob                  module               <module 'glob' from '/Use<...>/lib/python2.7/glob.pyc'>\n",
        "global_spa            module               <module 'global_spa' from<...>global_spa/__init__.pyc'>\n",
        "gs                    module               <module 'global_spa' from<...>global_spa/__init__.pyc'>\n",
        "ifacc                 Accessor             <ms_utils.pfile.accessor.<...>or object at 0x1093ade10>\n",
        "imfile                str                  /Users/thor/Google Drive/<...>bdFSWbCgde8g&usqp=CAE.png\n",
        "ms                    module               <module 'ms_utils' from '<...>j/ms_utils/__init__.pyc'>\n",
        "ms_utils              module               <module 'ms_utils' from '<...>j/ms_utils/__init__.pyc'>\n",
        "os                    module               <module 'os' from '/Users<...>da/lib/python2.7/os.pyc'>\n",
        "parse_dicts_folder    str                  /Users/thor/Google Drive/<...>d/ms_otosense/parse_dicts\n",
        "pfacc                 Accessor             <ms_utils.pfile.accessor.<...>or object at 0x1093add10>\n",
        "sda                   ScrapesDataAccess    <global_spa.data_access.s<...>ss object at 0x1093ad4d0>\n",
        "sfacc                 Accessor             <ms_utils.pfile.accessor.<...>or object at 0x1093adbd0>\n",
        "slurp_images_folder   str                  /Users/thor/Google Drive/<...>/ms_otosense/slurp_images\n",
        "slurps_folder         str                  /Users/thor/Google Drive/<...>Shared/ms_otosense/slurps\n"
       ]
      }
     ],
     "prompt_number": 17
    },
    {
     "cell_type": "code",
     "collapsed": false,
     "input": [
      "sda = ScrapesDataAccess()"
     ],
     "language": "python",
     "metadata": {},
     "outputs": [],
     "prompt_number": 18
    },
    {
     "cell_type": "code",
     "collapsed": false,
     "input": [],
     "language": "python",
     "metadata": {},
     "outputs": []
    },
    {
     "cell_type": "code",
     "collapsed": false,
     "input": [
      "fg = sda.get_file_location_generator('slurp_images')\n",
      "# fg = get_generator('slurp_images')"
     ],
     "language": "python",
     "metadata": {},
     "outputs": [],
     "prompt_number": 19
    },
    {
     "cell_type": "code",
     "collapsed": false,
     "input": [
      "im1 = fg.next()\n",
      "im2 = fg.next()"
     ],
     "language": "python",
     "metadata": {},
     "outputs": [
      {
       "metadata": {},
       "output_type": "pyout",
       "prompt_number": 13,
       "text": [
        "'/Users/thor/Google Drive/Shared/ms_otosense/slurp_images/http{\\xc2\\xa7\\xc2\\xa7t0.gstatic.com\\xc2\\xa7shopping?q=tbn{ANd9GcQ2uB_3BWr8Xa8zeZFQPV_jF8efDJV5ODQSgustTqBZ5UN4Nj4NIft59ifgOLbdFSWbCgde8g&usqp=CAE.png'"
       ]
      }
     ],
     "prompt_number": 13
    },
    {
     "cell_type": "code",
     "collapsed": false,
     "input": [
      "import "
     ],
     "language": "python",
     "metadata": {},
     "outputs": []
    },
    {
     "cell_type": "code",
     "collapsed": false,
     "input": [
      "imfacc = sda.get_accessor('slurp_images')\n",
      "img = range(3)\n",
      "img[0] = 'http{\u00a7\u00a7t0.gstatic.com\u00a7shopping?q=tbn{ANd9GcQruvEIH0LiDP_kQSbHMNQmxZ7fPXxCyig_GhU3C48nmQoEdeBu05QK-B-b9L0bhdtInhZYFQ&usqp=CAE.png'\n",
      "img[1] = 'http{\u00a7\u00a7t0.gstatic.com\u00a7shopping?q=tbn{ANd9GcQTYJWmInTSU4Ip9AIb19kdn5rC5Xxxyr9iO5CQrvZwRtf-OhQ22AJ2JkpzC5ysCXq3Th8dlA&usqp=CAE.png'\n",
      "img[2] = 'http{\u00a7\u00a7t0.gstatic.com\u00a7shopping?q=tbn{ANd9GcQu0uo9SbTFPnnOCSSMY36niM1lzM9SYSUIuWvPujiIj1cfbWiO4QHzo4U08mBsNwF62nVrhA&usqp=CAE.png'"
     ],
     "language": "python",
     "metadata": {},
     "outputs": [],
     "prompt_number": 28
    },
    {
     "cell_type": "code",
     "collapsed": false,
     "input": [
      "from ms_utils.pimg.misc import rmsdiff\n",
      "from PIL import Image\n",
      "import ImageChops"
     ],
     "language": "python",
     "metadata": {},
     "outputs": [],
     "prompt_number": 29
    },
    {
     "cell_type": "code",
     "collapsed": false,
     "input": [
      "rmsdiff(Image.open(imfacc(img[0])),Image.open((imfacc(img[1]))))"
     ],
     "language": "python",
     "metadata": {},
     "outputs": [
      {
       "metadata": {},
       "output_type": "pyout",
       "prompt_number": 40,
       "text": [
        "75.11572650531348"
       ]
      }
     ],
     "prompt_number": 40
    },
    {
     "cell_type": "code",
     "collapsed": false,
     "input": [
      "rmsdiff(Image.open(imfacc(img[0])),Image.open((imfacc(img[2]))))"
     ],
     "language": "python",
     "metadata": {},
     "outputs": [
      {
       "metadata": {},
       "output_type": "pyout",
       "prompt_number": 41,
       "text": [
        "142.571064920732"
       ]
      }
     ],
     "prompt_number": 41
    },
    {
     "cell_type": "code",
     "collapsed": false,
     "input": [
      "rmsdiff(Image.open(imfacc(img[1])),Image.open((imfacc(img[2]))))"
     ],
     "language": "python",
     "metadata": {},
     "outputs": [
      {
       "metadata": {},
       "output_type": "pyout",
       "prompt_number": 42,
       "text": [
        "132.19632233496094"
       ]
      }
     ],
     "prompt_number": 42
    },
    {
     "cell_type": "code",
     "collapsed": false,
     "input": [],
     "language": "python",
     "metadata": {},
     "outputs": [
      {
       "ename": "RuntimeError",
       "evalue": "_image_module::readpng: file not recognized as a PNG file",
       "output_type": "pyerr",
       "traceback": [
        "\u001b[0;31m---------------------------------------------------------------------------\u001b[0m\n\u001b[0;31mRuntimeError\u001b[0m                              Traceback (most recent call last)",
        "\u001b[0;32m<ipython-input-43-437cf5ace8a0>\u001b[0m in \u001b[0;36m<module>\u001b[0;34m()\u001b[0m\n\u001b[0;32m----> 1\u001b[0;31m \u001b[0mrmsdiff\u001b[0m\u001b[0;34m(\u001b[0m\u001b[0mimread\u001b[0m\u001b[0;34m(\u001b[0m\u001b[0mimfacc\u001b[0m\u001b[0;34m(\u001b[0m\u001b[0mimg\u001b[0m\u001b[0;34m[\u001b[0m\u001b[0;36m1\u001b[0m\u001b[0;34m]\u001b[0m\u001b[0;34m)\u001b[0m\u001b[0;34m)\u001b[0m\u001b[0;34m,\u001b[0m\u001b[0mimread\u001b[0m\u001b[0;34m(\u001b[0m\u001b[0;34m(\u001b[0m\u001b[0mimfacc\u001b[0m\u001b[0;34m(\u001b[0m\u001b[0mimg\u001b[0m\u001b[0;34m[\u001b[0m\u001b[0;36m2\u001b[0m\u001b[0;34m]\u001b[0m\u001b[0;34m)\u001b[0m\u001b[0;34m)\u001b[0m\u001b[0;34m)\u001b[0m\u001b[0;34m)\u001b[0m\u001b[0;34m\u001b[0m\u001b[0m\n\u001b[0m",
        "\u001b[0;32m/Users/thor/anaconda/lib/python2.7/site-packages/matplotlib/pyplot.pyc\u001b[0m in \u001b[0;36mimread\u001b[0;34m(*args, **kwargs)\u001b[0m\n\u001b[1;32m   2175\u001b[0m \u001b[0;34m@\u001b[0m\u001b[0mdocstring\u001b[0m\u001b[0;34m.\u001b[0m\u001b[0mcopy_dedent\u001b[0m\u001b[0;34m(\u001b[0m\u001b[0m_imread\u001b[0m\u001b[0;34m)\u001b[0m\u001b[0;34m\u001b[0m\u001b[0m\n\u001b[1;32m   2176\u001b[0m \u001b[0;32mdef\u001b[0m \u001b[0mimread\u001b[0m\u001b[0;34m(\u001b[0m\u001b[0;34m*\u001b[0m\u001b[0margs\u001b[0m\u001b[0;34m,\u001b[0m \u001b[0;34m**\u001b[0m\u001b[0mkwargs\u001b[0m\u001b[0;34m)\u001b[0m\u001b[0;34m:\u001b[0m\u001b[0;34m\u001b[0m\u001b[0m\n\u001b[0;32m-> 2177\u001b[0;31m     \u001b[0;32mreturn\u001b[0m \u001b[0m_imread\u001b[0m\u001b[0;34m(\u001b[0m\u001b[0;34m*\u001b[0m\u001b[0margs\u001b[0m\u001b[0;34m,\u001b[0m \u001b[0;34m**\u001b[0m\u001b[0mkwargs\u001b[0m\u001b[0;34m)\u001b[0m\u001b[0;34m\u001b[0m\u001b[0m\n\u001b[0m\u001b[1;32m   2178\u001b[0m \u001b[0;34m\u001b[0m\u001b[0m\n\u001b[1;32m   2179\u001b[0m \u001b[0;34m\u001b[0m\u001b[0m\n",
        "\u001b[0;32m/Users/thor/anaconda/lib/python2.7/site-packages/matplotlib/image.pyc\u001b[0m in \u001b[0;36mimread\u001b[0;34m(fname, format)\u001b[0m\n\u001b[1;32m   1254\u001b[0m     \u001b[0;32mif\u001b[0m \u001b[0mcbook\u001b[0m\u001b[0;34m.\u001b[0m\u001b[0mis_string_like\u001b[0m\u001b[0;34m(\u001b[0m\u001b[0mfname\u001b[0m\u001b[0;34m)\u001b[0m\u001b[0;34m:\u001b[0m\u001b[0;34m\u001b[0m\u001b[0m\n\u001b[1;32m   1255\u001b[0m         \u001b[0;32mwith\u001b[0m \u001b[0mopen\u001b[0m\u001b[0;34m(\u001b[0m\u001b[0mfname\u001b[0m\u001b[0;34m,\u001b[0m \u001b[0;34m'rb'\u001b[0m\u001b[0;34m)\u001b[0m \u001b[0;32mas\u001b[0m \u001b[0mfd\u001b[0m\u001b[0;34m:\u001b[0m\u001b[0;34m\u001b[0m\u001b[0m\n\u001b[0;32m-> 1256\u001b[0;31m             \u001b[0;32mreturn\u001b[0m \u001b[0mhandler\u001b[0m\u001b[0;34m(\u001b[0m\u001b[0mfd\u001b[0m\u001b[0;34m)\u001b[0m\u001b[0;34m\u001b[0m\u001b[0m\n\u001b[0m\u001b[1;32m   1257\u001b[0m     \u001b[0;32melse\u001b[0m\u001b[0;34m:\u001b[0m\u001b[0;34m\u001b[0m\u001b[0m\n\u001b[1;32m   1258\u001b[0m         \u001b[0;32mreturn\u001b[0m \u001b[0mhandler\u001b[0m\u001b[0;34m(\u001b[0m\u001b[0mfname\u001b[0m\u001b[0;34m)\u001b[0m\u001b[0;34m\u001b[0m\u001b[0m\n",
        "\u001b[0;31mRuntimeError\u001b[0m: _image_module::readpng: file not recognized as a PNG file"
       ]
      }
     ],
     "prompt_number": 43
    },
    {
     "cell_type": "code",
     "collapsed": false,
     "input": [],
     "language": "python",
     "metadata": {},
     "outputs": []
    }
   ],
   "metadata": {}
  }
 ]
}